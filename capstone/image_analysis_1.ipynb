{
 "cells": [
  {
   "cell_type": "code",
   "execution_count": 2,
   "metadata": {
    "collapsed": true
   },
   "outputs": [],
   "source": [
    "%matplotlib inline\n",
    "import pandas as pd\n",
    "from pandas.io.json import json_normalize\n",
    "import matplotlib.pyplot as plt\n",
    "import seaborn as sns\n",
    "import re\n",
    "import numpy as np\n",
    "import skimage.io as io\n",
    "import skimage.exposure as exposure\n",
    "from skimage.exposure import equalize_hist\n",
    "from skimage.color import rgb2gray"
   ]
  },
  {
   "cell_type": "code",
   "execution_count": 3,
   "metadata": {
    "collapsed": false
   },
   "outputs": [],
   "source": [
    "labels = []\n",
    "with open('data/menu_match_dataset/labels.txt') as f:\n",
    "    content = f.read()\n",
    "for l in content.splitlines():\n",
    "    split_line = l.split(';')\n",
    "    name = split_line[0]\n",
    "    lab = split_line[1:]\n",
    "    lab.remove('')\n",
    "    d = {'image_name': name}\n",
    "    for i in range(len(lab)):\n",
    "        d[\"label_\" + str(i + 1)] = lab[i]\n",
    "    d[\"num_labels\"] = len(lab)\n",
    "    labels.append(d)"
   ]
  },
  {
   "cell_type": "code",
   "execution_count": 4,
   "metadata": {
    "collapsed": false
   },
   "outputs": [],
   "source": [
    "df = json_normalize(labels)"
   ]
  },
  {
   "cell_type": "code",
   "execution_count": 5,
   "metadata": {
    "collapsed": false
   },
   "outputs": [
    {
     "data": {
      "text/plain": [
       "646"
      ]
     },
     "execution_count": 5,
     "metadata": {},
     "output_type": "execute_result"
    }
   ],
   "source": [
    "len(df)"
   ]
  },
  {
   "cell_type": "code",
   "execution_count": 6,
   "metadata": {
    "collapsed": false
   },
   "outputs": [
    {
     "data": {
      "text/html": [
       "<div>\n",
       "<table border=\"1\" class=\"dataframe\">\n",
       "  <thead>\n",
       "    <tr style=\"text-align: right;\">\n",
       "      <th></th>\n",
       "      <th>image_name</th>\n",
       "      <th>label_1</th>\n",
       "      <th>label_2</th>\n",
       "      <th>label_3</th>\n",
       "      <th>label_4</th>\n",
       "      <th>num_labels</th>\n",
       "    </tr>\n",
       "  </thead>\n",
       "  <tbody>\n",
       "    <tr>\n",
       "      <th>0</th>\n",
       "      <td>img1.jpg</td>\n",
       "      <td>pineapple_pizza</td>\n",
       "      <td>NaN</td>\n",
       "      <td>NaN</td>\n",
       "      <td>NaN</td>\n",
       "      <td>1</td>\n",
       "    </tr>\n",
       "    <tr>\n",
       "      <th>1</th>\n",
       "      <td>img2.jpg</td>\n",
       "      <td>ginger_chicken</td>\n",
       "      <td>jasmine_rice</td>\n",
       "      <td>mapo_tofu</td>\n",
       "      <td>NaN</td>\n",
       "      <td>3</td>\n",
       "    </tr>\n",
       "    <tr>\n",
       "      <th>2</th>\n",
       "      <td>img3.jpg</td>\n",
       "      <td>brown_rice</td>\n",
       "      <td>panang_curry_chicken</td>\n",
       "      <td>vegetable_spring_roll</td>\n",
       "      <td>NaN</td>\n",
       "      <td>3</td>\n",
       "    </tr>\n",
       "    <tr>\n",
       "      <th>3</th>\n",
       "      <td>img4.jpg</td>\n",
       "      <td>jasmine_rice</td>\n",
       "      <td>orange_chicken</td>\n",
       "      <td>NaN</td>\n",
       "      <td>NaN</td>\n",
       "      <td>2</td>\n",
       "    </tr>\n",
       "    <tr>\n",
       "      <th>4</th>\n",
       "      <td>img5.jpg</td>\n",
       "      <td>jasmine_rice</td>\n",
       "      <td>orange_chicken</td>\n",
       "      <td>panang_curry_chicken</td>\n",
       "      <td>NaN</td>\n",
       "      <td>3</td>\n",
       "    </tr>\n",
       "  </tbody>\n",
       "</table>\n",
       "</div>"
      ],
      "text/plain": [
       "  image_name           label_1                label_2                 label_3  \\\n",
       "0   img1.jpg   pineapple_pizza                    NaN                     NaN   \n",
       "1   img2.jpg    ginger_chicken           jasmine_rice               mapo_tofu   \n",
       "2   img3.jpg        brown_rice   panang_curry_chicken   vegetable_spring_roll   \n",
       "3   img4.jpg      jasmine_rice         orange_chicken                     NaN   \n",
       "4   img5.jpg      jasmine_rice         orange_chicken    panang_curry_chicken   \n",
       "\n",
       "  label_4  num_labels  \n",
       "0     NaN           1  \n",
       "1     NaN           3  \n",
       "2     NaN           3  \n",
       "3     NaN           2  \n",
       "4     NaN           3  "
      ]
     },
     "execution_count": 6,
     "metadata": {},
     "output_type": "execute_result"
    }
   ],
   "source": [
    "df.head()"
   ]
  },
  {
   "cell_type": "code",
   "execution_count": 7,
   "metadata": {
    "collapsed": false
   },
   "outputs": [
    {
     "name": "stdout",
     "output_type": "stream",
     "text": [
      "Max number of labels: 4\n"
     ]
    }
   ],
   "source": [
    "# Maximum number of labels\n",
    "print(\"Max number of labels: {}\".format(max(df['num_labels'])))"
   ]
  },
  {
   "cell_type": "code",
   "execution_count": 8,
   "metadata": {
    "collapsed": false
   },
   "outputs": [
    {
     "data": {
      "image/png": "[encoded data removed]",
      "text/plain": [
       "<matplotlib.figure.Figure at 0x116f731d0>"
      ]
     },
     "metadata": {},
     "output_type": "display_data"
    }
   ],
   "source": [
    "# Histogram of labels\n",
    "sns.distplot(df['num_labels'], kde=False, bins=4);"
   ]
  },
  {
   "cell_type": "code",
   "execution_count": 9,
   "metadata": {
    "collapsed": false
   },
   "outputs": [
    {
     "data": {
      "text/plain": [
       "label_1\n",
       " brown_rice                  172\n",
       " jasmine_rice                130\n",
       " cheese_pizza                 43\n",
       " bread_sticks                 34\n",
       " pineapple_pizza              32\n",
       " pepperoni_pizza              31\n",
       " cashew_chicken               25\n",
       " ciabatta                     24\n",
       " chicken_coconut_curry        23\n",
       " lobster_bisque_soup          18\n",
       " meatlovers_pizza             16\n",
       " ginger_chicken               10\n",
       " combo_supreme                10\n",
       " creamy_tomato_basil_soup      7\n",
       " vegetarian_lentils_soup       7\n",
       "dtype: int64"
      ]
     },
     "execution_count": 9,
     "metadata": {},
     "output_type": "execute_result"
    }
   ],
   "source": [
    "df.groupby('label_1').size().sort_values(ascending=False).head(15)"
   ]
  },
  {
   "cell_type": "code",
   "execution_count": 10,
   "metadata": {
    "collapsed": false
   },
   "outputs": [
    {
     "data": {
      "text/plain": [
       "label_2\n",
       " panang_curry_chicken         114\n",
       " orange_chicken                57\n",
       " pepperoni_pizza               34\n",
       " potato_bread                  32\n",
       " jasmine_rice                  31\n",
       " whole_wheat_bread             27\n",
       " mapo_tofu                     25\n",
       " spicy_chicken_with_basil      19\n",
       " ginger_chicken                18\n",
       " spicy_string_beans            17\n",
       " lobster_bisque_soup           16\n",
       " cashew_chicken                15\n",
       " stirfry_beef                  14\n",
       " chicken_alfredo               14\n",
       " yellow_curry_with_chicken     12\n",
       "dtype: int64"
      ]
     },
     "execution_count": 10,
     "metadata": {},
     "output_type": "execute_result"
    }
   ],
   "source": [
    "df.groupby('label_2').size().sort_values(ascending=False).head(15)"
   ]
  },
  {
   "cell_type": "code",
   "execution_count": 11,
   "metadata": {
    "collapsed": false
   },
   "outputs": [
    {
     "data": {
      "text/plain": [
       "label_3\n",
       " spicy_string_beans              41\n",
       " panang_curry_chicken            36\n",
       " yellow_curry_with_chicken       21\n",
       " stirfry_beef                    21\n",
       " vegetable_spring_roll           18\n",
       " stir-fry_garlic_soba_noodles    16\n",
       " spicy_chicken_with_basil         8\n",
       " orange_chicken                   8\n",
       " sweet_and_sour_vegetables        6\n",
       " spinach_red_curry_with_tofu      4\n",
       " side_salad                       4\n",
       " jasmine_rice                     3\n",
       " vegetarian_pizza                 2\n",
       " mapo_tofu                        2\n",
       "dtype: int64"
      ]
     },
     "execution_count": 11,
     "metadata": {},
     "output_type": "execute_result"
    }
   ],
   "source": [
    "df.groupby('label_3').size().sort_values(ascending=False).head(15)"
   ]
  },
  {
   "cell_type": "code",
   "execution_count": 12,
   "metadata": {
    "collapsed": false
   },
   "outputs": [
    {
     "data": {
      "text/plain": [
       "label_4\n",
       " vegetable_spring_roll          7\n",
       " yellow_curry_with_chicken      1\n",
       " stirfry_beef                   1\n",
       " spinach_red_curry_with_tofu    1\n",
       "dtype: int64"
      ]
     },
     "execution_count": 12,
     "metadata": {},
     "output_type": "execute_result"
    }
   ],
   "source": [
    "df.groupby('label_4').size().sort_values(ascending=False).head(15)"
   ]
  },
  {
   "cell_type": "code",
   "execution_count": 13,
   "metadata": {
    "collapsed": false
   },
   "outputs": [],
   "source": [
    "all_labels = df[['image_name','label_1']].rename_axis({\"image_name\": \"image_name\", \"label_1\": \"label\"}, axis=\"columns\")\n",
    "all_labels = all_labels.append(df[['image_name','label_2']].rename_axis({\"image_name\": \"image_name\", \"label_2\": \"label\"}, axis=\"columns\"))\n",
    "all_labels = all_labels.append(df[['image_name','label_3']].rename_axis({\"image_name\": \"image_name\", \"label_3\": \"label\"}, axis=\"columns\"))\n",
    "all_labels = all_labels.append(df[['image_name','label_4']].rename_axis({\"image_name\": \"image_name\", \"label_4\": \"label\"}, axis=\"columns\"))"
   ]
  },
  {
   "cell_type": "code",
   "execution_count": 14,
   "metadata": {
    "collapsed": false
   },
   "outputs": [
    {
     "name": "stdout",
     "output_type": "stream",
     "text": [
      "In total there are 2,584 labelled items\n"
     ]
    }
   ],
   "source": [
    "print(\"In total there are {:,} labelled items\".format(len(all_labels)))"
   ]
  },
  {
   "cell_type": "code",
   "execution_count": 19,
   "metadata": {
    "collapsed": false
   },
   "outputs": [
    {
     "data": {
      "image/png": "[encoded data removed]",
      "text/plain": [
       "<matplotlib.figure.Figure at 0x116fd99e8>"
      ]
     },
     "metadata": {},
     "output_type": "display_data"
    }
   ],
   "source": [
    "# Look at all labels\n",
    "all_labels.groupby('label').size().sort_values(ascending=False).plot(kind='bar', figsize=(15,5));"
   ]
  },
  {
   "cell_type": "code",
   "execution_count": 20,
   "metadata": {
    "collapsed": false
   },
   "outputs": [],
   "source": [
    "df = df.fillna('')"
   ]
  },
  {
   "cell_type": "code",
   "execution_count": 21,
   "metadata": {
    "collapsed": false
   },
   "outputs": [],
   "source": [
    "# Chicken, pizza, rice, soup, bread (including ciabatta, lasagne, salad)\n",
    "def is_type(t,l):\n",
    "    \"\"\"\n",
    "    Searches for string in list of strings\n",
    "    t: string to search for (in this case type of food)\n",
    "    l: list of strings (in this case list of different labels)\n",
    "    returns: 1 if string is present in at least one memeber of list, otherwise 0\n",
    "    \"\"\"\n",
    "    for i in (range(len(l))):\n",
    "        if re.search(t, l[i]):\n",
    "            return 1\n",
    "    return 0\n",
    "\n",
    "def is_bread(l):\n",
    "    \"\"\"\n",
    "    Confirms if a set of labels contains bread, which can be represented in different ways\n",
    "    l: list of labels\n",
    "    return: 1 if bread present, otherwise 0\n",
    "    \"\"\"\n",
    "    for i in (range(len(l))):\n",
    "        if re.search(r'bread|ciabatta', l[i]):\n",
    "            return 1\n",
    "    return 0"
   ]
  },
  {
   "cell_type": "code",
   "execution_count": 22,
   "metadata": {
    "collapsed": false
   },
   "outputs": [],
   "source": [
    "df['pizza'] = df[['label_1', 'label_2', 'label_3', 'label_4']].apply(lambda row: is_type('pizza',row), axis=1)\n",
    "df['chicken'] = df[['label_1', 'label_2', 'label_3', 'label_4']].apply(lambda row: is_type('chicken',row), axis=1)\n",
    "df['rice'] = df[['label_1', 'label_2', 'label_3', 'label_4']].apply(lambda row: is_type('rice',row), axis=1)\n",
    "df['soup'] = df[['label_1', 'label_2', 'label_3', 'label_4']].apply(lambda row: is_type('soup',row), axis=1)\n",
    "df['lasagne'] = df[['label_1', 'label_2', 'label_3', 'label_4']].apply(lambda row: is_type('lasagne',row), axis=1)\n",
    "df['salad'] = df[['label_1', 'label_2', 'label_3', 'label_4']].apply(lambda row: is_type('salad',row), axis=1)\n",
    "df['bread'] = df[['label_1', 'label_2', 'label_3', 'label_4']].apply(lambda row: is_bread(row), axis=1)"
   ]
  },
  {
   "cell_type": "code",
   "execution_count": 456,
   "metadata": {
    "collapsed": true
   },
   "outputs": [],
   "source": [
    "#Distribution of image sizes\n",
    "images = []\n",
    "for i in df['image_name']:\n",
    "    images.append([i, io.imread('data/menu_match_dataset/foodimages/' + i)])"
   ]
  },
  {
   "cell_type": "code",
   "execution_count": 531,
   "metadata": {
    "collapsed": false
   },
   "outputs": [],
   "source": [
    "sizes = []\n",
    "for im in images:\n",
    "    sizes.append({'image_name': im[0], 'image_shape': im[1].shape, 'data_type': im[1].dtype})"
   ]
  },
  {
   "cell_type": "code",
   "execution_count": 548,
   "metadata": {
    "collapsed": false,
    "scrolled": true
   },
   "outputs": [],
   "source": [
    "df = df.merge(pd.DataFrame.from_dict(sizes))"
   ]
  },
  {
   "cell_type": "code",
   "execution_count": 549,
   "metadata": {
    "collapsed": false
   },
   "outputs": [
    {
     "data": {
      "text/html": [
       "<div>\n",
       "<table border=\"1\" class=\"dataframe\">\n",
       "  <thead>\n",
       "    <tr style=\"text-align: right;\">\n",
       "      <th></th>\n",
       "      <th>image_name</th>\n",
       "      <th>label_1</th>\n",
       "      <th>label_2</th>\n",
       "      <th>label_3</th>\n",
       "      <th>label_4</th>\n",
       "      <th>num_labels</th>\n",
       "      <th>pizza</th>\n",
       "      <th>chicken</th>\n",
       "      <th>rice</th>\n",
       "      <th>soup</th>\n",
       "      <th>lasagne</th>\n",
       "      <th>salad</th>\n",
       "      <th>bread</th>\n",
       "      <th>data_type</th>\n",
       "      <th>image_shape</th>\n",
       "    </tr>\n",
       "  </thead>\n",
       "  <tbody>\n",
       "    <tr>\n",
       "      <th>0</th>\n",
       "      <td>img1.jpg</td>\n",
       "      <td>pineapple_pizza</td>\n",
       "      <td></td>\n",
       "      <td></td>\n",
       "      <td></td>\n",
       "      <td>1</td>\n",
       "      <td>1</td>\n",
       "      <td>0</td>\n",
       "      <td>0</td>\n",
       "      <td>0</td>\n",
       "      <td>0</td>\n",
       "      <td>0</td>\n",
       "      <td>0</td>\n",
       "      <td>uint8</td>\n",
       "      <td>(1000, 1776, 3)</td>\n",
       "    </tr>\n",
       "  </tbody>\n",
       "</table>\n",
       "</div>"
      ],
      "text/plain": [
       "  image_name           label_1 label_2 label_3 label_4  num_labels  pizza  \\\n",
       "0   img1.jpg   pineapple_pizza                                   1      1   \n",
       "\n",
       "   chicken  rice  soup  lasagne  salad  bread data_type      image_shape  \n",
       "0        0     0     0        0      0      0     uint8  (1000, 1776, 3)  "
      ]
     },
     "execution_count": 549,
     "metadata": {},
     "output_type": "execute_result"
    }
   ],
   "source": [
    "df.head(1)"
   ]
  },
  {
   "cell_type": "code",
   "execution_count": 550,
   "metadata": {
    "collapsed": false
   },
   "outputs": [
    {
     "data": {
      "text/plain": [
       "image_shape\n",
       "(1000, 1776, 3)    145\n",
       "(1632, 1224, 3)    121\n",
       "(1500, 2000, 3)    115\n",
       "(1224, 1632, 3)     67\n",
       "(1776, 1000, 3)     48\n",
       "(864, 1536, 3)      31\n",
       "(1632, 920, 3)      27\n",
       "(1296, 968, 3)      18\n",
       "(1536, 864, 3)      12\n",
       "(920, 1632, 3)      12\n",
       "(968, 1296, 3)      11\n",
       "(600, 991, 3)        2\n",
       "(683, 998, 3)        1\n",
       "(678, 994, 3)        1\n",
       "(721, 994, 3)        1\n",
       "(696, 996, 3)        1\n",
       "(640, 987, 3)        1\n",
       "(721, 996, 3)        1\n",
       "(674, 991, 3)        1\n",
       "(629, 978, 3)        1\n",
       "(638, 998, 3)        1\n",
       "(638, 971, 3)        1\n",
       "(633, 996, 3)        1\n",
       "(766, 987, 3)        1\n",
       "(625, 985, 3)        1\n",
       "(620, 978, 3)        1\n",
       "(613, 985, 3)        1\n",
       "(586, 994, 3)        1\n",
       "(753, 989, 3)        1\n",
       "(831, 980, 3)        1\n",
       "(768, 976, 3)        1\n",
       "(928, 991, 3)        1\n",
       "(1186, 996, 3)       1\n",
       "(1029, 976, 3)       1\n",
       "(1011, 978, 3)       1\n",
       "(992, 825, 3)        1\n",
       "(955, 985, 3)        1\n",
       "(950, 973, 3)        1\n",
       "(940, 973, 3)        1\n",
       "(917, 996, 3)        1\n",
       "(786, 985, 3)        1\n",
       "(914, 991, 3)        1\n",
       "(905, 976, 3)        1\n",
       "(842, 969, 3)        1\n",
       "(838, 980, 3)        1\n",
       "(818, 982, 3)        1\n",
       "(804, 987, 3)        1\n",
       "(793, 1000, 3)       1\n",
       "(517, 994, 3)        1\n",
       "dtype: int64"
      ]
     },
     "execution_count": 550,
     "metadata": {},
     "output_type": "execute_result"
    }
   ],
   "source": [
    "df.groupby('image_shape').size().sort_values(ascending=False)"
   ]
  },
  {
   "cell_type": "code",
   "execution_count": 551,
   "metadata": {
    "collapsed": false
   },
   "outputs": [],
   "source": [
    "df['X'] = df['image_shape'].apply(lambda x: x[0])\n",
    "df['Y'] = df['image_shape'].apply(lambda x: x[1])"
   ]
  },
  {
   "cell_type": "code",
   "execution_count": 552,
   "metadata": {
    "collapsed": false
   },
   "outputs": [
    {
     "data": {
      "image/png": "[encoded data removed]",
      "text/plain": [
       "<matplotlib.figure.Figure at 0x20a873dd8>"
      ]
     },
     "metadata": {},
     "output_type": "display_data"
    },
    {
     "data": {
      "image/png": "[encoded data removed]",
      "text/plain": [
       "<matplotlib.figure.Figure at 0x20a8c8d68>"
      ]
     },
     "metadata": {},
     "output_type": "display_data"
    }
   ],
   "source": [
    "#X Values\n",
    "ax = sns.distplot(df['X'], kde=False)\n",
    "ax.set_title(\"Histogram of X Values in Shape\", weight=\"bold\")\n",
    "plt.show()\n",
    "\n",
    "#Y Values\n",
    "ax = sns.distplot(df['Y'], kde=False)\n",
    "ax.set_title(\"Histogram of Y Values in Shape\", weight=\"bold\")\n",
    "plt.show()"
   ]
  },
  {
   "cell_type": "code",
   "execution_count": 553,
   "metadata": {
    "collapsed": false
   },
   "outputs": [
    {
     "data": {
      "text/plain": [
       "data_type\n",
       "uint8    646\n",
       "dtype: int64"
      ]
     },
     "execution_count": 553,
     "metadata": {},
     "output_type": "execute_result"
    }
   ],
   "source": [
    "df.groupby('data_type').size()"
   ]
  },
  {
   "cell_type": "code",
   "execution_count": 554,
   "metadata": {
    "collapsed": true
   },
   "outputs": [],
   "source": [
    "single_class = df[df['num_labels'] == 1]"
   ]
  },
  {
   "cell_type": "code",
   "execution_count": 556,
   "metadata": {
    "collapsed": false
   },
   "outputs": [
    {
     "name": "stdout",
     "output_type": "stream",
     "text": [
      "There are 106 images with just one label\n"
     ]
    }
   ],
   "source": [
    "print(\"There are {} images with just one label\".format(len(single_class)))"
   ]
  },
  {
   "cell_type": "code",
   "execution_count": 558,
   "metadata": {
    "collapsed": false
   },
   "outputs": [
    {
     "data": {
      "text/plain": [
       "label_1\n",
       " pepperoni_pizza       29\n",
       " cheese_pizza          26\n",
       " pineapple_pizza       16\n",
       " meatlovers_pizza      11\n",
       " chicken_alfredo        6\n",
       " vegetarian_pizza       5\n",
       " combo_supreme          5\n",
       " vegetarian_lasagna     3\n",
       " whole_wheat_bread      1\n",
       " stirfry_beef           1\n",
       " side_salad             1\n",
       " meat_lasagna           1\n",
       " brown_rice             1\n",
       "dtype: int64"
      ]
     },
     "execution_count": 558,
     "metadata": {},
     "output_type": "execute_result"
    }
   ],
   "source": [
    "single_class.groupby('label_1').size().sort_values(ascending=False)"
   ]
  },
  {
   "cell_type": "code",
   "execution_count": 665,
   "metadata": {
    "collapsed": true
   },
   "outputs": [],
   "source": [
    "df.to_csv('data/menu_match_dataset/basic_info.csv', index=False)"
   ]
  }
 ],
 "metadata": {
  "kernelspec": {
   "display_name": "Python 3",
   "language": "python",
   "name": "python3"
  },
  "language_info": {
   "codemirror_mode": {
    "name": "ipython",
    "version": 3
   },
   "file_extension": ".py",
   "mimetype": "text/x-python",
   "name": "python",
   "nbconvert_exporter": "python",
   "pygments_lexer": "ipython3",
   "version": "3.5.1"
  }
 },
 "nbformat": 4,
 "nbformat_minor": 0
}
