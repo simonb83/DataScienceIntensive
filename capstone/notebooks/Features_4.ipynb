{
 "cells": [
  {
   "cell_type": "code",
   "execution_count": 1,
   "metadata": {
    "collapsed": false
   },
   "outputs": [],
   "source": [
    "%matplotlib inline\n",
    "import matplotlib.pyplot as plt\n",
    "import pandas as pd\n",
    "import numpy as np\n",
    "import skimage.io as io\n",
    "from skimage import feature\n",
    "from skimage.transform import resize\n",
    "from sklearn.feature_selection import VarianceThreshold\n",
    "from skimage.color import rgb2gray\n",
    "from sklearn.decomposition import PCA\n",
    "from sklearn.grid_search import GridSearchCV\n",
    "from sklearn.ensemble import RandomForestClassifier\n",
    "from skimage.filters import gabor\n",
    "from skimage.feature import corner_fast, corner_peaks, corner_harris\n",
    "import sys\n",
    "import os\n",
    "sys.path.append('../')\n",
    "import helpers.histogram_classifier as hc"
   ]
  },
  {
   "cell_type": "code",
   "execution_count": 2,
   "metadata": {
    "collapsed": true
   },
   "outputs": [],
   "source": [
    "def sub_grid(image, size=32):\n",
    "    \"\"\"\n",
    "    Split an image into a grid of non-overlapping square boxes, and return each box in turn\n",
    "    :params image: image as numpy array\n",
    "    :params size: side-length of box to use; should be a power of 2\n",
    "    :return: yields each box in turn\n",
    "    \"\"\"\n",
    "    pic_size = image.shape\n",
    "    box_side = size\n",
    "    for x in range(0, pic_size[0], box_side):\n",
    "        for y in range(0, pic_size[1], box_side):\n",
    "            yield image[x:x + box_side, y:y + box_side, :]"
   ]
  },
  {
   "cell_type": "code",
   "execution_count": 3,
   "metadata": {
    "collapsed": false
   },
   "outputs": [
    {
     "data": {
      "text/html": [
       "<style>body {\n",
       "    margin: 0;\n",
       "    font-family: Helvetica;\n",
       "}\n",
       "table.dataframe {\n",
       "    border-collapse: collapse;\n",
       "    border: none;\n",
       "    font-size: 12px;\n",
       "}\n",
       "table.dataframe tr {\n",
       "    border: none;\n",
       "    line-height: 14px;\n",
       "}\n",
       "table.dataframe td, table.dataframe th {\n",
       "    margin: 0;\n",
       "    border: 1px solid white;\n",
       "    padding-left: 0.7em;\n",
       "    padding-right: 0.7em;\n",
       "}\n",
       "table.dataframe th {\n",
       "    background-color: #1c9099;\n",
       "    text-align: center;\n",
       "    font-weight: normal;\n",
       "    color: white;\n",
       "}\n",
       "table.dataframe td {\n",
       "    border: 1px solid #ccf;\n",
       "    background-color: #f4f4ff;\n",
       "    text-align: center;\n",
       "}\n",
       "</style>"
      ],
      "text/plain": [
       "<IPython.core.display.HTML object>"
      ]
     },
     "execution_count": 3,
     "metadata": {},
     "output_type": "execute_result"
    }
   ],
   "source": [
    "from IPython.core.display import HTML\n",
    "css = open('styles/table-style.css').read() #+ open('style-notebook.css').read()\n",
    "HTML('<style>{}</style>'.format(css))"
   ]
  },
  {
   "cell_type": "code",
   "execution_count": 4,
   "metadata": {
    "collapsed": false
   },
   "outputs": [],
   "source": [
    "def get_image_features(img, box_size):\n",
    "    \"\"\"\n",
    "    Get RGB and edge features for a single image by splitting the image into a grid of non-overlapping\n",
    "    square boxes, and obtaining features for each box\n",
    "    :params img: image as a numpy array\n",
    "    :params box_size: the side-length in pixels of the box to be used\n",
    "    :return: mean Red pixel value in each box\n",
    "    :return: mean Green pixel value in each box\n",
    "    :return: mean Blue pixel value in each box\n",
    "    :return: number of edges in each box, extracted using skimage canny edges algorithm\n",
    "    \"\"\"\n",
    "    image_features = []\n",
    "    for box in sub_grid(img, size=box_size):\n",
    "        features = []\n",
    "        features.append(np.mean(box[:, :, 0]))\n",
    "        features.append(np.mean(box[:, :, 1]))\n",
    "        features.append(np.mean(box[:, :, 2]))\n",
    "        features.append(np.sum(feature.canny(rgb2gray(box), sigma=1)))\n",
    "        image_features.append(np.array(features))\n",
    "    image_features = np.array(image_features)\n",
    "    return image_features[:, 0], image_features[:, 1], image_features[:, 2], image_features[:, 3]"
   ]
  },
  {
   "cell_type": "code",
   "execution_count": 5,
   "metadata": {
    "collapsed": false
   },
   "outputs": [],
   "source": [
    "def get_complete_features(image_classes, image_names, box_size):\n",
    "    \"\"\"\n",
    "    Get RGB and edge features for a dictionary of image names\n",
    "    :params image_classes: list of n image classes\n",
    "    :params image_names: dictionary of m image names for each class\n",
    "    :params size: size as tuple for reshaping images for extracting edges and corners\n",
    "    :return: red_features: average red pixel value for each box in each image\n",
    "    :return: green_features: average green pixel value for each box in each image\n",
    "    :return: blue_features: average blue pixel value for each box in each image\n",
    "    :return: edge_features: number of edges detected for each box in each image\n",
    "    :return: labels: array of true labels for each image\n",
    "    \"\"\"\n",
    "    red_features = []\n",
    "    green_features = []\n",
    "    blue_features = []\n",
    "    edge_features = []\n",
    "    labels = []\n",
    "    for c in image_classes:\n",
    "        for i in image_names[c]:\n",
    "            img = io.imread(os.path.join(\"../data/food-101/top_classes/\", c, \"\", i))\n",
    "            red, green, blue, edge = get_image_features(img, box_size=box_size)\n",
    "            red_features.append(red)\n",
    "            green_features.append(green)\n",
    "            blue_features.append(blue)\n",
    "            edge_features.append(edge)\n",
    "            labels.append(c)\n",
    "    \n",
    "    return np.array(red_features), np.array(green_features), np.array(blue_features), np.array(edge_features), np.array(labels)"
   ]
  },
  {
   "cell_type": "code",
   "execution_count": 6,
   "metadata": {
    "collapsed": true
   },
   "outputs": [],
   "source": [
    "PCA_components = 256\n",
    "BOX = 16"
   ]
  },
  {
   "cell_type": "code",
   "execution_count": 7,
   "metadata": {
    "collapsed": false
   },
   "outputs": [],
   "source": [
    "classes = pd.read_csv('../data/food-101/meta/top_classes.csv', index_col=0)\n",
    "class_list = list(classes['class'].unique())\n",
    "\n",
    "image_names = {}\n",
    "for c in class_list:\n",
    "    image_names[c] = np.array(classes[classes['class'] == c]['name'])"
   ]
  },
  {
   "cell_type": "code",
   "execution_count": 8,
   "metadata": {
    "collapsed": true
   },
   "outputs": [],
   "source": [
    "train, test = hc.split_data(image_names, 0.75)"
   ]
  },
  {
   "cell_type": "code",
   "execution_count": 10,
   "metadata": {
    "collapsed": false
   },
   "outputs": [],
   "source": [
    "#Get complete histogram features, edge and corners\n",
    "all_red_features, all_green_features, all_blue_features, all_edge_features, train_labels = get_complete_features(class_list, train, BOX)"
   ]
  },
  {
   "cell_type": "code",
   "execution_count": 11,
   "metadata": {
    "collapsed": false
   },
   "outputs": [],
   "source": [
    "#Get top features using PCA for red features\n",
    "if all_red_features.shape[1] > PCA_components:\n",
    "    red_pca = PCA(n_components=PCA_components)\n",
    "    red_pca.fit(all_red_features)\n",
    "    final_red_features = red_pca.transform(all_red_features)\n",
    "else:\n",
    "    final_red_features = all_red_features"
   ]
  },
  {
   "cell_type": "code",
   "execution_count": 12,
   "metadata": {
    "collapsed": false
   },
   "outputs": [],
   "source": [
    "#Get top features using PCA for green features\n",
    "if all_green_features.shape[1] > PCA_components:\n",
    "    green_pca = PCA(n_components=PCA_components)\n",
    "    green_pca.fit(all_green_features)\n",
    "    final_green_features = green_pca.transform(all_green_features)\n",
    "else:\n",
    "    final_green_features = all_green_features"
   ]
  },
  {
   "cell_type": "code",
   "execution_count": 13,
   "metadata": {
    "collapsed": true
   },
   "outputs": [],
   "source": [
    "#Get top features using PCA for blue features\n",
    "if all_blue_features.shape[1] > PCA_components:\n",
    "    blue_pca = PCA(n_components=PCA_components)\n",
    "    blue_pca.fit(all_blue_features)\n",
    "    final_blue_features = blue_pca.transform(all_blue_features)\n",
    "else:\n",
    "    final_blue_features = all_blue_features"
   ]
  },
  {
   "cell_type": "code",
   "execution_count": 14,
   "metadata": {
    "collapsed": true
   },
   "outputs": [],
   "source": [
    "#Get top features using PCA for edge features\n",
    "if all_edge_features.shape[1] > PCA_components:\n",
    "    edge_pca = PCA(n_components=PCA_components)\n",
    "    edge_pca.fit(all_edge_features)\n",
    "    final_edge_features = edge_pca.transform(all_edge_features)\n",
    "else:\n",
    "    final_edge_features = all_edge_features"
   ]
  },
  {
   "cell_type": "code",
   "execution_count": 15,
   "metadata": {
    "collapsed": true
   },
   "outputs": [],
   "source": [
    "all_features = np.concatenate((final_red_features, final_green_features, final_blue_features, final_edge_features), axis=1)"
   ]
  },
  {
   "cell_type": "code",
   "execution_count": 16,
   "metadata": {
    "collapsed": true
   },
   "outputs": [],
   "source": [
    "#Setup grid-search for top parameters\n",
    "depth = np.array([8, 10, 12, 14])\n",
    "estimators = np.array([10, 25, 50, 100, 250, 500])\n",
    "model = RandomForestClassifier()\n",
    "grid = GridSearchCV(estimator=model, param_grid=dict(n_estimators=estimators, max_depth=depth))"
   ]
  },
  {
   "cell_type": "code",
   "execution_count": 17,
   "metadata": {
    "collapsed": false
   },
   "outputs": [
    {
     "data": {
      "text/plain": [
       "GridSearchCV(cv=None, error_score='raise',\n",
       "       estimator=RandomForestClassifier(bootstrap=True, class_weight=None, criterion='gini',\n",
       "            max_depth=None, max_features='auto', max_leaf_nodes=None,\n",
       "            min_samples_leaf=1, min_samples_split=2,\n",
       "            min_weight_fraction_leaf=0.0, n_estimators=10, n_jobs=1,\n",
       "            oob_score=False, random_state=None, verbose=0,\n",
       "            warm_start=False),\n",
       "       fit_params={}, iid=True, n_jobs=1,\n",
       "       param_grid={'max_depth': array([ 8, 10, 12, 14]), 'n_estimators': array([ 10,  25,  50, 100, 250, 500])},\n",
       "       pre_dispatch='2*n_jobs', refit=True, scoring=None, verbose=0)"
      ]
     },
     "execution_count": 17,
     "metadata": {},
     "output_type": "execute_result"
    }
   ],
   "source": [
    "grid.fit(all_features, train_labels)"
   ]
  },
  {
   "cell_type": "code",
   "execution_count": 18,
   "metadata": {
    "collapsed": false
   },
   "outputs": [
    {
     "name": "stdout",
     "output_type": "stream",
     "text": [
      "Best score = 0.2591111111111111\n",
      "N_estimators: 500\n",
      "Max depth: 10\n"
     ]
    }
   ],
   "source": [
    "print(\"Best score = {}\".format(grid.best_score_))\n",
    "print(\"N_estimators: {}\".format(grid.best_estimator_.n_estimators))\n",
    "print(\"Max depth: {}\".format(grid.best_estimator_.max_depth))"
   ]
  },
  {
   "cell_type": "code",
   "execution_count": 19,
   "metadata": {
    "collapsed": false
   },
   "outputs": [
    {
     "name": "stdout",
     "output_type": "stream",
     "text": [
      "CPU times: user 1min 41s, sys: 141 ms, total: 1min 41s\n",
      "Wall time: 1min 41s\n"
     ]
    }
   ],
   "source": [
    "%%time\n",
    "rf = RandomForestClassifier(n_estimators=grid.best_estimator_.n_estimators, max_depth=grid.best_estimator_.max_depth)\n",
    "rf.fit(all_features, train_labels)"
   ]
  },
  {
   "cell_type": "code",
   "execution_count": 20,
   "metadata": {
    "collapsed": false
   },
   "outputs": [],
   "source": [
    "#Get Test Features\n",
    "all_red_features_t, all_green_features_t, all_blue_features_t, all_edge_features_t, test_labels = get_complete_features(class_list, test, BOX)"
   ]
  },
  {
   "cell_type": "code",
   "execution_count": 21,
   "metadata": {
    "collapsed": false
   },
   "outputs": [],
   "source": [
    "if all_red_features_t.shape[1] > PCA_components:\n",
    "    final_red_t = red_pca.transform(all_red_features_t)\n",
    "else:\n",
    "    final_red_t = all_red_features_t\n",
    "\n",
    "if all_green_features_t.shape[1] > PCA_components:\n",
    "    final_green_t = green_pca.transform(all_green_features_t)\n",
    "else:\n",
    "    final_green_t = all_green_features_t\n",
    "    \n",
    "if all_blue_features_t.shape[1] > PCA_components:\n",
    "    final_blue_t = blue_pca.transform(all_blue_features_t)\n",
    "else:\n",
    "    final_blue_t = all_blue_features_t\n",
    "\n",
    "if all_edge_features_t.shape[1] > PCA_components:\n",
    "    final_edge_t = edge_pca.transform(all_edge_features_t)\n",
    "else:\n",
    "    final_edge_t = all_edge_features_t"
   ]
  },
  {
   "cell_type": "code",
   "execution_count": 22,
   "metadata": {
    "collapsed": true
   },
   "outputs": [],
   "source": [
    "final_test_features = np.concatenate((final_red_t, final_green_t, final_blue_t, final_edge_t), axis=1)"
   ]
  },
  {
   "cell_type": "code",
   "execution_count": 23,
   "metadata": {
    "collapsed": false
   },
   "outputs": [
    {
     "name": "stdout",
     "output_type": "stream",
     "text": [
      "CPU times: user 622 ms, sys: 61 ms, total: 683 ms\n",
      "Wall time: 456 ms\n"
     ]
    }
   ],
   "source": [
    "%%time\n",
    "predicted_labels = rf.predict(final_test_features)"
   ]
  },
  {
   "cell_type": "code",
   "execution_count": 24,
   "metadata": {
    "collapsed": false
   },
   "outputs": [
    {
     "name": "stdout",
     "output_type": "stream",
     "text": [
      "CPU times: user 407 ms, sys: 60.6 ms, total: 467 ms\n",
      "Wall time: 466 ms\n"
     ]
    }
   ],
   "source": [
    "%%time\n",
    "predicted_probabilities = rf.predict_proba(final_test_features)"
   ]
  },
  {
   "cell_type": "code",
   "execution_count": 25,
   "metadata": {
    "collapsed": false
   },
   "outputs": [],
   "source": [
    "overall, metrics, confusion = hc.get_metrics(test_labels, predicted_labels, class_list)"
   ]
  },
  {
   "cell_type": "code",
   "execution_count": 26,
   "metadata": {
    "collapsed": false
   },
   "outputs": [
    {
     "data": {
      "text/html": [
       "<div>\n",
       "<table border=\"1\" class=\"dataframe\">\n",
       "  <thead>\n",
       "    <tr style=\"text-align: right;\">\n",
       "      <th></th>\n",
       "      <th>Accuracy</th>\n",
       "      <th>F1</th>\n",
       "      <th>Precision</th>\n",
       "      <th>Recall</th>\n",
       "    </tr>\n",
       "  </thead>\n",
       "  <tbody>\n",
       "    <tr>\n",
       "      <th>Results</th>\n",
       "      <td>0.253</td>\n",
       "      <td>0.23</td>\n",
       "      <td>0.246</td>\n",
       "      <td>0.253</td>\n",
       "    </tr>\n",
       "  </tbody>\n",
       "</table>\n",
       "</div>"
      ],
      "text/plain": [
       "         Accuracy    F1  Precision  Recall\n",
       "Results     0.253  0.23      0.246   0.253"
      ]
     },
     "execution_count": 26,
     "metadata": {},
     "output_type": "execute_result"
    }
   ],
   "source": [
    "overall"
   ]
  },
  {
   "cell_type": "code",
   "execution_count": 27,
   "metadata": {
    "collapsed": false
   },
   "outputs": [
    {
     "data": {
      "text/html": [
       "<div>\n",
       "<table border=\"1\" class=\"dataframe\">\n",
       "  <thead>\n",
       "    <tr style=\"text-align: right;\">\n",
       "      <th></th>\n",
       "      <th>Precision</th>\n",
       "      <th>Recall</th>\n",
       "      <th>F1-Score</th>\n",
       "      <th>Support</th>\n",
       "    </tr>\n",
       "  </thead>\n",
       "  <tbody>\n",
       "    <tr>\n",
       "      <th>pork_chop</th>\n",
       "      <td>0.24</td>\n",
       "      <td>0.29</td>\n",
       "      <td>0.26</td>\n",
       "      <td>250.0</td>\n",
       "    </tr>\n",
       "    <tr>\n",
       "      <th>lasagna</th>\n",
       "      <td>0.29</td>\n",
       "      <td>0.14</td>\n",
       "      <td>0.19</td>\n",
       "      <td>250.0</td>\n",
       "    </tr>\n",
       "    <tr>\n",
       "      <th>french_toast</th>\n",
       "      <td>0.23</td>\n",
       "      <td>0.22</td>\n",
       "      <td>0.23</td>\n",
       "      <td>250.0</td>\n",
       "    </tr>\n",
       "    <tr>\n",
       "      <th>guacamole</th>\n",
       "      <td>0.26</td>\n",
       "      <td>0.32</td>\n",
       "      <td>0.28</td>\n",
       "      <td>250.0</td>\n",
       "    </tr>\n",
       "    <tr>\n",
       "      <th>apple_pie</th>\n",
       "      <td>0.19</td>\n",
       "      <td>0.05</td>\n",
       "      <td>0.08</td>\n",
       "      <td>250.0</td>\n",
       "    </tr>\n",
       "    <tr>\n",
       "      <th>cheesecake</th>\n",
       "      <td>0.27</td>\n",
       "      <td>0.50</td>\n",
       "      <td>0.35</td>\n",
       "      <td>250.0</td>\n",
       "    </tr>\n",
       "    <tr>\n",
       "      <th>hamburger</th>\n",
       "      <td>0.28</td>\n",
       "      <td>0.07</td>\n",
       "      <td>0.11</td>\n",
       "      <td>250.0</td>\n",
       "    </tr>\n",
       "    <tr>\n",
       "      <th>fried_rice</th>\n",
       "      <td>0.27</td>\n",
       "      <td>0.36</td>\n",
       "      <td>0.31</td>\n",
       "      <td>250.0</td>\n",
       "    </tr>\n",
       "    <tr>\n",
       "      <th>carrot_cake</th>\n",
       "      <td>0.15</td>\n",
       "      <td>0.08</td>\n",
       "      <td>0.10</td>\n",
       "      <td>250.0</td>\n",
       "    </tr>\n",
       "    <tr>\n",
       "      <th>chocolate_cake</th>\n",
       "      <td>0.28</td>\n",
       "      <td>0.30</td>\n",
       "      <td>0.29</td>\n",
       "      <td>250.0</td>\n",
       "    </tr>\n",
       "    <tr>\n",
       "      <th>steak</th>\n",
       "      <td>0.23</td>\n",
       "      <td>0.18</td>\n",
       "      <td>0.20</td>\n",
       "      <td>250.0</td>\n",
       "    </tr>\n",
       "    <tr>\n",
       "      <th>pizza</th>\n",
       "      <td>0.25</td>\n",
       "      <td>0.52</td>\n",
       "      <td>0.34</td>\n",
       "      <td>250.0</td>\n",
       "    </tr>\n",
       "  </tbody>\n",
       "</table>\n",
       "</div>"
      ],
      "text/plain": [
       "                Precision  Recall  F1-Score  Support\n",
       "pork_chop            0.24    0.29      0.26    250.0\n",
       "lasagna              0.29    0.14      0.19    250.0\n",
       "french_toast         0.23    0.22      0.23    250.0\n",
       "guacamole            0.26    0.32      0.28    250.0\n",
       "apple_pie            0.19    0.05      0.08    250.0\n",
       "cheesecake           0.27    0.50      0.35    250.0\n",
       "hamburger            0.28    0.07      0.11    250.0\n",
       "fried_rice           0.27    0.36      0.31    250.0\n",
       "carrot_cake          0.15    0.08      0.10    250.0\n",
       "chocolate_cake       0.28    0.30      0.29    250.0\n",
       "steak                0.23    0.18      0.20    250.0\n",
       "pizza                0.25    0.52      0.34    250.0"
      ]
     },
     "execution_count": 27,
     "metadata": {},
     "output_type": "execute_result"
    }
   ],
   "source": [
    "metrics"
   ]
  },
  {
   "cell_type": "code",
   "execution_count": 28,
   "metadata": {
    "collapsed": false
   },
   "outputs": [
    {
     "data": {
      "text/html": [
       "<div>\n",
       "<table border=\"1\" class=\"dataframe\">\n",
       "  <thead>\n",
       "    <tr style=\"text-align: right;\">\n",
       "      <th></th>\n",
       "      <th>pork_chop</th>\n",
       "      <th>lasagna</th>\n",
       "      <th>french_toast</th>\n",
       "      <th>guacamole</th>\n",
       "      <th>apple_pie</th>\n",
       "      <th>cheesecake</th>\n",
       "      <th>hamburger</th>\n",
       "      <th>fried_rice</th>\n",
       "      <th>carrot_cake</th>\n",
       "      <th>chocolate_cake</th>\n",
       "      <th>steak</th>\n",
       "      <th>pizza</th>\n",
       "    </tr>\n",
       "  </thead>\n",
       "  <tbody>\n",
       "    <tr>\n",
       "      <th>pork_chop</th>\n",
       "      <td>72</td>\n",
       "      <td>6</td>\n",
       "      <td>20</td>\n",
       "      <td>9</td>\n",
       "      <td>6</td>\n",
       "      <td>14</td>\n",
       "      <td>8</td>\n",
       "      <td>12</td>\n",
       "      <td>10</td>\n",
       "      <td>30</td>\n",
       "      <td>36</td>\n",
       "      <td>27</td>\n",
       "    </tr>\n",
       "    <tr>\n",
       "      <th>lasagna</th>\n",
       "      <td>35</td>\n",
       "      <td>36</td>\n",
       "      <td>20</td>\n",
       "      <td>14</td>\n",
       "      <td>6</td>\n",
       "      <td>26</td>\n",
       "      <td>4</td>\n",
       "      <td>34</td>\n",
       "      <td>8</td>\n",
       "      <td>4</td>\n",
       "      <td>11</td>\n",
       "      <td>52</td>\n",
       "    </tr>\n",
       "    <tr>\n",
       "      <th>french_toast</th>\n",
       "      <td>23</td>\n",
       "      <td>11</td>\n",
       "      <td>55</td>\n",
       "      <td>22</td>\n",
       "      <td>7</td>\n",
       "      <td>16</td>\n",
       "      <td>5</td>\n",
       "      <td>26</td>\n",
       "      <td>11</td>\n",
       "      <td>8</td>\n",
       "      <td>15</td>\n",
       "      <td>51</td>\n",
       "    </tr>\n",
       "    <tr>\n",
       "      <th>guacamole</th>\n",
       "      <td>13</td>\n",
       "      <td>2</td>\n",
       "      <td>11</td>\n",
       "      <td>79</td>\n",
       "      <td>3</td>\n",
       "      <td>22</td>\n",
       "      <td>4</td>\n",
       "      <td>31</td>\n",
       "      <td>11</td>\n",
       "      <td>10</td>\n",
       "      <td>10</td>\n",
       "      <td>54</td>\n",
       "    </tr>\n",
       "    <tr>\n",
       "      <th>apple_pie</th>\n",
       "      <td>10</td>\n",
       "      <td>15</td>\n",
       "      <td>20</td>\n",
       "      <td>29</td>\n",
       "      <td>13</td>\n",
       "      <td>62</td>\n",
       "      <td>5</td>\n",
       "      <td>28</td>\n",
       "      <td>16</td>\n",
       "      <td>15</td>\n",
       "      <td>6</td>\n",
       "      <td>31</td>\n",
       "    </tr>\n",
       "    <tr>\n",
       "      <th>cheesecake</th>\n",
       "      <td>7</td>\n",
       "      <td>5</td>\n",
       "      <td>9</td>\n",
       "      <td>17</td>\n",
       "      <td>6</td>\n",
       "      <td>124</td>\n",
       "      <td>3</td>\n",
       "      <td>9</td>\n",
       "      <td>10</td>\n",
       "      <td>41</td>\n",
       "      <td>4</td>\n",
       "      <td>15</td>\n",
       "    </tr>\n",
       "    <tr>\n",
       "      <th>hamburger</th>\n",
       "      <td>24</td>\n",
       "      <td>6</td>\n",
       "      <td>20</td>\n",
       "      <td>21</td>\n",
       "      <td>7</td>\n",
       "      <td>35</td>\n",
       "      <td>18</td>\n",
       "      <td>24</td>\n",
       "      <td>9</td>\n",
       "      <td>19</td>\n",
       "      <td>19</td>\n",
       "      <td>48</td>\n",
       "    </tr>\n",
       "    <tr>\n",
       "      <th>fried_rice</th>\n",
       "      <td>14</td>\n",
       "      <td>15</td>\n",
       "      <td>10</td>\n",
       "      <td>27</td>\n",
       "      <td>9</td>\n",
       "      <td>17</td>\n",
       "      <td>6</td>\n",
       "      <td>90</td>\n",
       "      <td>3</td>\n",
       "      <td>1</td>\n",
       "      <td>5</td>\n",
       "      <td>53</td>\n",
       "    </tr>\n",
       "    <tr>\n",
       "      <th>carrot_cake</th>\n",
       "      <td>21</td>\n",
       "      <td>8</td>\n",
       "      <td>23</td>\n",
       "      <td>20</td>\n",
       "      <td>6</td>\n",
       "      <td>66</td>\n",
       "      <td>3</td>\n",
       "      <td>18</td>\n",
       "      <td>19</td>\n",
       "      <td>25</td>\n",
       "      <td>11</td>\n",
       "      <td>30</td>\n",
       "    </tr>\n",
       "    <tr>\n",
       "      <th>chocolate_cake</th>\n",
       "      <td>23</td>\n",
       "      <td>2</td>\n",
       "      <td>15</td>\n",
       "      <td>17</td>\n",
       "      <td>0</td>\n",
       "      <td>46</td>\n",
       "      <td>3</td>\n",
       "      <td>6</td>\n",
       "      <td>16</td>\n",
       "      <td>76</td>\n",
       "      <td>37</td>\n",
       "      <td>9</td>\n",
       "    </tr>\n",
       "    <tr>\n",
       "      <th>steak</th>\n",
       "      <td>47</td>\n",
       "      <td>5</td>\n",
       "      <td>22</td>\n",
       "      <td>26</td>\n",
       "      <td>2</td>\n",
       "      <td>18</td>\n",
       "      <td>3</td>\n",
       "      <td>8</td>\n",
       "      <td>9</td>\n",
       "      <td>39</td>\n",
       "      <td>46</td>\n",
       "      <td>25</td>\n",
       "    </tr>\n",
       "    <tr>\n",
       "      <th>pizza</th>\n",
       "      <td>6</td>\n",
       "      <td>13</td>\n",
       "      <td>13</td>\n",
       "      <td>25</td>\n",
       "      <td>3</td>\n",
       "      <td>9</td>\n",
       "      <td>2</td>\n",
       "      <td>44</td>\n",
       "      <td>1</td>\n",
       "      <td>1</td>\n",
       "      <td>2</td>\n",
       "      <td>131</td>\n",
       "    </tr>\n",
       "  </tbody>\n",
       "</table>\n",
       "</div>"
      ],
      "text/plain": [
       "                pork_chop  lasagna  french_toast  guacamole  apple_pie  \\\n",
       "pork_chop              72        6            20          9          6   \n",
       "lasagna                35       36            20         14          6   \n",
       "french_toast           23       11            55         22          7   \n",
       "guacamole              13        2            11         79          3   \n",
       "apple_pie              10       15            20         29         13   \n",
       "cheesecake              7        5             9         17          6   \n",
       "hamburger              24        6            20         21          7   \n",
       "fried_rice             14       15            10         27          9   \n",
       "carrot_cake            21        8            23         20          6   \n",
       "chocolate_cake         23        2            15         17          0   \n",
       "steak                  47        5            22         26          2   \n",
       "pizza                   6       13            13         25          3   \n",
       "\n",
       "                cheesecake  hamburger  fried_rice  carrot_cake  \\\n",
       "pork_chop               14          8          12           10   \n",
       "lasagna                 26          4          34            8   \n",
       "french_toast            16          5          26           11   \n",
       "guacamole               22          4          31           11   \n",
       "apple_pie               62          5          28           16   \n",
       "cheesecake             124          3           9           10   \n",
       "hamburger               35         18          24            9   \n",
       "fried_rice              17          6          90            3   \n",
       "carrot_cake             66          3          18           19   \n",
       "chocolate_cake          46          3           6           16   \n",
       "steak                   18          3           8            9   \n",
       "pizza                    9          2          44            1   \n",
       "\n",
       "                chocolate_cake  steak  pizza  \n",
       "pork_chop                   30     36     27  \n",
       "lasagna                      4     11     52  \n",
       "french_toast                 8     15     51  \n",
       "guacamole                   10     10     54  \n",
       "apple_pie                   15      6     31  \n",
       "cheesecake                  41      4     15  \n",
       "hamburger                   19     19     48  \n",
       "fried_rice                   1      5     53  \n",
       "carrot_cake                 25     11     30  \n",
       "chocolate_cake              76     37      9  \n",
       "steak                       39     46     25  \n",
       "pizza                        1      2    131  "
      ]
     },
     "execution_count": 28,
     "metadata": {},
     "output_type": "execute_result"
    }
   ],
   "source": [
    "confusion"
   ]
  },
  {
   "cell_type": "code",
   "execution_count": 29,
   "metadata": {
    "collapsed": true
   },
   "outputs": [],
   "source": [
    "plt.style.use('ggplot')"
   ]
  },
  {
   "cell_type": "code",
   "execution_count": 33,
   "metadata": {
    "collapsed": false
   },
   "outputs": [
    {
     "data": {
      "image/png": "[encoded data removed]",
      "text/plain": [
       "<matplotlib.figure.Figure at 0x108f87e10>"
      ]
     },
     "metadata": {},
     "output_type": "display_data"
    }
   ],
   "source": [
    "fig, ax = plt.subplots(figsize=(20,5))\n",
    "\n",
    "num_red = final_red_features.shape[1]\n",
    "num_green = final_green_features.shape[1]\n",
    "num_blue = final_blue_features.shape[1]\n",
    "num_edges = final_edge_features.shape[1]\n",
    "x = [num_red, num_red + num_green, num_red + num_green + num_blue, num_red + num_green + num_blue + num_edges]\n",
    "ax.bar([i for i in range(x[0])], rf.feature_importances_[:x[0]], color='red', label='Red Features')\n",
    "ax.bar([i for i in range(x[0], x[1])], rf.feature_importances_[x[0]:x[1]], color='green', label='Green Features')\n",
    "ax.bar([i for i in range(x[1], x[2])], rf.feature_importances_[x[1]:x[2]], color='blue', label='Blue Features')\n",
    "ax.bar([i for i in range(x[2], x[3])], rf.feature_importances_[x[2]:x[3]], color='brown', label='Edge Features')\n",
    "ax.set_title(\"Feature Importance\")\n",
    "ax.set_xlim(0,x[3])\n",
    "ax.legend()\n",
    "plt.show()"
   ]
  },
  {
   "cell_type": "code",
   "execution_count": 34,
   "metadata": {
    "collapsed": true
   },
   "outputs": [],
   "source": [
    "PCA_components = 30"
   ]
  },
  {
   "cell_type": "code",
   "execution_count": 35,
   "metadata": {
    "collapsed": true
   },
   "outputs": [],
   "source": [
    "red_pca = PCA(n_components=PCA_components)\n",
    "red_pca.fit(final_red_features)\n",
    "reduced_red_features = red_pca.transform(final_red_features)"
   ]
  },
  {
   "cell_type": "code",
   "execution_count": 37,
   "metadata": {
    "collapsed": true
   },
   "outputs": [],
   "source": [
    "green_pca = PCA(n_components=PCA_components)\n",
    "green_pca.fit(final_green_features)\n",
    "reduced_green_features = green_pca.transform(final_green_features)"
   ]
  },
  {
   "cell_type": "code",
   "execution_count": 38,
   "metadata": {
    "collapsed": true
   },
   "outputs": [],
   "source": [
    "blue_pca = PCA(n_components=PCA_components)\n",
    "blue_pca.fit(final_blue_features)\n",
    "reduced_blue_features = blue_pca.transform(final_blue_features)"
   ]
  },
  {
   "cell_type": "code",
   "execution_count": 39,
   "metadata": {
    "collapsed": true
   },
   "outputs": [],
   "source": [
    "edge_pca = PCA(n_components=PCA_components)\n",
    "edge_pca.fit(final_edge_features)\n",
    "reduced_edge_features = edge_pca.transform(final_edge_features)"
   ]
  },
  {
   "cell_type": "code",
   "execution_count": 40,
   "metadata": {
    "collapsed": true
   },
   "outputs": [],
   "source": [
    "reduced_features = np.concatenate((reduced_red_features, reduced_green_features, reduced_blue_features, reduced_edge_features), axis=1)"
   ]
  },
  {
   "cell_type": "code",
   "execution_count": 41,
   "metadata": {
    "collapsed": true
   },
   "outputs": [],
   "source": [
    "#Setup grid-search for top parameters\n",
    "depth = np.array([8, 10, 12, 14])\n",
    "estimators = np.array([10, 25, 50, 100, 250, 500])\n",
    "model = RandomForestClassifier()\n",
    "grid = GridSearchCV(estimator=model, param_grid=dict(n_estimators=estimators, max_depth=depth))"
   ]
  },
  {
   "cell_type": "code",
   "execution_count": 42,
   "metadata": {
    "collapsed": false
   },
   "outputs": [
    {
     "data": {
      "text/plain": [
       "GridSearchCV(cv=None, error_score='raise',\n",
       "       estimator=RandomForestClassifier(bootstrap=True, class_weight=None, criterion='gini',\n",
       "            max_depth=None, max_features='auto', max_leaf_nodes=None,\n",
       "            min_samples_leaf=1, min_samples_split=2,\n",
       "            min_weight_fraction_leaf=0.0, n_estimators=10, n_jobs=1,\n",
       "            oob_score=False, random_state=None, verbose=0,\n",
       "            warm_start=False),\n",
       "       fit_params={}, iid=True, n_jobs=1,\n",
       "       param_grid={'max_depth': array([ 8, 10, 12, 14]), 'n_estimators': array([ 10,  25,  50, 100, 250, 500])},\n",
       "       pre_dispatch='2*n_jobs', refit=True, scoring=None, verbose=0)"
      ]
     },
     "execution_count": 42,
     "metadata": {},
     "output_type": "execute_result"
    }
   ],
   "source": [
    "grid.fit(reduced_features, train_labels)"
   ]
  },
  {
   "cell_type": "code",
   "execution_count": 43,
   "metadata": {
    "collapsed": false
   },
   "outputs": [
    {
     "name": "stdout",
     "output_type": "stream",
     "text": [
      "Best score = 0.291\n",
      "N_estimators: 250\n",
      "Max depth: 14\n"
     ]
    }
   ],
   "source": [
    "print(\"Best score = {}\".format(grid.best_score_))\n",
    "print(\"N_estimators: {}\".format(grid.best_estimator_.n_estimators))\n",
    "print(\"Max depth: {}\".format(grid.best_estimator_.max_depth))"
   ]
  },
  {
   "cell_type": "code",
   "execution_count": 45,
   "metadata": {
    "collapsed": false
   },
   "outputs": [
    {
     "name": "stdout",
     "output_type": "stream",
     "text": [
      "CPU times: user 21.1 s, sys: 192 ms, total: 21.2 s\n",
      "Wall time: 21.4 s\n"
     ]
    }
   ],
   "source": [
    "%%time\n",
    "rf = RandomForestClassifier(n_estimators=grid.best_estimator_.n_estimators, max_depth=grid.best_estimator_.max_depth)\n",
    "rf.fit(reduced_features, train_labels)"
   ]
  },
  {
   "cell_type": "code",
   "execution_count": 46,
   "metadata": {
    "collapsed": true
   },
   "outputs": [],
   "source": [
    "reduced_red_t = red_pca.transform(final_red_t)\n",
    "reduced_green_t = green_pca.transform(final_green_t)\n",
    "reduced_blue_t = blue_pca.transform(final_blue_t)\n",
    "reduced_edge_t = edge_pca.transform(final_edge_t)"
   ]
  },
  {
   "cell_type": "code",
   "execution_count": 47,
   "metadata": {
    "collapsed": true
   },
   "outputs": [],
   "source": [
    "final_test_features = np.concatenate((reduced_red_t, reduced_green_t, reduced_blue_t, reduced_edge_t), axis=1)"
   ]
  },
  {
   "cell_type": "code",
   "execution_count": 48,
   "metadata": {
    "collapsed": false
   },
   "outputs": [
    {
     "name": "stdout",
     "output_type": "stream",
     "text": [
      "CPU times: user 221 ms, sys: 44.5 ms, total: 266 ms\n",
      "Wall time: 267 ms\n"
     ]
    }
   ],
   "source": [
    "%%time\n",
    "predicted_labels = rf.predict(final_test_features)"
   ]
  },
  {
   "cell_type": "code",
   "execution_count": 49,
   "metadata": {
    "collapsed": false
   },
   "outputs": [
    {
     "name": "stdout",
     "output_type": "stream",
     "text": [
      "CPU times: user 210 ms, sys: 35.3 ms, total: 246 ms\n",
      "Wall time: 247 ms\n"
     ]
    }
   ],
   "source": [
    "%%time\n",
    "predicted_probabilities = rf.predict_proba(final_test_features)"
   ]
  },
  {
   "cell_type": "code",
   "execution_count": 50,
   "metadata": {
    "collapsed": true
   },
   "outputs": [],
   "source": [
    "overall, metrics, confusion = hc.get_metrics(test_labels, predicted_labels, class_list)"
   ]
  },
  {
   "cell_type": "code",
   "execution_count": 51,
   "metadata": {
    "collapsed": false
   },
   "outputs": [
    {
     "data": {
      "text/html": [
       "<div>\n",
       "<table border=\"1\" class=\"dataframe\">\n",
       "  <thead>\n",
       "    <tr style=\"text-align: right;\">\n",
       "      <th></th>\n",
       "      <th>Accuracy</th>\n",
       "      <th>F1</th>\n",
       "      <th>Precision</th>\n",
       "      <th>Recall</th>\n",
       "    </tr>\n",
       "  </thead>\n",
       "  <tbody>\n",
       "    <tr>\n",
       "      <th>Results</th>\n",
       "      <td>0.282</td>\n",
       "      <td>0.268</td>\n",
       "      <td>0.274</td>\n",
       "      <td>0.282</td>\n",
       "    </tr>\n",
       "  </tbody>\n",
       "</table>\n",
       "</div>"
      ],
      "text/plain": [
       "         Accuracy     F1  Precision  Recall\n",
       "Results     0.282  0.268      0.274   0.282"
      ]
     },
     "execution_count": 51,
     "metadata": {},
     "output_type": "execute_result"
    }
   ],
   "source": [
    "overall"
   ]
  },
  {
   "cell_type": "code",
   "execution_count": 52,
   "metadata": {
    "collapsed": false
   },
   "outputs": [
    {
     "data": {
      "text/html": [
       "<div>\n",
       "<table border=\"1\" class=\"dataframe\">\n",
       "  <thead>\n",
       "    <tr style=\"text-align: right;\">\n",
       "      <th></th>\n",
       "      <th>Precision</th>\n",
       "      <th>Recall</th>\n",
       "      <th>F1-Score</th>\n",
       "      <th>Support</th>\n",
       "    </tr>\n",
       "  </thead>\n",
       "  <tbody>\n",
       "    <tr>\n",
       "      <th>pork_chop</th>\n",
       "      <td>0.31</td>\n",
       "      <td>0.30</td>\n",
       "      <td>0.31</td>\n",
       "      <td>250.0</td>\n",
       "    </tr>\n",
       "    <tr>\n",
       "      <th>lasagna</th>\n",
       "      <td>0.27</td>\n",
       "      <td>0.18</td>\n",
       "      <td>0.22</td>\n",
       "      <td>250.0</td>\n",
       "    </tr>\n",
       "    <tr>\n",
       "      <th>french_toast</th>\n",
       "      <td>0.26</td>\n",
       "      <td>0.22</td>\n",
       "      <td>0.24</td>\n",
       "      <td>250.0</td>\n",
       "    </tr>\n",
       "    <tr>\n",
       "      <th>guacamole</th>\n",
       "      <td>0.28</td>\n",
       "      <td>0.33</td>\n",
       "      <td>0.31</td>\n",
       "      <td>250.0</td>\n",
       "    </tr>\n",
       "    <tr>\n",
       "      <th>apple_pie</th>\n",
       "      <td>0.20</td>\n",
       "      <td>0.09</td>\n",
       "      <td>0.13</td>\n",
       "      <td>250.0</td>\n",
       "    </tr>\n",
       "    <tr>\n",
       "      <th>cheesecake</th>\n",
       "      <td>0.29</td>\n",
       "      <td>0.48</td>\n",
       "      <td>0.36</td>\n",
       "      <td>250.0</td>\n",
       "    </tr>\n",
       "    <tr>\n",
       "      <th>hamburger</th>\n",
       "      <td>0.26</td>\n",
       "      <td>0.21</td>\n",
       "      <td>0.23</td>\n",
       "      <td>250.0</td>\n",
       "    </tr>\n",
       "    <tr>\n",
       "      <th>fried_rice</th>\n",
       "      <td>0.30</td>\n",
       "      <td>0.36</td>\n",
       "      <td>0.33</td>\n",
       "      <td>250.0</td>\n",
       "    </tr>\n",
       "    <tr>\n",
       "      <th>carrot_cake</th>\n",
       "      <td>0.24</td>\n",
       "      <td>0.14</td>\n",
       "      <td>0.18</td>\n",
       "      <td>250.0</td>\n",
       "    </tr>\n",
       "    <tr>\n",
       "      <th>chocolate_cake</th>\n",
       "      <td>0.33</td>\n",
       "      <td>0.31</td>\n",
       "      <td>0.32</td>\n",
       "      <td>250.0</td>\n",
       "    </tr>\n",
       "    <tr>\n",
       "      <th>steak</th>\n",
       "      <td>0.24</td>\n",
       "      <td>0.18</td>\n",
       "      <td>0.21</td>\n",
       "      <td>250.0</td>\n",
       "    </tr>\n",
       "    <tr>\n",
       "      <th>pizza</th>\n",
       "      <td>0.29</td>\n",
       "      <td>0.57</td>\n",
       "      <td>0.39</td>\n",
       "      <td>250.0</td>\n",
       "    </tr>\n",
       "  </tbody>\n",
       "</table>\n",
       "</div>"
      ],
      "text/plain": [
       "                Precision  Recall  F1-Score  Support\n",
       "pork_chop            0.31    0.30      0.31    250.0\n",
       "lasagna              0.27    0.18      0.22    250.0\n",
       "french_toast         0.26    0.22      0.24    250.0\n",
       "guacamole            0.28    0.33      0.31    250.0\n",
       "apple_pie            0.20    0.09      0.13    250.0\n",
       "cheesecake           0.29    0.48      0.36    250.0\n",
       "hamburger            0.26    0.21      0.23    250.0\n",
       "fried_rice           0.30    0.36      0.33    250.0\n",
       "carrot_cake          0.24    0.14      0.18    250.0\n",
       "chocolate_cake       0.33    0.31      0.32    250.0\n",
       "steak                0.24    0.18      0.21    250.0\n",
       "pizza                0.29    0.57      0.39    250.0"
      ]
     },
     "execution_count": 52,
     "metadata": {},
     "output_type": "execute_result"
    }
   ],
   "source": [
    "metrics"
   ]
  },
  {
   "cell_type": "code",
   "execution_count": 53,
   "metadata": {
    "collapsed": false
   },
   "outputs": [
    {
     "data": {
      "text/html": [
       "<div>\n",
       "<table border=\"1\" class=\"dataframe\">\n",
       "  <thead>\n",
       "    <tr style=\"text-align: right;\">\n",
       "      <th></th>\n",
       "      <th>pork_chop</th>\n",
       "      <th>lasagna</th>\n",
       "      <th>french_toast</th>\n",
       "      <th>guacamole</th>\n",
       "      <th>apple_pie</th>\n",
       "      <th>cheesecake</th>\n",
       "      <th>hamburger</th>\n",
       "      <th>fried_rice</th>\n",
       "      <th>carrot_cake</th>\n",
       "      <th>chocolate_cake</th>\n",
       "      <th>steak</th>\n",
       "      <th>pizza</th>\n",
       "    </tr>\n",
       "  </thead>\n",
       "  <tbody>\n",
       "    <tr>\n",
       "      <th>pork_chop</th>\n",
       "      <td>75</td>\n",
       "      <td>11</td>\n",
       "      <td>13</td>\n",
       "      <td>13</td>\n",
       "      <td>8</td>\n",
       "      <td>9</td>\n",
       "      <td>15</td>\n",
       "      <td>17</td>\n",
       "      <td>9</td>\n",
       "      <td>26</td>\n",
       "      <td>31</td>\n",
       "      <td>23</td>\n",
       "    </tr>\n",
       "    <tr>\n",
       "      <th>lasagna</th>\n",
       "      <td>20</td>\n",
       "      <td>46</td>\n",
       "      <td>26</td>\n",
       "      <td>13</td>\n",
       "      <td>7</td>\n",
       "      <td>25</td>\n",
       "      <td>11</td>\n",
       "      <td>30</td>\n",
       "      <td>9</td>\n",
       "      <td>5</td>\n",
       "      <td>10</td>\n",
       "      <td>48</td>\n",
       "    </tr>\n",
       "    <tr>\n",
       "      <th>french_toast</th>\n",
       "      <td>23</td>\n",
       "      <td>24</td>\n",
       "      <td>55</td>\n",
       "      <td>24</td>\n",
       "      <td>13</td>\n",
       "      <td>15</td>\n",
       "      <td>13</td>\n",
       "      <td>16</td>\n",
       "      <td>9</td>\n",
       "      <td>6</td>\n",
       "      <td>9</td>\n",
       "      <td>43</td>\n",
       "    </tr>\n",
       "    <tr>\n",
       "      <th>guacamole</th>\n",
       "      <td>5</td>\n",
       "      <td>6</td>\n",
       "      <td>15</td>\n",
       "      <td>83</td>\n",
       "      <td>5</td>\n",
       "      <td>23</td>\n",
       "      <td>21</td>\n",
       "      <td>27</td>\n",
       "      <td>10</td>\n",
       "      <td>3</td>\n",
       "      <td>8</td>\n",
       "      <td>44</td>\n",
       "    </tr>\n",
       "    <tr>\n",
       "      <th>apple_pie</th>\n",
       "      <td>5</td>\n",
       "      <td>17</td>\n",
       "      <td>19</td>\n",
       "      <td>26</td>\n",
       "      <td>23</td>\n",
       "      <td>53</td>\n",
       "      <td>16</td>\n",
       "      <td>22</td>\n",
       "      <td>17</td>\n",
       "      <td>12</td>\n",
       "      <td>14</td>\n",
       "      <td>26</td>\n",
       "    </tr>\n",
       "    <tr>\n",
       "      <th>cheesecake</th>\n",
       "      <td>7</td>\n",
       "      <td>7</td>\n",
       "      <td>5</td>\n",
       "      <td>8</td>\n",
       "      <td>13</td>\n",
       "      <td>120</td>\n",
       "      <td>15</td>\n",
       "      <td>10</td>\n",
       "      <td>10</td>\n",
       "      <td>31</td>\n",
       "      <td>8</td>\n",
       "      <td>16</td>\n",
       "    </tr>\n",
       "    <tr>\n",
       "      <th>hamburger</th>\n",
       "      <td>12</td>\n",
       "      <td>8</td>\n",
       "      <td>14</td>\n",
       "      <td>22</td>\n",
       "      <td>13</td>\n",
       "      <td>28</td>\n",
       "      <td>52</td>\n",
       "      <td>25</td>\n",
       "      <td>8</td>\n",
       "      <td>17</td>\n",
       "      <td>13</td>\n",
       "      <td>38</td>\n",
       "    </tr>\n",
       "    <tr>\n",
       "      <th>fried_rice</th>\n",
       "      <td>10</td>\n",
       "      <td>10</td>\n",
       "      <td>11</td>\n",
       "      <td>29</td>\n",
       "      <td>8</td>\n",
       "      <td>21</td>\n",
       "      <td>8</td>\n",
       "      <td>90</td>\n",
       "      <td>6</td>\n",
       "      <td>2</td>\n",
       "      <td>4</td>\n",
       "      <td>51</td>\n",
       "    </tr>\n",
       "    <tr>\n",
       "      <th>carrot_cake</th>\n",
       "      <td>17</td>\n",
       "      <td>10</td>\n",
       "      <td>12</td>\n",
       "      <td>20</td>\n",
       "      <td>15</td>\n",
       "      <td>55</td>\n",
       "      <td>11</td>\n",
       "      <td>18</td>\n",
       "      <td>36</td>\n",
       "      <td>19</td>\n",
       "      <td>11</td>\n",
       "      <td>26</td>\n",
       "    </tr>\n",
       "    <tr>\n",
       "      <th>chocolate_cake</th>\n",
       "      <td>15</td>\n",
       "      <td>5</td>\n",
       "      <td>13</td>\n",
       "      <td>20</td>\n",
       "      <td>1</td>\n",
       "      <td>37</td>\n",
       "      <td>12</td>\n",
       "      <td>7</td>\n",
       "      <td>22</td>\n",
       "      <td>77</td>\n",
       "      <td>33</td>\n",
       "      <td>8</td>\n",
       "    </tr>\n",
       "    <tr>\n",
       "      <th>steak</th>\n",
       "      <td>49</td>\n",
       "      <td>8</td>\n",
       "      <td>21</td>\n",
       "      <td>20</td>\n",
       "      <td>1</td>\n",
       "      <td>16</td>\n",
       "      <td>18</td>\n",
       "      <td>8</td>\n",
       "      <td>11</td>\n",
       "      <td>32</td>\n",
       "      <td>46</td>\n",
       "      <td>20</td>\n",
       "    </tr>\n",
       "    <tr>\n",
       "      <th>pizza</th>\n",
       "      <td>3</td>\n",
       "      <td>17</td>\n",
       "      <td>8</td>\n",
       "      <td>15</td>\n",
       "      <td>8</td>\n",
       "      <td>8</td>\n",
       "      <td>8</td>\n",
       "      <td>32</td>\n",
       "      <td>3</td>\n",
       "      <td>3</td>\n",
       "      <td>3</td>\n",
       "      <td>142</td>\n",
       "    </tr>\n",
       "  </tbody>\n",
       "</table>\n",
       "</div>"
      ],
      "text/plain": [
       "                pork_chop  lasagna  french_toast  guacamole  apple_pie  \\\n",
       "pork_chop              75       11            13         13          8   \n",
       "lasagna                20       46            26         13          7   \n",
       "french_toast           23       24            55         24         13   \n",
       "guacamole               5        6            15         83          5   \n",
       "apple_pie               5       17            19         26         23   \n",
       "cheesecake              7        7             5          8         13   \n",
       "hamburger              12        8            14         22         13   \n",
       "fried_rice             10       10            11         29          8   \n",
       "carrot_cake            17       10            12         20         15   \n",
       "chocolate_cake         15        5            13         20          1   \n",
       "steak                  49        8            21         20          1   \n",
       "pizza                   3       17             8         15          8   \n",
       "\n",
       "                cheesecake  hamburger  fried_rice  carrot_cake  \\\n",
       "pork_chop                9         15          17            9   \n",
       "lasagna                 25         11          30            9   \n",
       "french_toast            15         13          16            9   \n",
       "guacamole               23         21          27           10   \n",
       "apple_pie               53         16          22           17   \n",
       "cheesecake             120         15          10           10   \n",
       "hamburger               28         52          25            8   \n",
       "fried_rice              21          8          90            6   \n",
       "carrot_cake             55         11          18           36   \n",
       "chocolate_cake          37         12           7           22   \n",
       "steak                   16         18           8           11   \n",
       "pizza                    8          8          32            3   \n",
       "\n",
       "                chocolate_cake  steak  pizza  \n",
       "pork_chop                   26     31     23  \n",
       "lasagna                      5     10     48  \n",
       "french_toast                 6      9     43  \n",
       "guacamole                    3      8     44  \n",
       "apple_pie                   12     14     26  \n",
       "cheesecake                  31      8     16  \n",
       "hamburger                   17     13     38  \n",
       "fried_rice                   2      4     51  \n",
       "carrot_cake                 19     11     26  \n",
       "chocolate_cake              77     33      8  \n",
       "steak                       32     46     20  \n",
       "pizza                        3      3    142  "
      ]
     },
     "execution_count": 53,
     "metadata": {},
     "output_type": "execute_result"
    }
   ],
   "source": [
    "confusion"
   ]
  },
  {
   "cell_type": "code",
   "execution_count": 54,
   "metadata": {
    "collapsed": false
   },
   "outputs": [
    {
     "data": {
      "image/png": "[encoded data removed]",
      "text/plain": [
       "<matplotlib.figure.Figure at 0x117f7c710>"
      ]
     },
     "metadata": {},
     "output_type": "display_data"
    }
   ],
   "source": [
    "fig, ax = plt.subplots(figsize=(20,5))\n",
    "\n",
    "num_red = reduced_red_features.shape[1]\n",
    "num_green = reduced_green_features.shape[1]\n",
    "num_blue = reduced_blue_features.shape[1]\n",
    "num_edges = reduced_edge_features.shape[1]\n",
    "x = [num_red, num_red + num_green, num_red + num_green + num_blue, num_red + num_green + num_blue + num_edges]\n",
    "ax.bar([i for i in range(x[0])], rf.feature_importances_[:x[0]], color='red', label='Red Features')\n",
    "ax.bar([i for i in range(x[0], x[1])], rf.feature_importances_[x[0]:x[1]], color='green', label='Green Features')\n",
    "ax.bar([i for i in range(x[1], x[2])], rf.feature_importances_[x[1]:x[2]], color='blue', label='Blue Features')\n",
    "ax.bar([i for i in range(x[2], x[3])], rf.feature_importances_[x[2]:x[3]], color='brown', label='Edge Features')\n",
    "ax.set_title(\"Feature Importance\")\n",
    "ax.set_xlim(0,x[3])\n",
    "ax.legend()\n",
    "plt.show()"
   ]
  },
  {
   "cell_type": "code",
   "execution_count": null,
   "metadata": {
    "collapsed": true
   },
   "outputs": [],
   "source": []
  }
 ],
 "metadata": {
  "kernelspec": {
   "display_name": "Python 3",
   "language": "python",
   "name": "python3"
  },
  "language_info": {
   "codemirror_mode": {
    "name": "ipython",
    "version": 3
   },
   "file_extension": ".py",
   "mimetype": "text/x-python",
   "name": "python",
   "nbconvert_exporter": "python",
   "pygments_lexer": "ipython3",
   "version": "3.5.1"
  }
 },
 "nbformat": 4,
 "nbformat_minor": 0
}
