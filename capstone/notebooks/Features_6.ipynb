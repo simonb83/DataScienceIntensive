{
 "cells": [
  {
   "cell_type": "code",
   "execution_count": 55,
   "metadata": {
    "collapsed": false
   },
   "outputs": [],
   "source": [
    "%matplotlib inline\n",
    "import matplotlib.pyplot as plt\n",
    "import pandas as pd\n",
    "import numpy as np\n",
    "import skimage.io as io\n",
    "from skimage import feature\n",
    "from skimage.transform import resize\n",
    "from sklearn.feature_selection import VarianceThreshold\n",
    "from skimage.color import rgb2gray\n",
    "from sklearn.decomposition import PCA\n",
    "from sklearn.grid_search import GridSearchCV\n",
    "from sklearn.ensemble import RandomForestClassifier\n",
    "from skimage.filters import gabor\n",
    "from skimage.feature import corner_fast, corner_peaks, corner_harris\n",
    "import sys\n",
    "import os\n",
    "sys.path.append('../')\n",
    "import helpers.histogram_classifier as hc"
   ]
  },
  {
   "cell_type": "code",
   "execution_count": 56,
   "metadata": {
    "collapsed": true
   },
   "outputs": [],
   "source": [
    "def sub_grid(image, size=32):\n",
    "    \"\"\"\n",
    "    Split an image into a grid of non-overlapping square boxes, and return each box in turn\n",
    "    :params image: image as numpy array\n",
    "    :params size: side-length of box to use; should be a power of 2\n",
    "    :return: yields each box in turn\n",
    "    \"\"\"\n",
    "    pic_size = image.shape\n",
    "    box_side = size\n",
    "    for x in range(0, pic_size[0], box_side):\n",
    "        for y in range(0, pic_size[1], box_side):\n",
    "            yield image[x:x + box_side, y:y + box_side, :]"
   ]
  },
  {
   "cell_type": "code",
   "execution_count": 57,
   "metadata": {
    "collapsed": false
   },
   "outputs": [
    {
     "data": {
      "text/html": [
       "<style>body {\n",
       "    margin: 0;\n",
       "    font-family: Helvetica;\n",
       "}\n",
       "table.dataframe {\n",
       "    border-collapse: collapse;\n",
       "    border: none;\n",
       "    font-size: 12px;\n",
       "}\n",
       "table.dataframe tr {\n",
       "    border: none;\n",
       "    line-height: 14px;\n",
       "}\n",
       "table.dataframe td, table.dataframe th {\n",
       "    margin: 0;\n",
       "    border: 1px solid white;\n",
       "    padding-left: 0.7em;\n",
       "    padding-right: 0.7em;\n",
       "}\n",
       "table.dataframe th {\n",
       "    background-color: #1c9099;\n",
       "    text-align: center;\n",
       "    font-weight: normal;\n",
       "    color: white;\n",
       "}\n",
       "table.dataframe td {\n",
       "    border: 1px solid #ccf;\n",
       "    background-color: #f4f4ff;\n",
       "    text-align: center;\n",
       "}\n",
       "</style>"
      ],
      "text/plain": [
       "<IPython.core.display.HTML object>"
      ]
     },
     "execution_count": 57,
     "metadata": {},
     "output_type": "execute_result"
    }
   ],
   "source": [
    "from IPython.core.display import HTML\n",
    "css = open('styles/table-style.css').read() #+ open('style-notebook.css').read()\n",
    "HTML('<style>{}</style>'.format(css))"
   ]
  },
  {
   "cell_type": "code",
   "execution_count": 58,
   "metadata": {
    "collapsed": false
   },
   "outputs": [],
   "source": [
    "def get_image_features(img, box_size):\n",
    "    \"\"\"\n",
    "    Get RGB and edge features for a single image by splitting the image into a grid of non-overlapping\n",
    "    square boxes, and obtaining features for each box\n",
    "    :params img: image as a numpy array\n",
    "    :params box_size: the side-length in pixels of the box to be used\n",
    "    :return: mean Red pixel value in each box\n",
    "    :return: mean Green pixel value in each box\n",
    "    :return: mean Blue pixel value in each box\n",
    "    :return: number of edges in each box, extracted using skimage canny edges algorithm\n",
    "    :return: number of corners in each box, extracted using skimage corner_fast algorithm\n",
    "    \"\"\"\n",
    "    image_features = []\n",
    "    for box in sub_grid(img, size=box_size):\n",
    "        features = []\n",
    "        features.append(np.mean(box[:, :, 0]))\n",
    "        features.append(np.mean(box[:, :, 1]))\n",
    "        features.append(np.mean(box[:, :, 2]))\n",
    "        features.append(np.sum(feature.canny(rgb2gray(box), sigma=1)))\n",
    "        features.append(corner_peaks(corner_fast(rgb2gray(box))).shape[0])\n",
    "        image_features.append(np.array(features))\n",
    "    image_features = np.array(image_features)\n",
    "    return image_features[:, 0], image_features[:, 1], image_features[:, 2], image_features[:, 3], image_features[:, 4]"
   ]
  },
  {
   "cell_type": "code",
   "execution_count": 59,
   "metadata": {
    "collapsed": false
   },
   "outputs": [],
   "source": [
    "def get_complete_features(image_classes, image_names, box_size):\n",
    "    \"\"\"\n",
    "    Get RGB and edge features for a dictionary of image names\n",
    "    :params image_classes: list of n image classes\n",
    "    :params image_names: dictionary of m image names for each class\n",
    "    :params size: size as tuple for reshaping images for extracting edges and corners\n",
    "    :return: red_features: average red pixel value for each box in each image\n",
    "    :return: green_features: average green pixel value for each box in each image\n",
    "    :return: blue_features: average blue pixel value for each box in each image\n",
    "    :return: edge_features: number of edges detected for each box in each image\n",
    "    :return: corner_features: number of corners detected for each box in each image\n",
    "    :return: labels: array of true labels for each image\n",
    "    \"\"\"\n",
    "    red_features = []\n",
    "    green_features = []\n",
    "    blue_features = []\n",
    "    edge_features = []\n",
    "    corner_features = []\n",
    "    labels = []\n",
    "    for c in image_classes:\n",
    "        for i in image_names[c]:\n",
    "            img = io.imread(os.path.join(\"../data/food-101/top_classes/\", c, \"\", i))\n",
    "            red, green, blue, edge, corners = get_image_features(img, box_size=box_size)\n",
    "            red_features.append(red)\n",
    "            green_features.append(green)\n",
    "            blue_features.append(blue)\n",
    "            edge_features.append(edge)\n",
    "            corner_features.append(corners)\n",
    "            labels.append(c)\n",
    "    \n",
    "    return np.array(red_features), np.array(green_features), np.array(blue_features), np.array(edge_features), np.array(corner_features), np.array(labels)"
   ]
  },
  {
   "cell_type": "code",
   "execution_count": 60,
   "metadata": {
    "collapsed": true
   },
   "outputs": [],
   "source": [
    "PCA_components = 256 + 1024\n",
    "BOX = 32"
   ]
  },
  {
   "cell_type": "code",
   "execution_count": 61,
   "metadata": {
    "collapsed": false
   },
   "outputs": [],
   "source": [
    "classes = pd.read_csv('../data/food-101/meta/top_classes.csv', index_col=0)\n",
    "class_list = list(classes['class'].unique())\n",
    "\n",
    "image_names = {}\n",
    "for c in class_list:\n",
    "    image_names[c] = np.array(classes[classes['class'] == c]['name'])"
   ]
  },
  {
   "cell_type": "code",
   "execution_count": 62,
   "metadata": {
    "collapsed": true
   },
   "outputs": [],
   "source": [
    "train, test = hc.split_data(image_names, 0.75)"
   ]
  },
  {
   "cell_type": "markdown",
   "metadata": {},
   "source": [
    "for c in class_list:\n",
    "    train[c] = train[c][:10]\n",
    "    test[c] = test[c][:10]"
   ]
  },
  {
   "cell_type": "code",
   "execution_count": 63,
   "metadata": {
    "collapsed": false
   },
   "outputs": [],
   "source": [
    "#Get complete histogram features, edge and corners\n",
    "all_red_features, all_green_features, all_blue_features, all_edge_features, all_corner_features, train_labels = get_complete_features(class_list, train, BOX)"
   ]
  },
  {
   "cell_type": "code",
   "execution_count": 64,
   "metadata": {
    "collapsed": false
   },
   "outputs": [],
   "source": [
    "#Get top features using PCA for red features\n",
    "if all_red_features.shape[1] > PCA_components:\n",
    "    red_pca = PCA(n_components=PCA_components)\n",
    "    red_pca.fit(all_red_features)\n",
    "    final_red_features = red_pca.transform(kept_red_features)\n",
    "else:\n",
    "    final_red_features = all_red_features"
   ]
  },
  {
   "cell_type": "code",
   "execution_count": 65,
   "metadata": {
    "collapsed": false
   },
   "outputs": [],
   "source": [
    "#Get top features using PCA for green features\n",
    "if all_green_features.shape[1] > PCA_components:\n",
    "    green_pca = PCA(n_components=PCA_components)\n",
    "    green_pca.fit(all_green_features)\n",
    "    final_green_features = green_pca.transform(all_green_features)\n",
    "else:\n",
    "    final_green_features = all_green_features"
   ]
  },
  {
   "cell_type": "code",
   "execution_count": 66,
   "metadata": {
    "collapsed": true
   },
   "outputs": [],
   "source": [
    "#Get top features using PCA for blue features\n",
    "if all_blue_features.shape[1] > PCA_components:\n",
    "    blue_pca = PCA(n_components=PCA_components)\n",
    "    blue_pca.fit(all_blue_features)\n",
    "    final_blue_features = blue_pca.transform(all_blue_features)\n",
    "else:\n",
    "    final_blue_features = all_blue_features"
   ]
  },
  {
   "cell_type": "code",
   "execution_count": 67,
   "metadata": {
    "collapsed": true
   },
   "outputs": [],
   "source": [
    "#Get top features using PCA for edge features\n",
    "if all_edge_features.shape[1] > PCA_components:\n",
    "    edge_pca = PCA(n_components=PCA_components)\n",
    "    edge_pca.fit(all_edge_features)\n",
    "    final_edge_features = edge_pca.transform(all_edge_features)\n",
    "else:\n",
    "    final_edge_features = all_edge_features"
   ]
  },
  {
   "cell_type": "code",
   "execution_count": 68,
   "metadata": {
    "collapsed": true
   },
   "outputs": [],
   "source": [
    "#Get top features using PCA for corner features\n",
    "if all_corner_features.shape[1] > PCA_components:\n",
    "    corner_pca = PCA(n_components=PCA_components)\n",
    "    corner_pca.fit(all_corner_features)\n",
    "    final_corner_features = corner_pca.transform(all_corner_features)\n",
    "else:\n",
    "    final_corner_features = all_corner_features"
   ]
  },
  {
   "cell_type": "code",
   "execution_count": 69,
   "metadata": {
    "collapsed": true
   },
   "outputs": [],
   "source": [
    "all_features_1 = np.concatenate((final_red_features, final_green_features, final_blue_features, final_edge_features, final_corner_features), axis=1)"
   ]
  },
  {
   "cell_type": "code",
   "execution_count": 70,
   "metadata": {
    "collapsed": false
   },
   "outputs": [],
   "source": [
    "#Get complete histogram features, edge and corners\n",
    "all_red_features, all_green_features, all_blue_features, all_edge_features, all_corner_features, train_labels = get_complete_features(class_list, train, 16)"
   ]
  },
  {
   "cell_type": "code",
   "execution_count": 71,
   "metadata": {
    "collapsed": false
   },
   "outputs": [],
   "source": [
    "#Get top features using PCA for red features\n",
    "if all_red_features.shape[1] > PCA_components:\n",
    "    red_pca = PCA(n_components=PCA_components)\n",
    "    red_pca.fit(all_red_features)\n",
    "    final_red_features = red_pca.transform(kept_red_features)\n",
    "else:\n",
    "    final_red_features = all_red_features"
   ]
  },
  {
   "cell_type": "code",
   "execution_count": 72,
   "metadata": {
    "collapsed": false
   },
   "outputs": [],
   "source": [
    "#Get top features using PCA for green features\n",
    "if all_green_features.shape[1] > PCA_components:\n",
    "    green_pca = PCA(n_components=PCA_components)\n",
    "    green_pca.fit(all_green_features)\n",
    "    final_green_features = green_pca.transform(all_green_features)\n",
    "else:\n",
    "    final_green_features = all_green_features"
   ]
  },
  {
   "cell_type": "code",
   "execution_count": 73,
   "metadata": {
    "collapsed": true
   },
   "outputs": [],
   "source": [
    "#Get top features using PCA for blue features\n",
    "if all_blue_features.shape[1] > PCA_components:\n",
    "    blue_pca = PCA(n_components=PCA_components)\n",
    "    blue_pca.fit(all_blue_features)\n",
    "    final_blue_features = blue_pca.transform(all_blue_features)\n",
    "else:\n",
    "    final_blue_features = all_blue_features"
   ]
  },
  {
   "cell_type": "code",
   "execution_count": 74,
   "metadata": {
    "collapsed": true
   },
   "outputs": [],
   "source": [
    "#Get top features using PCA for edge features\n",
    "if all_edge_features.shape[1] > PCA_components:\n",
    "    edge_pca = PCA(n_components=PCA_components)\n",
    "    edge_pca.fit(all_edge_features)\n",
    "    final_edge_features = edge_pca.transform(all_edge_features)\n",
    "else:\n",
    "    final_edge_features = all_edge_features"
   ]
  },
  {
   "cell_type": "code",
   "execution_count": 75,
   "metadata": {
    "collapsed": true
   },
   "outputs": [],
   "source": [
    "#Get top features using PCA for corner features\n",
    "if all_corner_features.shape[1] > PCA_components:\n",
    "    corner_pca = PCA(n_components=PCA_components)\n",
    "    corner_pca.fit(all_corner_features)\n",
    "    final_corner_features = corner_pca.transform(all_corner_features)\n",
    "else:\n",
    "    final_corner_features = all_corner_features"
   ]
  },
  {
   "cell_type": "code",
   "execution_count": 76,
   "metadata": {
    "collapsed": true
   },
   "outputs": [],
   "source": [
    "all_features_2 = np.concatenate((final_red_features, final_green_features, final_blue_features, final_edge_features, final_corner_features), axis=1)"
   ]
  },
  {
   "cell_type": "code",
   "execution_count": 77,
   "metadata": {
    "collapsed": true
   },
   "outputs": [],
   "source": [
    "all_features = np.concatenate([all_features_1, all_features_2], axis=1)"
   ]
  },
  {
   "cell_type": "code",
   "execution_count": 78,
   "metadata": {
    "collapsed": true
   },
   "outputs": [],
   "source": [
    "#Setup grid-search for top parameters\n",
    "depth = np.array([8, 10, 12, 14])\n",
    "estimators = np.array([10, 25, 50, 100, 250, 500])\n",
    "model = RandomForestClassifier()\n",
    "grid = GridSearchCV(estimator=model, param_grid=dict(n_estimators=estimators, max_depth=depth))"
   ]
  },
  {
   "cell_type": "code",
   "execution_count": 79,
   "metadata": {
    "collapsed": false
   },
   "outputs": [
    {
     "data": {
      "text/plain": [
       "GridSearchCV(cv=None, error_score='raise',\n",
       "       estimator=RandomForestClassifier(bootstrap=True, class_weight=None, criterion='gini',\n",
       "            max_depth=None, max_features='auto', max_leaf_nodes=None,\n",
       "            min_samples_leaf=1, min_samples_split=2,\n",
       "            min_weight_fraction_leaf=0.0, n_estimators=10, n_jobs=1,\n",
       "            oob_score=False, random_state=None, verbose=0,\n",
       "            warm_start=False),\n",
       "       fit_params={}, iid=True, n_jobs=1,\n",
       "       param_grid={'n_estimators': array([ 10,  25,  50, 100, 250, 500]), 'max_depth': array([ 8, 10, 12, 14])},\n",
       "       pre_dispatch='2*n_jobs', refit=True, scoring=None, verbose=0)"
      ]
     },
     "execution_count": 79,
     "metadata": {},
     "output_type": "execute_result"
    }
   ],
   "source": [
    "grid.fit(all_features, train_labels)"
   ]
  },
  {
   "cell_type": "code",
   "execution_count": 80,
   "metadata": {
    "collapsed": false
   },
   "outputs": [
    {
     "name": "stdout",
     "output_type": "stream",
     "text": [
      "Best score = 0.31277777777777777\n",
      "N_estimators: 500\n",
      "Max depth: 14\n"
     ]
    }
   ],
   "source": [
    "print(\"Best score = {}\".format(grid.best_score_))\n",
    "print(\"N_estimators: {}\".format(grid.best_estimator_.n_estimators))\n",
    "print(\"Max depth: {}\".format(grid.best_estimator_.max_depth))"
   ]
  },
  {
   "cell_type": "code",
   "execution_count": 81,
   "metadata": {
    "collapsed": false
   },
   "outputs": [
    {
     "name": "stdout",
     "output_type": "stream",
     "text": [
      "CPU times: user 3min 35s, sys: 538 ms, total: 3min 35s\n",
      "Wall time: 3min 35s\n"
     ]
    }
   ],
   "source": [
    "%%time\n",
    "rf = RandomForestClassifier(n_estimators=grid.best_estimator_.n_estimators, max_depth=grid.best_estimator_.max_depth)\n",
    "rf.fit(all_features, train_labels)"
   ]
  },
  {
   "cell_type": "code",
   "execution_count": 82,
   "metadata": {
    "collapsed": false
   },
   "outputs": [],
   "source": [
    "#Get Test Features\n",
    "all_red_features_t, all_green_features_t, all_blue_features_t, all_edge_features_t, all_corner_features_t, test_labels = get_complete_features(class_list, test, BOX)"
   ]
  },
  {
   "cell_type": "code",
   "execution_count": 83,
   "metadata": {
    "collapsed": false
   },
   "outputs": [],
   "source": [
    "if all_red_features_t.shape[1] > PCA_components:\n",
    "    final_red_t = red_pca.transform(all_red_features_t)\n",
    "else:\n",
    "    final_red_t = all_red_features_t\n",
    "\n",
    "if all_green_features_t.shape[1] > PCA_components:\n",
    "    final_green_t = green_pca.transform(all_green_features_t)\n",
    "else:\n",
    "    final_green_t = all_green_features_t\n",
    "    \n",
    "if all_blue_features_t.shape[1] > PCA_components:\n",
    "    final_blue_t = blue_pca.transform(all_blue_features_t)\n",
    "else:\n",
    "    final_blue_t = all_blue_features_t\n",
    "\n",
    "if all_edge_features_t.shape[1] > PCA_components:\n",
    "    final_edge_t = edge_pca.transform(all_edge_features_t)\n",
    "else:\n",
    "    final_edge_t = all_edge_features_t\n",
    "    \n",
    "if all_corner_features_t.shape[1] > PCA_components:\n",
    "    final_corner_t = corner_pca.transform(all_corner_features_t)\n",
    "else:\n",
    "    final_corner_t = all_corner_features_t"
   ]
  },
  {
   "cell_type": "code",
   "execution_count": 84,
   "metadata": {
    "collapsed": true
   },
   "outputs": [],
   "source": [
    "final_test_features_1 = np.concatenate((final_red_t, final_green_t, final_blue_t, final_edge_t, final_corner_t), axis=1)"
   ]
  },
  {
   "cell_type": "code",
   "execution_count": 85,
   "metadata": {
    "collapsed": false
   },
   "outputs": [],
   "source": [
    "#Get Test Features\n",
    "all_red_features_t, all_green_features_t, all_blue_features_t, all_edge_features_t, all_corner_features_t, test_labels = get_complete_features(class_list, test, 16)"
   ]
  },
  {
   "cell_type": "code",
   "execution_count": 86,
   "metadata": {
    "collapsed": false
   },
   "outputs": [],
   "source": [
    "if all_red_features_t.shape[1] > PCA_components:\n",
    "    final_red_t = red_pca.transform(all_red_features_t)\n",
    "else:\n",
    "    final_red_t = all_red_features_t\n",
    "\n",
    "if all_green_features_t.shape[1] > PCA_components:\n",
    "    final_green_t = green_pca.transform(all_green_features_t)\n",
    "else:\n",
    "    final_green_t = all_green_features_t\n",
    "    \n",
    "if all_blue_features_t.shape[1] > PCA_components:\n",
    "    final_blue_t = blue_pca.transform(all_blue_features_t)\n",
    "else:\n",
    "    final_blue_t = all_blue_features_t\n",
    "\n",
    "if all_edge_features_t.shape[1] > PCA_components:\n",
    "    final_edge_t = edge_pca.transform(all_edge_features_t)\n",
    "else:\n",
    "    final_edge_t = all_edge_features_t\n",
    "    \n",
    "if all_corner_features_t.shape[1] > PCA_components:\n",
    "    final_corner_t = corner_pca.transform(all_corner_features_t)\n",
    "else:\n",
    "    final_corner_t = all_corner_features_t"
   ]
  },
  {
   "cell_type": "code",
   "execution_count": 87,
   "metadata": {
    "collapsed": true
   },
   "outputs": [],
   "source": [
    "final_test_features_2 = np.concatenate((final_red_t, final_green_t, final_blue_t, final_edge_t, final_corner_t), axis=1)"
   ]
  },
  {
   "cell_type": "code",
   "execution_count": 88,
   "metadata": {
    "collapsed": true
   },
   "outputs": [],
   "source": [
    "final_test_features = np.concatenate([final_test_features_1, final_test_features_2], axis=1)"
   ]
  },
  {
   "cell_type": "code",
   "execution_count": 89,
   "metadata": {
    "collapsed": false
   },
   "outputs": [
    {
     "name": "stdout",
     "output_type": "stream",
     "text": [
      "CPU times: user 959 ms, sys: 124 ms, total: 1.08 s\n",
      "Wall time: 1.09 s\n"
     ]
    }
   ],
   "source": [
    "%%time\n",
    "predicted_labels = rf.predict(final_test_features)"
   ]
  },
  {
   "cell_type": "code",
   "execution_count": 90,
   "metadata": {
    "collapsed": false
   },
   "outputs": [
    {
     "name": "stdout",
     "output_type": "stream",
     "text": [
      "CPU times: user 854 ms, sys: 75.7 ms, total: 930 ms\n",
      "Wall time: 931 ms\n"
     ]
    }
   ],
   "source": [
    "%%time\n",
    "predicted_probabilities = rf.predict_proba(final_test_features)"
   ]
  },
  {
   "cell_type": "code",
   "execution_count": 91,
   "metadata": {
    "collapsed": false
   },
   "outputs": [],
   "source": [
    "overall, metrics, confusion = hc.get_metrics(test_labels, predicted_labels, class_list)"
   ]
  },
  {
   "cell_type": "code",
   "execution_count": 92,
   "metadata": {
    "collapsed": false
   },
   "outputs": [
    {
     "data": {
      "text/html": [
       "<div>\n",
       "<table border=\"1\" class=\"dataframe\">\n",
       "  <thead>\n",
       "    <tr style=\"text-align: right;\">\n",
       "      <th></th>\n",
       "      <th>Accuracy</th>\n",
       "      <th>F1</th>\n",
       "      <th>Precision</th>\n",
       "      <th>Recall</th>\n",
       "    </tr>\n",
       "  </thead>\n",
       "  <tbody>\n",
       "    <tr>\n",
       "      <th>Results</th>\n",
       "      <td>0.325</td>\n",
       "      <td>0.313</td>\n",
       "      <td>0.317</td>\n",
       "      <td>0.325</td>\n",
       "    </tr>\n",
       "  </tbody>\n",
       "</table>\n",
       "</div>"
      ],
      "text/plain": [
       "         Accuracy     F1  Precision  Recall\n",
       "Results     0.325  0.313      0.317   0.325"
      ]
     },
     "execution_count": 92,
     "metadata": {},
     "output_type": "execute_result"
    }
   ],
   "source": [
    "overall"
   ]
  },
  {
   "cell_type": "code",
   "execution_count": 93,
   "metadata": {
    "collapsed": false
   },
   "outputs": [
    {
     "data": {
      "text/html": [
       "<div>\n",
       "<table border=\"1\" class=\"dataframe\">\n",
       "  <thead>\n",
       "    <tr style=\"text-align: right;\">\n",
       "      <th></th>\n",
       "      <th>Precision</th>\n",
       "      <th>Recall</th>\n",
       "      <th>F1-Score</th>\n",
       "      <th>Support</th>\n",
       "    </tr>\n",
       "  </thead>\n",
       "  <tbody>\n",
       "    <tr>\n",
       "      <th>pork_chop</th>\n",
       "      <td>0.29</td>\n",
       "      <td>0.29</td>\n",
       "      <td>0.29</td>\n",
       "      <td>250.0</td>\n",
       "    </tr>\n",
       "    <tr>\n",
       "      <th>lasagna</th>\n",
       "      <td>0.31</td>\n",
       "      <td>0.22</td>\n",
       "      <td>0.25</td>\n",
       "      <td>250.0</td>\n",
       "    </tr>\n",
       "    <tr>\n",
       "      <th>french_toast</th>\n",
       "      <td>0.38</td>\n",
       "      <td>0.26</td>\n",
       "      <td>0.31</td>\n",
       "      <td>250.0</td>\n",
       "    </tr>\n",
       "    <tr>\n",
       "      <th>guacamole</th>\n",
       "      <td>0.37</td>\n",
       "      <td>0.43</td>\n",
       "      <td>0.40</td>\n",
       "      <td>250.0</td>\n",
       "    </tr>\n",
       "    <tr>\n",
       "      <th>apple_pie</th>\n",
       "      <td>0.18</td>\n",
       "      <td>0.15</td>\n",
       "      <td>0.16</td>\n",
       "      <td>250.0</td>\n",
       "    </tr>\n",
       "    <tr>\n",
       "      <th>cheesecake</th>\n",
       "      <td>0.34</td>\n",
       "      <td>0.49</td>\n",
       "      <td>0.40</td>\n",
       "      <td>250.0</td>\n",
       "    </tr>\n",
       "    <tr>\n",
       "      <th>hamburger</th>\n",
       "      <td>0.33</td>\n",
       "      <td>0.22</td>\n",
       "      <td>0.26</td>\n",
       "      <td>250.0</td>\n",
       "    </tr>\n",
       "    <tr>\n",
       "      <th>fried_rice</th>\n",
       "      <td>0.35</td>\n",
       "      <td>0.47</td>\n",
       "      <td>0.40</td>\n",
       "      <td>250.0</td>\n",
       "    </tr>\n",
       "    <tr>\n",
       "      <th>carrot_cake</th>\n",
       "      <td>0.25</td>\n",
       "      <td>0.12</td>\n",
       "      <td>0.16</td>\n",
       "      <td>250.0</td>\n",
       "    </tr>\n",
       "    <tr>\n",
       "      <th>chocolate_cake</th>\n",
       "      <td>0.38</td>\n",
       "      <td>0.48</td>\n",
       "      <td>0.42</td>\n",
       "      <td>250.0</td>\n",
       "    </tr>\n",
       "    <tr>\n",
       "      <th>steak</th>\n",
       "      <td>0.29</td>\n",
       "      <td>0.29</td>\n",
       "      <td>0.29</td>\n",
       "      <td>250.0</td>\n",
       "    </tr>\n",
       "    <tr>\n",
       "      <th>pizza</th>\n",
       "      <td>0.34</td>\n",
       "      <td>0.50</td>\n",
       "      <td>0.40</td>\n",
       "      <td>250.0</td>\n",
       "    </tr>\n",
       "  </tbody>\n",
       "</table>\n",
       "</div>"
      ],
      "text/plain": [
       "                Precision  Recall  F1-Score  Support\n",
       "pork_chop            0.29    0.29      0.29    250.0\n",
       "lasagna              0.31    0.22      0.25    250.0\n",
       "french_toast         0.38    0.26      0.31    250.0\n",
       "guacamole            0.37    0.43      0.40    250.0\n",
       "apple_pie            0.18    0.15      0.16    250.0\n",
       "cheesecake           0.34    0.49      0.40    250.0\n",
       "hamburger            0.33    0.22      0.26    250.0\n",
       "fried_rice           0.35    0.47      0.40    250.0\n",
       "carrot_cake          0.25    0.12      0.16    250.0\n",
       "chocolate_cake       0.38    0.48      0.42    250.0\n",
       "steak                0.29    0.29      0.29    250.0\n",
       "pizza                0.34    0.50      0.40    250.0"
      ]
     },
     "execution_count": 93,
     "metadata": {},
     "output_type": "execute_result"
    }
   ],
   "source": [
    "metrics"
   ]
  },
  {
   "cell_type": "code",
   "execution_count": 94,
   "metadata": {
    "collapsed": false
   },
   "outputs": [
    {
     "data": {
      "text/html": [
       "<div>\n",
       "<table border=\"1\" class=\"dataframe\">\n",
       "  <thead>\n",
       "    <tr style=\"text-align: right;\">\n",
       "      <th></th>\n",
       "      <th>pork_chop</th>\n",
       "      <th>lasagna</th>\n",
       "      <th>french_toast</th>\n",
       "      <th>guacamole</th>\n",
       "      <th>apple_pie</th>\n",
       "      <th>cheesecake</th>\n",
       "      <th>hamburger</th>\n",
       "      <th>fried_rice</th>\n",
       "      <th>carrot_cake</th>\n",
       "      <th>chocolate_cake</th>\n",
       "      <th>steak</th>\n",
       "      <th>pizza</th>\n",
       "    </tr>\n",
       "  </thead>\n",
       "  <tbody>\n",
       "    <tr>\n",
       "      <th>pork_chop</th>\n",
       "      <td>73</td>\n",
       "      <td>11</td>\n",
       "      <td>18</td>\n",
       "      <td>11</td>\n",
       "      <td>12</td>\n",
       "      <td>5</td>\n",
       "      <td>7</td>\n",
       "      <td>12</td>\n",
       "      <td>7</td>\n",
       "      <td>23</td>\n",
       "      <td>57</td>\n",
       "      <td>14</td>\n",
       "    </tr>\n",
       "    <tr>\n",
       "      <th>lasagna</th>\n",
       "      <td>18</td>\n",
       "      <td>54</td>\n",
       "      <td>14</td>\n",
       "      <td>17</td>\n",
       "      <td>18</td>\n",
       "      <td>19</td>\n",
       "      <td>12</td>\n",
       "      <td>39</td>\n",
       "      <td>11</td>\n",
       "      <td>4</td>\n",
       "      <td>7</td>\n",
       "      <td>37</td>\n",
       "    </tr>\n",
       "    <tr>\n",
       "      <th>french_toast</th>\n",
       "      <td>24</td>\n",
       "      <td>23</td>\n",
       "      <td>66</td>\n",
       "      <td>14</td>\n",
       "      <td>11</td>\n",
       "      <td>11</td>\n",
       "      <td>6</td>\n",
       "      <td>25</td>\n",
       "      <td>10</td>\n",
       "      <td>15</td>\n",
       "      <td>11</td>\n",
       "      <td>34</td>\n",
       "    </tr>\n",
       "    <tr>\n",
       "      <th>guacamole</th>\n",
       "      <td>8</td>\n",
       "      <td>4</td>\n",
       "      <td>6</td>\n",
       "      <td>107</td>\n",
       "      <td>17</td>\n",
       "      <td>7</td>\n",
       "      <td>18</td>\n",
       "      <td>31</td>\n",
       "      <td>7</td>\n",
       "      <td>12</td>\n",
       "      <td>15</td>\n",
       "      <td>18</td>\n",
       "    </tr>\n",
       "    <tr>\n",
       "      <th>apple_pie</th>\n",
       "      <td>9</td>\n",
       "      <td>19</td>\n",
       "      <td>11</td>\n",
       "      <td>25</td>\n",
       "      <td>37</td>\n",
       "      <td>55</td>\n",
       "      <td>16</td>\n",
       "      <td>26</td>\n",
       "      <td>13</td>\n",
       "      <td>12</td>\n",
       "      <td>9</td>\n",
       "      <td>18</td>\n",
       "    </tr>\n",
       "    <tr>\n",
       "      <th>cheesecake</th>\n",
       "      <td>6</td>\n",
       "      <td>3</td>\n",
       "      <td>7</td>\n",
       "      <td>11</td>\n",
       "      <td>22</td>\n",
       "      <td>122</td>\n",
       "      <td>11</td>\n",
       "      <td>5</td>\n",
       "      <td>8</td>\n",
       "      <td>44</td>\n",
       "      <td>5</td>\n",
       "      <td>6</td>\n",
       "    </tr>\n",
       "    <tr>\n",
       "      <th>hamburger</th>\n",
       "      <td>15</td>\n",
       "      <td>15</td>\n",
       "      <td>4</td>\n",
       "      <td>26</td>\n",
       "      <td>28</td>\n",
       "      <td>24</td>\n",
       "      <td>54</td>\n",
       "      <td>18</td>\n",
       "      <td>5</td>\n",
       "      <td>21</td>\n",
       "      <td>13</td>\n",
       "      <td>27</td>\n",
       "    </tr>\n",
       "    <tr>\n",
       "      <th>fried_rice</th>\n",
       "      <td>9</td>\n",
       "      <td>9</td>\n",
       "      <td>5</td>\n",
       "      <td>29</td>\n",
       "      <td>16</td>\n",
       "      <td>10</td>\n",
       "      <td>9</td>\n",
       "      <td>118</td>\n",
       "      <td>4</td>\n",
       "      <td>1</td>\n",
       "      <td>2</td>\n",
       "      <td>38</td>\n",
       "    </tr>\n",
       "    <tr>\n",
       "      <th>carrot_cake</th>\n",
       "      <td>24</td>\n",
       "      <td>7</td>\n",
       "      <td>19</td>\n",
       "      <td>11</td>\n",
       "      <td>21</td>\n",
       "      <td>55</td>\n",
       "      <td>6</td>\n",
       "      <td>16</td>\n",
       "      <td>29</td>\n",
       "      <td>26</td>\n",
       "      <td>19</td>\n",
       "      <td>17</td>\n",
       "    </tr>\n",
       "    <tr>\n",
       "      <th>chocolate_cake</th>\n",
       "      <td>12</td>\n",
       "      <td>3</td>\n",
       "      <td>10</td>\n",
       "      <td>8</td>\n",
       "      <td>3</td>\n",
       "      <td>30</td>\n",
       "      <td>6</td>\n",
       "      <td>3</td>\n",
       "      <td>15</td>\n",
       "      <td>120</td>\n",
       "      <td>27</td>\n",
       "      <td>13</td>\n",
       "    </tr>\n",
       "    <tr>\n",
       "      <th>steak</th>\n",
       "      <td>39</td>\n",
       "      <td>12</td>\n",
       "      <td>10</td>\n",
       "      <td>14</td>\n",
       "      <td>5</td>\n",
       "      <td>18</td>\n",
       "      <td>8</td>\n",
       "      <td>5</td>\n",
       "      <td>9</td>\n",
       "      <td>40</td>\n",
       "      <td>72</td>\n",
       "      <td>18</td>\n",
       "    </tr>\n",
       "    <tr>\n",
       "      <th>pizza</th>\n",
       "      <td>14</td>\n",
       "      <td>16</td>\n",
       "      <td>3</td>\n",
       "      <td>15</td>\n",
       "      <td>13</td>\n",
       "      <td>6</td>\n",
       "      <td>10</td>\n",
       "      <td>41</td>\n",
       "      <td>0</td>\n",
       "      <td>0</td>\n",
       "      <td>8</td>\n",
       "      <td>124</td>\n",
       "    </tr>\n",
       "  </tbody>\n",
       "</table>\n",
       "</div>"
      ],
      "text/plain": [
       "                pork_chop  lasagna  french_toast  guacamole  apple_pie  \\\n",
       "pork_chop              73       11            18         11         12   \n",
       "lasagna                18       54            14         17         18   \n",
       "french_toast           24       23            66         14         11   \n",
       "guacamole               8        4             6        107         17   \n",
       "apple_pie               9       19            11         25         37   \n",
       "cheesecake              6        3             7         11         22   \n",
       "hamburger              15       15             4         26         28   \n",
       "fried_rice              9        9             5         29         16   \n",
       "carrot_cake            24        7            19         11         21   \n",
       "chocolate_cake         12        3            10          8          3   \n",
       "steak                  39       12            10         14          5   \n",
       "pizza                  14       16             3         15         13   \n",
       "\n",
       "                cheesecake  hamburger  fried_rice  carrot_cake  \\\n",
       "pork_chop                5          7          12            7   \n",
       "lasagna                 19         12          39           11   \n",
       "french_toast            11          6          25           10   \n",
       "guacamole                7         18          31            7   \n",
       "apple_pie               55         16          26           13   \n",
       "cheesecake             122         11           5            8   \n",
       "hamburger               24         54          18            5   \n",
       "fried_rice              10          9         118            4   \n",
       "carrot_cake             55          6          16           29   \n",
       "chocolate_cake          30          6           3           15   \n",
       "steak                   18          8           5            9   \n",
       "pizza                    6         10          41            0   \n",
       "\n",
       "                chocolate_cake  steak  pizza  \n",
       "pork_chop                   23     57     14  \n",
       "lasagna                      4      7     37  \n",
       "french_toast                15     11     34  \n",
       "guacamole                   12     15     18  \n",
       "apple_pie                   12      9     18  \n",
       "cheesecake                  44      5      6  \n",
       "hamburger                   21     13     27  \n",
       "fried_rice                   1      2     38  \n",
       "carrot_cake                 26     19     17  \n",
       "chocolate_cake             120     27     13  \n",
       "steak                       40     72     18  \n",
       "pizza                        0      8    124  "
      ]
     },
     "execution_count": 94,
     "metadata": {},
     "output_type": "execute_result"
    }
   ],
   "source": [
    "confusion"
   ]
  },
  {
   "cell_type": "markdown",
   "metadata": {
    "collapsed": true
   },
   "source": [
    "plt.style.use('ggplot')"
   ]
  },
  {
   "cell_type": "markdown",
   "metadata": {
    "collapsed": false
   },
   "source": [
    "fig, ax = plt.subplots(figsize=(20,5))\n",
    "\n",
    "num_red = final_red_features.shape[1]\n",
    "num_green = final_green_features.shape[1]\n",
    "num_blue = final_blue_features.shape[1]\n",
    "num_edges = final_edge_features.shape[1]\n",
    "num_corners = final_corner_features.shape[1]\n",
    "x = [num_red, num_red + num_green, num_red + num_green + num_blue, num_red + num_green + num_blue + num_edges, num_red + num_green + num_blue + num_edges + num_corners]\n",
    "ax.bar([i for i in range(x[0])], rf.feature_importances_[:x[0]], color='red', label='Red Features')\n",
    "ax.bar([i for i in range(x[0], x[1])], rf.feature_importances_[x[0]:x[1]], color='green', label='Green Features')\n",
    "ax.bar([i for i in range(x[1], x[2])], rf.feature_importances_[x[1]:x[2]], color='blue', label='Blue Features')\n",
    "ax.bar([i for i in range(x[2], x[3])], rf.feature_importances_[x[2]:x[3]], color='brown', label='Edge Features')\n",
    "ax.bar([i for i in range(x[3], x[4])], rf.feature_importances_[x[3]:x[4]], color='grey', label='Corner Features')\n",
    "ax.set_title(\"Feature Importance\")\n",
    "ax.set_xlim(0,x[4])\n",
    "ax.legend()\n",
    "plt.show()"
   ]
  },
  {
   "cell_type": "code",
   "execution_count": null,
   "metadata": {
    "collapsed": true
   },
   "outputs": [],
   "source": []
  }
 ],
 "metadata": {
  "kernelspec": {
   "display_name": "Python 3",
   "language": "python",
   "name": "python3"
  },
  "language_info": {
   "codemirror_mode": {
    "name": "ipython",
    "version": 3
   },
   "file_extension": ".py",
   "mimetype": "text/x-python",
   "name": "python",
   "nbconvert_exporter": "python",
   "pygments_lexer": "ipython3",
   "version": "3.5.1"
  }
 },
 "nbformat": 4,
 "nbformat_minor": 0
}
