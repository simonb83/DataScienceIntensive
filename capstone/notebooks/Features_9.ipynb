{
 "cells": [
  {
   "cell_type": "code",
   "execution_count": 1,
   "metadata": {
    "collapsed": false
   },
   "outputs": [],
   "source": [
    "%matplotlib inline\n",
    "import matplotlib.pyplot as plt\n",
    "import pandas as pd\n",
    "import numpy as np\n",
    "import skimage.io as io\n",
    "from skimage import feature\n",
    "from skimage.transform import resize\n",
    "from sklearn.feature_selection import VarianceThreshold\n",
    "from skimage.color import rgb2gray\n",
    "from sklearn.decomposition import PCA\n",
    "from sklearn.grid_search import GridSearchCV\n",
    "from sklearn.ensemble import RandomForestClassifier\n",
    "from sklearn.naive_bayes import GaussianNB\n",
    "from sklearn.svm import SVC\n",
    "from skimage.feature import corner_fast, corner_peaks, corner_harris\n",
    "from skimage.segmentation import slic\n",
    "from skimage.color import rgb2lab\n",
    "from skimage.util import img_as_float\n",
    "import sys\n",
    "import os\n",
    "sys.path.append('../')\n",
    "import helpers.histogram_classifier as hc"
   ]
  },
  {
   "cell_type": "code",
   "execution_count": 2,
   "metadata": {
    "collapsed": false
   },
   "outputs": [],
   "source": [
    "BINS = [i-1 for i in range(1, 250, 8)] + [255]"
   ]
  },
  {
   "cell_type": "code",
   "execution_count": 3,
   "metadata": {
    "collapsed": true
   },
   "outputs": [],
   "source": [
    "def image_features(img, segments):\n",
    "    \"\"\"\n",
    "    Find segments in an image and calculate RGB-based features for each segment.\n",
    "    Specific features calculated are:\n",
    "    Max, Min, Mean and Range of RGB values\n",
    "    Normed histograms of RGB values for predfined bins\n",
    "    :params img: image as numpy array\n",
    "    :params segments: target number of segments\n",
    "    :return: numpy array of features of shape (# segments, # features)\n",
    "    \"\"\"\n",
    "    features = []\n",
    "    segments = slic(img_as_float(img), n_segments=segments, convert2lab=True)\n",
    "    for s in np.unique(segments):\n",
    "        f = []\n",
    "        indices = np.where(segments == s)\n",
    "        f.append(np.mean(img[indices][:, 0]))\n",
    "        f.append(np.mean(img[indices][:, 1]))\n",
    "        f.append(np.mean(img[indices][:, 2]))\n",
    "        f.append(np.max(img[indices][:, 0]))\n",
    "        f.append(np.max(img[indices][:, 1]))\n",
    "        f.append(np.max(img[indices][:, 2]))\n",
    "        f.append(np.min(img[indices][:, 0]))\n",
    "        f.append(np.min(img[indices][:, 1]))\n",
    "        f.append(np.min(img[indices][:, 2]))\n",
    "        f.append(np.ptp(img[indices][:, 0]))\n",
    "        f.append(np.ptp(img[indices][:, 1]))\n",
    "        f.append(np.ptp(img[indices][:, 2]))\n",
    "        hist_red = np.histogram(img[s][:, 0], bins=BINS, density=True)[0]\n",
    "        hist_green = np.histogram(img[s][:, 1], bins=BINS, density=True)[0]\n",
    "        hist_blue = np.histogram(img[s][:, 2], bins=BINS, density=True)[0]\n",
    "        features.append(np.concatenate([np.array(f), hist_red, hist_green, hist_blue]))\n",
    "    return np.array(features)"
   ]
  },
  {
   "cell_type": "code",
   "execution_count": 4,
   "metadata": {
    "collapsed": true
   },
   "outputs": [],
   "source": [
    "def get_complete_features(image_classes, image_names):\n",
    "    \"\"\"\n",
    "    Get segment-based labels and features for a dictionary of image names\n",
    "    :params image_classes: list of n image classes\n",
    "    :params image_names: dictionary of m image names for each class\n",
    "    :return: features: numpy array of features with one row for each segment of each image\n",
    "    :return: labels: numpy array of the image class for each segment of of each image\n",
    "    \"\"\"\n",
    "    features = []\n",
    "    labels = []\n",
    "    for c in image_classes:\n",
    "        for i in image_names[c]:\n",
    "            img = io.imread(os.path.join(\"../data/food-101/top_classes/\", c, \"\", i))\n",
    "            image_feats = image_features(img, 100)\n",
    "            for f in image_feats:\n",
    "                labels.append(c)\n",
    "                features.append(f)\n",
    "    \n",
    "    return np.array(features), np.array(labels)"
   ]
  },
  {
   "cell_type": "code",
   "execution_count": 5,
   "metadata": {
    "collapsed": false
   },
   "outputs": [
    {
     "data": {
      "text/html": [
       "<style>body {\n",
       "    margin: 0;\n",
       "    font-family: Helvetica;\n",
       "}\n",
       "table.dataframe {\n",
       "    border-collapse: collapse;\n",
       "    border: none;\n",
       "    font-size: 12px;\n",
       "}\n",
       "table.dataframe tr {\n",
       "    border: none;\n",
       "    line-height: 14px;\n",
       "}\n",
       "table.dataframe td, table.dataframe th {\n",
       "    margin: 0;\n",
       "    border: 1px solid white;\n",
       "    padding-left: 0.7em;\n",
       "    padding-right: 0.7em;\n",
       "}\n",
       "table.dataframe th {\n",
       "    background-color: #1c9099;\n",
       "    text-align: center;\n",
       "    font-weight: normal;\n",
       "    color: white;\n",
       "}\n",
       "table.dataframe td {\n",
       "    border: 1px solid #ccf;\n",
       "    background-color: #f4f4ff;\n",
       "    text-align: center;\n",
       "}\n",
       "</style>"
      ],
      "text/plain": [
       "<IPython.core.display.HTML object>"
      ]
     },
     "execution_count": 5,
     "metadata": {},
     "output_type": "execute_result"
    }
   ],
   "source": [
    "from IPython.core.display import HTML\n",
    "css = open('styles/table-style.css').read() #+ open('style-notebook.css').read()\n",
    "HTML('<style>{}</style>'.format(css))"
   ]
  },
  {
   "cell_type": "code",
   "execution_count": 6,
   "metadata": {
    "collapsed": false
   },
   "outputs": [],
   "source": [
    "classes = pd.read_csv('../data/food-101/meta/top_classes.csv', index_col=0)\n",
    "class_list = list(classes['class'].unique())\n",
    "\n",
    "image_names = {}\n",
    "for c in class_list:\n",
    "    image_names[c] = np.array(classes[classes['class'] == c]['name'])"
   ]
  },
  {
   "cell_type": "code",
   "execution_count": 7,
   "metadata": {
    "collapsed": true
   },
   "outputs": [],
   "source": [
    "train, test = hc.split_data(image_names, 0.75)"
   ]
  },
  {
   "cell_type": "code",
   "execution_count": 8,
   "metadata": {
    "collapsed": true
   },
   "outputs": [],
   "source": [
    "#for c in class_list:\n",
    "#    train[c] = train[c][:30]\n",
    "#    test[c] = test[c][:5]"
   ]
  },
  {
   "cell_type": "code",
   "execution_count": 9,
   "metadata": {
    "collapsed": false
   },
   "outputs": [],
   "source": [
    "#Get complete histogram features, edge and corners\n",
    "train_features, train_labels = get_complete_features(class_list, train)"
   ]
  },
  {
   "cell_type": "markdown",
   "metadata": {},
   "source": [
    "#### Train Random Forest"
   ]
  },
  {
   "cell_type": "code",
   "execution_count": 10,
   "metadata": {
    "collapsed": false
   },
   "outputs": [
    {
     "data": {
      "text/plain": [
       "GridSearchCV(cv=None, error_score='raise',\n",
       "       estimator=RandomForestClassifier(bootstrap=True, class_weight=None, criterion='gini',\n",
       "            max_depth=None, max_features='auto', max_leaf_nodes=None,\n",
       "            min_samples_leaf=1, min_samples_split=2,\n",
       "            min_weight_fraction_leaf=0.0, n_estimators=10, n_jobs=1,\n",
       "            oob_score=False, random_state=None, verbose=0,\n",
       "            warm_start=False),\n",
       "       fit_params={}, iid=True, n_jobs=1,\n",
       "       param_grid={'n_estimators': array([ 10,  20,  50, 100, 200]), 'max_depth': array([ 8, 10, 12, 14])},\n",
       "       pre_dispatch='2*n_jobs', refit=True, scoring=None, verbose=0)"
      ]
     },
     "execution_count": 10,
     "metadata": {},
     "output_type": "execute_result"
    }
   ],
   "source": [
    "#Setup grid-search for top parameters\n",
    "depth = np.array([8, 10, 12, 14])\n",
    "estimators = np.array([10, 20, 50, 100, 200])\n",
    "model = RandomForestClassifier()\n",
    "grid = GridSearchCV(estimator=model, param_grid=dict(n_estimators=estimators, max_depth=depth))\n",
    "grid.fit(train_features, train_labels)"
   ]
  },
  {
   "cell_type": "code",
   "execution_count": 11,
   "metadata": {
    "collapsed": false
   },
   "outputs": [
    {
     "name": "stdout",
     "output_type": "stream",
     "text": [
      "Best score = 0.1687375465666438\n",
      "Params: {'n_estimators': 200, 'max_depth': 14}\n"
     ]
    }
   ],
   "source": [
    "print(\"Best score = {}\".format(grid.best_score_))\n",
    "print(\"Params: {}\".format(grid.best_params_))"
   ]
  },
  {
   "cell_type": "code",
   "execution_count": 12,
   "metadata": {
    "collapsed": false
   },
   "outputs": [
    {
     "name": "stdout",
     "output_type": "stream",
     "text": [
      "CPU times: user 11min 22s, sys: 4.49 s, total: 11min 26s\n",
      "Wall time: 11min 27s\n"
     ]
    }
   ],
   "source": [
    "%%time\n",
    "rf = grid.best_estimator_\n",
    "rf.fit(train_features, train_labels)"
   ]
  },
  {
   "cell_type": "markdown",
   "metadata": {},
   "source": [
    "##### Get test features"
   ]
  },
  {
   "cell_type": "code",
   "execution_count": 13,
   "metadata": {
    "collapsed": false
   },
   "outputs": [],
   "source": [
    "test_list = []\n",
    "for c in class_list:\n",
    "    for i in test[c]:\n",
    "        test_image = {}\n",
    "        img = io.imread(os.path.join(\"../data/food-101/top_classes/\", c, \"\", i))\n",
    "        test_image[\"class\"] = c\n",
    "        test_image[\"name\"] = i\n",
    "        test_image[\"features\"] = image_features(img, 100)\n",
    "        test_list.append(test_image)"
   ]
  },
  {
   "cell_type": "code",
   "execution_count": 14,
   "metadata": {
    "collapsed": true
   },
   "outputs": [],
   "source": [
    "def predict_image(img_segments, model):\n",
    "    \"\"\"\n",
    "    Predict the class for an image using the segments identified in the image.\n",
    "    Uses the given classifier to predict the class probabilities for each segment in the image,\n",
    "    and then returns the class that corresponds to the highest average probability\n",
    "    \n",
    "    :params img_segments: numpy array of calculated features for each segment in the image\n",
    "    :params model: classifier to use\n",
    "    :return: predicted class name\n",
    "    \"\"\"\n",
    "    predictions = []\n",
    "    for seg in img_segments:\n",
    "        predictions.append(model.predict_proba(seg.reshape(1,-1)))\n",
    "    avg = np.mean(np.array(predictions), axis=0)\n",
    "    return model.classes_[np.argmax(avg)]"
   ]
  },
  {
   "cell_type": "markdown",
   "metadata": {},
   "source": [
    "#### Test Random Forest"
   ]
  },
  {
   "cell_type": "code",
   "execution_count": 15,
   "metadata": {
    "collapsed": false
   },
   "outputs": [],
   "source": [
    "actual_labels = []\n",
    "predicted_labels = []\n",
    "for t in test_list:\n",
    "    actual_labels.append(t[\"class\"])\n",
    "    predicted_labels.append(predict_image(t[\"features\"], rf))"
   ]
  },
  {
   "cell_type": "code",
   "execution_count": 16,
   "metadata": {
    "collapsed": false
   },
   "outputs": [],
   "source": [
    "overall, metrics, confusion = hc.get_metrics(actual_labels, predicted_labels, class_list)"
   ]
  },
  {
   "cell_type": "code",
   "execution_count": 17,
   "metadata": {
    "collapsed": false
   },
   "outputs": [
    {
     "data": {
      "text/html": [
       "<div>\n",
       "<table border=\"1\" class=\"dataframe\">\n",
       "  <thead>\n",
       "    <tr style=\"text-align: right;\">\n",
       "      <th></th>\n",
       "      <th>Accuracy</th>\n",
       "      <th>F1</th>\n",
       "      <th>Precision</th>\n",
       "      <th>Recall</th>\n",
       "    </tr>\n",
       "  </thead>\n",
       "  <tbody>\n",
       "    <tr>\n",
       "      <th>Results</th>\n",
       "      <td>0.221</td>\n",
       "      <td>0.211</td>\n",
       "      <td>0.23</td>\n",
       "      <td>0.221</td>\n",
       "    </tr>\n",
       "  </tbody>\n",
       "</table>\n",
       "</div>"
      ],
      "text/plain": [
       "         Accuracy     F1  Precision  Recall\n",
       "Results     0.221  0.211       0.23   0.221"
      ]
     },
     "execution_count": 17,
     "metadata": {},
     "output_type": "execute_result"
    }
   ],
   "source": [
    "overall"
   ]
  },
  {
   "cell_type": "code",
   "execution_count": 18,
   "metadata": {
    "collapsed": false
   },
   "outputs": [
    {
     "data": {
      "text/html": [
       "<div>\n",
       "<table border=\"1\" class=\"dataframe\">\n",
       "  <thead>\n",
       "    <tr style=\"text-align: right;\">\n",
       "      <th></th>\n",
       "      <th>Precision</th>\n",
       "      <th>Recall</th>\n",
       "      <th>F1-Score</th>\n",
       "      <th>Support</th>\n",
       "    </tr>\n",
       "  </thead>\n",
       "  <tbody>\n",
       "    <tr>\n",
       "      <th>pork_chop</th>\n",
       "      <td>0.31</td>\n",
       "      <td>0.17</td>\n",
       "      <td>0.22</td>\n",
       "      <td>250.0</td>\n",
       "    </tr>\n",
       "    <tr>\n",
       "      <th>lasagna</th>\n",
       "      <td>0.27</td>\n",
       "      <td>0.14</td>\n",
       "      <td>0.18</td>\n",
       "      <td>250.0</td>\n",
       "    </tr>\n",
       "    <tr>\n",
       "      <th>french_toast</th>\n",
       "      <td>0.20</td>\n",
       "      <td>0.26</td>\n",
       "      <td>0.23</td>\n",
       "      <td>250.0</td>\n",
       "    </tr>\n",
       "    <tr>\n",
       "      <th>guacamole</th>\n",
       "      <td>0.21</td>\n",
       "      <td>0.40</td>\n",
       "      <td>0.28</td>\n",
       "      <td>250.0</td>\n",
       "    </tr>\n",
       "    <tr>\n",
       "      <th>apple_pie</th>\n",
       "      <td>0.25</td>\n",
       "      <td>0.16</td>\n",
       "      <td>0.20</td>\n",
       "      <td>250.0</td>\n",
       "    </tr>\n",
       "    <tr>\n",
       "      <th>cheesecake</th>\n",
       "      <td>0.20</td>\n",
       "      <td>0.37</td>\n",
       "      <td>0.26</td>\n",
       "      <td>250.0</td>\n",
       "    </tr>\n",
       "    <tr>\n",
       "      <th>hamburger</th>\n",
       "      <td>0.14</td>\n",
       "      <td>0.15</td>\n",
       "      <td>0.15</td>\n",
       "      <td>250.0</td>\n",
       "    </tr>\n",
       "    <tr>\n",
       "      <th>fried_rice</th>\n",
       "      <td>0.35</td>\n",
       "      <td>0.19</td>\n",
       "      <td>0.24</td>\n",
       "      <td>250.0</td>\n",
       "    </tr>\n",
       "    <tr>\n",
       "      <th>carrot_cake</th>\n",
       "      <td>0.13</td>\n",
       "      <td>0.05</td>\n",
       "      <td>0.07</td>\n",
       "      <td>250.0</td>\n",
       "    </tr>\n",
       "    <tr>\n",
       "      <th>chocolate_cake</th>\n",
       "      <td>0.23</td>\n",
       "      <td>0.29</td>\n",
       "      <td>0.25</td>\n",
       "      <td>250.0</td>\n",
       "    </tr>\n",
       "    <tr>\n",
       "      <th>steak</th>\n",
       "      <td>0.24</td>\n",
       "      <td>0.13</td>\n",
       "      <td>0.17</td>\n",
       "      <td>250.0</td>\n",
       "    </tr>\n",
       "    <tr>\n",
       "      <th>pizza</th>\n",
       "      <td>0.24</td>\n",
       "      <td>0.34</td>\n",
       "      <td>0.28</td>\n",
       "      <td>250.0</td>\n",
       "    </tr>\n",
       "  </tbody>\n",
       "</table>\n",
       "</div>"
      ],
      "text/plain": [
       "                Precision  Recall  F1-Score  Support\n",
       "pork_chop            0.31    0.17      0.22    250.0\n",
       "lasagna              0.27    0.14      0.18    250.0\n",
       "french_toast         0.20    0.26      0.23    250.0\n",
       "guacamole            0.21    0.40      0.28    250.0\n",
       "apple_pie            0.25    0.16      0.20    250.0\n",
       "cheesecake           0.20    0.37      0.26    250.0\n",
       "hamburger            0.14    0.15      0.15    250.0\n",
       "fried_rice           0.35    0.19      0.24    250.0\n",
       "carrot_cake          0.13    0.05      0.07    250.0\n",
       "chocolate_cake       0.23    0.29      0.25    250.0\n",
       "steak                0.24    0.13      0.17    250.0\n",
       "pizza                0.24    0.34      0.28    250.0"
      ]
     },
     "execution_count": 18,
     "metadata": {},
     "output_type": "execute_result"
    }
   ],
   "source": [
    "metrics"
   ]
  },
  {
   "cell_type": "code",
   "execution_count": 19,
   "metadata": {
    "collapsed": false
   },
   "outputs": [
    {
     "data": {
      "text/html": [
       "<div>\n",
       "<table border=\"1\" class=\"dataframe\">\n",
       "  <thead>\n",
       "    <tr style=\"text-align: right;\">\n",
       "      <th></th>\n",
       "      <th>pork_chop</th>\n",
       "      <th>lasagna</th>\n",
       "      <th>french_toast</th>\n",
       "      <th>guacamole</th>\n",
       "      <th>apple_pie</th>\n",
       "      <th>cheesecake</th>\n",
       "      <th>hamburger</th>\n",
       "      <th>fried_rice</th>\n",
       "      <th>carrot_cake</th>\n",
       "      <th>chocolate_cake</th>\n",
       "      <th>steak</th>\n",
       "      <th>pizza</th>\n",
       "    </tr>\n",
       "  </thead>\n",
       "  <tbody>\n",
       "    <tr>\n",
       "      <th>pork_chop</th>\n",
       "      <td>43</td>\n",
       "      <td>8</td>\n",
       "      <td>24</td>\n",
       "      <td>26</td>\n",
       "      <td>11</td>\n",
       "      <td>41</td>\n",
       "      <td>10</td>\n",
       "      <td>8</td>\n",
       "      <td>10</td>\n",
       "      <td>23</td>\n",
       "      <td>24</td>\n",
       "      <td>22</td>\n",
       "    </tr>\n",
       "    <tr>\n",
       "      <th>lasagna</th>\n",
       "      <td>16</td>\n",
       "      <td>35</td>\n",
       "      <td>33</td>\n",
       "      <td>31</td>\n",
       "      <td>11</td>\n",
       "      <td>30</td>\n",
       "      <td>17</td>\n",
       "      <td>11</td>\n",
       "      <td>9</td>\n",
       "      <td>19</td>\n",
       "      <td>4</td>\n",
       "      <td>34</td>\n",
       "    </tr>\n",
       "    <tr>\n",
       "      <th>french_toast</th>\n",
       "      <td>9</td>\n",
       "      <td>11</td>\n",
       "      <td>65</td>\n",
       "      <td>26</td>\n",
       "      <td>14</td>\n",
       "      <td>28</td>\n",
       "      <td>25</td>\n",
       "      <td>8</td>\n",
       "      <td>7</td>\n",
       "      <td>23</td>\n",
       "      <td>10</td>\n",
       "      <td>24</td>\n",
       "    </tr>\n",
       "    <tr>\n",
       "      <th>guacamole</th>\n",
       "      <td>5</td>\n",
       "      <td>4</td>\n",
       "      <td>19</td>\n",
       "      <td>101</td>\n",
       "      <td>8</td>\n",
       "      <td>19</td>\n",
       "      <td>23</td>\n",
       "      <td>15</td>\n",
       "      <td>1</td>\n",
       "      <td>17</td>\n",
       "      <td>8</td>\n",
       "      <td>30</td>\n",
       "    </tr>\n",
       "    <tr>\n",
       "      <th>apple_pie</th>\n",
       "      <td>8</td>\n",
       "      <td>16</td>\n",
       "      <td>16</td>\n",
       "      <td>27</td>\n",
       "      <td>41</td>\n",
       "      <td>47</td>\n",
       "      <td>31</td>\n",
       "      <td>5</td>\n",
       "      <td>10</td>\n",
       "      <td>21</td>\n",
       "      <td>5</td>\n",
       "      <td>23</td>\n",
       "    </tr>\n",
       "    <tr>\n",
       "      <th>cheesecake</th>\n",
       "      <td>3</td>\n",
       "      <td>11</td>\n",
       "      <td>18</td>\n",
       "      <td>21</td>\n",
       "      <td>13</td>\n",
       "      <td>92</td>\n",
       "      <td>16</td>\n",
       "      <td>1</td>\n",
       "      <td>19</td>\n",
       "      <td>41</td>\n",
       "      <td>7</td>\n",
       "      <td>8</td>\n",
       "    </tr>\n",
       "    <tr>\n",
       "      <th>hamburger</th>\n",
       "      <td>3</td>\n",
       "      <td>8</td>\n",
       "      <td>28</td>\n",
       "      <td>55</td>\n",
       "      <td>8</td>\n",
       "      <td>29</td>\n",
       "      <td>38</td>\n",
       "      <td>10</td>\n",
       "      <td>6</td>\n",
       "      <td>13</td>\n",
       "      <td>9</td>\n",
       "      <td>43</td>\n",
       "    </tr>\n",
       "    <tr>\n",
       "      <th>fried_rice</th>\n",
       "      <td>6</td>\n",
       "      <td>9</td>\n",
       "      <td>22</td>\n",
       "      <td>45</td>\n",
       "      <td>15</td>\n",
       "      <td>19</td>\n",
       "      <td>32</td>\n",
       "      <td>47</td>\n",
       "      <td>9</td>\n",
       "      <td>15</td>\n",
       "      <td>6</td>\n",
       "      <td>25</td>\n",
       "    </tr>\n",
       "    <tr>\n",
       "      <th>carrot_cake</th>\n",
       "      <td>11</td>\n",
       "      <td>5</td>\n",
       "      <td>25</td>\n",
       "      <td>31</td>\n",
       "      <td>23</td>\n",
       "      <td>64</td>\n",
       "      <td>18</td>\n",
       "      <td>8</td>\n",
       "      <td>13</td>\n",
       "      <td>28</td>\n",
       "      <td>6</td>\n",
       "      <td>18</td>\n",
       "    </tr>\n",
       "    <tr>\n",
       "      <th>chocolate_cake</th>\n",
       "      <td>10</td>\n",
       "      <td>5</td>\n",
       "      <td>19</td>\n",
       "      <td>29</td>\n",
       "      <td>9</td>\n",
       "      <td>43</td>\n",
       "      <td>23</td>\n",
       "      <td>2</td>\n",
       "      <td>9</td>\n",
       "      <td>72</td>\n",
       "      <td>15</td>\n",
       "      <td>14</td>\n",
       "    </tr>\n",
       "    <tr>\n",
       "      <th>steak</th>\n",
       "      <td>19</td>\n",
       "      <td>6</td>\n",
       "      <td>32</td>\n",
       "      <td>38</td>\n",
       "      <td>8</td>\n",
       "      <td>27</td>\n",
       "      <td>20</td>\n",
       "      <td>9</td>\n",
       "      <td>6</td>\n",
       "      <td>32</td>\n",
       "      <td>33</td>\n",
       "      <td>20</td>\n",
       "    </tr>\n",
       "    <tr>\n",
       "      <th>pizza</th>\n",
       "      <td>6</td>\n",
       "      <td>13</td>\n",
       "      <td>26</td>\n",
       "      <td>44</td>\n",
       "      <td>6</td>\n",
       "      <td>16</td>\n",
       "      <td>21</td>\n",
       "      <td>12</td>\n",
       "      <td>2</td>\n",
       "      <td>12</td>\n",
       "      <td>8</td>\n",
       "      <td>84</td>\n",
       "    </tr>\n",
       "  </tbody>\n",
       "</table>\n",
       "</div>"
      ],
      "text/plain": [
       "                pork_chop  lasagna  french_toast  guacamole  apple_pie  \\\n",
       "pork_chop              43        8            24         26         11   \n",
       "lasagna                16       35            33         31         11   \n",
       "french_toast            9       11            65         26         14   \n",
       "guacamole               5        4            19        101          8   \n",
       "apple_pie               8       16            16         27         41   \n",
       "cheesecake              3       11            18         21         13   \n",
       "hamburger               3        8            28         55          8   \n",
       "fried_rice              6        9            22         45         15   \n",
       "carrot_cake            11        5            25         31         23   \n",
       "chocolate_cake         10        5            19         29          9   \n",
       "steak                  19        6            32         38          8   \n",
       "pizza                   6       13            26         44          6   \n",
       "\n",
       "                cheesecake  hamburger  fried_rice  carrot_cake  \\\n",
       "pork_chop               41         10           8           10   \n",
       "lasagna                 30         17          11            9   \n",
       "french_toast            28         25           8            7   \n",
       "guacamole               19         23          15            1   \n",
       "apple_pie               47         31           5           10   \n",
       "cheesecake              92         16           1           19   \n",
       "hamburger               29         38          10            6   \n",
       "fried_rice              19         32          47            9   \n",
       "carrot_cake             64         18           8           13   \n",
       "chocolate_cake          43         23           2            9   \n",
       "steak                   27         20           9            6   \n",
       "pizza                   16         21          12            2   \n",
       "\n",
       "                chocolate_cake  steak  pizza  \n",
       "pork_chop                   23     24     22  \n",
       "lasagna                     19      4     34  \n",
       "french_toast                23     10     24  \n",
       "guacamole                   17      8     30  \n",
       "apple_pie                   21      5     23  \n",
       "cheesecake                  41      7      8  \n",
       "hamburger                   13      9     43  \n",
       "fried_rice                  15      6     25  \n",
       "carrot_cake                 28      6     18  \n",
       "chocolate_cake              72     15     14  \n",
       "steak                       32     33     20  \n",
       "pizza                       12      8     84  "
      ]
     },
     "execution_count": 19,
     "metadata": {},
     "output_type": "execute_result"
    }
   ],
   "source": [
    "confusion"
   ]
  },
  {
   "cell_type": "code",
   "execution_count": null,
   "metadata": {
    "collapsed": true
   },
   "outputs": [],
   "source": []
  }
 ],
 "metadata": {
  "kernelspec": {
   "display_name": "Python 3",
   "language": "python",
   "name": "python3"
  },
  "language_info": {
   "codemirror_mode": {
    "name": "ipython",
    "version": 3
   },
   "file_extension": ".py",
   "mimetype": "text/x-python",
   "name": "python",
   "nbconvert_exporter": "python",
   "pygments_lexer": "ipython3",
   "version": "3.5.1"
  }
 },
 "nbformat": 4,
 "nbformat_minor": 0
}
