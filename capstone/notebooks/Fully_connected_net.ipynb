{
 "cells": [
  {
   "cell_type": "markdown",
   "metadata": {},
   "source": [
    "##### Implement multi-layer fully connnected neural net"
   ]
  },
  {
   "cell_type": "code",
   "execution_count": 22,
   "metadata": {
    "collapsed": false
   },
   "outputs": [
    {
     "name": "stdout",
     "output_type": "stream",
     "text": [
      "The autoreload extension is already loaded. To reload it, use:\n",
      "  %reload_ext autoreload\n"
     ]
    }
   ],
   "source": [
    "%matplotlib inline\n",
    "import matplotlib.pyplot as plt\n",
    "import numpy as np\n",
    "import pandas as pd\n",
    "import sys, os\n",
    "import skimage.io as io\n",
    "from skimage.transform import resize\n",
    "sys.path.append('../')\n",
    "from helpers.cs231n.classifiers.fc_net import *\n",
    "from cs231n.data_utils import get_CIFAR10_data\n",
    "from cs231n.gradient_check import eval_numerical_gradient, eval_numerical_gradient_array\n",
    "from cs231n.solver import Solver\n",
    "\n",
    "#import nn.neural_net as NN\n",
    "import helpers.histogram_classifier as hc\n",
    "import time\n",
    "%load_ext autoreload\n",
    "%autoreload 2"
   ]
  },
  {
   "cell_type": "code",
   "execution_count": 23,
   "metadata": {
    "collapsed": false
   },
   "outputs": [
    {
     "data": {
      "text/html": [
       "<style>body {\n",
       "    margin: 0;\n",
       "    font-family: Helvetica;\n",
       "}\n",
       "table.dataframe {\n",
       "    border-collapse: collapse;\n",
       "    border: none;\n",
       "    font-size: 12px;\n",
       "}\n",
       "table.dataframe tr {\n",
       "    border: none;\n",
       "    line-height: 14px;\n",
       "}\n",
       "table.dataframe td, table.dataframe th {\n",
       "    margin: 0;\n",
       "    border: 1px solid white;\n",
       "    padding-left: 0.7em;\n",
       "    padding-right: 0.7em;\n",
       "}\n",
       "table.dataframe th {\n",
       "    background-color: #1c9099;\n",
       "    text-align: center;\n",
       "    font-weight: normal;\n",
       "    color: white;\n",
       "}\n",
       "table.dataframe td {\n",
       "    border: 1px solid #ccf;\n",
       "    background-color: #f4f4ff;\n",
       "    text-align: center;\n",
       "}\n",
       "</style>"
      ],
      "text/plain": [
       "<IPython.core.display.HTML object>"
      ]
     },
     "execution_count": 23,
     "metadata": {},
     "output_type": "execute_result"
    }
   ],
   "source": [
    "from IPython.core.display import HTML\n",
    "css = open('styles/table-style.css').read() #+ open('style-notebook.css').read()\n",
    "HTML('<style>{}</style>'.format(css))"
   ]
  },
  {
   "cell_type": "code",
   "execution_count": 24,
   "metadata": {
    "collapsed": true
   },
   "outputs": [],
   "source": [
    "SIZE = 64"
   ]
  },
  {
   "cell_type": "code",
   "execution_count": 25,
   "metadata": {
    "collapsed": true
   },
   "outputs": [],
   "source": [
    "classes = pd.read_csv('../data/food-101/meta/top_classes.csv', index_col=0)\n",
    "class_list = list(classes['class'].unique())\n",
    "\n",
    "image_names = {}\n",
    "for c in class_list:\n",
    "    image_names[c] = np.array(classes[classes['class'] == c]['name'])"
   ]
  },
  {
   "cell_type": "code",
   "execution_count": 26,
   "metadata": {
    "collapsed": true
   },
   "outputs": [],
   "source": [
    "train, test = hc.split_data(image_names, 0.85)"
   ]
  },
  {
   "cell_type": "code",
   "execution_count": 27,
   "metadata": {
    "collapsed": false
   },
   "outputs": [],
   "source": [
    "X = []\n",
    "y = []\n",
    "X_test = []\n",
    "y_test = []\n",
    "\n",
    "for i, c in enumerate(class_list):\n",
    "    for im in train[c]:\n",
    "        img = io.imread(os.path.join(\"../data/food-101/top_classes/\", c, \"\", im))\n",
    "        img = resize(img, (SIZE, SIZE, SIZE, 3))\n",
    "        X.append(img)\n",
    "        y.append(i)\n",
    "    for im in test[c]:\n",
    "        img = io.imread(os.path.join(\"../data/food-101/top_classes/\", c, \"\", im))\n",
    "        img = resize(img, (SIZE, SIZE, SIZE, 3))\n",
    "        X_test.append(img)\n",
    "        y_test.append(i)\n",
    "\n",
    "X = np.array(X)\n",
    "y = np.array(y)\n",
    "X_test = np.array(X_test)\n",
    "y_test = np.array(y_test)"
   ]
  },
  {
   "cell_type": "code",
   "execution_count": 28,
   "metadata": {
    "collapsed": false
   },
   "outputs": [
    {
     "name": "stdout",
     "output_type": "stream",
     "text": [
      "X has shape: (10200, 64, 64, 3)\n",
      "y has shape: (10200,)\n",
      "X_test has shape: (1800, 64, 64, 3)\n",
      "y_test has shape: (1800,)\n"
     ]
    }
   ],
   "source": [
    "print(\"X has shape: {}\".format(X.shape))\n",
    "print(\"y has shape: {}\".format(y.shape))\n",
    "print(\"X_test has shape: {}\".format(X_test.shape))\n",
    "print(\"y_test has shape: {}\".format(y_test.shape))"
   ]
  },
  {
   "cell_type": "code",
   "execution_count": 29,
   "metadata": {
    "collapsed": false
   },
   "outputs": [],
   "source": [
    "# Get subset of X_train for validation\n",
    "train_per_class = int(np.floor(0.85 * 1000))\n",
    "train_subset = int(np.floor(0.85 * train_per_class))\n",
    "\n",
    "all_indices = np.arange(X.shape[0])\n",
    "train_indices = []\n",
    "test_indices = []\n",
    "\n",
    "for i, c in enumerate(class_list):\n",
    "    train_indices.append(all_indices[i * train_per_class:(i * train_per_class) + train_subset])\n",
    "    test_indices.append(all_indices[(i * train_per_class) + train_subset:(i + 1) * train_per_class])\n",
    "train_indices = np.array(train_indices)\n",
    "train_indices = train_indices.reshape((train_indices.shape[0] * train_indices.shape[1],))\n",
    "test_indices = np.array(test_indices)\n",
    "test_indices = test_indices.reshape((test_indices.shape[0] * test_indices.shape[1],))"
   ]
  },
  {
   "cell_type": "code",
   "execution_count": 30,
   "metadata": {
    "collapsed": false
   },
   "outputs": [
    {
     "name": "stdout",
     "output_type": "stream",
     "text": [
      "CPU times: user 377 ms, sys: 327 ms, total: 705 ms\n",
      "Wall time: 735 ms\n"
     ]
    }
   ],
   "source": [
    "%%time\n",
    "X_train = X[train_indices]\n",
    "y_train = y[train_indices]\n",
    "X_val = X[test_indices]\n",
    "y_val = y[test_indices]"
   ]
  },
  {
   "cell_type": "code",
   "execution_count": 31,
   "metadata": {
    "collapsed": false
   },
   "outputs": [
    {
     "name": "stdout",
     "output_type": "stream",
     "text": [
      "X_train has shape: (8664, 64, 64, 3)\n",
      "y_train has shape: (8664,)\n",
      "X_val has shape: (1536, 64, 64, 3)\n",
      "y_val has shape: (1536,)\n"
     ]
    }
   ],
   "source": [
    "print(\"X_train has shape: {}\".format(X_train.shape))\n",
    "print(\"y_train has shape: {}\".format(y_train.shape))\n",
    "print(\"X_val has shape: {}\".format(X_val.shape))\n",
    "print(\"y_val has shape: {}\".format(y_val.shape))"
   ]
  },
  {
   "cell_type": "code",
   "execution_count": 32,
   "metadata": {
    "collapsed": false
   },
   "outputs": [
    {
     "name": "stdout",
     "output_type": "stream",
     "text": [
      "X_train has shape: (8664, 12288)\n",
      "X_test has shape: (1800, 12288)\n",
      "X_val has shape: (1536, 12288)\n"
     ]
    }
   ],
   "source": [
    "# Reshape the X data\n",
    "X_train = np.reshape(X_train, (X_train.shape[0], -1))\n",
    "X_test = np.reshape(X_test, (X_test.shape[0], -1))\n",
    "X_val = np.reshape(X_val, (X_val.shape[0], -1))\n",
    "\n",
    "print(\"X_train has shape: {}\".format(X_train.shape))\n",
    "print(\"X_test has shape: {}\".format(X_test.shape))\n",
    "print(\"X_val has shape: {}\".format(X_val.shape))"
   ]
  },
  {
   "cell_type": "code",
   "execution_count": 33,
   "metadata": {
    "collapsed": true
   },
   "outputs": [],
   "source": [
    "# Subtract the mean image\n",
    "mean_image = np.mean(X_train, axis=0)\n",
    "X_train -= mean_image\n",
    "X_test -= mean_image\n",
    "X_val -= mean_image"
   ]
  },
  {
   "cell_type": "code",
   "execution_count": 36,
   "metadata": {
    "collapsed": false
   },
   "outputs": [],
   "source": [
    "FullyConnectedNet?"
   ]
  },
  {
   "cell_type": "code",
   "execution_count": 39,
   "metadata": {
    "collapsed": false
   },
   "outputs": [
    {
     "name": "stdout",
     "output_type": "stream",
     "text": [
      "2.48475154241\n"
     ]
    }
   ],
   "source": [
    "# Double check that loss is reasonable\n",
    "model = FullyConnectedNet([100, 100, 100, 100, 100], input_dim=64*64*3, num_classes=12, weight_scale=5e-2)\n",
    "loss, grad = model.loss(X_val, y_val)\n",
    "print(loss)"
   ]
  },
  {
   "cell_type": "code",
   "execution_count": 40,
   "metadata": {
    "collapsed": false
   },
   "outputs": [
    {
     "data": {
      "text/plain": [
       "2.4849066497880004"
      ]
     },
     "execution_count": 40,
     "metadata": {},
     "output_type": "execute_result"
    }
   ],
   "source": [
    "-np.log(1/12)"
   ]
  },
  {
   "cell_type": "code",
   "execution_count": 41,
   "metadata": {
    "collapsed": false
   },
   "outputs": [
    {
     "name": "stdout",
     "output_type": "stream",
     "text": [
      "1588140.44879\n"
     ]
    }
   ],
   "source": [
    "# Increase regularization and see if loss goes up\n",
    "model = FullyConnectedNet([100, 100, 100, 100, 100], input_dim=64*64*3, num_classes=12, weight_scale=5e-2, reg=1e3)\n",
    "loss, grad = model.loss(X_val, y_val)\n",
    "print(loss)"
   ]
  },
  {
   "cell_type": "code",
   "execution_count": 44,
   "metadata": {
    "collapsed": false
   },
   "outputs": [
    {
     "name": "stdout",
     "output_type": "stream",
     "text": [
      "(Iteration 1 / 40) loss: 2.484908\n",
      "(Epoch 0 / 20) train acc: 1.000000; val_acc: 0.083333\n",
      "(Epoch 1 / 20) train acc: 1.000000; val_acc: 0.083333\n",
      "(Epoch 2 / 20) train acc: 1.000000; val_acc: 0.083333\n",
      "(Epoch 3 / 20) train acc: 1.000000; val_acc: 0.083333\n",
      "(Epoch 4 / 20) train acc: 1.000000; val_acc: 0.083333\n",
      "(Epoch 5 / 20) train acc: 1.000000; val_acc: 0.083333\n",
      "(Iteration 11 / 40) loss: 2.475701\n",
      "(Epoch 6 / 20) train acc: 1.000000; val_acc: 0.083333\n",
      "(Epoch 7 / 20) train acc: 1.000000; val_acc: 0.083333\n",
      "(Epoch 8 / 20) train acc: 1.000000; val_acc: 0.083333\n",
      "(Epoch 9 / 20) train acc: 1.000000; val_acc: 0.083333\n",
      "(Epoch 10 / 20) train acc: 1.000000; val_acc: 0.083333\n",
      "(Iteration 21 / 40) loss: 2.466510\n",
      "(Epoch 11 / 20) train acc: 1.000000; val_acc: 0.083333\n",
      "(Epoch 12 / 20) train acc: 1.000000; val_acc: 0.083333\n",
      "(Epoch 13 / 20) train acc: 1.000000; val_acc: 0.083333\n",
      "(Epoch 14 / 20) train acc: 1.000000; val_acc: 0.083333\n",
      "(Epoch 15 / 20) train acc: 1.000000; val_acc: 0.083333\n",
      "(Iteration 31 / 40) loss: 2.457333\n",
      "(Epoch 16 / 20) train acc: 1.000000; val_acc: 0.083333\n",
      "(Epoch 17 / 20) train acc: 1.000000; val_acc: 0.083333\n",
      "(Epoch 18 / 20) train acc: 1.000000; val_acc: 0.083333\n",
      "(Epoch 19 / 20) train acc: 1.000000; val_acc: 0.083333\n",
      "(Epoch 20 / 20) train acc: 1.000000; val_acc: 0.083333\n"
     ]
    },
    {
     "data": {
      "image/png": "[encoded data removed]",
      "text/plain": [
       "<matplotlib.figure.Figure at 0x117c65080>"
      ]
     },
     "metadata": {},
     "output_type": "display_data"
    }
   ],
   "source": [
    "# Try and overfit very small portion of data\n",
    "num_train = 50\n",
    "small_data = {\n",
    "  'X_train': X_train[:num_train],\n",
    "  'y_train': y_train[:num_train],\n",
    "  'X_val': X_val,\n",
    "  'y_val': y_val,\n",
    "}\n",
    "weight_scale = np.sqrt(2 / (64*64*3 + 12))\n",
    "learning_rate = 1e-3\n",
    "model = FullyConnectedNet([100, 100, 100, 100, 100], input_dim=64*64*3, num_classes=12, weight_scale=weight_scale, reg=0)\n",
    "\n",
    "solver = Solver(model, small_data,\n",
    "                print_every=10, num_epochs=20, batch_size=25,\n",
    "                update_rule='sgd',\n",
    "                optim_config={\n",
    "                  'learning_rate': learning_rate,\n",
    "                }\n",
    "         )\n",
    "solver.train()\n",
    "\n",
    "plt.plot(solver.loss_history, 'o')\n",
    "plt.title('Training loss history')\n",
    "plt.xlabel('Iteration')\n",
    "plt.ylabel('Training loss')\n",
    "plt.show()"
   ]
  },
  {
   "cell_type": "code",
   "execution_count": 145,
   "metadata": {
    "collapsed": false
   },
   "outputs": [
    {
     "name": "stdout",
     "output_type": "stream",
     "text": [
      "Val acc: 0.09555555555555556, lr: 0.000602921201656911, reg: 0.0010063435272573678\n",
      "Val acc: 0.08222222222222222, lr: 1.3155485162622495e-05, reg: 7.554651446853547e-05\n",
      "Val acc: 0.08222222222222222, lr: 6.423719130763543e-06, reg: 0.037991237884934796\n",
      "Val acc: 0.0961111111111111, lr: 6.266353761302217e-07, reg: 2.1539050143444977e-05\n",
      "Val acc: 0.06888888888888889, lr: 7.981755760443523e-06, reg: 0.12357445333182487\n",
      "Val acc: 0.06777777777777778, lr: 2.367969458129525e-06, reg: 2.405411840770378\n",
      "Val acc: 0.09166666666666666, lr: 1.2350400167787523e-06, reg: 0.0041701852272680836\n",
      "Val acc: 0.09722222222222222, lr: 0.000119960947801173, reg: 4.135054642203846e-05\n",
      "Val acc: 0.08833333333333333, lr: 7.424146647039616e-05, reg: 0.7711385027135578\n",
      "Val acc: 0.09333333333333334, lr: 3.568908708690723e-05, reg: 0.162599813660085\n",
      "Val acc: 0.0811111111111111, lr: 1.3846381851993583e-06, reg: 3.801296493715753e-05\n",
      "Val acc: 0.07944444444444444, lr: 4.083237113216134e-07, reg: 0.02910259263936648\n",
      "Val acc: 0.0811111111111111, lr: 9.302808463300583e-07, reg: 4.7395367255989616\n",
      "Val acc: 0.09833333333333333, lr: 4.148951364937405e-05, reg: 0.013969975602921625\n",
      "Val acc: 0.07722222222222222, lr: 0.00016584369878915733, reg: 0.0001932914869907805\n",
      "Val acc: 0.08722222222222223, lr: 2.4817451875721755e-07, reg: 2.3132562993204657\n",
      "Val acc: 0.07388888888888889, lr: 1.581073521783832e-05, reg: 0.00030682985156555256\n",
      "Val acc: 0.07666666666666666, lr: 0.00014300434693662465, reg: 9.926482119681929e-05\n",
      "Val acc: 0.08777777777777777, lr: 3.1593435019748213e-07, reg: 5.7844740942925705\n",
      "Val acc: 0.07277777777777777, lr: 2.2954431147515588e-06, reg: 0.002455570893084287\n",
      "Val acc: 0.09055555555555556, lr: 6.565575619440868e-05, reg: 0.0006289661801136455\n",
      "Val acc: 0.08333333333333333, lr: 7.23950711198859e-05, reg: 0.0017682181647614731\n",
      "Val acc: 0.08611111111111111, lr: 1.1529182982389546e-07, reg: 0.003430664964450048\n",
      "Val acc: 0.09777777777777778, lr: 3.069316397162675e-05, reg: 0.09020545700635144\n",
      "Val acc: 0.08277777777777778, lr: 4.2623862800742834e-05, reg: 7.228800731244935\n",
      "Val acc: 0.095, lr: 4.746752475581171e-06, reg: 0.042303798256740376\n",
      "Val acc: 0.08444444444444445, lr: 2.027359078345415e-05, reg: 0.0007362795238421844\n",
      "Val acc: 0.08555555555555555, lr: 1.4835569516479218e-07, reg: 0.3297830061437985\n",
      "Val acc: 0.07444444444444444, lr: 1.5302458852439171e-07, reg: 0.002518307265928723\n",
      "Val acc: 0.08333333333333333, lr: 0.0009249337774976231, reg: 0.12269354023794911\n",
      "Val acc: 0.08166666666666667, lr: 1.4007705365731949e-05, reg: 0.9561794173315697\n",
      "Val acc: 0.08333333333333333, lr: 0.0001746569584310474, reg: 0.0012055153879885169\n",
      "Val acc: 0.08777777777777777, lr: 2.2060340668022815e-06, reg: 0.0004702387535022844\n",
      "Val acc: 0.09111111111111111, lr: 1.4140424484080993e-05, reg: 0.002617098670793214\n",
      "Val acc: 0.10388888888888889, lr: 2.190480714518955e-05, reg: 0.020722827149253262\n",
      "Val acc: 0.08277777777777778, lr: 0.0007161650473554814, reg: 5.836855000782246e-05\n",
      "Val acc: 0.08333333333333333, lr: 8.211955536181574e-05, reg: 6.870035201419507\n",
      "Val acc: 0.08333333333333333, lr: 9.14426666979853e-05, reg: 0.00019260376364523452\n",
      "Val acc: 0.08055555555555556, lr: 2.2979057083970636e-06, reg: 0.026721712136029162\n",
      "Val acc: 0.07055555555555555, lr: 1.5730158543843195e-05, reg: 0.6760449507079453\n",
      "Val acc: 0.09111111111111111, lr: 1.850803459215264e-06, reg: 0.0035687836901923367\n",
      "Val acc: 0.07777777777777778, lr: 7.457288348208439e-07, reg: 2.7934777512922295\n",
      "Val acc: 0.07833333333333334, lr: 5.545765186222745e-07, reg: 1.9258497217383356e-05\n",
      "Val acc: 0.08333333333333333, lr: 0.0001417981379647625, reg: 1.043258492729608\n",
      "Val acc: 0.08277777777777778, lr: 7.894815319909576e-07, reg: 0.0016937143032435794\n",
      "Val acc: 0.08944444444444444, lr: 1.2060822167665857e-05, reg: 0.00413262764460912\n",
      "Val acc: 0.07722222222222222, lr: 2.2205310611042694e-07, reg: 7.991448649739321e-05\n",
      "Val acc: 0.08444444444444445, lr: 3.4591549021218357e-07, reg: 1.672156019737197e-05\n",
      "Val acc: 0.08888888888888889, lr: 5.624947198585155e-06, reg: 2.94807589477933\n",
      "Val acc: 0.09666666666666666, lr: 2.3704570321096927e-05, reg: 7.909357226467491\n",
      "Val acc: 0.08277777777777778, lr: 3.048732259408081e-06, reg: 4.2529281339487595\n",
      "Val acc: 0.09111111111111111, lr: 9.229326035897262e-06, reg: 6.327983442565391e-05\n",
      "Val acc: 0.08611111111111111, lr: 3.025804269673312e-07, reg: 0.45077220809252494\n",
      "Val acc: 0.08333333333333333, lr: 2.783507113830517e-07, reg: 0.00045812027855851914\n",
      "Val acc: 0.08333333333333333, lr: 0.00042300832884874657, reg: 4.310103360312331\n",
      "Val acc: 0.08222222222222222, lr: 3.613825891953217e-07, reg: 0.5500940427713898\n",
      "Val acc: 0.08166666666666667, lr: 1.4493930020019267e-05, reg: 0.0029989561035086653\n",
      "Val acc: 0.0811111111111111, lr: 1.973382834606504e-05, reg: 0.0013171206696733955\n",
      "Val acc: 0.085, lr: 6.730335743690009e-06, reg: 0.00015227069317340182\n",
      "Val acc: 0.07833333333333334, lr: 0.0007853038178790431, reg: 0.09745926895629009\n",
      "Val acc: 0.08277777777777778, lr: 2.4408046876445763e-05, reg: 2.0952994142429873\n",
      "Val acc: 0.07944444444444444, lr: 1.0706093354307495e-05, reg: 1.7030842756174065\n",
      "Val acc: 0.08444444444444445, lr: 0.00027432181184914857, reg: 0.047942356755079234\n",
      "Val acc: 0.07611111111111112, lr: 4.744521046726233e-06, reg: 3.7711552919073535e-05\n",
      "Val acc: 0.08333333333333333, lr: 0.00020473755156046207, reg: 0.007966970745650481\n",
      "Val acc: 0.08055555555555556, lr: 0.00010004540051362215, reg: 0.0031701675497071277\n",
      "Val acc: 0.07666666666666666, lr: 8.898022829901151e-07, reg: 4.9909471203826825e-05\n",
      "Val acc: 0.08444444444444445, lr: 1.02899218670329e-06, reg: 3.1861264186627e-05\n",
      "Val acc: 0.07611111111111112, lr: 5.795929927479914e-07, reg: 0.00025067330315957874\n",
      "Val acc: 0.08444444444444445, lr: 0.0005368064107814375, reg: 0.0012841989639608745\n",
      "Val acc: 0.08388888888888889, lr: 2.1577806946493045e-06, reg: 1.1831091678569525\n",
      "Val acc: 0.09388888888888888, lr: 1.9139422976234404e-06, reg: 4.351164770509792\n",
      "Val acc: 0.07888888888888888, lr: 8.889864855195566e-05, reg: 4.788587230325669e-05\n",
      "Val acc: 0.08222222222222222, lr: 4.5270493817314566e-05, reg: 5.410148041556028\n",
      "Val acc: 0.09444444444444444, lr: 0.00018244485658346025, reg: 3.115235064351047e-05\n",
      "Val acc: 0.1, lr: 2.5926369217500634e-05, reg: 0.00010157316115835843\n",
      "Val acc: 0.08055555555555556, lr: 1.3369582741156057e-07, reg: 0.0011225711827857448\n",
      "Val acc: 0.08333333333333333, lr: 0.0001962626029053414, reg: 0.04472769302141124\n",
      "Val acc: 0.08333333333333333, lr: 7.97514792263866e-05, reg: 0.02967098162708084\n",
      "Val acc: 0.07111111111111111, lr: 1.0957017181862927e-06, reg: 2.1740652203398888e-05\n",
      "Val acc: 0.08722222222222223, lr: 0.0007367635462091479, reg: 0.009450564889524919\n",
      "Val acc: 0.07888888888888888, lr: 2.446671106035056e-06, reg: 0.38283854033992665\n",
      "Val acc: 0.08333333333333333, lr: 0.0007050669958507327, reg: 1.325440871160244\n",
      "Val acc: 0.07833333333333334, lr: 9.041213362588637e-05, reg: 0.003761962492488342\n",
      "Val acc: 0.08277777777777778, lr: 0.0008818439340070427, reg: 0.005569745281016272\n",
      "Val acc: 0.08555555555555555, lr: 0.00011416626606763867, reg: 0.1465957498663324\n",
      "Val acc: 0.10166666666666667, lr: 0.0006152279302021773, reg: 0.010652932524896836\n",
      "Val acc: 0.07111111111111111, lr: 3.0057348808439097e-06, reg: 4.036186606471124\n",
      "Val acc: 0.08222222222222222, lr: 6.954700341175374e-06, reg: 0.6780779997573844\n",
      "Val acc: 0.08388888888888889, lr: 7.271192061908614e-07, reg: 0.8395512056697765\n",
      "Val acc: 0.085, lr: 0.00012231262925564473, reg: 0.006820428158990589\n",
      "Val acc: 0.07833333333333334, lr: 2.6377276313084006e-06, reg: 2.0716202474719377e-05\n",
      "Val acc: 0.09222222222222222, lr: 2.9262807310384954e-05, reg: 0.15128443240402212\n",
      "Val acc: 0.08333333333333333, lr: 0.00014521447991850078, reg: 0.000188561512840771\n",
      "Val acc: 0.08333333333333333, lr: 6.404903871647973e-05, reg: 3.9073579293072314\n",
      "Val acc: 0.08333333333333333, lr: 0.00046366158547914003, reg: 0.002697739579032048\n",
      "Val acc: 0.08333333333333333, lr: 6.728579738307537e-05, reg: 3.6654851446643386\n",
      "Val acc: 0.08222222222222222, lr: 1.6918420695352809e-06, reg: 0.10506026476289666\n",
      "Val acc: 0.08333333333333333, lr: 0.0001129629525956437, reg: 0.0125311526377432\n",
      "Val acc: 0.08888888888888889, lr: 1.1118336484390703e-07, reg: 7.54875449165865\n"
     ]
    }
   ],
   "source": [
    "data = {\n",
    "  'X_train': X_train,\n",
    "  'y_train': y_train,\n",
    "  'X_val': X_val,\n",
    "  'y_val': y_val,\n",
    "}\n",
    "weight_scale = np.sqrt(2 / (64*64*3 + 12))\n",
    "num_epochs=10\n",
    "update_rule = 'sgd_momentum'\n",
    "\n",
    "best_score = -1\n",
    "best_params = (0, 0)\n",
    "best_model = None\n",
    "\n",
    "for i in range(100):\n",
    "\n",
    "    learning_rate = 10 ** np.random.uniform(-7, -3)\n",
    "    reg = 10 ** np.random.uniform(-5, 1)\n",
    "\n",
    "    model = FullyConnectedNet([110, 110, 110, 110], input_dim=64*64*3, num_classes=12, weight_scale=weight_scale, reg=reg)\n",
    "\n",
    "    solver = Solver(model, data,\n",
    "                    print_every=20, num_epochs=num_epochs, batch_size=200,\n",
    "                    update_rule=update_rule,\n",
    "                    optim_config={\n",
    "                      'learning_rate': learning_rate,\n",
    "                    }, verbose=False\n",
    "             )\n",
    "    solver.train()\n",
    "    predictions = np.argmax(model.loss(X_test), axis=1)\n",
    "    val_acc = (predictions == y_test).mean()\n",
    "    if val_acc > best_score:\n",
    "        best_score = val_acc\n",
    "        best_params = (learning_rate, reg)\n",
    "        best_model = model\n",
    "    print(\"Val acc: {}, lr: {}, reg: {}\".format(val_acc, learning_rate, reg))\n",
    "\n",
    "#plt.plot(solver.loss_history, 'o')\n",
    "#plt.title('Training loss history')\n",
    "#plt.xlabel('Iteration')\n",
    "#plt.ylabel('Training loss')\n",
    "#plt.show()\n",
    "\n",
    "#plt.plot(solver.train_acc_history, color='r')\n",
    "#plt.plot(solver.val_acc_history, color='b')\n",
    "#plt.title('Training vs. Val Acc History')\n",
    "#plt.show()"
   ]
  },
  {
   "cell_type": "code",
   "execution_count": 146,
   "metadata": {
    "collapsed": false
   },
   "outputs": [
    {
     "data": {
      "text/plain": [
       "0.10388888888888889"
      ]
     },
     "execution_count": 146,
     "metadata": {},
     "output_type": "execute_result"
    }
   ],
   "source": [
    "best_score"
   ]
  },
  {
   "cell_type": "code",
   "execution_count": 153,
   "metadata": {
    "collapsed": false
   },
   "outputs": [
    {
     "data": {
      "image/png": "[encoded data removed]",
      "text/plain": [
       "<matplotlib.figure.Figure at 0x1175d7470>"
      ]
     },
     "metadata": {},
     "output_type": "display_data"
    }
   ],
   "source": [
    "plt.plot(solver.loss_history, 'o')\n",
    "plt.title('Training loss history')\n",
    "plt.xlabel('Iteration')\n",
    "plt.ylabel('Training loss')\n",
    "plt.show()"
   ]
  },
  {
   "cell_type": "code",
   "execution_count": 154,
   "metadata": {
    "collapsed": true
   },
   "outputs": [],
   "source": [
    "data = {\n",
    "  'X_train': X_train,\n",
    "  'y_train': y_train,\n",
    "  'X_val': X_val,\n",
    "  'y_val': y_val,\n",
    "}\n",
    "weight_scale = np.sqrt(2 / (64*64*3 + 12))\n",
    "num_epochs = 40\n",
    "update_rule = 'sgd_momentum'\n",
    "\n",
    "learning_rate = best_params[0]\n",
    "reg = best_params[1]\n",
    "\n",
    "model = FullyConnectedNet([110, 110, 110, 110], input_dim=64*64*3, num_classes=12, weight_scale=weight_scale, reg=reg)\n",
    "\n",
    "solver = Solver(model, data,\n",
    "                    print_every=20, num_epochs=num_epochs, batch_size=200,\n",
    "                    update_rule=update_rule,\n",
    "                    optim_config={\n",
    "                      'learning_rate': learning_rate,\n",
    "                    }, verbose=False\n",
    "             )\n",
    "solver.train()"
   ]
  },
  {
   "cell_type": "code",
   "execution_count": 157,
   "metadata": {
    "collapsed": false
   },
   "outputs": [
    {
     "data": {
      "image/png": "[encoded data removed]",
      "text/plain": [
       "<matplotlib.figure.Figure at 0x127a6aeb8>"
      ]
     },
     "metadata": {},
     "output_type": "display_data"
    },
    {
     "data": {
      "image/png": "[encoded data removed]",
      "text/plain": [
       "<matplotlib.figure.Figure at 0x103440940>"
      ]
     },
     "metadata": {},
     "output_type": "display_data"
    }
   ],
   "source": [
    "plt.plot(solver.loss_history, 'o')\n",
    "plt.title('Training loss history')\n",
    "plt.xlabel('Iteration')\n",
    "plt.ylabel('Training loss')\n",
    "plt.show()\n",
    "\n",
    "plt.plot(solver.train_acc_history, color='r', label='Training')\n",
    "plt.plot(solver.val_acc_history, color='b', label='Val')\n",
    "plt.title('Training vs. Val Acc History')\n",
    "plt.legend()\n",
    "plt.show()"
   ]
  },
  {
   "cell_type": "code",
   "execution_count": 162,
   "metadata": {
    "collapsed": true
   },
   "outputs": [],
   "source": [
    "predictions = np.argmax(model.loss(X_test), axis=1)"
   ]
  },
  {
   "cell_type": "code",
   "execution_count": 163,
   "metadata": {
    "collapsed": true
   },
   "outputs": [],
   "source": [
    "def map_labels(x):\n",
    "    return class_list[x]\n",
    "\n",
    "f = np.vectorize(map_labels)"
   ]
  },
  {
   "cell_type": "code",
   "execution_count": 164,
   "metadata": {
    "collapsed": false
   },
   "outputs": [
    {
     "name": "stderr",
     "output_type": "stream",
     "text": [
      "/Users/simonbedford/anaconda3/lib/python3.5/site-packages/sklearn/metrics/classification.py:1074: UndefinedMetricWarning: Precision and F-score are ill-defined and being set to 0.0 in labels with no predicted samples.\n",
      "  'precision', 'predicted', average, warn_for)\n",
      "/Users/simonbedford/anaconda3/lib/python3.5/site-packages/sklearn/metrics/classification.py:1074: UndefinedMetricWarning: Precision is ill-defined and being set to 0.0 in labels with no predicted samples.\n",
      "  'precision', 'predicted', average, warn_for)\n",
      "/Users/simonbedford/anaconda3/lib/python3.5/site-packages/sklearn/metrics/classification.py:1074: UndefinedMetricWarning: F-score is ill-defined and being set to 0.0 in labels with no predicted samples.\n",
      "  'precision', 'predicted', average, warn_for)\n"
     ]
    }
   ],
   "source": [
    "overall, metrics, confusion = hc.get_metrics(f(y_test), f(predictions), class_list)"
   ]
  },
  {
   "cell_type": "code",
   "execution_count": 165,
   "metadata": {
    "collapsed": false
   },
   "outputs": [
    {
     "data": {
      "text/html": [
       "<div>\n",
       "<table border=\"1\" class=\"dataframe\">\n",
       "  <thead>\n",
       "    <tr style=\"text-align: right;\">\n",
       "      <th></th>\n",
       "      <th>Accuracy</th>\n",
       "      <th>F1</th>\n",
       "      <th>Precision</th>\n",
       "      <th>Recall</th>\n",
       "    </tr>\n",
       "  </thead>\n",
       "  <tbody>\n",
       "    <tr>\n",
       "      <th>Results</th>\n",
       "      <td>0.087</td>\n",
       "      <td>0.023</td>\n",
       "      <td>0.015</td>\n",
       "      <td>0.087</td>\n",
       "    </tr>\n",
       "  </tbody>\n",
       "</table>\n",
       "</div>"
      ],
      "text/plain": [
       "         Accuracy     F1  Precision  Recall\n",
       "Results     0.087  0.023      0.015   0.087"
      ]
     },
     "execution_count": 165,
     "metadata": {},
     "output_type": "execute_result"
    }
   ],
   "source": [
    "overall"
   ]
  },
  {
   "cell_type": "code",
   "execution_count": 166,
   "metadata": {
    "collapsed": false
   },
   "outputs": [
    {
     "data": {
      "text/html": [
       "<div>\n",
       "<table border=\"1\" class=\"dataframe\">\n",
       "  <thead>\n",
       "    <tr style=\"text-align: right;\">\n",
       "      <th></th>\n",
       "      <th>Precision</th>\n",
       "      <th>Recall</th>\n",
       "      <th>F1-Score</th>\n",
       "      <th>Support</th>\n",
       "    </tr>\n",
       "  </thead>\n",
       "  <tbody>\n",
       "    <tr>\n",
       "      <th>pork_chop</th>\n",
       "      <td>0.00</td>\n",
       "      <td>0.00</td>\n",
       "      <td>0.00</td>\n",
       "      <td>150.0</td>\n",
       "    </tr>\n",
       "    <tr>\n",
       "      <th>lasagna</th>\n",
       "      <td>0.09</td>\n",
       "      <td>0.88</td>\n",
       "      <td>0.16</td>\n",
       "      <td>150.0</td>\n",
       "    </tr>\n",
       "    <tr>\n",
       "      <th>french_toast</th>\n",
       "      <td>0.00</td>\n",
       "      <td>0.00</td>\n",
       "      <td>0.00</td>\n",
       "      <td>150.0</td>\n",
       "    </tr>\n",
       "    <tr>\n",
       "      <th>guacamole</th>\n",
       "      <td>0.00</td>\n",
       "      <td>0.00</td>\n",
       "      <td>0.00</td>\n",
       "      <td>150.0</td>\n",
       "    </tr>\n",
       "    <tr>\n",
       "      <th>apple_pie</th>\n",
       "      <td>0.00</td>\n",
       "      <td>0.00</td>\n",
       "      <td>0.00</td>\n",
       "      <td>150.0</td>\n",
       "    </tr>\n",
       "    <tr>\n",
       "      <th>cheesecake</th>\n",
       "      <td>0.00</td>\n",
       "      <td>0.00</td>\n",
       "      <td>0.00</td>\n",
       "      <td>150.0</td>\n",
       "    </tr>\n",
       "    <tr>\n",
       "      <th>hamburger</th>\n",
       "      <td>0.00</td>\n",
       "      <td>0.00</td>\n",
       "      <td>0.00</td>\n",
       "      <td>150.0</td>\n",
       "    </tr>\n",
       "    <tr>\n",
       "      <th>fried_rice</th>\n",
       "      <td>0.00</td>\n",
       "      <td>0.00</td>\n",
       "      <td>0.00</td>\n",
       "      <td>150.0</td>\n",
       "    </tr>\n",
       "    <tr>\n",
       "      <th>carrot_cake</th>\n",
       "      <td>0.00</td>\n",
       "      <td>0.00</td>\n",
       "      <td>0.00</td>\n",
       "      <td>150.0</td>\n",
       "    </tr>\n",
       "    <tr>\n",
       "      <th>chocolate_cake</th>\n",
       "      <td>0.10</td>\n",
       "      <td>0.17</td>\n",
       "      <td>0.12</td>\n",
       "      <td>150.0</td>\n",
       "    </tr>\n",
       "    <tr>\n",
       "      <th>steak</th>\n",
       "      <td>0.00</td>\n",
       "      <td>0.00</td>\n",
       "      <td>0.00</td>\n",
       "      <td>150.0</td>\n",
       "    </tr>\n",
       "    <tr>\n",
       "      <th>pizza</th>\n",
       "      <td>0.00</td>\n",
       "      <td>0.00</td>\n",
       "      <td>0.00</td>\n",
       "      <td>150.0</td>\n",
       "    </tr>\n",
       "  </tbody>\n",
       "</table>\n",
       "</div>"
      ],
      "text/plain": [
       "                Precision  Recall  F1-Score  Support\n",
       "pork_chop            0.00    0.00      0.00    150.0\n",
       "lasagna              0.09    0.88      0.16    150.0\n",
       "french_toast         0.00    0.00      0.00    150.0\n",
       "guacamole            0.00    0.00      0.00    150.0\n",
       "apple_pie            0.00    0.00      0.00    150.0\n",
       "cheesecake           0.00    0.00      0.00    150.0\n",
       "hamburger            0.00    0.00      0.00    150.0\n",
       "fried_rice           0.00    0.00      0.00    150.0\n",
       "carrot_cake          0.00    0.00      0.00    150.0\n",
       "chocolate_cake       0.10    0.17      0.12    150.0\n",
       "steak                0.00    0.00      0.00    150.0\n",
       "pizza                0.00    0.00      0.00    150.0"
      ]
     },
     "execution_count": 166,
     "metadata": {},
     "output_type": "execute_result"
    }
   ],
   "source": [
    "metrics"
   ]
  },
  {
   "cell_type": "code",
   "execution_count": 167,
   "metadata": {
    "collapsed": false
   },
   "outputs": [
    {
     "data": {
      "text/html": [
       "<div>\n",
       "<table border=\"1\" class=\"dataframe\">\n",
       "  <thead>\n",
       "    <tr style=\"text-align: right;\">\n",
       "      <th></th>\n",
       "      <th>pork_chop</th>\n",
       "      <th>lasagna</th>\n",
       "      <th>french_toast</th>\n",
       "      <th>guacamole</th>\n",
       "      <th>apple_pie</th>\n",
       "      <th>cheesecake</th>\n",
       "      <th>hamburger</th>\n",
       "      <th>fried_rice</th>\n",
       "      <th>carrot_cake</th>\n",
       "      <th>chocolate_cake</th>\n",
       "      <th>steak</th>\n",
       "      <th>pizza</th>\n",
       "    </tr>\n",
       "  </thead>\n",
       "  <tbody>\n",
       "    <tr>\n",
       "      <th>pork_chop</th>\n",
       "      <td>0</td>\n",
       "      <td>130</td>\n",
       "      <td>0</td>\n",
       "      <td>0</td>\n",
       "      <td>0</td>\n",
       "      <td>0</td>\n",
       "      <td>0</td>\n",
       "      <td>0</td>\n",
       "      <td>0</td>\n",
       "      <td>20</td>\n",
       "      <td>0</td>\n",
       "      <td>0</td>\n",
       "    </tr>\n",
       "    <tr>\n",
       "      <th>lasagna</th>\n",
       "      <td>0</td>\n",
       "      <td>132</td>\n",
       "      <td>0</td>\n",
       "      <td>0</td>\n",
       "      <td>0</td>\n",
       "      <td>0</td>\n",
       "      <td>0</td>\n",
       "      <td>0</td>\n",
       "      <td>0</td>\n",
       "      <td>18</td>\n",
       "      <td>0</td>\n",
       "      <td>0</td>\n",
       "    </tr>\n",
       "    <tr>\n",
       "      <th>french_toast</th>\n",
       "      <td>0</td>\n",
       "      <td>126</td>\n",
       "      <td>0</td>\n",
       "      <td>0</td>\n",
       "      <td>0</td>\n",
       "      <td>0</td>\n",
       "      <td>0</td>\n",
       "      <td>0</td>\n",
       "      <td>0</td>\n",
       "      <td>24</td>\n",
       "      <td>0</td>\n",
       "      <td>0</td>\n",
       "    </tr>\n",
       "    <tr>\n",
       "      <th>guacamole</th>\n",
       "      <td>0</td>\n",
       "      <td>118</td>\n",
       "      <td>0</td>\n",
       "      <td>0</td>\n",
       "      <td>0</td>\n",
       "      <td>0</td>\n",
       "      <td>0</td>\n",
       "      <td>0</td>\n",
       "      <td>0</td>\n",
       "      <td>32</td>\n",
       "      <td>0</td>\n",
       "      <td>0</td>\n",
       "    </tr>\n",
       "    <tr>\n",
       "      <th>apple_pie</th>\n",
       "      <td>0</td>\n",
       "      <td>136</td>\n",
       "      <td>0</td>\n",
       "      <td>0</td>\n",
       "      <td>0</td>\n",
       "      <td>0</td>\n",
       "      <td>0</td>\n",
       "      <td>0</td>\n",
       "      <td>0</td>\n",
       "      <td>14</td>\n",
       "      <td>0</td>\n",
       "      <td>0</td>\n",
       "    </tr>\n",
       "    <tr>\n",
       "      <th>cheesecake</th>\n",
       "      <td>0</td>\n",
       "      <td>134</td>\n",
       "      <td>0</td>\n",
       "      <td>0</td>\n",
       "      <td>0</td>\n",
       "      <td>0</td>\n",
       "      <td>0</td>\n",
       "      <td>0</td>\n",
       "      <td>0</td>\n",
       "      <td>16</td>\n",
       "      <td>0</td>\n",
       "      <td>0</td>\n",
       "    </tr>\n",
       "    <tr>\n",
       "      <th>hamburger</th>\n",
       "      <td>0</td>\n",
       "      <td>125</td>\n",
       "      <td>0</td>\n",
       "      <td>0</td>\n",
       "      <td>0</td>\n",
       "      <td>0</td>\n",
       "      <td>0</td>\n",
       "      <td>0</td>\n",
       "      <td>0</td>\n",
       "      <td>25</td>\n",
       "      <td>0</td>\n",
       "      <td>0</td>\n",
       "    </tr>\n",
       "    <tr>\n",
       "      <th>fried_rice</th>\n",
       "      <td>0</td>\n",
       "      <td>131</td>\n",
       "      <td>0</td>\n",
       "      <td>0</td>\n",
       "      <td>0</td>\n",
       "      <td>0</td>\n",
       "      <td>0</td>\n",
       "      <td>0</td>\n",
       "      <td>0</td>\n",
       "      <td>19</td>\n",
       "      <td>0</td>\n",
       "      <td>0</td>\n",
       "    </tr>\n",
       "    <tr>\n",
       "      <th>carrot_cake</th>\n",
       "      <td>0</td>\n",
       "      <td>128</td>\n",
       "      <td>0</td>\n",
       "      <td>0</td>\n",
       "      <td>0</td>\n",
       "      <td>0</td>\n",
       "      <td>0</td>\n",
       "      <td>0</td>\n",
       "      <td>0</td>\n",
       "      <td>22</td>\n",
       "      <td>0</td>\n",
       "      <td>0</td>\n",
       "    </tr>\n",
       "    <tr>\n",
       "      <th>chocolate_cake</th>\n",
       "      <td>0</td>\n",
       "      <td>125</td>\n",
       "      <td>0</td>\n",
       "      <td>0</td>\n",
       "      <td>0</td>\n",
       "      <td>0</td>\n",
       "      <td>0</td>\n",
       "      <td>0</td>\n",
       "      <td>0</td>\n",
       "      <td>25</td>\n",
       "      <td>0</td>\n",
       "      <td>0</td>\n",
       "    </tr>\n",
       "    <tr>\n",
       "      <th>steak</th>\n",
       "      <td>0</td>\n",
       "      <td>126</td>\n",
       "      <td>0</td>\n",
       "      <td>0</td>\n",
       "      <td>0</td>\n",
       "      <td>0</td>\n",
       "      <td>0</td>\n",
       "      <td>0</td>\n",
       "      <td>0</td>\n",
       "      <td>24</td>\n",
       "      <td>0</td>\n",
       "      <td>0</td>\n",
       "    </tr>\n",
       "    <tr>\n",
       "      <th>pizza</th>\n",
       "      <td>0</td>\n",
       "      <td>128</td>\n",
       "      <td>0</td>\n",
       "      <td>0</td>\n",
       "      <td>0</td>\n",
       "      <td>0</td>\n",
       "      <td>0</td>\n",
       "      <td>0</td>\n",
       "      <td>0</td>\n",
       "      <td>22</td>\n",
       "      <td>0</td>\n",
       "      <td>0</td>\n",
       "    </tr>\n",
       "  </tbody>\n",
       "</table>\n",
       "</div>"
      ],
      "text/plain": [
       "                pork_chop  lasagna  french_toast  guacamole  apple_pie  \\\n",
       "pork_chop               0      130             0          0          0   \n",
       "lasagna                 0      132             0          0          0   \n",
       "french_toast            0      126             0          0          0   \n",
       "guacamole               0      118             0          0          0   \n",
       "apple_pie               0      136             0          0          0   \n",
       "cheesecake              0      134             0          0          0   \n",
       "hamburger               0      125             0          0          0   \n",
       "fried_rice              0      131             0          0          0   \n",
       "carrot_cake             0      128             0          0          0   \n",
       "chocolate_cake          0      125             0          0          0   \n",
       "steak                   0      126             0          0          0   \n",
       "pizza                   0      128             0          0          0   \n",
       "\n",
       "                cheesecake  hamburger  fried_rice  carrot_cake  \\\n",
       "pork_chop                0          0           0            0   \n",
       "lasagna                  0          0           0            0   \n",
       "french_toast             0          0           0            0   \n",
       "guacamole                0          0           0            0   \n",
       "apple_pie                0          0           0            0   \n",
       "cheesecake               0          0           0            0   \n",
       "hamburger                0          0           0            0   \n",
       "fried_rice               0          0           0            0   \n",
       "carrot_cake              0          0           0            0   \n",
       "chocolate_cake           0          0           0            0   \n",
       "steak                    0          0           0            0   \n",
       "pizza                    0          0           0            0   \n",
       "\n",
       "                chocolate_cake  steak  pizza  \n",
       "pork_chop                   20      0      0  \n",
       "lasagna                     18      0      0  \n",
       "french_toast                24      0      0  \n",
       "guacamole                   32      0      0  \n",
       "apple_pie                   14      0      0  \n",
       "cheesecake                  16      0      0  \n",
       "hamburger                   25      0      0  \n",
       "fried_rice                  19      0      0  \n",
       "carrot_cake                 22      0      0  \n",
       "chocolate_cake              25      0      0  \n",
       "steak                       24      0      0  \n",
       "pizza                       22      0      0  "
      ]
     },
     "execution_count": 167,
     "metadata": {},
     "output_type": "execute_result"
    }
   ],
   "source": [
    "confusion"
   ]
  },
  {
   "cell_type": "code",
   "execution_count": null,
   "metadata": {
    "collapsed": true
   },
   "outputs": [],
   "source": []
  }
 ],
 "metadata": {
  "kernelspec": {
   "display_name": "Python 3",
   "language": "python",
   "name": "python3"
  },
  "language_info": {
   "codemirror_mode": {
    "name": "ipython",
    "version": 3
   },
   "file_extension": ".py",
   "mimetype": "text/x-python",
   "name": "python",
   "nbconvert_exporter": "python",
   "pygments_lexer": "ipython3",
   "version": "3.5.1"
  }
 },
 "nbformat": 4,
 "nbformat_minor": 0
}
