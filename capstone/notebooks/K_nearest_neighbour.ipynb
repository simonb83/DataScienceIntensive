{
 "cells": [
  {
   "cell_type": "code",
   "execution_count": 7,
   "metadata": {
    "collapsed": true
   },
   "outputs": [],
   "source": [
    "import skimage.io as io\n",
    "from skimage.color import rgb2gray\n",
    "import os\n",
    "import pandas as pd\n",
    "import numpy as np\n",
    "from imp import reload\n",
    "from sklearn.neighbors import KNeighborsClassifier\n",
    "import sys\n",
    "sys.path.append('../')\n",
    "import helpers.image_processing as im\n",
    "import helpers.histogram_classifier as hc"
   ]
  },
  {
   "cell_type": "markdown",
   "metadata": {},
   "source": [
    "Get the image classes and names:"
   ]
  },
  {
   "cell_type": "code",
   "execution_count": 9,
   "metadata": {
    "collapsed": false
   },
   "outputs": [],
   "source": [
    "classes = pd.read_csv('../data/food-101/meta/top_classes.csv', index_col=0)\n",
    "class_list = list(classes['class'].unique())\n",
    "\n",
    "image_names = {}\n",
    "for c in class_list:\n",
    "    image_names[c] = np.array(classes[classes['class'] == c]['name'])"
   ]
  },
  {
   "cell_type": "code",
   "execution_count": 20,
   "metadata": {
    "collapsed": false
   },
   "outputs": [],
   "source": [
    "def run_knn(class_list, image_names, hist_type, weight_type):\n",
    "    \"\"\"\n",
    "    Initializes and runs a K-nearest neighbors model, and then tests the classification accuracy\n",
    "    :params class_list: list of relevant image classes\n",
    "    :params image_names: dictionary of image names for each class\n",
    "    :params hist_type: name of method for calculating histogram; choices are: (greyscale_histogram, \n",
    "        color_histogram, complete_histogram)\n",
    "    :params weight_type: type of weighting to use in KNN model; Uniform or Weighted\n",
    "    :return: prints out classification accuracy\n",
    "    \"\"\"    \n",
    "    # Split into test and training data\n",
    "    train = {}\n",
    "    test = {}\n",
    "    for k, v in image_names.items():\n",
    "        np.random.shuffle(v)\n",
    "        train[k] = v[:750]\n",
    "        test[k] = v[750:]\n",
    "        \n",
    "    # Create actual labels and data\n",
    "    labels = []\n",
    "    data = []\n",
    "\n",
    "    for c in class_list:\n",
    "        for i in train[c]:\n",
    "            img = io.imread(os.path.join('../data/food-101/top_classes/', c, '', i))\n",
    "            if hist_type == 'Greyscale':\n",
    "                hist, bins = hc.greyscale_histogram(img)\n",
    "            elif hist_type == 'RGB':\n",
    "                hist = hc.color_histogram(img)\n",
    "            elif hist_type == 'Complete':\n",
    "                hist = hc.complete_histogram(img)\n",
    "            labels.append(c)\n",
    "            data.append(hist)\n",
    "            \n",
    "    # Initialize model\n",
    "    if weight_type == 'Uniform':\n",
    "        neigh = KNeighborsClassifier(n_neighbors=10)\n",
    "    elif weight_type == 'Weighted':\n",
    "        neigh = KNeighborsClassifier(n_neighbors=10, weights='distance')\n",
    "    \n",
    "    # Fit the model to the data\n",
    "    neigh.fit(np.array(data), np.array(labels))\n",
    "    \n",
    "    # Test the fitted model on the test data\n",
    "    \n",
    "    actual = []\n",
    "    test_data = []\n",
    "\n",
    "    for c in class_list:\n",
    "        for i in test[c]:\n",
    "            img = io.imread(os.path.join('../data/food-101/top_classes/', c, '', i))\n",
    "            if hist_type == 'Greyscale':\n",
    "                hist, bins = hc.greyscale_histogram(img)\n",
    "            elif hist_type == 'RGB':\n",
    "                hist = hc.color_histogram(img)\n",
    "            elif hist_type == 'Complete':\n",
    "                hist = hc.complete_histogram(img)\n",
    "            actual.append(c)\n",
    "            test_data.append(hist)\n",
    "\n",
    "    predicted = neigh.predict(np.array(test_data))\n",
    "    actual = np.array(actual)\n",
    "    classification_rate = sum(predicted == actual) / len(predicted)\n",
    "\n",
    "    print(\"Using {} histogram and {} voting, classification rate is {:.2f}%\".format(hist_type, weight_type, classification_rate*100))"
   ]
  },
  {
   "cell_type": "markdown",
   "metadata": {},
   "source": [
    "***Version 1: Greyscale Only***"
   ]
  },
  {
   "cell_type": "code",
   "execution_count": 16,
   "metadata": {
    "collapsed": false
   },
   "outputs": [
    {
     "name": "stdout",
     "output_type": "stream",
     "text": [
      "Using Greyscale histogram and Uniform voting, classification rate is 15.97%\n"
     ]
    }
   ],
   "source": [
    "run_knn(class_list, image_names, 'Greyscale', 'Uniform')"
   ]
  },
  {
   "cell_type": "markdown",
   "metadata": {},
   "source": [
    "***Version 1b: Greyscale, weighted***"
   ]
  },
  {
   "cell_type": "code",
   "execution_count": 17,
   "metadata": {
    "collapsed": false
   },
   "outputs": [
    {
     "name": "stdout",
     "output_type": "stream",
     "text": [
      "Using Greyscale histogram and Weighted voting, classification rate is 15.47%\n"
     ]
    }
   ],
   "source": [
    "run_knn(class_list, image_names, 'Greyscale', 'Weighted')"
   ]
  },
  {
   "cell_type": "markdown",
   "metadata": {},
   "source": [
    "***Version 2: RGB***"
   ]
  },
  {
   "cell_type": "code",
   "execution_count": 21,
   "metadata": {
    "collapsed": false
   },
   "outputs": [
    {
     "name": "stdout",
     "output_type": "stream",
     "text": [
      "Using RGB histogram and Uniform voting, classification rate is 18.63%\n"
     ]
    }
   ],
   "source": [
    "run_knn(class_list, image_names, 'RGB', 'Uniform')"
   ]
  },
  {
   "cell_type": "markdown",
   "metadata": {},
   "source": [
    "***Version 2b: RGB, weighted***"
   ]
  },
  {
   "cell_type": "code",
   "execution_count": 22,
   "metadata": {
    "collapsed": false
   },
   "outputs": [
    {
     "name": "stdout",
     "output_type": "stream",
     "text": [
      "Using RGB histogram and Weighted voting, classification rate is 19.03%\n"
     ]
    }
   ],
   "source": [
    "run_knn(class_list, image_names, 'RGB', 'Weighted')"
   ]
  },
  {
   "cell_type": "markdown",
   "metadata": {},
   "source": [
    "***Version 3: RGB + Greyscale***"
   ]
  },
  {
   "cell_type": "code",
   "execution_count": 23,
   "metadata": {
    "collapsed": false
   },
   "outputs": [
    {
     "name": "stdout",
     "output_type": "stream",
     "text": [
      "Using Complete histogram and Uniform voting, classification rate is 19.50%\n"
     ]
    }
   ],
   "source": [
    "run_knn(class_list, image_names, 'Complete', 'Uniform')"
   ]
  },
  {
   "cell_type": "markdown",
   "metadata": {},
   "source": [
    "***Version 3b: RGB, weighted***"
   ]
  },
  {
   "cell_type": "code",
   "execution_count": 24,
   "metadata": {
    "collapsed": false
   },
   "outputs": [
    {
     "name": "stdout",
     "output_type": "stream",
     "text": [
      "Using Complete histogram and Weighted voting, classification rate is 18.77%\n"
     ]
    }
   ],
   "source": [
    "run_knn(class_list, image_names, 'Complete', 'Weighted')"
   ]
  },
  {
   "cell_type": "code",
   "execution_count": null,
   "metadata": {
    "collapsed": true
   },
   "outputs": [],
   "source": []
  }
 ],
 "metadata": {
  "kernelspec": {
   "display_name": "Python 3",
   "language": "python",
   "name": "python3"
  },
  "language_info": {
   "codemirror_mode": {
    "name": "ipython",
    "version": 3
   },
   "file_extension": ".py",
   "mimetype": "text/x-python",
   "name": "python",
   "nbconvert_exporter": "python",
   "pygments_lexer": "ipython3",
   "version": "3.5.1"
  }
 },
 "nbformat": 4,
 "nbformat_minor": 0
}
