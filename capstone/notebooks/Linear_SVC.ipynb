{
 "cells": [
  {
   "cell_type": "code",
   "execution_count": 1,
   "metadata": {
    "collapsed": false
   },
   "outputs": [],
   "source": [
    "%matplotlib inline\n",
    "import matplotlib.pyplot as plt\n",
    "import pandas as pd\n",
    "import numpy as np\n",
    "import skimage.io as io\n",
    "from skimage import feature\n",
    "from skimage.transform import resize\n",
    "from sklearn.feature_selection import VarianceThreshold\n",
    "from skimage.color import rgb2gray\n",
    "from sklearn.decomposition import PCA\n",
    "from sklearn.grid_search import GridSearchCV\n",
    "from sklearn.svm import LinearSVC\n",
    "from skimage.filters import gabor\n",
    "from skimage.feature import corner_fast, corner_peaks, corner_harris\n",
    "from sklearn.preprocessing import MinMaxScaler\n",
    "import sys\n",
    "import os\n",
    "sys.path.append('../')\n",
    "import helpers.histogram_classifier as hc"
   ]
  },
  {
   "cell_type": "code",
   "execution_count": 2,
   "metadata": {
    "collapsed": true
   },
   "outputs": [],
   "source": [
    "def sub_grid(image, size=32):\n",
    "    \"\"\"\n",
    "    Split an image into a grid of non-overlapping square boxes, and return each box in turn\n",
    "    :params image: image as numpy array\n",
    "    :params size: side-length of box to use; should be a power of 2\n",
    "    :return: yields each box in turn\n",
    "    \"\"\"\n",
    "    pic_size = image.shape\n",
    "    box_side = size\n",
    "    for x in range(0, pic_size[0], box_side):\n",
    "        for y in range(0, pic_size[1], box_side):\n",
    "            yield image[x:x + box_side, y:y + box_side, :]"
   ]
  },
  {
   "cell_type": "code",
   "execution_count": 3,
   "metadata": {
    "collapsed": false
   },
   "outputs": [
    {
     "data": {
      "text/html": [
       "<style>body {\n",
       "    margin: 0;\n",
       "    font-family: Helvetica;\n",
       "}\n",
       "table.dataframe {\n",
       "    border-collapse: collapse;\n",
       "    border: none;\n",
       "    font-size: 12px;\n",
       "}\n",
       "table.dataframe tr {\n",
       "    border: none;\n",
       "    line-height: 14px;\n",
       "}\n",
       "table.dataframe td, table.dataframe th {\n",
       "    margin: 0;\n",
       "    border: 1px solid white;\n",
       "    padding-left: 0.7em;\n",
       "    padding-right: 0.7em;\n",
       "}\n",
       "table.dataframe th {\n",
       "    background-color: #1c9099;\n",
       "    text-align: center;\n",
       "    font-weight: normal;\n",
       "    color: white;\n",
       "}\n",
       "table.dataframe td {\n",
       "    border: 1px solid #ccf;\n",
       "    background-color: #f4f4ff;\n",
       "    text-align: center;\n",
       "}\n",
       "</style>"
      ],
      "text/plain": [
       "<IPython.core.display.HTML object>"
      ]
     },
     "execution_count": 3,
     "metadata": {},
     "output_type": "execute_result"
    }
   ],
   "source": [
    "from IPython.core.display import HTML\n",
    "css = open('styles/table-style.css').read() #+ open('style-notebook.css').read()\n",
    "HTML('<style>{}</style>'.format(css))"
   ]
  },
  {
   "cell_type": "code",
   "execution_count": 4,
   "metadata": {
    "collapsed": false
   },
   "outputs": [],
   "source": [
    "def get_image_features(img, box_size):\n",
    "    \"\"\"\n",
    "    Get RGB and edge features for a single image by splitting the image into a grid of non-overlapping\n",
    "    square boxes, and obtaining features for each box\n",
    "    :params img: image as a numpy array\n",
    "    :params box_size: the side-length in pixels of the box to be used\n",
    "    :return: mean Red pixel value in each box\n",
    "    :return: mean Green pixel value in each box\n",
    "    :return: mean Blue pixel value in each box\n",
    "    :return: number of edges in each box, extracted using skimage canny edges algorithm\n",
    "    :return: number of corners in each box, extracted using skimage corner_fast algorithm\n",
    "    \"\"\"\n",
    "    image_features = []\n",
    "    for box in sub_grid(img, size=box_size):\n",
    "        features = []\n",
    "        features.append(np.mean(box[:, :, 0]))\n",
    "        features.append(np.mean(box[:, :, 1]))\n",
    "        features.append(np.mean(box[:, :, 2]))\n",
    "        features.append(np.sum(feature.canny(rgb2gray(box), sigma=1)))\n",
    "        features.append(corner_peaks(corner_fast(rgb2gray(box))).shape[0])\n",
    "        image_features.append(np.array(features))\n",
    "    image_features = np.array(image_features)\n",
    "    return image_features[:, 0], image_features[:, 1], image_features[:, 2], image_features[:, 3], image_features[:, 4]"
   ]
  },
  {
   "cell_type": "code",
   "execution_count": 5,
   "metadata": {
    "collapsed": false
   },
   "outputs": [],
   "source": [
    "def get_complete_features(image_classes, image_names, box_size):\n",
    "    \"\"\"\n",
    "    Get RGB and edge features for a dictionary of image names\n",
    "    :params image_classes: list of n image classes\n",
    "    :params image_names: dictionary of m image names for each class\n",
    "    :params size: size as tuple for reshaping images for extracting edges and corners\n",
    "    :return: red_features: average red pixel value for each box in each image\n",
    "    :return: green_features: average green pixel value for each box in each image\n",
    "    :return: blue_features: average blue pixel value for each box in each image\n",
    "    :return: edge_features: number of edges detected for each box in each image\n",
    "    :return: corner_features: number of corners detected for each box in each image\n",
    "    :return: labels: array of true labels for each image\n",
    "    \"\"\"\n",
    "    red_features = []\n",
    "    green_features = []\n",
    "    blue_features = []\n",
    "    edge_features = []\n",
    "    corner_features = []\n",
    "    labels = []\n",
    "    for c in image_classes:\n",
    "        for i in image_names[c]:\n",
    "            img = io.imread(os.path.join(\"../data/food-101/top_classes/\", c, \"\", i))\n",
    "            red, green, blue, edge, corners = get_image_features(img, box_size=box_size)\n",
    "            red_features.append(red)\n",
    "            green_features.append(green)\n",
    "            blue_features.append(blue)\n",
    "            edge_features.append(edge)\n",
    "            corner_features.append(corners)\n",
    "            labels.append(c)\n",
    "    \n",
    "    return np.array(red_features), np.array(green_features), np.array(blue_features), np.array(edge_features), np.array(corner_features), np.array(labels)"
   ]
  },
  {
   "cell_type": "code",
   "execution_count": 6,
   "metadata": {
    "collapsed": true
   },
   "outputs": [],
   "source": [
    "PCA_components = 256\n",
    "BOX = 32"
   ]
  },
  {
   "cell_type": "code",
   "execution_count": 7,
   "metadata": {
    "collapsed": false
   },
   "outputs": [],
   "source": [
    "classes = pd.read_csv('../data/food-101/meta/top_classes.csv', index_col=0)\n",
    "class_list = list(classes['class'].unique())\n",
    "\n",
    "image_names = {}\n",
    "for c in class_list:\n",
    "    image_names[c] = np.array(classes[classes['class'] == c]['name'])"
   ]
  },
  {
   "cell_type": "code",
   "execution_count": 8,
   "metadata": {
    "collapsed": true
   },
   "outputs": [],
   "source": [
    "train, test = hc.split_data(image_names, 0.75)"
   ]
  },
  {
   "cell_type": "markdown",
   "metadata": {},
   "source": [
    "for c in class_list:\n",
    "    train[c] = train[c][:20]\n",
    "    test[c] = test[c][:5]"
   ]
  },
  {
   "cell_type": "code",
   "execution_count": 9,
   "metadata": {
    "collapsed": false
   },
   "outputs": [],
   "source": [
    "#Get complete histogram features, edge and corners\n",
    "all_red_features, all_green_features, all_blue_features, all_edge_features, all_corner_features, train_labels = get_complete_features(class_list, train, BOX)"
   ]
  },
  {
   "cell_type": "code",
   "execution_count": 10,
   "metadata": {
    "collapsed": false
   },
   "outputs": [],
   "source": [
    "#Get top features using PCA for red features\n",
    "if all_red_features.shape[1] > PCA_components:\n",
    "    red_pca = PCA(n_components=PCA_components)\n",
    "    red_pca.fit(all_red_features)\n",
    "    final_red_features = red_pca.transform(kept_red_features)\n",
    "else:\n",
    "    final_red_features = all_red_features"
   ]
  },
  {
   "cell_type": "code",
   "execution_count": 11,
   "metadata": {
    "collapsed": false
   },
   "outputs": [],
   "source": [
    "#Get top features using PCA for green features\n",
    "if all_green_features.shape[1] > PCA_components:\n",
    "    green_pca = PCA(n_components=PCA_components)\n",
    "    green_pca.fit(all_green_features)\n",
    "    final_green_features = green_pca.transform(all_green_features)\n",
    "else:\n",
    "    final_green_features = all_green_features"
   ]
  },
  {
   "cell_type": "code",
   "execution_count": 12,
   "metadata": {
    "collapsed": true
   },
   "outputs": [],
   "source": [
    "#Get top features using PCA for blue features\n",
    "if all_blue_features.shape[1] > PCA_components:\n",
    "    blue_pca = PCA(n_components=PCA_components)\n",
    "    blue_pca.fit(all_blue_features)\n",
    "    final_blue_features = blue_pca.transform(all_blue_features)\n",
    "else:\n",
    "    final_blue_features = all_blue_features"
   ]
  },
  {
   "cell_type": "code",
   "execution_count": 13,
   "metadata": {
    "collapsed": true
   },
   "outputs": [],
   "source": [
    "#Get top features using PCA for edge features\n",
    "if all_edge_features.shape[1] > PCA_components:\n",
    "    edge_pca = PCA(n_components=PCA_components)\n",
    "    edge_pca.fit(all_edge_features)\n",
    "    final_edge_features = edge_pca.transform(all_edge_features)\n",
    "else:\n",
    "    final_edge_features = all_edge_features"
   ]
  },
  {
   "cell_type": "code",
   "execution_count": 14,
   "metadata": {
    "collapsed": true
   },
   "outputs": [],
   "source": [
    "#Get top features using PCA for corner features\n",
    "if all_corner_features.shape[1] > PCA_components:\n",
    "    corner_pca = PCA(n_components=PCA_components)\n",
    "    corner_pca.fit(all_corner_features)\n",
    "    final_corner_features = corner_pca.transform(all_corner_features)\n",
    "else:\n",
    "    final_corner_features = all_corner_features"
   ]
  },
  {
   "cell_type": "code",
   "execution_count": 15,
   "metadata": {
    "collapsed": true
   },
   "outputs": [],
   "source": [
    "red_scaler = MinMaxScaler()\n",
    "final_red_features = red_scaler.fit_transform(final_red_features)\n",
    "green_scaler = MinMaxScaler()\n",
    "final_green_features = green_scaler.fit_transform(final_green_features)\n",
    "blue_scaler = MinMaxScaler()\n",
    "final_blue_features = blue_scaler.fit_transform(final_blue_features)\n",
    "edge_scaler = MinMaxScaler()\n",
    "final_edge_features = edge_scaler.fit_transform(final_edge_features)\n",
    "corner_scaler = MinMaxScaler()\n",
    "final_corner_features = corner_scaler.fit_transform(final_corner_features)"
   ]
  },
  {
   "cell_type": "code",
   "execution_count": 16,
   "metadata": {
    "collapsed": true
   },
   "outputs": [],
   "source": [
    "all_features = np.concatenate((final_red_features, final_green_features, final_blue_features, final_edge_features, final_corner_features), axis=1)"
   ]
  },
  {
   "cell_type": "code",
   "execution_count": 17,
   "metadata": {
    "collapsed": true
   },
   "outputs": [],
   "source": [
    "#Setup grid-search for top parameters\n",
    "c_vals = np.array([1e-5, 1e-3, 1e-1, 1, 10])\n",
    "model = LinearSVC()\n",
    "grid = GridSearchCV(estimator=model, param_grid=dict(C=c_vals), n_jobs=-1)"
   ]
  },
  {
   "cell_type": "code",
   "execution_count": 18,
   "metadata": {
    "collapsed": false
   },
   "outputs": [
    {
     "data": {
      "text/plain": [
       "GridSearchCV(cv=None, error_score='raise',\n",
       "       estimator=LinearSVC(C=1.0, class_weight=None, dual=True, fit_intercept=True,\n",
       "     intercept_scaling=1, loss='squared_hinge', max_iter=1000,\n",
       "     multi_class='ovr', penalty='l2', random_state=None, tol=0.0001,\n",
       "     verbose=0),\n",
       "       fit_params={}, iid=True, n_jobs=-1,\n",
       "       param_grid={'C': array([  1.00000e-05,   1.00000e-03,   1.00000e-01,   1.00000e+00,\n",
       "         1.00000e+01])},\n",
       "       pre_dispatch='2*n_jobs', refit=True, scoring=None, verbose=0)"
      ]
     },
     "execution_count": 18,
     "metadata": {},
     "output_type": "execute_result"
    }
   ],
   "source": [
    "grid.fit(all_features, train_labels)"
   ]
  },
  {
   "cell_type": "code",
   "execution_count": 19,
   "metadata": {
    "collapsed": false
   },
   "outputs": [
    {
     "name": "stdout",
     "output_type": "stream",
     "text": [
      "Best score = 0.30533333333333335\n",
      "C: 0.001\n"
     ]
    }
   ],
   "source": [
    "print(\"Best score = {}\".format(grid.best_score_))\n",
    "print(\"C: {}\".format(grid.best_estimator_.C))"
   ]
  },
  {
   "cell_type": "code",
   "execution_count": 20,
   "metadata": {
    "collapsed": false
   },
   "outputs": [
    {
     "name": "stdout",
     "output_type": "stream",
     "text": [
      "CPU times: user 4.5 s, sys: 44.6 ms, total: 4.55 s\n",
      "Wall time: 4.55 s\n"
     ]
    }
   ],
   "source": [
    "%%time\n",
    "svc = LinearSVC(C=grid.best_estimator_.C)\n",
    "svc.fit(all_features, train_labels)"
   ]
  },
  {
   "cell_type": "code",
   "execution_count": 21,
   "metadata": {
    "collapsed": false
   },
   "outputs": [],
   "source": [
    "#Get Test Features\n",
    "all_red_features_t, all_green_features_t, all_blue_features_t, all_edge_features_t, all_corner_features_t, test_labels = get_complete_features(class_list, test, BOX)"
   ]
  },
  {
   "cell_type": "code",
   "execution_count": 22,
   "metadata": {
    "collapsed": false
   },
   "outputs": [],
   "source": [
    "if all_red_features_t.shape[1] > PCA_components:\n",
    "    final_red_t = red_pca.transform(all_red_features_t)\n",
    "else:\n",
    "    final_red_t = all_red_features_t\n",
    "\n",
    "if all_green_features_t.shape[1] > PCA_components:\n",
    "    final_green_t = green_pca.transform(all_green_features_t)\n",
    "else:\n",
    "    final_green_t = all_green_features_t\n",
    "    \n",
    "if all_blue_features_t.shape[1] > PCA_components:\n",
    "    final_blue_t = blue_pca.transform(all_blue_features_t)\n",
    "else:\n",
    "    final_blue_t = all_blue_features_t\n",
    "\n",
    "if all_edge_features_t.shape[1] > PCA_components:\n",
    "    final_edge_t = edge_pca.transform(all_edge_features_t)\n",
    "else:\n",
    "    final_edge_t = all_edge_features_t\n",
    "    \n",
    "if all_corner_features_t.shape[1] > PCA_components:\n",
    "    final_corner_t = corner_pca.transform(all_corner_features_t)\n",
    "else:\n",
    "    final_corner_t = all_corner_features_t"
   ]
  },
  {
   "cell_type": "code",
   "execution_count": 23,
   "metadata": {
    "collapsed": true
   },
   "outputs": [],
   "source": [
    "red_scaler = MinMaxScaler()\n",
    "final_red_t = red_scaler.fit_transform(final_red_t)\n",
    "green_scaler = MinMaxScaler()\n",
    "final_green_t = green_scaler.fit_transform(final_green_t)\n",
    "blue_scaler = MinMaxScaler()\n",
    "final_blue_t = blue_scaler.fit_transform(final_blue_t)\n",
    "edge_scaler = MinMaxScaler()\n",
    "final_edge_t = edge_scaler.fit_transform(final_edge_t)\n",
    "corner_scaler = MinMaxScaler()\n",
    "final_corner_t = corner_scaler.fit_transform(final_corner_t)"
   ]
  },
  {
   "cell_type": "code",
   "execution_count": 24,
   "metadata": {
    "collapsed": true
   },
   "outputs": [],
   "source": [
    "final_test_features = np.concatenate((final_red_t, final_green_t, final_blue_t, final_edge_t, final_corner_t), axis=1)"
   ]
  },
  {
   "cell_type": "code",
   "execution_count": 25,
   "metadata": {
    "collapsed": false
   },
   "outputs": [
    {
     "name": "stdout",
     "output_type": "stream",
     "text": [
      "CPU times: user 14.9 ms, sys: 1.26 ms, total: 16.2 ms\n",
      "Wall time: 10.2 ms\n"
     ]
    }
   ],
   "source": [
    "%%time\n",
    "predicted_labels = svc.predict(final_test_features)"
   ]
  },
  {
   "cell_type": "code",
   "execution_count": 26,
   "metadata": {
    "collapsed": false
   },
   "outputs": [],
   "source": [
    "overall, metrics, confusion = hc.get_metrics(test_labels, predicted_labels, class_list)"
   ]
  },
  {
   "cell_type": "code",
   "execution_count": 27,
   "metadata": {
    "collapsed": false
   },
   "outputs": [
    {
     "data": {
      "text/html": [
       "<div>\n",
       "<table border=\"1\" class=\"dataframe\">\n",
       "  <thead>\n",
       "    <tr style=\"text-align: right;\">\n",
       "      <th></th>\n",
       "      <th>Accuracy</th>\n",
       "      <th>F1</th>\n",
       "      <th>Precision</th>\n",
       "      <th>Recall</th>\n",
       "    </tr>\n",
       "  </thead>\n",
       "  <tbody>\n",
       "    <tr>\n",
       "      <th>Results</th>\n",
       "      <td>0.304</td>\n",
       "      <td>0.284</td>\n",
       "      <td>0.297</td>\n",
       "      <td>0.304</td>\n",
       "    </tr>\n",
       "  </tbody>\n",
       "</table>\n",
       "</div>"
      ],
      "text/plain": [
       "         Accuracy     F1  Precision  Recall\n",
       "Results     0.304  0.284      0.297   0.304"
      ]
     },
     "execution_count": 27,
     "metadata": {},
     "output_type": "execute_result"
    }
   ],
   "source": [
    "overall"
   ]
  },
  {
   "cell_type": "code",
   "execution_count": 28,
   "metadata": {
    "collapsed": false
   },
   "outputs": [
    {
     "data": {
      "text/html": [
       "<div>\n",
       "<table border=\"1\" class=\"dataframe\">\n",
       "  <thead>\n",
       "    <tr style=\"text-align: right;\">\n",
       "      <th></th>\n",
       "      <th>Precision</th>\n",
       "      <th>Recall</th>\n",
       "      <th>F1-Score</th>\n",
       "      <th>Support</th>\n",
       "    </tr>\n",
       "  </thead>\n",
       "  <tbody>\n",
       "    <tr>\n",
       "      <th>pork_chop</th>\n",
       "      <td>0.37</td>\n",
       "      <td>0.34</td>\n",
       "      <td>0.36</td>\n",
       "      <td>250.0</td>\n",
       "    </tr>\n",
       "    <tr>\n",
       "      <th>lasagna</th>\n",
       "      <td>0.32</td>\n",
       "      <td>0.19</td>\n",
       "      <td>0.24</td>\n",
       "      <td>250.0</td>\n",
       "    </tr>\n",
       "    <tr>\n",
       "      <th>french_toast</th>\n",
       "      <td>0.25</td>\n",
       "      <td>0.18</td>\n",
       "      <td>0.21</td>\n",
       "      <td>250.0</td>\n",
       "    </tr>\n",
       "    <tr>\n",
       "      <th>guacamole</th>\n",
       "      <td>0.36</td>\n",
       "      <td>0.46</td>\n",
       "      <td>0.41</td>\n",
       "      <td>250.0</td>\n",
       "    </tr>\n",
       "    <tr>\n",
       "      <th>apple_pie</th>\n",
       "      <td>0.20</td>\n",
       "      <td>0.07</td>\n",
       "      <td>0.11</td>\n",
       "      <td>250.0</td>\n",
       "    </tr>\n",
       "    <tr>\n",
       "      <th>cheesecake</th>\n",
       "      <td>0.32</td>\n",
       "      <td>0.53</td>\n",
       "      <td>0.40</td>\n",
       "      <td>250.0</td>\n",
       "    </tr>\n",
       "    <tr>\n",
       "      <th>hamburger</th>\n",
       "      <td>0.27</td>\n",
       "      <td>0.19</td>\n",
       "      <td>0.23</td>\n",
       "      <td>250.0</td>\n",
       "    </tr>\n",
       "    <tr>\n",
       "      <th>fried_rice</th>\n",
       "      <td>0.35</td>\n",
       "      <td>0.24</td>\n",
       "      <td>0.29</td>\n",
       "      <td>250.0</td>\n",
       "    </tr>\n",
       "    <tr>\n",
       "      <th>carrot_cake</th>\n",
       "      <td>0.21</td>\n",
       "      <td>0.15</td>\n",
       "      <td>0.18</td>\n",
       "      <td>250.0</td>\n",
       "    </tr>\n",
       "    <tr>\n",
       "      <th>chocolate_cake</th>\n",
       "      <td>0.34</td>\n",
       "      <td>0.42</td>\n",
       "      <td>0.38</td>\n",
       "      <td>250.0</td>\n",
       "    </tr>\n",
       "    <tr>\n",
       "      <th>steak</th>\n",
       "      <td>0.30</td>\n",
       "      <td>0.20</td>\n",
       "      <td>0.24</td>\n",
       "      <td>250.0</td>\n",
       "    </tr>\n",
       "    <tr>\n",
       "      <th>pizza</th>\n",
       "      <td>0.27</td>\n",
       "      <td>0.66</td>\n",
       "      <td>0.38</td>\n",
       "      <td>250.0</td>\n",
       "    </tr>\n",
       "  </tbody>\n",
       "</table>\n",
       "</div>"
      ],
      "text/plain": [
       "                Precision  Recall  F1-Score  Support\n",
       "pork_chop            0.37    0.34      0.36    250.0\n",
       "lasagna              0.32    0.19      0.24    250.0\n",
       "french_toast         0.25    0.18      0.21    250.0\n",
       "guacamole            0.36    0.46      0.41    250.0\n",
       "apple_pie            0.20    0.07      0.11    250.0\n",
       "cheesecake           0.32    0.53      0.40    250.0\n",
       "hamburger            0.27    0.19      0.23    250.0\n",
       "fried_rice           0.35    0.24      0.29    250.0\n",
       "carrot_cake          0.21    0.15      0.18    250.0\n",
       "chocolate_cake       0.34    0.42      0.38    250.0\n",
       "steak                0.30    0.20      0.24    250.0\n",
       "pizza                0.27    0.66      0.38    250.0"
      ]
     },
     "execution_count": 28,
     "metadata": {},
     "output_type": "execute_result"
    }
   ],
   "source": [
    "metrics"
   ]
  },
  {
   "cell_type": "code",
   "execution_count": 29,
   "metadata": {
    "collapsed": false
   },
   "outputs": [
    {
     "data": {
      "text/html": [
       "<div>\n",
       "<table border=\"1\" class=\"dataframe\">\n",
       "  <thead>\n",
       "    <tr style=\"text-align: right;\">\n",
       "      <th></th>\n",
       "      <th>pork_chop</th>\n",
       "      <th>lasagna</th>\n",
       "      <th>french_toast</th>\n",
       "      <th>guacamole</th>\n",
       "      <th>apple_pie</th>\n",
       "      <th>cheesecake</th>\n",
       "      <th>hamburger</th>\n",
       "      <th>fried_rice</th>\n",
       "      <th>carrot_cake</th>\n",
       "      <th>chocolate_cake</th>\n",
       "      <th>steak</th>\n",
       "      <th>pizza</th>\n",
       "    </tr>\n",
       "  </thead>\n",
       "  <tbody>\n",
       "    <tr>\n",
       "      <th>pork_chop</th>\n",
       "      <td>86</td>\n",
       "      <td>10</td>\n",
       "      <td>15</td>\n",
       "      <td>8</td>\n",
       "      <td>3</td>\n",
       "      <td>11</td>\n",
       "      <td>6</td>\n",
       "      <td>11</td>\n",
       "      <td>16</td>\n",
       "      <td>18</td>\n",
       "      <td>32</td>\n",
       "      <td>34</td>\n",
       "    </tr>\n",
       "    <tr>\n",
       "      <th>lasagna</th>\n",
       "      <td>23</td>\n",
       "      <td>48</td>\n",
       "      <td>28</td>\n",
       "      <td>17</td>\n",
       "      <td>12</td>\n",
       "      <td>18</td>\n",
       "      <td>10</td>\n",
       "      <td>14</td>\n",
       "      <td>11</td>\n",
       "      <td>5</td>\n",
       "      <td>11</td>\n",
       "      <td>53</td>\n",
       "    </tr>\n",
       "    <tr>\n",
       "      <th>french_toast</th>\n",
       "      <td>17</td>\n",
       "      <td>26</td>\n",
       "      <td>45</td>\n",
       "      <td>13</td>\n",
       "      <td>6</td>\n",
       "      <td>16</td>\n",
       "      <td>10</td>\n",
       "      <td>13</td>\n",
       "      <td>12</td>\n",
       "      <td>28</td>\n",
       "      <td>18</td>\n",
       "      <td>46</td>\n",
       "    </tr>\n",
       "    <tr>\n",
       "      <th>guacamole</th>\n",
       "      <td>7</td>\n",
       "      <td>6</td>\n",
       "      <td>2</td>\n",
       "      <td>116</td>\n",
       "      <td>5</td>\n",
       "      <td>18</td>\n",
       "      <td>13</td>\n",
       "      <td>11</td>\n",
       "      <td>11</td>\n",
       "      <td>10</td>\n",
       "      <td>9</td>\n",
       "      <td>42</td>\n",
       "    </tr>\n",
       "    <tr>\n",
       "      <th>apple_pie</th>\n",
       "      <td>9</td>\n",
       "      <td>12</td>\n",
       "      <td>9</td>\n",
       "      <td>24</td>\n",
       "      <td>18</td>\n",
       "      <td>52</td>\n",
       "      <td>22</td>\n",
       "      <td>13</td>\n",
       "      <td>27</td>\n",
       "      <td>13</td>\n",
       "      <td>5</td>\n",
       "      <td>46</td>\n",
       "    </tr>\n",
       "    <tr>\n",
       "      <th>cheesecake</th>\n",
       "      <td>2</td>\n",
       "      <td>6</td>\n",
       "      <td>8</td>\n",
       "      <td>16</td>\n",
       "      <td>7</td>\n",
       "      <td>132</td>\n",
       "      <td>16</td>\n",
       "      <td>1</td>\n",
       "      <td>7</td>\n",
       "      <td>35</td>\n",
       "      <td>5</td>\n",
       "      <td>15</td>\n",
       "    </tr>\n",
       "    <tr>\n",
       "      <th>hamburger</th>\n",
       "      <td>5</td>\n",
       "      <td>11</td>\n",
       "      <td>14</td>\n",
       "      <td>23</td>\n",
       "      <td>14</td>\n",
       "      <td>24</td>\n",
       "      <td>48</td>\n",
       "      <td>18</td>\n",
       "      <td>17</td>\n",
       "      <td>12</td>\n",
       "      <td>4</td>\n",
       "      <td>60</td>\n",
       "    </tr>\n",
       "    <tr>\n",
       "      <th>fried_rice</th>\n",
       "      <td>10</td>\n",
       "      <td>8</td>\n",
       "      <td>11</td>\n",
       "      <td>44</td>\n",
       "      <td>8</td>\n",
       "      <td>20</td>\n",
       "      <td>8</td>\n",
       "      <td>61</td>\n",
       "      <td>11</td>\n",
       "      <td>8</td>\n",
       "      <td>3</td>\n",
       "      <td>58</td>\n",
       "    </tr>\n",
       "    <tr>\n",
       "      <th>carrot_cake</th>\n",
       "      <td>17</td>\n",
       "      <td>5</td>\n",
       "      <td>10</td>\n",
       "      <td>20</td>\n",
       "      <td>9</td>\n",
       "      <td>54</td>\n",
       "      <td>23</td>\n",
       "      <td>9</td>\n",
       "      <td>38</td>\n",
       "      <td>24</td>\n",
       "      <td>5</td>\n",
       "      <td>36</td>\n",
       "    </tr>\n",
       "    <tr>\n",
       "      <th>chocolate_cake</th>\n",
       "      <td>15</td>\n",
       "      <td>4</td>\n",
       "      <td>16</td>\n",
       "      <td>10</td>\n",
       "      <td>3</td>\n",
       "      <td>40</td>\n",
       "      <td>6</td>\n",
       "      <td>1</td>\n",
       "      <td>14</td>\n",
       "      <td>106</td>\n",
       "      <td>16</td>\n",
       "      <td>19</td>\n",
       "    </tr>\n",
       "    <tr>\n",
       "      <th>steak</th>\n",
       "      <td>38</td>\n",
       "      <td>7</td>\n",
       "      <td>12</td>\n",
       "      <td>13</td>\n",
       "      <td>3</td>\n",
       "      <td>20</td>\n",
       "      <td>8</td>\n",
       "      <td>6</td>\n",
       "      <td>10</td>\n",
       "      <td>46</td>\n",
       "      <td>49</td>\n",
       "      <td>38</td>\n",
       "    </tr>\n",
       "    <tr>\n",
       "      <th>pizza</th>\n",
       "      <td>5</td>\n",
       "      <td>5</td>\n",
       "      <td>10</td>\n",
       "      <td>15</td>\n",
       "      <td>2</td>\n",
       "      <td>8</td>\n",
       "      <td>6</td>\n",
       "      <td>17</td>\n",
       "      <td>3</td>\n",
       "      <td>7</td>\n",
       "      <td>7</td>\n",
       "      <td>165</td>\n",
       "    </tr>\n",
       "  </tbody>\n",
       "</table>\n",
       "</div>"
      ],
      "text/plain": [
       "                pork_chop  lasagna  french_toast  guacamole  apple_pie  \\\n",
       "pork_chop              86       10            15          8          3   \n",
       "lasagna                23       48            28         17         12   \n",
       "french_toast           17       26            45         13          6   \n",
       "guacamole               7        6             2        116          5   \n",
       "apple_pie               9       12             9         24         18   \n",
       "cheesecake              2        6             8         16          7   \n",
       "hamburger               5       11            14         23         14   \n",
       "fried_rice             10        8            11         44          8   \n",
       "carrot_cake            17        5            10         20          9   \n",
       "chocolate_cake         15        4            16         10          3   \n",
       "steak                  38        7            12         13          3   \n",
       "pizza                   5        5            10         15          2   \n",
       "\n",
       "                cheesecake  hamburger  fried_rice  carrot_cake  \\\n",
       "pork_chop               11          6          11           16   \n",
       "lasagna                 18         10          14           11   \n",
       "french_toast            16         10          13           12   \n",
       "guacamole               18         13          11           11   \n",
       "apple_pie               52         22          13           27   \n",
       "cheesecake             132         16           1            7   \n",
       "hamburger               24         48          18           17   \n",
       "fried_rice              20          8          61           11   \n",
       "carrot_cake             54         23           9           38   \n",
       "chocolate_cake          40          6           1           14   \n",
       "steak                   20          8           6           10   \n",
       "pizza                    8          6          17            3   \n",
       "\n",
       "                chocolate_cake  steak  pizza  \n",
       "pork_chop                   18     32     34  \n",
       "lasagna                      5     11     53  \n",
       "french_toast                28     18     46  \n",
       "guacamole                   10      9     42  \n",
       "apple_pie                   13      5     46  \n",
       "cheesecake                  35      5     15  \n",
       "hamburger                   12      4     60  \n",
       "fried_rice                   8      3     58  \n",
       "carrot_cake                 24      5     36  \n",
       "chocolate_cake             106     16     19  \n",
       "steak                       46     49     38  \n",
       "pizza                        7      7    165  "
      ]
     },
     "execution_count": 29,
     "metadata": {},
     "output_type": "execute_result"
    }
   ],
   "source": [
    "confusion"
   ]
  },
  {
   "cell_type": "code",
   "execution_count": null,
   "metadata": {
    "collapsed": true
   },
   "outputs": [],
   "source": []
  }
 ],
 "metadata": {
  "kernelspec": {
   "display_name": "Python 3",
   "language": "python",
   "name": "python3"
  },
  "language_info": {
   "codemirror_mode": {
    "name": "ipython",
    "version": 3
   },
   "file_extension": ".py",
   "mimetype": "text/x-python",
   "name": "python",
   "nbconvert_exporter": "python",
   "pygments_lexer": "ipython3",
   "version": "3.5.1"
  }
 },
 "nbformat": 4,
 "nbformat_minor": 0
}
