{
 "cells": [
  {
   "cell_type": "markdown",
   "metadata": {},
   "source": [
    "##### Implement a Linear Classifier of form f = Wx, using an SVM loss function and weights updated by stochastic gradient descent"
   ]
  },
  {
   "cell_type": "code",
   "execution_count": 1,
   "metadata": {
    "collapsed": false
   },
   "outputs": [],
   "source": [
    "%matplotlib inline\n",
    "import matplotlib.pyplot as plt\n",
    "import numpy as np\n",
    "import pandas as pd\n",
    "import sys, os\n",
    "import skimage.io as io\n",
    "from skimage.transform import resize\n",
    "sys.path.append('../')\n",
    "import nn.linear_classifier as LC\n",
    "import helpers.histogram_classifier as hc\n",
    "from imp import reload\n",
    "import time"
   ]
  },
  {
   "cell_type": "code",
   "execution_count": 2,
   "metadata": {
    "collapsed": false
   },
   "outputs": [
    {
     "data": {
      "text/html": [
       "<style>body {\n",
       "    margin: 0;\n",
       "    font-family: Helvetica;\n",
       "}\n",
       "table.dataframe {\n",
       "    border-collapse: collapse;\n",
       "    border: none;\n",
       "    font-size: 12px;\n",
       "}\n",
       "table.dataframe tr {\n",
       "    border: none;\n",
       "    line-height: 14px;\n",
       "}\n",
       "table.dataframe td, table.dataframe th {\n",
       "    margin: 0;\n",
       "    border: 1px solid white;\n",
       "    padding-left: 0.7em;\n",
       "    padding-right: 0.7em;\n",
       "}\n",
       "table.dataframe th {\n",
       "    background-color: #1c9099;\n",
       "    text-align: center;\n",
       "    font-weight: normal;\n",
       "    color: white;\n",
       "}\n",
       "table.dataframe td {\n",
       "    border: 1px solid #ccf;\n",
       "    background-color: #f4f4ff;\n",
       "    text-align: center;\n",
       "}\n",
       "</style>"
      ],
      "text/plain": [
       "<IPython.core.display.HTML object>"
      ]
     },
     "execution_count": 2,
     "metadata": {},
     "output_type": "execute_result"
    }
   ],
   "source": [
    "from IPython.core.display import HTML\n",
    "css = open('styles/table-style.css').read() #+ open('style-notebook.css').read()\n",
    "HTML('<style>{}</style>'.format(css))"
   ]
  },
  {
   "cell_type": "code",
   "execution_count": 3,
   "metadata": {
    "collapsed": true
   },
   "outputs": [],
   "source": [
    "SIZE = 64"
   ]
  },
  {
   "cell_type": "code",
   "execution_count": 4,
   "metadata": {
    "collapsed": false
   },
   "outputs": [],
   "source": [
    "classes = pd.read_csv('../data/food-101/meta/top_classes.csv', index_col=0)\n",
    "class_list = list(classes['class'].unique())\n",
    "\n",
    "image_names = {}\n",
    "for c in class_list:\n",
    "    image_names[c] = np.array(classes[classes['class'] == c]['name'])"
   ]
  },
  {
   "cell_type": "code",
   "execution_count": 5,
   "metadata": {
    "collapsed": false
   },
   "outputs": [],
   "source": [
    "# Load the images, and rescale to smaller size\n",
    "X = []\n",
    "y = []\n",
    "for i, c in enumerate(class_list):\n",
    "    for im_name in image_names[c]:\n",
    "        im = io.imread(os.path.join(\"../data/food-101/top_classes/\", c, \"\", im_name))\n",
    "        im = resize(im, (SIZE, SIZE, SIZE, 3))\n",
    "        X.append(im)\n",
    "        y.append(i)"
   ]
  },
  {
   "cell_type": "code",
   "execution_count": 6,
   "metadata": {
    "collapsed": false
   },
   "outputs": [
    {
     "name": "stdout",
     "output_type": "stream",
     "text": [
      "X has shape: (12000, 64, 64, 3)\n",
      "y has shape: (12000,)\n"
     ]
    }
   ],
   "source": [
    "# Convert X and y to numpy arrays for ease of use\n",
    "X = np.array(X)\n",
    "y = np.array(y)\n",
    "print(\"X has shape: {}\".format(X.shape))\n",
    "print(\"y has shape: {}\".format(y.shape))"
   ]
  },
  {
   "cell_type": "code",
   "execution_count": 7,
   "metadata": {
    "collapsed": false
   },
   "outputs": [
    {
     "name": "stdout",
     "output_type": "stream",
     "text": [
      "X_train has shape: (10200, 64, 64, 3)\n",
      "y_train has shape: (10200,)\n",
      "X_test has shape: (1800, 64, 64, 3)\n",
      "y_test has shape: (1800,)\n",
      "X_dev has shape: (200, 64, 64, 3)\n",
      "y_dev has shape: (200,)\n"
     ]
    }
   ],
   "source": [
    "# Split X and y into training and test data\n",
    "# Further create a small sub-set of the training data for code development\n",
    "n_train = int(np.floor(0.85 * X.shape[0]))\n",
    "all_indices = np.arange(0, X.shape[0])\n",
    "np.random.shuffle(all_indices)\n",
    "train, test = all_indices[:n_train], all_indices[n_train:]\n",
    "\n",
    "X_train = X[train]\n",
    "y_train = y[train]\n",
    "X_test = X[test]\n",
    "y_test = y[test]\n",
    "\n",
    "mask = np.random.choice(n_train, 200, replace=False)\n",
    "X_dev = X_train[mask]\n",
    "y_dev = y_train[mask]\n",
    "\n",
    "print(\"X_train has shape: {}\".format(X_train.shape))\n",
    "print(\"y_train has shape: {}\".format(y_train.shape))\n",
    "print(\"X_test has shape: {}\".format(X_test.shape))\n",
    "print(\"y_test has shape: {}\".format(y_test.shape))\n",
    "print(\"X_dev has shape: {}\".format(X_dev.shape))\n",
    "print(\"y_dev has shape: {}\".format(y_dev.shape))"
   ]
  },
  {
   "cell_type": "code",
   "execution_count": 8,
   "metadata": {
    "collapsed": false
   },
   "outputs": [
    {
     "name": "stdout",
     "output_type": "stream",
     "text": [
      "X_train has shape: (10200, 12288)\n",
      "X_test has shape: (1800, 12288)\n",
      "X_dev has shape: (200, 12288)\n"
     ]
    }
   ],
   "source": [
    "# Reshape the X data\n",
    "X_train = np.reshape(X_train, (X_train.shape[0], -1))\n",
    "X_test = np.reshape(X_test, (X_test.shape[0], -1))\n",
    "X_dev = np.reshape(X_dev, (X_dev.shape[0], -1))\n",
    "\n",
    "print(\"X_train has shape: {}\".format(X_train.shape))\n",
    "print(\"X_test has shape: {}\".format(X_test.shape))\n",
    "print(\"X_dev has shape: {}\".format(X_dev.shape))"
   ]
  },
  {
   "cell_type": "code",
   "execution_count": 9,
   "metadata": {
    "collapsed": true
   },
   "outputs": [],
   "source": [
    "# Subtract the mean image\n",
    "mean_image = np.mean(X_train, axis=0)\n",
    "X_train -= mean_image\n",
    "X_test -= mean_image\n",
    "X_dev -= mean_image"
   ]
  },
  {
   "cell_type": "code",
   "execution_count": 10,
   "metadata": {
    "collapsed": false
   },
   "outputs": [
    {
     "name": "stdout",
     "output_type": "stream",
     "text": [
      "X_train has shape: (10200, 12289)\n",
      "X_test has shape: (1800, 12289)\n",
      "X_dev has shape: (200, 12289)\n"
     ]
    }
   ],
   "source": [
    "# Append bias dimension of ones to simplify the optimization procedure\n",
    "X_train = np.hstack([X_train, np.ones((X_train.shape[0], 1))])\n",
    "X_test = np.hstack([X_test, np.ones((X_test.shape[0], 1))])\n",
    "X_dev = np.hstack([X_dev, np.ones((X_dev.shape[0], 1))])\n",
    "\n",
    "print(\"X_train has shape: {}\".format(X_train.shape))\n",
    "print(\"X_test has shape: {}\".format(X_test.shape))\n",
    "print(\"X_dev has shape: {}\".format(X_dev.shape))"
   ]
  },
  {
   "cell_type": "code",
   "execution_count": 11,
   "metadata": {
    "collapsed": false
   },
   "outputs": [
    {
     "name": "stdout",
     "output_type": "stream",
     "text": [
      "Best result: 0.24640522875816995\n",
      "Learning rate: 0.0001, Regularization factor: 0.1\n",
      "CPU times: user 26min 33s, sys: 3min 50s, total: 30min 23s\n",
      "Wall time: 15min 44s\n"
     ]
    }
   ],
   "source": [
    "%%time\n",
    "# Do some cross validation for learning rate and regularization weight\n",
    "learning_rates = [1e-7, 1e-6, 1e-5, 1e-4]\n",
    "reg_weights = [0.01, 0.1, 1, 10]\n",
    "\n",
    "results = {}\n",
    "best_score = -1   # The highest validation accuracy that we have seen so far.\n",
    "best_params = (0,0)\n",
    "\n",
    "for l in learning_rates:\n",
    "    for r in reg_weights:\n",
    "        #Get some training and validation data\n",
    "            n_train = int(np.floor(0.85 * X_train.shape[0]))\n",
    "            mask = np.arange(0, X_train.shape[0])\n",
    "            np.random.shuffle(mask)\n",
    "            X_t = X_train[mask[:n_train]]\n",
    "            X_val = X_train[mask[n_train:]]\n",
    "            y_t = y_train[mask[:n_train]]\n",
    "            y_val = y_train[mask[n_train:]]\n",
    "            svm = LC.LinearSVM()\n",
    "            losses = svm.fit(X_t, y_t, learning_rate=l, lam=r, num_iterations=3000)\n",
    "            predictions = svm.predict(X_val)\n",
    "            score = np.mean(predictions == y_val)\n",
    "            results[(l, r)] = score\n",
    "            if score > best_score:\n",
    "                best_score = score\n",
    "                best_params = (l, r)\n",
    "\n",
    "print(\"Best result: {}\".format(best_score))\n",
    "print(\"Learning rate: {}, Regularization factor: {}\".format(best_params[0], best_params[1]))"
   ]
  },
  {
   "cell_type": "code",
   "execution_count": 22,
   "metadata": {
    "collapsed": false
   },
   "outputs": [
    {
     "data": {
      "text/plain": [
       "(0.0001, 0.1)"
      ]
     },
     "execution_count": 22,
     "metadata": {},
     "output_type": "execute_result"
    }
   ],
   "source": [
    "best_params"
   ]
  },
  {
   "cell_type": "code",
   "execution_count": 12,
   "metadata": {
    "collapsed": false
   },
   "outputs": [],
   "source": [
    "svm = LC.LinearSVM()"
   ]
  },
  {
   "cell_type": "code",
   "execution_count": 13,
   "metadata": {
    "collapsed": false
   },
   "outputs": [
    {
     "name": "stdout",
     "output_type": "stream",
     "text": [
      "That took 1152.856458s\n"
     ]
    }
   ],
   "source": [
    "start = time.time()\n",
    "losses = svm.fit(X_train, y_train, learning_rate = best_params[0], lam = best_params[1], num_iterations=60000, verbose=False)\n",
    "end = time.time()\n",
    "print ('That took %fs' % (end - start))"
   ]
  },
  {
   "cell_type": "code",
   "execution_count": 14,
   "metadata": {
    "collapsed": true
   },
   "outputs": [],
   "source": [
    "plt.style.use('seaborn-pastel')"
   ]
  },
  {
   "cell_type": "code",
   "execution_count": 15,
   "metadata": {
    "collapsed": false
   },
   "outputs": [
    {
     "data": {
      "image/png": "[encoded data removed]",
      "text/plain": [
       "<matplotlib.figure.Figure at 0x1179b4940>"
      ]
     },
     "metadata": {},
     "output_type": "display_data"
    }
   ],
   "source": [
    "plt.plot(losses)\n",
    "plt.xlabel(\"Iteration\")\n",
    "plt.ylabel(\"Loss\")\n",
    "plt.title(\"Loss evolution\")\n",
    "plt.show()"
   ]
  },
  {
   "cell_type": "code",
   "execution_count": 16,
   "metadata": {
    "collapsed": true
   },
   "outputs": [],
   "source": [
    "predictions = svm.predict(X_test)"
   ]
  },
  {
   "cell_type": "code",
   "execution_count": 17,
   "metadata": {
    "collapsed": false
   },
   "outputs": [],
   "source": [
    "def get_class(x):\n",
    "    return class_list[x]\n",
    "\n",
    "get_class = np.vectorize(get_class)"
   ]
  },
  {
   "cell_type": "code",
   "execution_count": 18,
   "metadata": {
    "collapsed": false
   },
   "outputs": [],
   "source": [
    "overall, metrics, confusion = hc.get_metrics(get_class(y_test), get_class(predictions), class_list)"
   ]
  },
  {
   "cell_type": "code",
   "execution_count": 19,
   "metadata": {
    "collapsed": false
   },
   "outputs": [
    {
     "data": {
      "text/html": [
       "<div>\n",
       "<table border=\"1\" class=\"dataframe\">\n",
       "  <thead>\n",
       "    <tr style=\"text-align: right;\">\n",
       "      <th></th>\n",
       "      <th>Accuracy</th>\n",
       "      <th>F1</th>\n",
       "      <th>Precision</th>\n",
       "      <th>Recall</th>\n",
       "    </tr>\n",
       "  </thead>\n",
       "  <tbody>\n",
       "    <tr>\n",
       "      <th>Results</th>\n",
       "      <td>0.234</td>\n",
       "      <td>0.232</td>\n",
       "      <td>0.232</td>\n",
       "      <td>0.234</td>\n",
       "    </tr>\n",
       "  </tbody>\n",
       "</table>\n",
       "</div>"
      ],
      "text/plain": [
       "         Accuracy     F1  Precision  Recall\n",
       "Results     0.234  0.232      0.232   0.234"
      ]
     },
     "execution_count": 19,
     "metadata": {},
     "output_type": "execute_result"
    }
   ],
   "source": [
    "overall"
   ]
  },
  {
   "cell_type": "code",
   "execution_count": 20,
   "metadata": {
    "collapsed": false
   },
   "outputs": [
    {
     "data": {
      "text/html": [
       "<div>\n",
       "<table border=\"1\" class=\"dataframe\">\n",
       "  <thead>\n",
       "    <tr style=\"text-align: right;\">\n",
       "      <th></th>\n",
       "      <th>Precision</th>\n",
       "      <th>Recall</th>\n",
       "      <th>F1-Score</th>\n",
       "      <th>Support</th>\n",
       "    </tr>\n",
       "  </thead>\n",
       "  <tbody>\n",
       "    <tr>\n",
       "      <th>pork_chop</th>\n",
       "      <td>0.22</td>\n",
       "      <td>0.23</td>\n",
       "      <td>0.22</td>\n",
       "      <td>149.0</td>\n",
       "    </tr>\n",
       "    <tr>\n",
       "      <th>lasagna</th>\n",
       "      <td>0.23</td>\n",
       "      <td>0.22</td>\n",
       "      <td>0.22</td>\n",
       "      <td>160.0</td>\n",
       "    </tr>\n",
       "    <tr>\n",
       "      <th>french_toast</th>\n",
       "      <td>0.12</td>\n",
       "      <td>0.08</td>\n",
       "      <td>0.09</td>\n",
       "      <td>165.0</td>\n",
       "    </tr>\n",
       "    <tr>\n",
       "      <th>guacamole</th>\n",
       "      <td>0.48</td>\n",
       "      <td>0.46</td>\n",
       "      <td>0.47</td>\n",
       "      <td>163.0</td>\n",
       "    </tr>\n",
       "    <tr>\n",
       "      <th>apple_pie</th>\n",
       "      <td>0.13</td>\n",
       "      <td>0.14</td>\n",
       "      <td>0.13</td>\n",
       "      <td>137.0</td>\n",
       "    </tr>\n",
       "    <tr>\n",
       "      <th>cheesecake</th>\n",
       "      <td>0.15</td>\n",
       "      <td>0.17</td>\n",
       "      <td>0.16</td>\n",
       "      <td>150.0</td>\n",
       "    </tr>\n",
       "    <tr>\n",
       "      <th>hamburger</th>\n",
       "      <td>0.16</td>\n",
       "      <td>0.17</td>\n",
       "      <td>0.16</td>\n",
       "      <td>138.0</td>\n",
       "    </tr>\n",
       "    <tr>\n",
       "      <th>fried_rice</th>\n",
       "      <td>0.26</td>\n",
       "      <td>0.24</td>\n",
       "      <td>0.25</td>\n",
       "      <td>164.0</td>\n",
       "    </tr>\n",
       "    <tr>\n",
       "      <th>carrot_cake</th>\n",
       "      <td>0.22</td>\n",
       "      <td>0.18</td>\n",
       "      <td>0.20</td>\n",
       "      <td>158.0</td>\n",
       "    </tr>\n",
       "    <tr>\n",
       "      <th>chocolate_cake</th>\n",
       "      <td>0.32</td>\n",
       "      <td>0.38</td>\n",
       "      <td>0.34</td>\n",
       "      <td>133.0</td>\n",
       "    </tr>\n",
       "    <tr>\n",
       "      <th>steak</th>\n",
       "      <td>0.23</td>\n",
       "      <td>0.24</td>\n",
       "      <td>0.24</td>\n",
       "      <td>145.0</td>\n",
       "    </tr>\n",
       "    <tr>\n",
       "      <th>pizza</th>\n",
       "      <td>0.26</td>\n",
       "      <td>0.32</td>\n",
       "      <td>0.29</td>\n",
       "      <td>138.0</td>\n",
       "    </tr>\n",
       "  </tbody>\n",
       "</table>\n",
       "</div>"
      ],
      "text/plain": [
       "                Precision  Recall  F1-Score  Support\n",
       "pork_chop            0.22    0.23      0.22    149.0\n",
       "lasagna              0.23    0.22      0.22    160.0\n",
       "french_toast         0.12    0.08      0.09    165.0\n",
       "guacamole            0.48    0.46      0.47    163.0\n",
       "apple_pie            0.13    0.14      0.13    137.0\n",
       "cheesecake           0.15    0.17      0.16    150.0\n",
       "hamburger            0.16    0.17      0.16    138.0\n",
       "fried_rice           0.26    0.24      0.25    164.0\n",
       "carrot_cake          0.22    0.18      0.20    158.0\n",
       "chocolate_cake       0.32    0.38      0.34    133.0\n",
       "steak                0.23    0.24      0.24    145.0\n",
       "pizza                0.26    0.32      0.29    138.0"
      ]
     },
     "execution_count": 20,
     "metadata": {},
     "output_type": "execute_result"
    }
   ],
   "source": [
    "metrics"
   ]
  },
  {
   "cell_type": "code",
   "execution_count": 21,
   "metadata": {
    "collapsed": false
   },
   "outputs": [
    {
     "data": {
      "text/html": [
       "<div>\n",
       "<table border=\"1\" class=\"dataframe\">\n",
       "  <thead>\n",
       "    <tr style=\"text-align: right;\">\n",
       "      <th></th>\n",
       "      <th>pork_chop</th>\n",
       "      <th>lasagna</th>\n",
       "      <th>french_toast</th>\n",
       "      <th>guacamole</th>\n",
       "      <th>apple_pie</th>\n",
       "      <th>cheesecake</th>\n",
       "      <th>hamburger</th>\n",
       "      <th>fried_rice</th>\n",
       "      <th>carrot_cake</th>\n",
       "      <th>chocolate_cake</th>\n",
       "      <th>steak</th>\n",
       "      <th>pizza</th>\n",
       "    </tr>\n",
       "  </thead>\n",
       "  <tbody>\n",
       "    <tr>\n",
       "      <th>pork_chop</th>\n",
       "      <td>34</td>\n",
       "      <td>7</td>\n",
       "      <td>6</td>\n",
       "      <td>6</td>\n",
       "      <td>6</td>\n",
       "      <td>11</td>\n",
       "      <td>16</td>\n",
       "      <td>6</td>\n",
       "      <td>11</td>\n",
       "      <td>16</td>\n",
       "      <td>24</td>\n",
       "      <td>6</td>\n",
       "    </tr>\n",
       "    <tr>\n",
       "      <th>lasagna</th>\n",
       "      <td>14</td>\n",
       "      <td>35</td>\n",
       "      <td>13</td>\n",
       "      <td>7</td>\n",
       "      <td>19</td>\n",
       "      <td>12</td>\n",
       "      <td>11</td>\n",
       "      <td>12</td>\n",
       "      <td>3</td>\n",
       "      <td>3</td>\n",
       "      <td>8</td>\n",
       "      <td>23</td>\n",
       "    </tr>\n",
       "    <tr>\n",
       "      <th>french_toast</th>\n",
       "      <td>8</td>\n",
       "      <td>26</td>\n",
       "      <td>13</td>\n",
       "      <td>8</td>\n",
       "      <td>22</td>\n",
       "      <td>18</td>\n",
       "      <td>15</td>\n",
       "      <td>9</td>\n",
       "      <td>13</td>\n",
       "      <td>16</td>\n",
       "      <td>8</td>\n",
       "      <td>9</td>\n",
       "    </tr>\n",
       "    <tr>\n",
       "      <th>guacamole</th>\n",
       "      <td>4</td>\n",
       "      <td>6</td>\n",
       "      <td>1</td>\n",
       "      <td>75</td>\n",
       "      <td>4</td>\n",
       "      <td>5</td>\n",
       "      <td>16</td>\n",
       "      <td>21</td>\n",
       "      <td>6</td>\n",
       "      <td>4</td>\n",
       "      <td>6</td>\n",
       "      <td>15</td>\n",
       "    </tr>\n",
       "    <tr>\n",
       "      <th>apple_pie</th>\n",
       "      <td>8</td>\n",
       "      <td>12</td>\n",
       "      <td>17</td>\n",
       "      <td>7</td>\n",
       "      <td>19</td>\n",
       "      <td>15</td>\n",
       "      <td>12</td>\n",
       "      <td>13</td>\n",
       "      <td>6</td>\n",
       "      <td>10</td>\n",
       "      <td>4</td>\n",
       "      <td>14</td>\n",
       "    </tr>\n",
       "    <tr>\n",
       "      <th>cheesecake</th>\n",
       "      <td>13</td>\n",
       "      <td>5</td>\n",
       "      <td>12</td>\n",
       "      <td>7</td>\n",
       "      <td>15</td>\n",
       "      <td>26</td>\n",
       "      <td>6</td>\n",
       "      <td>12</td>\n",
       "      <td>14</td>\n",
       "      <td>19</td>\n",
       "      <td>13</td>\n",
       "      <td>8</td>\n",
       "    </tr>\n",
       "    <tr>\n",
       "      <th>hamburger</th>\n",
       "      <td>12</td>\n",
       "      <td>7</td>\n",
       "      <td>7</td>\n",
       "      <td>7</td>\n",
       "      <td>18</td>\n",
       "      <td>6</td>\n",
       "      <td>23</td>\n",
       "      <td>12</td>\n",
       "      <td>8</td>\n",
       "      <td>5</td>\n",
       "      <td>18</td>\n",
       "      <td>15</td>\n",
       "    </tr>\n",
       "    <tr>\n",
       "      <th>fried_rice</th>\n",
       "      <td>12</td>\n",
       "      <td>22</td>\n",
       "      <td>9</td>\n",
       "      <td>14</td>\n",
       "      <td>13</td>\n",
       "      <td>6</td>\n",
       "      <td>14</td>\n",
       "      <td>40</td>\n",
       "      <td>10</td>\n",
       "      <td>9</td>\n",
       "      <td>4</td>\n",
       "      <td>11</td>\n",
       "    </tr>\n",
       "    <tr>\n",
       "      <th>carrot_cake</th>\n",
       "      <td>12</td>\n",
       "      <td>7</td>\n",
       "      <td>9</td>\n",
       "      <td>9</td>\n",
       "      <td>13</td>\n",
       "      <td>25</td>\n",
       "      <td>12</td>\n",
       "      <td>10</td>\n",
       "      <td>28</td>\n",
       "      <td>8</td>\n",
       "      <td>15</td>\n",
       "      <td>10</td>\n",
       "    </tr>\n",
       "    <tr>\n",
       "      <th>chocolate_cake</th>\n",
       "      <td>12</td>\n",
       "      <td>6</td>\n",
       "      <td>7</td>\n",
       "      <td>4</td>\n",
       "      <td>3</td>\n",
       "      <td>18</td>\n",
       "      <td>3</td>\n",
       "      <td>3</td>\n",
       "      <td>13</td>\n",
       "      <td>50</td>\n",
       "      <td>12</td>\n",
       "      <td>2</td>\n",
       "    </tr>\n",
       "    <tr>\n",
       "      <th>steak</th>\n",
       "      <td>20</td>\n",
       "      <td>9</td>\n",
       "      <td>9</td>\n",
       "      <td>8</td>\n",
       "      <td>8</td>\n",
       "      <td>7</td>\n",
       "      <td>9</td>\n",
       "      <td>4</td>\n",
       "      <td>8</td>\n",
       "      <td>15</td>\n",
       "      <td>35</td>\n",
       "      <td>13</td>\n",
       "    </tr>\n",
       "    <tr>\n",
       "      <th>pizza</th>\n",
       "      <td>7</td>\n",
       "      <td>13</td>\n",
       "      <td>10</td>\n",
       "      <td>3</td>\n",
       "      <td>7</td>\n",
       "      <td>19</td>\n",
       "      <td>9</td>\n",
       "      <td>12</td>\n",
       "      <td>7</td>\n",
       "      <td>3</td>\n",
       "      <td>4</td>\n",
       "      <td>44</td>\n",
       "    </tr>\n",
       "  </tbody>\n",
       "</table>\n",
       "</div>"
      ],
      "text/plain": [
       "                pork_chop  lasagna  french_toast  guacamole  apple_pie  \\\n",
       "pork_chop              34        7             6          6          6   \n",
       "lasagna                14       35            13          7         19   \n",
       "french_toast            8       26            13          8         22   \n",
       "guacamole               4        6             1         75          4   \n",
       "apple_pie               8       12            17          7         19   \n",
       "cheesecake             13        5            12          7         15   \n",
       "hamburger              12        7             7          7         18   \n",
       "fried_rice             12       22             9         14         13   \n",
       "carrot_cake            12        7             9          9         13   \n",
       "chocolate_cake         12        6             7          4          3   \n",
       "steak                  20        9             9          8          8   \n",
       "pizza                   7       13            10          3          7   \n",
       "\n",
       "                cheesecake  hamburger  fried_rice  carrot_cake  \\\n",
       "pork_chop               11         16           6           11   \n",
       "lasagna                 12         11          12            3   \n",
       "french_toast            18         15           9           13   \n",
       "guacamole                5         16          21            6   \n",
       "apple_pie               15         12          13            6   \n",
       "cheesecake              26          6          12           14   \n",
       "hamburger                6         23          12            8   \n",
       "fried_rice               6         14          40           10   \n",
       "carrot_cake             25         12          10           28   \n",
       "chocolate_cake          18          3           3           13   \n",
       "steak                    7          9           4            8   \n",
       "pizza                   19          9          12            7   \n",
       "\n",
       "                chocolate_cake  steak  pizza  \n",
       "pork_chop                   16     24      6  \n",
       "lasagna                      3      8     23  \n",
       "french_toast                16      8      9  \n",
       "guacamole                    4      6     15  \n",
       "apple_pie                   10      4     14  \n",
       "cheesecake                  19     13      8  \n",
       "hamburger                    5     18     15  \n",
       "fried_rice                   9      4     11  \n",
       "carrot_cake                  8     15     10  \n",
       "chocolate_cake              50     12      2  \n",
       "steak                       15     35     13  \n",
       "pizza                        3      4     44  "
      ]
     },
     "execution_count": 21,
     "metadata": {},
     "output_type": "execute_result"
    }
   ],
   "source": [
    "confusion"
   ]
  }
 ],
 "metadata": {
  "kernelspec": {
   "display_name": "Python 3",
   "language": "python",
   "name": "python3"
  },
  "language_info": {
   "codemirror_mode": {
    "name": "ipython",
    "version": 3
   },
   "file_extension": ".py",
   "mimetype": "text/x-python",
   "name": "python",
   "nbconvert_exporter": "python",
   "pygments_lexer": "ipython3",
   "version": "3.5.1"
  }
 },
 "nbformat": 4,
 "nbformat_minor": 0
}
