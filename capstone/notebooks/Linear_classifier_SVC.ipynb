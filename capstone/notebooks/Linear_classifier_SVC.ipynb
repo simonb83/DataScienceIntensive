{
 "cells": [
  {
   "cell_type": "markdown",
   "metadata": {},
   "source": [
    "##### Implement a Linear Classifier of form f = Wx, using SVM loss function and weights updated by stochastic gradient descent"
   ]
  },
  {
   "cell_type": "code",
   "execution_count": 1,
   "metadata": {
    "collapsed": false
   },
   "outputs": [],
   "source": [
    "%matplotlib inline\n",
    "import matplotlib.pyplot as plt\n",
    "import numpy as np\n",
    "import pandas as pd\n",
    "import sys, os\n",
    "import skimage.io as io\n",
    "from skimage.transform import resize\n",
    "sys.path.append('../')\n",
    "import nn.linear_classifier as LC\n",
    "import helpers.histogram_classifier as hc\n",
    "from imp import reload\n",
    "import time"
   ]
  },
  {
   "cell_type": "code",
   "execution_count": 2,
   "metadata": {
    "collapsed": false
   },
   "outputs": [
    {
     "data": {
      "text/html": [
       "<style>body {\n",
       "    margin: 0;\n",
       "    font-family: Helvetica;\n",
       "}\n",
       "table.dataframe {\n",
       "    border-collapse: collapse;\n",
       "    border: none;\n",
       "    font-size: 12px;\n",
       "}\n",
       "table.dataframe tr {\n",
       "    border: none;\n",
       "    line-height: 14px;\n",
       "}\n",
       "table.dataframe td, table.dataframe th {\n",
       "    margin: 0;\n",
       "    border: 1px solid white;\n",
       "    padding-left: 0.7em;\n",
       "    padding-right: 0.7em;\n",
       "}\n",
       "table.dataframe th {\n",
       "    background-color: #1c9099;\n",
       "    text-align: center;\n",
       "    font-weight: normal;\n",
       "    color: white;\n",
       "}\n",
       "table.dataframe td {\n",
       "    border: 1px solid #ccf;\n",
       "    background-color: #f4f4ff;\n",
       "    text-align: center;\n",
       "}\n",
       "</style>"
      ],
      "text/plain": [
       "<IPython.core.display.HTML object>"
      ]
     },
     "execution_count": 2,
     "metadata": {},
     "output_type": "execute_result"
    }
   ],
   "source": [
    "from IPython.core.display import HTML\n",
    "css = open('styles/table-style.css').read() #+ open('style-notebook.css').read()\n",
    "HTML('<style>{}</style>'.format(css))"
   ]
  },
  {
   "cell_type": "code",
   "execution_count": 3,
   "metadata": {
    "collapsed": true
   },
   "outputs": [],
   "source": [
    "SIZE = 64"
   ]
  },
  {
   "cell_type": "code",
   "execution_count": 95,
   "metadata": {
    "collapsed": true
   },
   "outputs": [],
   "source": [
    "def get_sub_indices(total_length, class_list, num_train, per_class):\n",
    "    all_indices = np.arange(total_length)\n",
    "    train_indices = []\n",
    "    test_indices = []\n",
    "    for i, c in enumerate(class_list):\n",
    "        train_indices.append(all_indices[i * per_class:(i * per_class) + num_train])\n",
    "        test_indices.append(all_indices[(i * per_class) + num_train:(i + 1) * per_class])\n",
    "    train_indices = np.array(train_indices)\n",
    "    train_indices = train_indices.reshape((train_indices.shape[0] * train_indices.shape[1],))\n",
    "    test_indices = np.array(test_indices)\n",
    "    test_indices = test_indices.reshape((test_indices.shape[0] * test_indices.shape[1],))\n",
    "    return train_indices, test_indices"
   ]
  },
  {
   "cell_type": "code",
   "execution_count": 4,
   "metadata": {
    "collapsed": false
   },
   "outputs": [],
   "source": [
    "classes = pd.read_csv('../data/food-101/meta/top_classes.csv', index_col=0)\n",
    "class_list = list(classes['class'].unique())\n",
    "\n",
    "image_names = {}\n",
    "for c in class_list:\n",
    "    image_names[c] = np.array(classes[classes['class'] == c]['name'])"
   ]
  },
  {
   "cell_type": "code",
   "execution_count": 5,
   "metadata": {
    "collapsed": false
   },
   "outputs": [],
   "source": [
    "# Load the images, and rescale to smaller size\n",
    "X = []\n",
    "y = []\n",
    "for i, c in enumerate(class_list):\n",
    "    for im_name in image_names[c]:\n",
    "        im = io.imread(os.path.join(\"../data/food-101/top_classes/\", c, \"\", im_name))\n",
    "        im = resize(im, (SIZE, SIZE, SIZE, 3))\n",
    "        X.append(im)\n",
    "        y.append(i)"
   ]
  },
  {
   "cell_type": "code",
   "execution_count": 6,
   "metadata": {
    "collapsed": false
   },
   "outputs": [
    {
     "name": "stdout",
     "output_type": "stream",
     "text": [
      "X has shape: (12000, 64, 64, 3)\n",
      "y has shape: (12000,)\n"
     ]
    }
   ],
   "source": [
    "# Convert X and y to numpy arrays for ease of use\n",
    "X = np.array(X)\n",
    "y = np.array(y)\n",
    "print(\"X has shape: {}\".format(X.shape))\n",
    "print(\"y has shape: {}\".format(y.shape))"
   ]
  },
  {
   "cell_type": "code",
   "execution_count": 87,
   "metadata": {
    "collapsed": false
   },
   "outputs": [
    {
     "name": "stdout",
     "output_type": "stream",
     "text": [
      "X_train has shape: (10200, 64, 64, 3)\n",
      "y_train has shape: (10200,)\n",
      "X_test has shape: (1800, 64, 64, 3)\n",
      "y_test has shape: (1800,)\n"
     ]
    }
   ],
   "source": [
    "n_train = int(np.floor(0.85 * 1000))\n",
    "train_indices, test_indices = get_sub_indices(X.shape[0], class_list, n_train, 1000)\n",
    "X_train = X[train_indices]\n",
    "y_train = y[train_indices]\n",
    "X_test = X[test_indices]\n",
    "y_test = y[test_indices]\n",
    "print(\"X_train has shape: {}\".format(X_train.shape))\n",
    "print(\"y_train has shape: {}\".format(y_train.shape))\n",
    "print(\"X_test has shape: {}\".format(X_test.shape))\n",
    "print(\"y_test has shape: {}\".format(y_test.shape))"
   ]
  },
  {
   "cell_type": "code",
   "execution_count": 88,
   "metadata": {
    "collapsed": false
   },
   "outputs": [
    {
     "name": "stdout",
     "output_type": "stream",
     "text": [
      "X_train has shape: (10200, 12288)\n",
      "X_test has shape: (1800, 12288)\n"
     ]
    }
   ],
   "source": [
    "# Reshape the X data\n",
    "X_train = np.reshape(X_train, (X_train.shape[0], -1))\n",
    "X_test = np.reshape(X_test, (X_test.shape[0], -1))\n",
    "\n",
    "print(\"X_train has shape: {}\".format(X_train.shape))\n",
    "print(\"X_test has shape: {}\".format(X_test.shape))"
   ]
  },
  {
   "cell_type": "code",
   "execution_count": 89,
   "metadata": {
    "collapsed": true
   },
   "outputs": [],
   "source": [
    "# Subtract the mean image\n",
    "mean_image = np.mean(X_train, axis=0)\n",
    "X_train -= mean_image\n",
    "X_test -= mean_image"
   ]
  },
  {
   "cell_type": "code",
   "execution_count": 90,
   "metadata": {
    "collapsed": false
   },
   "outputs": [
    {
     "name": "stdout",
     "output_type": "stream",
     "text": [
      "X_train has shape: (10200, 12289)\n",
      "X_test has shape: (1800, 12289)\n"
     ]
    }
   ],
   "source": [
    "# Append bias dimension of ones to simplify the optimization procedure\n",
    "X_train = np.hstack([X_train, np.ones((X_train.shape[0], 1))])\n",
    "X_test = np.hstack([X_test, np.ones((X_test.shape[0], 1))])\n",
    "\n",
    "print(\"X_train has shape: {}\".format(X_train.shape))\n",
    "print(\"X_test has shape: {}\".format(X_test.shape))"
   ]
  },
  {
   "cell_type": "code",
   "execution_count": 111,
   "metadata": {
    "collapsed": false
   },
   "outputs": [
    {
     "name": "stdout",
     "output_type": "stream",
     "text": [
      "Best result: 0.240234375\n",
      "Learning rate: 0.0001, Regularization factor: 0\n",
      "CPU times: user 3min 23s, sys: 29.9 s, total: 3min 53s\n",
      "Wall time: 2min 1s\n"
     ]
    }
   ],
   "source": [
    "%%time\n",
    "# Do some cross validation for learning rate and regularization weight\n",
    "learning_rates = [1e-5, 1e-4]\n",
    "reg_weights = [0.001, 0]\n",
    "\n",
    "results = {}\n",
    "best_score = -1   # The highest validation accuracy that we have seen so far.\n",
    "best_params = (0,0)\n",
    "\n",
    "for l in learning_rates:\n",
    "    for r in reg_weights:\n",
    "        #Get some training and validation data\n",
    "            n_sub_train = int(np.floor(0.85 * n_train))\n",
    "            train_mask, test_mask = get_sub_indices(X_train.shape[0], class_list, n_sub_train, n_train)\n",
    "            X_t = X_train[train_mask]\n",
    "            X_val = X_train[test_mask]\n",
    "            y_t = y_train[train_mask]\n",
    "            y_val = y_train[test_mask]\n",
    "            svm = LC.LinearSVM()\n",
    "            losses = svm.fit(X_t, y_t, learning_rate=l, lam=r, num_iterations=1500)\n",
    "            predictions = svm.predict(X_val)\n",
    "            score = np.mean(predictions == y_val)\n",
    "            results[(l, r)] = score\n",
    "            if score > best_score:\n",
    "                best_score = score\n",
    "                best_params = (l, r)\n",
    "\n",
    "print(\"Best result: {}\".format(best_score))\n",
    "print(\"Learning rate: {}, Regularization factor: {}\".format(best_params[0], best_params[1]))"
   ]
  },
  {
   "cell_type": "code",
   "execution_count": 112,
   "metadata": {
    "collapsed": false,
    "scrolled": true
   },
   "outputs": [
    {
     "data": {
      "text/plain": [
       "(0.0001, 0)"
      ]
     },
     "execution_count": 112,
     "metadata": {},
     "output_type": "execute_result"
    }
   ],
   "source": [
    "best_params"
   ]
  },
  {
   "cell_type": "code",
   "execution_count": 113,
   "metadata": {
    "collapsed": false
   },
   "outputs": [],
   "source": [
    "svm = LC.LinearSVM()"
   ]
  },
  {
   "cell_type": "code",
   "execution_count": 117,
   "metadata": {
    "collapsed": false
   },
   "outputs": [
    {
     "name": "stdout",
     "output_type": "stream",
     "text": [
      "Iteration 0 of 10,000: 6.307\n",
      "Iteration 100 of 10,000: 6.681\n",
      "Iteration 200 of 10,000: 6.929\n",
      "Iteration 300 of 10,000: 6.533\n",
      "Iteration 400 of 10,000: 6.564\n",
      "Iteration 500 of 10,000: 6.729\n",
      "Iteration 600 of 10,000: 6.240\n",
      "Iteration 700 of 10,000: 6.827\n",
      "Iteration 800 of 10,000: 6.658\n",
      "Iteration 900 of 10,000: 6.787\n",
      "Iteration 1,000 of 10,000: 5.878\n",
      "Iteration 1,100 of 10,000: 6.504\n",
      "Iteration 1,200 of 10,000: 6.308\n",
      "Iteration 1,300 of 10,000: 5.953\n",
      "Iteration 1,400 of 10,000: 5.952\n",
      "Iteration 1,500 of 10,000: 6.165\n",
      "Iteration 1,600 of 10,000: 6.765\n",
      "Iteration 1,700 of 10,000: 6.090\n",
      "Iteration 1,800 of 10,000: 6.550\n",
      "Iteration 1,900 of 10,000: 5.675\n",
      "Iteration 2,000 of 10,000: 5.835\n",
      "Iteration 2,100 of 10,000: 6.252\n",
      "Iteration 2,200 of 10,000: 5.759\n",
      "Iteration 2,300 of 10,000: 5.960\n",
      "Iteration 2,400 of 10,000: 5.626\n",
      "Iteration 2,500 of 10,000: 5.774\n",
      "Iteration 2,600 of 10,000: 5.591\n",
      "Iteration 2,700 of 10,000: 6.618\n",
      "Iteration 2,800 of 10,000: 6.652\n",
      "Iteration 2,900 of 10,000: 6.154\n",
      "Iteration 3,000 of 10,000: 6.419\n",
      "Iteration 3,100 of 10,000: 5.992\n",
      "Iteration 3,200 of 10,000: 6.257\n",
      "Iteration 3,300 of 10,000: 6.300\n",
      "Iteration 3,400 of 10,000: 6.124\n",
      "Iteration 3,500 of 10,000: 6.053\n",
      "Iteration 3,600 of 10,000: 5.345\n",
      "Iteration 3,700 of 10,000: 5.600\n",
      "Iteration 3,800 of 10,000: 6.180\n",
      "Iteration 3,900 of 10,000: 5.410\n",
      "Iteration 4,000 of 10,000: 6.067\n",
      "Iteration 4,100 of 10,000: 6.099\n",
      "Iteration 4,200 of 10,000: 5.741\n",
      "Iteration 4,300 of 10,000: 5.799\n",
      "Iteration 4,400 of 10,000: 6.064\n",
      "Iteration 4,500 of 10,000: 6.081\n",
      "Iteration 4,600 of 10,000: 6.146\n",
      "Iteration 4,700 of 10,000: 6.138\n",
      "Iteration 4,800 of 10,000: 5.689\n",
      "Iteration 4,900 of 10,000: 5.856\n",
      "Iteration 5,000 of 10,000: 5.534\n",
      "Iteration 5,100 of 10,000: 5.645\n",
      "Iteration 5,200 of 10,000: 5.608\n",
      "Iteration 5,300 of 10,000: 6.011\n",
      "Iteration 5,400 of 10,000: 5.720\n",
      "Iteration 5,500 of 10,000: 5.284\n",
      "Iteration 5,600 of 10,000: 5.100\n",
      "Iteration 5,700 of 10,000: 5.701\n",
      "Iteration 5,800 of 10,000: 5.387\n",
      "Iteration 5,900 of 10,000: 5.036\n",
      "Iteration 6,000 of 10,000: 5.639\n",
      "Iteration 6,100 of 10,000: 6.142\n",
      "Iteration 6,200 of 10,000: 6.008\n",
      "Iteration 6,300 of 10,000: 5.901\n",
      "Iteration 6,400 of 10,000: 5.371\n",
      "Iteration 6,500 of 10,000: 5.906\n",
      "Iteration 6,600 of 10,000: 6.117\n",
      "Iteration 6,700 of 10,000: 5.860\n",
      "Iteration 6,800 of 10,000: 4.946\n",
      "Iteration 6,900 of 10,000: 5.992\n",
      "Iteration 7,000 of 10,000: 5.811\n",
      "Iteration 7,100 of 10,000: 5.562\n",
      "Iteration 7,200 of 10,000: 5.684\n",
      "Iteration 7,300 of 10,000: 4.978\n",
      "Iteration 7,400 of 10,000: 5.625\n",
      "Iteration 7,500 of 10,000: 5.403\n",
      "Iteration 7,600 of 10,000: 5.800\n",
      "Iteration 7,700 of 10,000: 5.886\n",
      "Iteration 7,800 of 10,000: 5.569\n",
      "Iteration 7,900 of 10,000: 5.077\n",
      "Iteration 8,000 of 10,000: 5.453\n",
      "Iteration 8,100 of 10,000: 5.554\n",
      "Iteration 8,200 of 10,000: 4.921\n",
      "Iteration 8,300 of 10,000: 5.241\n",
      "Iteration 8,400 of 10,000: 5.388\n",
      "Iteration 8,500 of 10,000: 5.188\n",
      "Iteration 8,600 of 10,000: 5.313\n",
      "Iteration 8,700 of 10,000: 5.343\n",
      "Iteration 8,800 of 10,000: 4.921\n",
      "Iteration 8,900 of 10,000: 5.337\n",
      "Iteration 9,000 of 10,000: 5.414\n",
      "Iteration 9,100 of 10,000: 5.209\n",
      "Iteration 9,200 of 10,000: 5.062\n",
      "Iteration 9,300 of 10,000: 5.588\n",
      "Iteration 9,400 of 10,000: 5.283\n",
      "Iteration 9,500 of 10,000: 5.398\n",
      "Iteration 9,600 of 10,000: 5.413\n",
      "Iteration 9,700 of 10,000: 5.051\n",
      "Iteration 9,800 of 10,000: 5.498\n",
      "Iteration 9,900 of 10,000: 5.387\n",
      "That took 247.645514s\n"
     ]
    }
   ],
   "source": [
    "start = time.time()\n",
    "losses = svm.fit(X_train, y_train, learning_rate = best_params[0], lam = best_params[1], num_iterations=10000, verbose=True)\n",
    "end = time.time()\n",
    "print ('That took %fs' % (end - start))"
   ]
  },
  {
   "cell_type": "code",
   "execution_count": 118,
   "metadata": {
    "collapsed": true
   },
   "outputs": [],
   "source": [
    "plt.style.use('seaborn-pastel')"
   ]
  },
  {
   "cell_type": "code",
   "execution_count": 119,
   "metadata": {
    "collapsed": false
   },
   "outputs": [
    {
     "data": {
      "image/png": "[encoded data removed]",
      "text/plain": [
       "<matplotlib.figure.Figure at 0x11c974320>"
      ]
     },
     "metadata": {},
     "output_type": "display_data"
    }
   ],
   "source": [
    "plt.plot(losses)\n",
    "plt.xlabel(\"Iteration\")\n",
    "plt.ylabel(\"Loss\")\n",
    "plt.title(\"Loss evolution\")\n",
    "plt.show()"
   ]
  },
  {
   "cell_type": "code",
   "execution_count": 120,
   "metadata": {
    "collapsed": true
   },
   "outputs": [],
   "source": [
    "predictions = svm.predict(X_test)"
   ]
  },
  {
   "cell_type": "code",
   "execution_count": 121,
   "metadata": {
    "collapsed": false
   },
   "outputs": [],
   "source": [
    "def get_class(x):\n",
    "    return class_list[x]\n",
    "\n",
    "get_class = np.vectorize(get_class)"
   ]
  },
  {
   "cell_type": "code",
   "execution_count": 122,
   "metadata": {
    "collapsed": false
   },
   "outputs": [],
   "source": [
    "overall, metrics, confusion = hc.get_metrics(get_class(y_test), get_class(predictions), class_list)"
   ]
  },
  {
   "cell_type": "code",
   "execution_count": 123,
   "metadata": {
    "collapsed": false
   },
   "outputs": [
    {
     "data": {
      "text/html": [
       "<div>\n",
       "<table border=\"1\" class=\"dataframe\">\n",
       "  <thead>\n",
       "    <tr style=\"text-align: right;\">\n",
       "      <th></th>\n",
       "      <th>Accuracy</th>\n",
       "      <th>F1</th>\n",
       "      <th>Precision</th>\n",
       "      <th>Recall</th>\n",
       "    </tr>\n",
       "  </thead>\n",
       "  <tbody>\n",
       "    <tr>\n",
       "      <th>Results</th>\n",
       "      <td>0.242</td>\n",
       "      <td>0.232</td>\n",
       "      <td>0.23</td>\n",
       "      <td>0.242</td>\n",
       "    </tr>\n",
       "  </tbody>\n",
       "</table>\n",
       "</div>"
      ],
      "text/plain": [
       "         Accuracy     F1  Precision  Recall\n",
       "Results     0.242  0.232       0.23   0.242"
      ]
     },
     "execution_count": 123,
     "metadata": {},
     "output_type": "execute_result"
    }
   ],
   "source": [
    "overall"
   ]
  },
  {
   "cell_type": "code",
   "execution_count": 124,
   "metadata": {
    "collapsed": false
   },
   "outputs": [
    {
     "data": {
      "text/html": [
       "<div>\n",
       "<table border=\"1\" class=\"dataframe\">\n",
       "  <thead>\n",
       "    <tr style=\"text-align: right;\">\n",
       "      <th></th>\n",
       "      <th>Precision</th>\n",
       "      <th>Recall</th>\n",
       "      <th>F1-Score</th>\n",
       "      <th>Support</th>\n",
       "    </tr>\n",
       "  </thead>\n",
       "  <tbody>\n",
       "    <tr>\n",
       "      <th>pork_chop</th>\n",
       "      <td>0.20</td>\n",
       "      <td>0.28</td>\n",
       "      <td>0.24</td>\n",
       "      <td>150.0</td>\n",
       "    </tr>\n",
       "    <tr>\n",
       "      <th>lasagna</th>\n",
       "      <td>0.21</td>\n",
       "      <td>0.17</td>\n",
       "      <td>0.19</td>\n",
       "      <td>150.0</td>\n",
       "    </tr>\n",
       "    <tr>\n",
       "      <th>french_toast</th>\n",
       "      <td>0.14</td>\n",
       "      <td>0.13</td>\n",
       "      <td>0.13</td>\n",
       "      <td>150.0</td>\n",
       "    </tr>\n",
       "    <tr>\n",
       "      <th>guacamole</th>\n",
       "      <td>0.37</td>\n",
       "      <td>0.47</td>\n",
       "      <td>0.41</td>\n",
       "      <td>150.0</td>\n",
       "    </tr>\n",
       "    <tr>\n",
       "      <th>apple_pie</th>\n",
       "      <td>0.19</td>\n",
       "      <td>0.13</td>\n",
       "      <td>0.15</td>\n",
       "      <td>150.0</td>\n",
       "    </tr>\n",
       "    <tr>\n",
       "      <th>cheesecake</th>\n",
       "      <td>0.22</td>\n",
       "      <td>0.19</td>\n",
       "      <td>0.21</td>\n",
       "      <td>150.0</td>\n",
       "    </tr>\n",
       "    <tr>\n",
       "      <th>hamburger</th>\n",
       "      <td>0.16</td>\n",
       "      <td>0.11</td>\n",
       "      <td>0.13</td>\n",
       "      <td>150.0</td>\n",
       "    </tr>\n",
       "    <tr>\n",
       "      <th>fried_rice</th>\n",
       "      <td>0.24</td>\n",
       "      <td>0.27</td>\n",
       "      <td>0.25</td>\n",
       "      <td>150.0</td>\n",
       "    </tr>\n",
       "    <tr>\n",
       "      <th>carrot_cake</th>\n",
       "      <td>0.17</td>\n",
       "      <td>0.13</td>\n",
       "      <td>0.15</td>\n",
       "      <td>150.0</td>\n",
       "    </tr>\n",
       "    <tr>\n",
       "      <th>chocolate_cake</th>\n",
       "      <td>0.32</td>\n",
       "      <td>0.44</td>\n",
       "      <td>0.37</td>\n",
       "      <td>150.0</td>\n",
       "    </tr>\n",
       "    <tr>\n",
       "      <th>steak</th>\n",
       "      <td>0.20</td>\n",
       "      <td>0.18</td>\n",
       "      <td>0.19</td>\n",
       "      <td>150.0</td>\n",
       "    </tr>\n",
       "    <tr>\n",
       "      <th>pizza</th>\n",
       "      <td>0.33</td>\n",
       "      <td>0.41</td>\n",
       "      <td>0.36</td>\n",
       "      <td>150.0</td>\n",
       "    </tr>\n",
       "  </tbody>\n",
       "</table>\n",
       "</div>"
      ],
      "text/plain": [
       "                Precision  Recall  F1-Score  Support\n",
       "pork_chop            0.20    0.28      0.24    150.0\n",
       "lasagna              0.21    0.17      0.19    150.0\n",
       "french_toast         0.14    0.13      0.13    150.0\n",
       "guacamole            0.37    0.47      0.41    150.0\n",
       "apple_pie            0.19    0.13      0.15    150.0\n",
       "cheesecake           0.22    0.19      0.21    150.0\n",
       "hamburger            0.16    0.11      0.13    150.0\n",
       "fried_rice           0.24    0.27      0.25    150.0\n",
       "carrot_cake          0.17    0.13      0.15    150.0\n",
       "chocolate_cake       0.32    0.44      0.37    150.0\n",
       "steak                0.20    0.18      0.19    150.0\n",
       "pizza                0.33    0.41      0.36    150.0"
      ]
     },
     "execution_count": 124,
     "metadata": {},
     "output_type": "execute_result"
    }
   ],
   "source": [
    "metrics"
   ]
  },
  {
   "cell_type": "code",
   "execution_count": 125,
   "metadata": {
    "collapsed": false
   },
   "outputs": [
    {
     "data": {
      "text/html": [
       "<div>\n",
       "<table border=\"1\" class=\"dataframe\">\n",
       "  <thead>\n",
       "    <tr style=\"text-align: right;\">\n",
       "      <th></th>\n",
       "      <th>pork_chop</th>\n",
       "      <th>lasagna</th>\n",
       "      <th>french_toast</th>\n",
       "      <th>guacamole</th>\n",
       "      <th>apple_pie</th>\n",
       "      <th>cheesecake</th>\n",
       "      <th>hamburger</th>\n",
       "      <th>fried_rice</th>\n",
       "      <th>carrot_cake</th>\n",
       "      <th>chocolate_cake</th>\n",
       "      <th>steak</th>\n",
       "      <th>pizza</th>\n",
       "    </tr>\n",
       "  </thead>\n",
       "  <tbody>\n",
       "    <tr>\n",
       "      <th>pork_chop</th>\n",
       "      <td>42</td>\n",
       "      <td>10</td>\n",
       "      <td>6</td>\n",
       "      <td>8</td>\n",
       "      <td>5</td>\n",
       "      <td>10</td>\n",
       "      <td>9</td>\n",
       "      <td>10</td>\n",
       "      <td>8</td>\n",
       "      <td>11</td>\n",
       "      <td>23</td>\n",
       "      <td>8</td>\n",
       "    </tr>\n",
       "    <tr>\n",
       "      <th>lasagna</th>\n",
       "      <td>18</td>\n",
       "      <td>26</td>\n",
       "      <td>16</td>\n",
       "      <td>9</td>\n",
       "      <td>8</td>\n",
       "      <td>7</td>\n",
       "      <td>12</td>\n",
       "      <td>18</td>\n",
       "      <td>7</td>\n",
       "      <td>7</td>\n",
       "      <td>6</td>\n",
       "      <td>16</td>\n",
       "    </tr>\n",
       "    <tr>\n",
       "      <th>french_toast</th>\n",
       "      <td>19</td>\n",
       "      <td>21</td>\n",
       "      <td>19</td>\n",
       "      <td>6</td>\n",
       "      <td>10</td>\n",
       "      <td>18</td>\n",
       "      <td>3</td>\n",
       "      <td>14</td>\n",
       "      <td>13</td>\n",
       "      <td>11</td>\n",
       "      <td>7</td>\n",
       "      <td>9</td>\n",
       "    </tr>\n",
       "    <tr>\n",
       "      <th>guacamole</th>\n",
       "      <td>8</td>\n",
       "      <td>4</td>\n",
       "      <td>9</td>\n",
       "      <td>70</td>\n",
       "      <td>4</td>\n",
       "      <td>3</td>\n",
       "      <td>12</td>\n",
       "      <td>19</td>\n",
       "      <td>6</td>\n",
       "      <td>7</td>\n",
       "      <td>3</td>\n",
       "      <td>5</td>\n",
       "    </tr>\n",
       "    <tr>\n",
       "      <th>apple_pie</th>\n",
       "      <td>13</td>\n",
       "      <td>9</td>\n",
       "      <td>12</td>\n",
       "      <td>9</td>\n",
       "      <td>19</td>\n",
       "      <td>15</td>\n",
       "      <td>4</td>\n",
       "      <td>17</td>\n",
       "      <td>14</td>\n",
       "      <td>11</td>\n",
       "      <td>7</td>\n",
       "      <td>20</td>\n",
       "    </tr>\n",
       "    <tr>\n",
       "      <th>cheesecake</th>\n",
       "      <td>13</td>\n",
       "      <td>8</td>\n",
       "      <td>8</td>\n",
       "      <td>9</td>\n",
       "      <td>9</td>\n",
       "      <td>29</td>\n",
       "      <td>5</td>\n",
       "      <td>6</td>\n",
       "      <td>12</td>\n",
       "      <td>23</td>\n",
       "      <td>14</td>\n",
       "      <td>14</td>\n",
       "    </tr>\n",
       "    <tr>\n",
       "      <th>hamburger</th>\n",
       "      <td>18</td>\n",
       "      <td>7</td>\n",
       "      <td>18</td>\n",
       "      <td>14</td>\n",
       "      <td>9</td>\n",
       "      <td>2</td>\n",
       "      <td>17</td>\n",
       "      <td>12</td>\n",
       "      <td>11</td>\n",
       "      <td>15</td>\n",
       "      <td>7</td>\n",
       "      <td>20</td>\n",
       "    </tr>\n",
       "    <tr>\n",
       "      <th>fried_rice</th>\n",
       "      <td>8</td>\n",
       "      <td>9</td>\n",
       "      <td>11</td>\n",
       "      <td>21</td>\n",
       "      <td>15</td>\n",
       "      <td>7</td>\n",
       "      <td>8</td>\n",
       "      <td>40</td>\n",
       "      <td>3</td>\n",
       "      <td>7</td>\n",
       "      <td>4</td>\n",
       "      <td>17</td>\n",
       "    </tr>\n",
       "    <tr>\n",
       "      <th>carrot_cake</th>\n",
       "      <td>13</td>\n",
       "      <td>5</td>\n",
       "      <td>11</td>\n",
       "      <td>15</td>\n",
       "      <td>9</td>\n",
       "      <td>12</td>\n",
       "      <td>15</td>\n",
       "      <td>9</td>\n",
       "      <td>20</td>\n",
       "      <td>19</td>\n",
       "      <td>11</td>\n",
       "      <td>11</td>\n",
       "    </tr>\n",
       "    <tr>\n",
       "      <th>chocolate_cake</th>\n",
       "      <td>15</td>\n",
       "      <td>1</td>\n",
       "      <td>8</td>\n",
       "      <td>12</td>\n",
       "      <td>1</td>\n",
       "      <td>15</td>\n",
       "      <td>5</td>\n",
       "      <td>1</td>\n",
       "      <td>8</td>\n",
       "      <td>66</td>\n",
       "      <td>18</td>\n",
       "      <td>0</td>\n",
       "    </tr>\n",
       "    <tr>\n",
       "      <th>steak</th>\n",
       "      <td>34</td>\n",
       "      <td>11</td>\n",
       "      <td>6</td>\n",
       "      <td>10</td>\n",
       "      <td>8</td>\n",
       "      <td>2</td>\n",
       "      <td>7</td>\n",
       "      <td>7</td>\n",
       "      <td>9</td>\n",
       "      <td>23</td>\n",
       "      <td>27</td>\n",
       "      <td>6</td>\n",
       "    </tr>\n",
       "    <tr>\n",
       "      <th>pizza</th>\n",
       "      <td>4</td>\n",
       "      <td>12</td>\n",
       "      <td>9</td>\n",
       "      <td>7</td>\n",
       "      <td>2</td>\n",
       "      <td>11</td>\n",
       "      <td>8</td>\n",
       "      <td>11</td>\n",
       "      <td>8</td>\n",
       "      <td>8</td>\n",
       "      <td>9</td>\n",
       "      <td>61</td>\n",
       "    </tr>\n",
       "  </tbody>\n",
       "</table>\n",
       "</div>"
      ],
      "text/plain": [
       "                pork_chop  lasagna  french_toast  guacamole  apple_pie  \\\n",
       "pork_chop              42       10             6          8          5   \n",
       "lasagna                18       26            16          9          8   \n",
       "french_toast           19       21            19          6         10   \n",
       "guacamole               8        4             9         70          4   \n",
       "apple_pie              13        9            12          9         19   \n",
       "cheesecake             13        8             8          9          9   \n",
       "hamburger              18        7            18         14          9   \n",
       "fried_rice              8        9            11         21         15   \n",
       "carrot_cake            13        5            11         15          9   \n",
       "chocolate_cake         15        1             8         12          1   \n",
       "steak                  34       11             6         10          8   \n",
       "pizza                   4       12             9          7          2   \n",
       "\n",
       "                cheesecake  hamburger  fried_rice  carrot_cake  \\\n",
       "pork_chop               10          9          10            8   \n",
       "lasagna                  7         12          18            7   \n",
       "french_toast            18          3          14           13   \n",
       "guacamole                3         12          19            6   \n",
       "apple_pie               15          4          17           14   \n",
       "cheesecake              29          5           6           12   \n",
       "hamburger                2         17          12           11   \n",
       "fried_rice               7          8          40            3   \n",
       "carrot_cake             12         15           9           20   \n",
       "chocolate_cake          15          5           1            8   \n",
       "steak                    2          7           7            9   \n",
       "pizza                   11          8          11            8   \n",
       "\n",
       "                chocolate_cake  steak  pizza  \n",
       "pork_chop                   11     23      8  \n",
       "lasagna                      7      6     16  \n",
       "french_toast                11      7      9  \n",
       "guacamole                    7      3      5  \n",
       "apple_pie                   11      7     20  \n",
       "cheesecake                  23     14     14  \n",
       "hamburger                   15      7     20  \n",
       "fried_rice                   7      4     17  \n",
       "carrot_cake                 19     11     11  \n",
       "chocolate_cake              66     18      0  \n",
       "steak                       23     27      6  \n",
       "pizza                        8      9     61  "
      ]
     },
     "execution_count": 125,
     "metadata": {},
     "output_type": "execute_result"
    }
   ],
   "source": [
    "confusion"
   ]
  },
  {
   "cell_type": "code",
   "execution_count": null,
   "metadata": {
    "collapsed": true
   },
   "outputs": [],
   "source": []
  }
 ],
 "metadata": {
  "kernelspec": {
   "display_name": "Python 3",
   "language": "python",
   "name": "python3"
  },
  "language_info": {
   "codemirror_mode": {
    "name": "ipython",
    "version": 3
   },
   "file_extension": ".py",
   "mimetype": "text/x-python",
   "name": "python",
   "nbconvert_exporter": "python",
   "pygments_lexer": "ipython3",
   "version": "3.5.1"
  }
 },
 "nbformat": 4,
 "nbformat_minor": 0
}
