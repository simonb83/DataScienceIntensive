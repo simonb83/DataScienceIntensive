{
 "cells": [
  {
   "cell_type": "markdown",
   "metadata": {},
   "source": [
    "##### Implement a Linear Classifier of form f = Wx, using Softmax loss function and weights updated by stochastic gradient descent"
   ]
  },
  {
   "cell_type": "code",
   "execution_count": 1,
   "metadata": {
    "collapsed": false
   },
   "outputs": [],
   "source": [
    "%matplotlib inline\n",
    "import matplotlib.pyplot as plt\n",
    "import numpy as np\n",
    "import pandas as pd\n",
    "import sys, os\n",
    "import skimage.io as io\n",
    "from skimage.transform import resize\n",
    "sys.path.append('../')\n",
    "import nn.linear_classifier as LC\n",
    "import helpers.histogram_classifier as hc\n",
    "from imp import reload\n",
    "import time"
   ]
  },
  {
   "cell_type": "code",
   "execution_count": 2,
   "metadata": {
    "collapsed": false
   },
   "outputs": [
    {
     "data": {
      "text/html": [
       "<style>body {\n",
       "    margin: 0;\n",
       "    font-family: Helvetica;\n",
       "}\n",
       "table.dataframe {\n",
       "    border-collapse: collapse;\n",
       "    border: none;\n",
       "    font-size: 12px;\n",
       "}\n",
       "table.dataframe tr {\n",
       "    border: none;\n",
       "    line-height: 14px;\n",
       "}\n",
       "table.dataframe td, table.dataframe th {\n",
       "    margin: 0;\n",
       "    border: 1px solid white;\n",
       "    padding-left: 0.7em;\n",
       "    padding-right: 0.7em;\n",
       "}\n",
       "table.dataframe th {\n",
       "    background-color: #1c9099;\n",
       "    text-align: center;\n",
       "    font-weight: normal;\n",
       "    color: white;\n",
       "}\n",
       "table.dataframe td {\n",
       "    border: 1px solid #ccf;\n",
       "    background-color: #f4f4ff;\n",
       "    text-align: center;\n",
       "}\n",
       "</style>"
      ],
      "text/plain": [
       "<IPython.core.display.HTML object>"
      ]
     },
     "execution_count": 2,
     "metadata": {},
     "output_type": "execute_result"
    }
   ],
   "source": [
    "from IPython.core.display import HTML\n",
    "css = open('styles/table-style.css').read() #+ open('style-notebook.css').read()\n",
    "HTML('<style>{}</style>'.format(css))"
   ]
  },
  {
   "cell_type": "code",
   "execution_count": 3,
   "metadata": {
    "collapsed": true
   },
   "outputs": [],
   "source": [
    "SIZE = 64"
   ]
  },
  {
   "cell_type": "code",
   "execution_count": 4,
   "metadata": {
    "collapsed": false
   },
   "outputs": [],
   "source": [
    "classes = pd.read_csv('../data/food-101/meta/top_classes.csv', index_col=0)\n",
    "class_list = list(classes['class'].unique())\n",
    "\n",
    "image_names = {}\n",
    "for c in class_list:\n",
    "    image_names[c] = np.array(classes[classes['class'] == c]['name'])"
   ]
  },
  {
   "cell_type": "code",
   "execution_count": 5,
   "metadata": {
    "collapsed": false
   },
   "outputs": [],
   "source": [
    "# Load the images, and rescale to smaller size\n",
    "X = []\n",
    "y = []\n",
    "for i, c in enumerate(class_list):\n",
    "    for im_name in image_names[c]:\n",
    "        im = io.imread(os.path.join(\"../data/food-101/top_classes/\", c, \"\", im_name))\n",
    "        im = resize(im, (SIZE, SIZE, SIZE, 3))\n",
    "        X.append(im)\n",
    "        y.append(i)"
   ]
  },
  {
   "cell_type": "code",
   "execution_count": 6,
   "metadata": {
    "collapsed": false
   },
   "outputs": [
    {
     "name": "stdout",
     "output_type": "stream",
     "text": [
      "X has shape: (12000, 64, 64, 3)\n",
      "y has shape: (12000,)\n"
     ]
    }
   ],
   "source": [
    "# Convert X and y to numpy arrays for ease of use\n",
    "X = np.array(X)\n",
    "y = np.array(y)\n",
    "print(\"X has shape: {}\".format(X.shape))\n",
    "print(\"y has shape: {}\".format(y.shape))"
   ]
  },
  {
   "cell_type": "code",
   "execution_count": 7,
   "metadata": {
    "collapsed": false
   },
   "outputs": [
    {
     "name": "stdout",
     "output_type": "stream",
     "text": [
      "X_train has shape: (10200, 64, 64, 3)\n",
      "y_train has shape: (10200,)\n",
      "X_test has shape: (1800, 64, 64, 3)\n",
      "y_test has shape: (1800,)\n",
      "X_dev has shape: (200, 64, 64, 3)\n",
      "y_dev has shape: (200,)\n"
     ]
    }
   ],
   "source": [
    "# Split X and y into training and test data\n",
    "# Further create a small sub-set of the training data for code development\n",
    "n_train = int(np.floor(0.85 * X.shape[0]))\n",
    "all_indices = np.arange(0, X.shape[0])\n",
    "np.random.shuffle(all_indices)\n",
    "train, test = all_indices[:n_train], all_indices[n_train:]\n",
    "\n",
    "X_train = X[train]\n",
    "y_train = y[train]\n",
    "X_test = X[test]\n",
    "y_test = y[test]\n",
    "\n",
    "mask = np.random.choice(n_train, 200, replace=False)\n",
    "X_dev = X_train[mask]\n",
    "y_dev = y_train[mask]\n",
    "\n",
    "print(\"X_train has shape: {}\".format(X_train.shape))\n",
    "print(\"y_train has shape: {}\".format(y_train.shape))\n",
    "print(\"X_test has shape: {}\".format(X_test.shape))\n",
    "print(\"y_test has shape: {}\".format(y_test.shape))\n",
    "print(\"X_dev has shape: {}\".format(X_dev.shape))\n",
    "print(\"y_dev has shape: {}\".format(y_dev.shape))"
   ]
  },
  {
   "cell_type": "code",
   "execution_count": 8,
   "metadata": {
    "collapsed": false
   },
   "outputs": [
    {
     "name": "stdout",
     "output_type": "stream",
     "text": [
      "X_train has shape: (10200, 12288)\n",
      "X_test has shape: (1800, 12288)\n",
      "X_dev has shape: (200, 12288)\n"
     ]
    }
   ],
   "source": [
    "# Reshape the X data\n",
    "X_train = np.reshape(X_train, (X_train.shape[0], -1))\n",
    "X_test = np.reshape(X_test, (X_test.shape[0], -1))\n",
    "X_dev = np.reshape(X_dev, (X_dev.shape[0], -1))\n",
    "\n",
    "print(\"X_train has shape: {}\".format(X_train.shape))\n",
    "print(\"X_test has shape: {}\".format(X_test.shape))\n",
    "print(\"X_dev has shape: {}\".format(X_dev.shape))"
   ]
  },
  {
   "cell_type": "code",
   "execution_count": 9,
   "metadata": {
    "collapsed": true
   },
   "outputs": [],
   "source": [
    "# Subtract the mean image\n",
    "mean_image = np.mean(X_train, axis=0)\n",
    "X_train -= mean_image\n",
    "X_test -= mean_image\n",
    "X_dev -= mean_image"
   ]
  },
  {
   "cell_type": "code",
   "execution_count": 10,
   "metadata": {
    "collapsed": false
   },
   "outputs": [
    {
     "name": "stdout",
     "output_type": "stream",
     "text": [
      "X_train has shape: (10200, 12289)\n",
      "X_test has shape: (1800, 12289)\n",
      "X_dev has shape: (200, 12289)\n"
     ]
    }
   ],
   "source": [
    "# Append bias dimension of ones to simplify the optimization procedure\n",
    "X_train = np.hstack([X_train, np.ones((X_train.shape[0], 1))])\n",
    "X_test = np.hstack([X_test, np.ones((X_test.shape[0], 1))])\n",
    "X_dev = np.hstack([X_dev, np.ones((X_dev.shape[0], 1))])\n",
    "\n",
    "print(\"X_train has shape: {}\".format(X_train.shape))\n",
    "print(\"X_test has shape: {}\".format(X_test.shape))\n",
    "print(\"X_dev has shape: {}\".format(X_dev.shape))"
   ]
  },
  {
   "cell_type": "code",
   "execution_count": 12,
   "metadata": {
    "collapsed": false
   },
   "outputs": [
    {
     "name": "stdout",
     "output_type": "stream",
     "text": [
      "Best result: 0.22875816993464052\n",
      "Learning rate: 0.0001, Regularization factor: 1\n",
      "CPU times: user 27min 58s, sys: 3min 34s, total: 31min 32s\n",
      "Wall time: 17min 1s\n"
     ]
    }
   ],
   "source": [
    "%%time\n",
    "# Do some cross validation for learning rate and regularization weight\n",
    "learning_rates = [1e-7, 1e-6, 1e-5, 1e-4]\n",
    "reg_weights = [0.01, 0.1, 1, 10]\n",
    "\n",
    "results = {}\n",
    "best_score = -1   # The highest validation accuracy that we have seen so far.\n",
    "best_params = (0,0)\n",
    "\n",
    "for l in learning_rates:\n",
    "    for r in reg_weights:\n",
    "        #Get some training and validation data\n",
    "            n_train = int(np.floor(0.85 * X_train.shape[0]))\n",
    "            mask = np.arange(0, X_train.shape[0])\n",
    "            np.random.shuffle(mask)\n",
    "            X_t = X_train[mask[:n_train]]\n",
    "            X_val = X_train[mask[n_train:]]\n",
    "            y_t = y_train[mask[:n_train]]\n",
    "            y_val = y_train[mask[n_train:]]\n",
    "            svm = LC.LinearSoftmax()\n",
    "            losses = svm.fit(X_t, y_t, learning_rate=l, lam=r, num_iterations=3000)\n",
    "            predictions = svm.predict(X_val)\n",
    "            score = np.mean(predictions == y_val)\n",
    "            results[(l, r)] = score\n",
    "            if score > best_score:\n",
    "                best_score = score\n",
    "                best_params = (l, r)\n",
    "\n",
    "print(\"Best result: {}\".format(best_score))\n",
    "print(\"Learning rate: {}, Regularization factor: {}\".format(best_params[0], best_params[1]))"
   ]
  },
  {
   "cell_type": "code",
   "execution_count": 13,
   "metadata": {
    "collapsed": false
   },
   "outputs": [
    {
     "data": {
      "text/plain": [
       "(0.0001, 1)"
      ]
     },
     "execution_count": 13,
     "metadata": {},
     "output_type": "execute_result"
    }
   ],
   "source": [
    "best_params"
   ]
  },
  {
   "cell_type": "code",
   "execution_count": 14,
   "metadata": {
    "collapsed": false
   },
   "outputs": [],
   "source": [
    "svm = LC.LinearSoftmax()"
   ]
  },
  {
   "cell_type": "code",
   "execution_count": 15,
   "metadata": {
    "collapsed": false
   },
   "outputs": [
    {
     "name": "stdout",
     "output_type": "stream",
     "text": [
      "That took 1165.707332s\n"
     ]
    }
   ],
   "source": [
    "start = time.time()\n",
    "losses = svm.fit(X_train, y_train, learning_rate = best_params[0], lam = best_params[1], num_iterations=60000, verbose=False)\n",
    "end = time.time()\n",
    "print ('That took %fs' % (end - start))"
   ]
  },
  {
   "cell_type": "code",
   "execution_count": 16,
   "metadata": {
    "collapsed": true
   },
   "outputs": [],
   "source": [
    "plt.style.use('seaborn-pastel')"
   ]
  },
  {
   "cell_type": "code",
   "execution_count": 17,
   "metadata": {
    "collapsed": false
   },
   "outputs": [
    {
     "data": {
      "image/png": "[encoded data removed]",
      "text/plain": [
       "<matplotlib.figure.Figure at 0x1171a9780>"
      ]
     },
     "metadata": {},
     "output_type": "display_data"
    }
   ],
   "source": [
    "plt.plot(losses)\n",
    "plt.xlabel(\"Iteration\")\n",
    "plt.ylabel(\"Loss\")\n",
    "plt.title(\"Loss evolution\")\n",
    "plt.show()"
   ]
  },
  {
   "cell_type": "code",
   "execution_count": 18,
   "metadata": {
    "collapsed": true
   },
   "outputs": [],
   "source": [
    "predictions = svm.predict(X_test)"
   ]
  },
  {
   "cell_type": "code",
   "execution_count": 19,
   "metadata": {
    "collapsed": false
   },
   "outputs": [],
   "source": [
    "def get_class(x):\n",
    "    return class_list[x]\n",
    "\n",
    "get_class = np.vectorize(get_class)"
   ]
  },
  {
   "cell_type": "code",
   "execution_count": 20,
   "metadata": {
    "collapsed": false
   },
   "outputs": [],
   "source": [
    "overall, metrics, confusion = hc.get_metrics(get_class(y_test), get_class(predictions), class_list)"
   ]
  },
  {
   "cell_type": "code",
   "execution_count": 21,
   "metadata": {
    "collapsed": false
   },
   "outputs": [
    {
     "data": {
      "text/html": [
       "<div>\n",
       "<table border=\"1\" class=\"dataframe\">\n",
       "  <thead>\n",
       "    <tr style=\"text-align: right;\">\n",
       "      <th></th>\n",
       "      <th>Accuracy</th>\n",
       "      <th>F1</th>\n",
       "      <th>Precision</th>\n",
       "      <th>Recall</th>\n",
       "    </tr>\n",
       "  </thead>\n",
       "  <tbody>\n",
       "    <tr>\n",
       "      <th>Results</th>\n",
       "      <td>0.211</td>\n",
       "      <td>0.181</td>\n",
       "      <td>0.204</td>\n",
       "      <td>0.211</td>\n",
       "    </tr>\n",
       "  </tbody>\n",
       "</table>\n",
       "</div>"
      ],
      "text/plain": [
       "         Accuracy     F1  Precision  Recall\n",
       "Results     0.211  0.181      0.204   0.211"
      ]
     },
     "execution_count": 21,
     "metadata": {},
     "output_type": "execute_result"
    }
   ],
   "source": [
    "overall"
   ]
  },
  {
   "cell_type": "code",
   "execution_count": 22,
   "metadata": {
    "collapsed": false
   },
   "outputs": [
    {
     "data": {
      "text/html": [
       "<div>\n",
       "<table border=\"1\" class=\"dataframe\">\n",
       "  <thead>\n",
       "    <tr style=\"text-align: right;\">\n",
       "      <th></th>\n",
       "      <th>Precision</th>\n",
       "      <th>Recall</th>\n",
       "      <th>F1-Score</th>\n",
       "      <th>Support</th>\n",
       "    </tr>\n",
       "  </thead>\n",
       "  <tbody>\n",
       "    <tr>\n",
       "      <th>pork_chop</th>\n",
       "      <td>0.25</td>\n",
       "      <td>0.31</td>\n",
       "      <td>0.28</td>\n",
       "      <td>157.0</td>\n",
       "    </tr>\n",
       "    <tr>\n",
       "      <th>lasagna</th>\n",
       "      <td>0.22</td>\n",
       "      <td>0.21</td>\n",
       "      <td>0.21</td>\n",
       "      <td>148.0</td>\n",
       "    </tr>\n",
       "    <tr>\n",
       "      <th>french_toast</th>\n",
       "      <td>0.08</td>\n",
       "      <td>0.02</td>\n",
       "      <td>0.03</td>\n",
       "      <td>170.0</td>\n",
       "    </tr>\n",
       "    <tr>\n",
       "      <th>guacamole</th>\n",
       "      <td>0.21</td>\n",
       "      <td>0.40</td>\n",
       "      <td>0.28</td>\n",
       "      <td>149.0</td>\n",
       "    </tr>\n",
       "    <tr>\n",
       "      <th>apple_pie</th>\n",
       "      <td>0.15</td>\n",
       "      <td>0.05</td>\n",
       "      <td>0.07</td>\n",
       "      <td>162.0</td>\n",
       "    </tr>\n",
       "    <tr>\n",
       "      <th>cheesecake</th>\n",
       "      <td>0.23</td>\n",
       "      <td>0.25</td>\n",
       "      <td>0.24</td>\n",
       "      <td>160.0</td>\n",
       "    </tr>\n",
       "    <tr>\n",
       "      <th>hamburger</th>\n",
       "      <td>0.33</td>\n",
       "      <td>0.02</td>\n",
       "      <td>0.04</td>\n",
       "      <td>150.0</td>\n",
       "    </tr>\n",
       "    <tr>\n",
       "      <th>fried_rice</th>\n",
       "      <td>0.19</td>\n",
       "      <td>0.16</td>\n",
       "      <td>0.18</td>\n",
       "      <td>134.0</td>\n",
       "    </tr>\n",
       "    <tr>\n",
       "      <th>carrot_cake</th>\n",
       "      <td>0.21</td>\n",
       "      <td>0.16</td>\n",
       "      <td>0.18</td>\n",
       "      <td>152.0</td>\n",
       "    </tr>\n",
       "    <tr>\n",
       "      <th>chocolate_cake</th>\n",
       "      <td>0.20</td>\n",
       "      <td>0.53</td>\n",
       "      <td>0.29</td>\n",
       "      <td>130.0</td>\n",
       "    </tr>\n",
       "    <tr>\n",
       "      <th>steak</th>\n",
       "      <td>0.17</td>\n",
       "      <td>0.12</td>\n",
       "      <td>0.14</td>\n",
       "      <td>156.0</td>\n",
       "    </tr>\n",
       "    <tr>\n",
       "      <th>pizza</th>\n",
       "      <td>0.23</td>\n",
       "      <td>0.41</td>\n",
       "      <td>0.29</td>\n",
       "      <td>132.0</td>\n",
       "    </tr>\n",
       "  </tbody>\n",
       "</table>\n",
       "</div>"
      ],
      "text/plain": [
       "                Precision  Recall  F1-Score  Support\n",
       "pork_chop            0.25    0.31      0.28    157.0\n",
       "lasagna              0.22    0.21      0.21    148.0\n",
       "french_toast         0.08    0.02      0.03    170.0\n",
       "guacamole            0.21    0.40      0.28    149.0\n",
       "apple_pie            0.15    0.05      0.07    162.0\n",
       "cheesecake           0.23    0.25      0.24    160.0\n",
       "hamburger            0.33    0.02      0.04    150.0\n",
       "fried_rice           0.19    0.16      0.18    134.0\n",
       "carrot_cake          0.21    0.16      0.18    152.0\n",
       "chocolate_cake       0.20    0.53      0.29    130.0\n",
       "steak                0.17    0.12      0.14    156.0\n",
       "pizza                0.23    0.41      0.29    132.0"
      ]
     },
     "execution_count": 22,
     "metadata": {},
     "output_type": "execute_result"
    }
   ],
   "source": [
    "metrics"
   ]
  },
  {
   "cell_type": "code",
   "execution_count": 23,
   "metadata": {
    "collapsed": false
   },
   "outputs": [
    {
     "data": {
      "text/html": [
       "<div>\n",
       "<table border=\"1\" class=\"dataframe\">\n",
       "  <thead>\n",
       "    <tr style=\"text-align: right;\">\n",
       "      <th></th>\n",
       "      <th>pork_chop</th>\n",
       "      <th>lasagna</th>\n",
       "      <th>french_toast</th>\n",
       "      <th>guacamole</th>\n",
       "      <th>apple_pie</th>\n",
       "      <th>cheesecake</th>\n",
       "      <th>hamburger</th>\n",
       "      <th>fried_rice</th>\n",
       "      <th>carrot_cake</th>\n",
       "      <th>chocolate_cake</th>\n",
       "      <th>steak</th>\n",
       "      <th>pizza</th>\n",
       "    </tr>\n",
       "  </thead>\n",
       "  <tbody>\n",
       "    <tr>\n",
       "      <th>pork_chop</th>\n",
       "      <td>48</td>\n",
       "      <td>7</td>\n",
       "      <td>3</td>\n",
       "      <td>11</td>\n",
       "      <td>4</td>\n",
       "      <td>6</td>\n",
       "      <td>1</td>\n",
       "      <td>5</td>\n",
       "      <td>4</td>\n",
       "      <td>37</td>\n",
       "      <td>20</td>\n",
       "      <td>11</td>\n",
       "    </tr>\n",
       "    <tr>\n",
       "      <th>lasagna</th>\n",
       "      <td>12</td>\n",
       "      <td>31</td>\n",
       "      <td>6</td>\n",
       "      <td>15</td>\n",
       "      <td>9</td>\n",
       "      <td>14</td>\n",
       "      <td>0</td>\n",
       "      <td>10</td>\n",
       "      <td>4</td>\n",
       "      <td>14</td>\n",
       "      <td>8</td>\n",
       "      <td>25</td>\n",
       "    </tr>\n",
       "    <tr>\n",
       "      <th>french_toast</th>\n",
       "      <td>19</td>\n",
       "      <td>22</td>\n",
       "      <td>3</td>\n",
       "      <td>19</td>\n",
       "      <td>6</td>\n",
       "      <td>21</td>\n",
       "      <td>0</td>\n",
       "      <td>7</td>\n",
       "      <td>19</td>\n",
       "      <td>25</td>\n",
       "      <td>8</td>\n",
       "      <td>21</td>\n",
       "    </tr>\n",
       "    <tr>\n",
       "      <th>guacamole</th>\n",
       "      <td>6</td>\n",
       "      <td>6</td>\n",
       "      <td>2</td>\n",
       "      <td>59</td>\n",
       "      <td>2</td>\n",
       "      <td>6</td>\n",
       "      <td>1</td>\n",
       "      <td>20</td>\n",
       "      <td>7</td>\n",
       "      <td>14</td>\n",
       "      <td>8</td>\n",
       "      <td>18</td>\n",
       "    </tr>\n",
       "    <tr>\n",
       "      <th>apple_pie</th>\n",
       "      <td>11</td>\n",
       "      <td>19</td>\n",
       "      <td>4</td>\n",
       "      <td>26</td>\n",
       "      <td>8</td>\n",
       "      <td>15</td>\n",
       "      <td>0</td>\n",
       "      <td>15</td>\n",
       "      <td>16</td>\n",
       "      <td>19</td>\n",
       "      <td>8</td>\n",
       "      <td>21</td>\n",
       "    </tr>\n",
       "    <tr>\n",
       "      <th>cheesecake</th>\n",
       "      <td>7</td>\n",
       "      <td>7</td>\n",
       "      <td>3</td>\n",
       "      <td>20</td>\n",
       "      <td>4</td>\n",
       "      <td>40</td>\n",
       "      <td>0</td>\n",
       "      <td>4</td>\n",
       "      <td>15</td>\n",
       "      <td>39</td>\n",
       "      <td>6</td>\n",
       "      <td>15</td>\n",
       "    </tr>\n",
       "    <tr>\n",
       "      <th>hamburger</th>\n",
       "      <td>19</td>\n",
       "      <td>13</td>\n",
       "      <td>6</td>\n",
       "      <td>22</td>\n",
       "      <td>4</td>\n",
       "      <td>7</td>\n",
       "      <td>3</td>\n",
       "      <td>15</td>\n",
       "      <td>7</td>\n",
       "      <td>27</td>\n",
       "      <td>8</td>\n",
       "      <td>19</td>\n",
       "    </tr>\n",
       "    <tr>\n",
       "      <th>fried_rice</th>\n",
       "      <td>11</td>\n",
       "      <td>11</td>\n",
       "      <td>4</td>\n",
       "      <td>28</td>\n",
       "      <td>7</td>\n",
       "      <td>12</td>\n",
       "      <td>0</td>\n",
       "      <td>22</td>\n",
       "      <td>9</td>\n",
       "      <td>11</td>\n",
       "      <td>0</td>\n",
       "      <td>19</td>\n",
       "    </tr>\n",
       "    <tr>\n",
       "      <th>carrot_cake</th>\n",
       "      <td>9</td>\n",
       "      <td>7</td>\n",
       "      <td>3</td>\n",
       "      <td>26</td>\n",
       "      <td>3</td>\n",
       "      <td>20</td>\n",
       "      <td>1</td>\n",
       "      <td>7</td>\n",
       "      <td>24</td>\n",
       "      <td>30</td>\n",
       "      <td>3</td>\n",
       "      <td>19</td>\n",
       "    </tr>\n",
       "    <tr>\n",
       "      <th>chocolate_cake</th>\n",
       "      <td>8</td>\n",
       "      <td>2</td>\n",
       "      <td>0</td>\n",
       "      <td>15</td>\n",
       "      <td>1</td>\n",
       "      <td>8</td>\n",
       "      <td>3</td>\n",
       "      <td>4</td>\n",
       "      <td>5</td>\n",
       "      <td>69</td>\n",
       "      <td>11</td>\n",
       "      <td>4</td>\n",
       "    </tr>\n",
       "    <tr>\n",
       "      <th>steak</th>\n",
       "      <td>36</td>\n",
       "      <td>6</td>\n",
       "      <td>3</td>\n",
       "      <td>16</td>\n",
       "      <td>3</td>\n",
       "      <td>14</td>\n",
       "      <td>0</td>\n",
       "      <td>1</td>\n",
       "      <td>3</td>\n",
       "      <td>45</td>\n",
       "      <td>18</td>\n",
       "      <td>11</td>\n",
       "    </tr>\n",
       "    <tr>\n",
       "      <th>pizza</th>\n",
       "      <td>4</td>\n",
       "      <td>11</td>\n",
       "      <td>2</td>\n",
       "      <td>19</td>\n",
       "      <td>4</td>\n",
       "      <td>10</td>\n",
       "      <td>0</td>\n",
       "      <td>4</td>\n",
       "      <td>2</td>\n",
       "      <td>14</td>\n",
       "      <td>8</td>\n",
       "      <td>54</td>\n",
       "    </tr>\n",
       "  </tbody>\n",
       "</table>\n",
       "</div>"
      ],
      "text/plain": [
       "                pork_chop  lasagna  french_toast  guacamole  apple_pie  \\\n",
       "pork_chop              48        7             3         11          4   \n",
       "lasagna                12       31             6         15          9   \n",
       "french_toast           19       22             3         19          6   \n",
       "guacamole               6        6             2         59          2   \n",
       "apple_pie              11       19             4         26          8   \n",
       "cheesecake              7        7             3         20          4   \n",
       "hamburger              19       13             6         22          4   \n",
       "fried_rice             11       11             4         28          7   \n",
       "carrot_cake             9        7             3         26          3   \n",
       "chocolate_cake          8        2             0         15          1   \n",
       "steak                  36        6             3         16          3   \n",
       "pizza                   4       11             2         19          4   \n",
       "\n",
       "                cheesecake  hamburger  fried_rice  carrot_cake  \\\n",
       "pork_chop                6          1           5            4   \n",
       "lasagna                 14          0          10            4   \n",
       "french_toast            21          0           7           19   \n",
       "guacamole                6          1          20            7   \n",
       "apple_pie               15          0          15           16   \n",
       "cheesecake              40          0           4           15   \n",
       "hamburger                7          3          15            7   \n",
       "fried_rice              12          0          22            9   \n",
       "carrot_cake             20          1           7           24   \n",
       "chocolate_cake           8          3           4            5   \n",
       "steak                   14          0           1            3   \n",
       "pizza                   10          0           4            2   \n",
       "\n",
       "                chocolate_cake  steak  pizza  \n",
       "pork_chop                   37     20     11  \n",
       "lasagna                     14      8     25  \n",
       "french_toast                25      8     21  \n",
       "guacamole                   14      8     18  \n",
       "apple_pie                   19      8     21  \n",
       "cheesecake                  39      6     15  \n",
       "hamburger                   27      8     19  \n",
       "fried_rice                  11      0     19  \n",
       "carrot_cake                 30      3     19  \n",
       "chocolate_cake              69     11      4  \n",
       "steak                       45     18     11  \n",
       "pizza                       14      8     54  "
      ]
     },
     "execution_count": 23,
     "metadata": {},
     "output_type": "execute_result"
    }
   ],
   "source": [
    "confusion"
   ]
  },
  {
   "cell_type": "code",
   "execution_count": null,
   "metadata": {
    "collapsed": true
   },
   "outputs": [],
   "source": []
  }
 ],
 "metadata": {
  "kernelspec": {
   "display_name": "Python 3",
   "language": "python",
   "name": "python3"
  },
  "language_info": {
   "codemirror_mode": {
    "name": "ipython",
    "version": 3
   },
   "file_extension": ".py",
   "mimetype": "text/x-python",
   "name": "python",
   "nbconvert_exporter": "python",
   "pygments_lexer": "ipython3",
   "version": "3.5.1"
  }
 },
 "nbformat": 4,
 "nbformat_minor": 0
}
