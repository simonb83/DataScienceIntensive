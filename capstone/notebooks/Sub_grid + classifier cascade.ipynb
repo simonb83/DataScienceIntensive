{
 "cells": [
  {
   "cell_type": "code",
   "execution_count": 1,
   "metadata": {
    "collapsed": false
   },
   "outputs": [],
   "source": [
    "%matplotlib inline\n",
    "import matplotlib.pyplot as plt\n",
    "import pandas as pd\n",
    "import numpy as np\n",
    "import skimage.io as io\n",
    "from skimage import feature\n",
    "from skimage.transform import resize\n",
    "from sklearn.feature_selection import VarianceThreshold\n",
    "from skimage.color import rgb2gray\n",
    "from sklearn.decomposition import PCA\n",
    "from sklearn.grid_search import GridSearchCV\n",
    "from sklearn.ensemble import RandomForestClassifier\n",
    "from sklearn.naive_bayes import GaussianNB\n",
    "from sklearn.svm import SVC\n",
    "from skimage.feature import corner_fast, corner_peaks, corner_harris\n",
    "import sys\n",
    "import os\n",
    "sys.path.append('../')\n",
    "import helpers.histogram_classifier as hc"
   ]
  },
  {
   "cell_type": "code",
   "execution_count": 2,
   "metadata": {
    "collapsed": true
   },
   "outputs": [],
   "source": [
    "def sub_grid(image, size=32):\n",
    "    \"\"\"\n",
    "    Split an image into a grid of non-overlapping square boxes, and return each box in turn\n",
    "    :params image: image as numpy array\n",
    "    :params size: side-length of box to use; should be a power of 2\n",
    "    :return: yields each box in turn\n",
    "    \"\"\"\n",
    "    pic_size = image.shape\n",
    "    box_side = size\n",
    "    for x in range(0, pic_size[0], box_side):\n",
    "        for y in range(0, pic_size[1], box_side):\n",
    "            yield image[x:x + box_side, y:y + box_side, :]"
   ]
  },
  {
   "cell_type": "code",
   "execution_count": 3,
   "metadata": {
    "collapsed": false
   },
   "outputs": [
    {
     "data": {
      "text/html": [
       "<style>body {\n",
       "    margin: 0;\n",
       "    font-family: Helvetica;\n",
       "}\n",
       "table.dataframe {\n",
       "    border-collapse: collapse;\n",
       "    border: none;\n",
       "    font-size: 12px;\n",
       "}\n",
       "table.dataframe tr {\n",
       "    border: none;\n",
       "    line-height: 14px;\n",
       "}\n",
       "table.dataframe td, table.dataframe th {\n",
       "    margin: 0;\n",
       "    border: 1px solid white;\n",
       "    padding-left: 0.7em;\n",
       "    padding-right: 0.7em;\n",
       "}\n",
       "table.dataframe th {\n",
       "    background-color: #1c9099;\n",
       "    text-align: center;\n",
       "    font-weight: normal;\n",
       "    color: white;\n",
       "}\n",
       "table.dataframe td {\n",
       "    border: 1px solid #ccf;\n",
       "    background-color: #f4f4ff;\n",
       "    text-align: center;\n",
       "}\n",
       "</style>"
      ],
      "text/plain": [
       "<IPython.core.display.HTML object>"
      ]
     },
     "execution_count": 3,
     "metadata": {},
     "output_type": "execute_result"
    }
   ],
   "source": [
    "from IPython.core.display import HTML\n",
    "css = open('styles/table-style.css').read() #+ open('style-notebook.css').read()\n",
    "HTML('<style>{}</style>'.format(css))"
   ]
  },
  {
   "cell_type": "code",
   "execution_count": 4,
   "metadata": {
    "collapsed": false
   },
   "outputs": [],
   "source": [
    "def get_image_features(img, box_size):\n",
    "    \"\"\"\n",
    "    Get RGB and edge features for a single image by splitting the image into a grid of non-overlapping\n",
    "    square boxes, and obtaining features for each box\n",
    "    :params img: image as a numpy array\n",
    "    :params box_size: the side-length in pixels of the box to be used\n",
    "    :return: mean Red pixel value in each box\n",
    "    :return: mean Green pixel value in each box\n",
    "    :return: mean Blue pixel value in each box\n",
    "    :return: number of edges in each box, extracted using skimage canny edges algorithm\n",
    "    :return: number of corners in each box, extracted using skimage corner_fast algorithm\n",
    "    \"\"\"\n",
    "    image_features = []\n",
    "    for box in sub_grid(img, size=box_size):\n",
    "        features = []\n",
    "        features.append(np.mean(box[:, :, 0]))\n",
    "        features.append(np.mean(box[:, :, 1]))\n",
    "        features.append(np.mean(box[:, :, 2]))\n",
    "        features.append(np.sum(feature.canny(rgb2gray(box), sigma=1)))\n",
    "        features.append(corner_peaks(corner_fast(rgb2gray(box))).shape[0])\n",
    "        image_features.append(np.array(features))\n",
    "    image_features = np.array(image_features)\n",
    "    return image_features[:, 0], image_features[:, 1], image_features[:, 2], image_features[:, 3], image_features[:, 4]"
   ]
  },
  {
   "cell_type": "code",
   "execution_count": 5,
   "metadata": {
    "collapsed": false
   },
   "outputs": [],
   "source": [
    "def get_complete_features(image_classes, image_names, box_size):\n",
    "    \"\"\"\n",
    "    Get RGB and edge features for a dictionary of image names\n",
    "    :params image_classes: list of n image classes\n",
    "    :params image_names: dictionary of m image names for each class\n",
    "    :params size: size as tuple for reshaping images for extracting edges and corners\n",
    "    :return: red_features: average red pixel value for each box in each image\n",
    "    :return: green_features: average green pixel value for each box in each image\n",
    "    :return: blue_features: average blue pixel value for each box in each image\n",
    "    :return: edge_features: number of edges detected for each box in each image\n",
    "    :return: corner_features: number of corners detected for each box in each image\n",
    "    :return: labels: array of true labels for each image\n",
    "    \"\"\"\n",
    "    red_features = []\n",
    "    green_features = []\n",
    "    blue_features = []\n",
    "    edge_features = []\n",
    "    corner_features = []\n",
    "    labels = []\n",
    "    for c in image_classes:\n",
    "        for i in image_names[c]:\n",
    "            img = io.imread(os.path.join(\"../data/food-101/top_classes/\", c, \"\", i))\n",
    "            red, green, blue, edge, corners = get_image_features(img, box_size=box_size)\n",
    "            red_features.append(red)\n",
    "            green_features.append(green)\n",
    "            blue_features.append(blue)\n",
    "            edge_features.append(edge)\n",
    "            corner_features.append(corners)\n",
    "            labels.append(c)\n",
    "    \n",
    "    return np.array(red_features), np.array(green_features), np.array(blue_features), np.array(edge_features), np.array(corner_features), np.array(labels)"
   ]
  },
  {
   "cell_type": "code",
   "execution_count": 6,
   "metadata": {
    "collapsed": true
   },
   "outputs": [],
   "source": [
    "BOX = 16"
   ]
  },
  {
   "cell_type": "code",
   "execution_count": 7,
   "metadata": {
    "collapsed": false
   },
   "outputs": [],
   "source": [
    "classes = pd.read_csv('../data/food-101/meta/top_classes.csv', index_col=0)\n",
    "class_list = list(classes['class'].unique())\n",
    "\n",
    "image_names = {}\n",
    "for c in class_list:\n",
    "    image_names[c] = np.array(classes[classes['class'] == c]['name'])"
   ]
  },
  {
   "cell_type": "code",
   "execution_count": 8,
   "metadata": {
    "collapsed": true
   },
   "outputs": [],
   "source": [
    "train, test = hc.split_data(image_names, 0.75)"
   ]
  },
  {
   "cell_type": "code",
   "execution_count": 9,
   "metadata": {
    "collapsed": true
   },
   "outputs": [],
   "source": [
    "#for c in class_list:\n",
    "#    train[c] = train[c][:15]\n",
    "#    test[c] = test[c][:5]"
   ]
  },
  {
   "cell_type": "code",
   "execution_count": 10,
   "metadata": {
    "collapsed": false
   },
   "outputs": [],
   "source": [
    "#Get complete histogram features, edge and corners\n",
    "all_red_features, all_green_features, all_blue_features, all_edge_features, all_corner_features, train_labels = get_complete_features(class_list, train, BOX)"
   ]
  },
  {
   "cell_type": "markdown",
   "metadata": {},
   "source": [
    "#### Classifier for red features"
   ]
  },
  {
   "cell_type": "code",
   "execution_count": 11,
   "metadata": {
    "collapsed": false
   },
   "outputs": [
    {
     "data": {
      "text/plain": [
       "GridSearchCV(cv=None, error_score='raise',\n",
       "       estimator=RandomForestClassifier(bootstrap=True, class_weight=None, criterion='gini',\n",
       "            max_depth=None, max_features='auto', max_leaf_nodes=None,\n",
       "            min_samples_leaf=1, min_samples_split=2,\n",
       "            min_weight_fraction_leaf=0.0, n_estimators=10, n_jobs=1,\n",
       "            oob_score=False, random_state=None, verbose=0,\n",
       "            warm_start=False),\n",
       "       fit_params={}, iid=True, n_jobs=1,\n",
       "       param_grid={'max_depth': array([ 8, 10, 12, 14]), 'n_estimators': array([ 10,  20,  50, 100, 200])},\n",
       "       pre_dispatch='2*n_jobs', refit=True, scoring=None, verbose=0)"
      ]
     },
     "execution_count": 11,
     "metadata": {},
     "output_type": "execute_result"
    }
   ],
   "source": [
    "#Setup grid-search for top parameters\n",
    "depth = np.array([8, 10, 12, 14])\n",
    "estimators = np.array([10, 20, 50, 100, 200])\n",
    "model = RandomForestClassifier()\n",
    "grid = GridSearchCV(estimator=model, param_grid=dict(n_estimators=estimators, max_depth=depth))\n",
    "grid.fit(all_red_features, train_labels)"
   ]
  },
  {
   "cell_type": "code",
   "execution_count": 12,
   "metadata": {
    "collapsed": false
   },
   "outputs": [
    {
     "name": "stdout",
     "output_type": "stream",
     "text": [
      "Best score = 0.206\n",
      "Params: {'max_depth': 12, 'n_estimators': 200}\n"
     ]
    }
   ],
   "source": [
    "print(\"Best score = {}\".format(grid.best_score_))\n",
    "print(\"Params: {}\".format(grid.best_params_))"
   ]
  },
  {
   "cell_type": "code",
   "execution_count": 13,
   "metadata": {
    "collapsed": false
   },
   "outputs": [
    {
     "name": "stdout",
     "output_type": "stream",
     "text": [
      "CPU times: user 43.2 s, sys: 97.1 ms, total: 43.3 s\n",
      "Wall time: 43.4 s\n"
     ]
    }
   ],
   "source": [
    "%%time\n",
    "red_rf = grid.best_estimator_\n",
    "red_rf.fit(all_red_features, train_labels)"
   ]
  },
  {
   "cell_type": "markdown",
   "metadata": {},
   "source": [
    "#### Classifier for green features"
   ]
  },
  {
   "cell_type": "code",
   "execution_count": 14,
   "metadata": {
    "collapsed": false
   },
   "outputs": [
    {
     "data": {
      "text/plain": [
       "GridSearchCV(cv=None, error_score='raise',\n",
       "       estimator=RandomForestClassifier(bootstrap=True, class_weight=None, criterion='gini',\n",
       "            max_depth=None, max_features='auto', max_leaf_nodes=None,\n",
       "            min_samples_leaf=1, min_samples_split=2,\n",
       "            min_weight_fraction_leaf=0.0, n_estimators=10, n_jobs=1,\n",
       "            oob_score=False, random_state=None, verbose=0,\n",
       "            warm_start=False),\n",
       "       fit_params={}, iid=True, n_jobs=1,\n",
       "       param_grid={'max_depth': array([ 8, 10, 12, 14]), 'n_estimators': array([ 10,  20,  50, 100, 200])},\n",
       "       pre_dispatch='2*n_jobs', refit=True, scoring=None, verbose=0)"
      ]
     },
     "execution_count": 14,
     "metadata": {},
     "output_type": "execute_result"
    }
   ],
   "source": [
    "#Setup grid-search for top parameters\n",
    "depth = np.array([8, 10, 12, 14])\n",
    "estimators = np.array([10, 20, 50, 100, 200])\n",
    "model = RandomForestClassifier()\n",
    "grid = GridSearchCV(estimator=model, param_grid=dict(n_estimators=estimators, max_depth=depth))\n",
    "grid.fit(all_green_features, train_labels)"
   ]
  },
  {
   "cell_type": "code",
   "execution_count": 15,
   "metadata": {
    "collapsed": false
   },
   "outputs": [
    {
     "name": "stdout",
     "output_type": "stream",
     "text": [
      "Best score = 0.22355555555555556\n",
      "Params: {'max_depth': 10, 'n_estimators': 200}\n"
     ]
    }
   ],
   "source": [
    "print(\"Best score = {}\".format(grid.best_score_))\n",
    "print(\"Params: {}\".format(grid.best_params_))"
   ]
  },
  {
   "cell_type": "code",
   "execution_count": 16,
   "metadata": {
    "collapsed": false
   },
   "outputs": [
    {
     "name": "stdout",
     "output_type": "stream",
     "text": [
      "CPU times: user 37.8 s, sys: 69.6 ms, total: 37.9 s\n",
      "Wall time: 37.9 s\n"
     ]
    }
   ],
   "source": [
    "%%time\n",
    "green_rf = grid.best_estimator_\n",
    "green_rf.fit(all_green_features, train_labels)"
   ]
  },
  {
   "cell_type": "markdown",
   "metadata": {},
   "source": [
    "#### Classifier for blue features"
   ]
  },
  {
   "cell_type": "code",
   "execution_count": 17,
   "metadata": {
    "collapsed": false
   },
   "outputs": [
    {
     "data": {
      "text/plain": [
       "GridSearchCV(cv=None, error_score='raise',\n",
       "       estimator=RandomForestClassifier(bootstrap=True, class_weight=None, criterion='gini',\n",
       "            max_depth=None, max_features='auto', max_leaf_nodes=None,\n",
       "            min_samples_leaf=1, min_samples_split=2,\n",
       "            min_weight_fraction_leaf=0.0, n_estimators=10, n_jobs=1,\n",
       "            oob_score=False, random_state=None, verbose=0,\n",
       "            warm_start=False),\n",
       "       fit_params={}, iid=True, n_jobs=1,\n",
       "       param_grid={'max_depth': array([ 8, 10, 12, 14]), 'n_estimators': array([ 10,  20,  50, 100, 200])},\n",
       "       pre_dispatch='2*n_jobs', refit=True, scoring=None, verbose=0)"
      ]
     },
     "execution_count": 17,
     "metadata": {},
     "output_type": "execute_result"
    }
   ],
   "source": [
    "#Setup grid-search for top parameters\n",
    "depth = np.array([8, 10, 12, 14])\n",
    "estimators = np.array([10, 20, 50, 100, 200])\n",
    "model = RandomForestClassifier()\n",
    "grid = GridSearchCV(estimator=model, param_grid=dict(n_estimators=estimators, max_depth=depth))\n",
    "grid.fit(all_blue_features, train_labels)"
   ]
  },
  {
   "cell_type": "code",
   "execution_count": 18,
   "metadata": {
    "collapsed": false
   },
   "outputs": [
    {
     "name": "stdout",
     "output_type": "stream",
     "text": [
      "Best score = 0.19344444444444445\n",
      "Params: {'max_depth': 10, 'n_estimators': 200}\n"
     ]
    }
   ],
   "source": [
    "print(\"Best score = {}\".format(grid.best_score_))\n",
    "print(\"Params: {}\".format(grid.best_params_))"
   ]
  },
  {
   "cell_type": "code",
   "execution_count": 19,
   "metadata": {
    "collapsed": false
   },
   "outputs": [
    {
     "name": "stdout",
     "output_type": "stream",
     "text": [
      "CPU times: user 37.6 s, sys: 80.5 ms, total: 37.7 s\n",
      "Wall time: 37.7 s\n"
     ]
    }
   ],
   "source": [
    "%%time\n",
    "blue_rf = grid.best_estimator_\n",
    "blue_rf.fit(all_blue_features, train_labels)"
   ]
  },
  {
   "cell_type": "markdown",
   "metadata": {},
   "source": [
    "#### Classifier for edge features"
   ]
  },
  {
   "cell_type": "code",
   "execution_count": 20,
   "metadata": {
    "collapsed": false
   },
   "outputs": [
    {
     "data": {
      "text/plain": [
       "GridSearchCV(cv=None, error_score='raise',\n",
       "       estimator=RandomForestClassifier(bootstrap=True, class_weight=None, criterion='gini',\n",
       "            max_depth=None, max_features='auto', max_leaf_nodes=None,\n",
       "            min_samples_leaf=1, min_samples_split=2,\n",
       "            min_weight_fraction_leaf=0.0, n_estimators=10, n_jobs=1,\n",
       "            oob_score=False, random_state=None, verbose=0,\n",
       "            warm_start=False),\n",
       "       fit_params={}, iid=True, n_jobs=1,\n",
       "       param_grid={'max_depth': array([ 8, 10, 12, 14]), 'n_estimators': array([ 10,  20,  50, 100, 200])},\n",
       "       pre_dispatch='2*n_jobs', refit=True, scoring=None, verbose=0)"
      ]
     },
     "execution_count": 20,
     "metadata": {},
     "output_type": "execute_result"
    }
   ],
   "source": [
    "#Setup grid-search for top parameters\n",
    "depth = np.array([8, 10, 12, 14])\n",
    "estimators = np.array([10, 20, 50, 100, 200])\n",
    "model = RandomForestClassifier()\n",
    "grid = GridSearchCV(estimator=model, param_grid=dict(n_estimators=estimators, max_depth=depth))\n",
    "grid.fit(all_edge_features, train_labels)"
   ]
  },
  {
   "cell_type": "code",
   "execution_count": 21,
   "metadata": {
    "collapsed": false
   },
   "outputs": [
    {
     "name": "stdout",
     "output_type": "stream",
     "text": [
      "Best score = 0.20555555555555555\n",
      "Params: {'max_depth': 10, 'n_estimators': 200}\n"
     ]
    }
   ],
   "source": [
    "print(\"Best score = {}\".format(grid.best_score_))\n",
    "print(\"Params: {}\".format(grid.best_params_))"
   ]
  },
  {
   "cell_type": "code",
   "execution_count": 22,
   "metadata": {
    "collapsed": false
   },
   "outputs": [
    {
     "name": "stdout",
     "output_type": "stream",
     "text": [
      "CPU times: user 16.3 s, sys: 46.1 ms, total: 16.3 s\n",
      "Wall time: 16.3 s\n"
     ]
    }
   ],
   "source": [
    "%%time\n",
    "edge_rf = grid.best_estimator_\n",
    "edge_rf.fit(all_edge_features, train_labels)"
   ]
  },
  {
   "cell_type": "markdown",
   "metadata": {},
   "source": [
    "#### Classifier for corner features"
   ]
  },
  {
   "cell_type": "code",
   "execution_count": 23,
   "metadata": {
    "collapsed": false
   },
   "outputs": [
    {
     "data": {
      "text/plain": [
       "GridSearchCV(cv=None, error_score='raise',\n",
       "       estimator=RandomForestClassifier(bootstrap=True, class_weight=None, criterion='gini',\n",
       "            max_depth=None, max_features='auto', max_leaf_nodes=None,\n",
       "            min_samples_leaf=1, min_samples_split=2,\n",
       "            min_weight_fraction_leaf=0.0, n_estimators=10, n_jobs=1,\n",
       "            oob_score=False, random_state=None, verbose=0,\n",
       "            warm_start=False),\n",
       "       fit_params={}, iid=True, n_jobs=1,\n",
       "       param_grid={'max_depth': array([ 8, 10, 12, 14]), 'n_estimators': array([ 10,  20,  50, 100, 200])},\n",
       "       pre_dispatch='2*n_jobs', refit=True, scoring=None, verbose=0)"
      ]
     },
     "execution_count": 23,
     "metadata": {},
     "output_type": "execute_result"
    }
   ],
   "source": [
    "#Setup grid-search for top parameters\n",
    "depth = np.array([8, 10, 12, 14])\n",
    "estimators = np.array([10, 20, 50, 100, 200])\n",
    "model = RandomForestClassifier()\n",
    "grid = GridSearchCV(estimator=model, param_grid=dict(n_estimators=estimators, max_depth=depth))\n",
    "grid.fit(all_corner_features, train_labels)"
   ]
  },
  {
   "cell_type": "code",
   "execution_count": 24,
   "metadata": {
    "collapsed": false
   },
   "outputs": [
    {
     "name": "stdout",
     "output_type": "stream",
     "text": [
      "Best score = 0.14622222222222223\n",
      "Params: {'max_depth': 14, 'n_estimators': 200}\n"
     ]
    }
   ],
   "source": [
    "print(\"Best score = {}\".format(grid.best_score_))\n",
    "print(\"Params: {}\".format(grid.best_params_))"
   ]
  },
  {
   "cell_type": "code",
   "execution_count": 25,
   "metadata": {
    "collapsed": false
   },
   "outputs": [
    {
     "name": "stdout",
     "output_type": "stream",
     "text": [
      "CPU times: user 7.56 s, sys: 48.2 ms, total: 7.61 s\n",
      "Wall time: 7.63 s\n"
     ]
    }
   ],
   "source": [
    "%%time\n",
    "corner_rf = grid.best_estimator_\n",
    "corner_rf.fit(all_corner_features, train_labels)"
   ]
  },
  {
   "cell_type": "code",
   "execution_count": 26,
   "metadata": {
    "collapsed": true
   },
   "outputs": [],
   "source": [
    "red_features = red_rf.predict_proba(all_red_features)\n",
    "green_features = green_rf.predict_proba(all_green_features)\n",
    "blue_features = blue_rf.predict_proba(all_blue_features)\n",
    "edge_features = edge_rf.predict_proba(all_edge_features)\n",
    "corner_features = corner_rf.predict_proba(all_corner_features)\n",
    "\n",
    "combined_features = np.concatenate([red_features, green_features, blue_features, edge_features, corner_features], axis=1)"
   ]
  },
  {
   "cell_type": "markdown",
   "metadata": {},
   "source": [
    "##### Get test features"
   ]
  },
  {
   "cell_type": "code",
   "execution_count": 27,
   "metadata": {
    "collapsed": true
   },
   "outputs": [],
   "source": [
    "all_red_features_t, all_green_features_t, all_blue_features_t, all_edge_features_t, all_corner_features_t, test_labels = get_complete_features(class_list, test, BOX)"
   ]
  },
  {
   "cell_type": "code",
   "execution_count": 28,
   "metadata": {
    "collapsed": false
   },
   "outputs": [],
   "source": [
    "red_predictions = red_rf.predict_proba(all_red_features_t)\n",
    "green_predictions = green_rf.predict_proba(all_green_features_t)\n",
    "blue_predictions = blue_rf.predict_proba(all_blue_features_t)\n",
    "edge_predictions = edge_rf.predict_proba(all_edge_features_t)\n",
    "corner_predictions = corner_rf.predict_proba(all_corner_features_t)\n",
    "\n",
    "combined_predictions = np.concatenate([red_predictions, green_predictions, blue_predictions, edge_predictions, corner_predictions], axis=1)"
   ]
  },
  {
   "cell_type": "markdown",
   "metadata": {},
   "source": [
    "#### Bayesian Net for combining predictions"
   ]
  },
  {
   "cell_type": "code",
   "execution_count": 29,
   "metadata": {
    "collapsed": false
   },
   "outputs": [
    {
     "data": {
      "text/plain": [
       "GaussianNB()"
      ]
     },
     "execution_count": 29,
     "metadata": {},
     "output_type": "execute_result"
    }
   ],
   "source": [
    "nb = GaussianNB()\n",
    "nb.fit(combined_features, train_labels)"
   ]
  },
  {
   "cell_type": "code",
   "execution_count": 30,
   "metadata": {
    "collapsed": false
   },
   "outputs": [
    {
     "name": "stdout",
     "output_type": "stream",
     "text": [
      "CPU times: user 10.8 ms, sys: 1.83 ms, total: 12.7 ms\n",
      "Wall time: 11.5 ms\n"
     ]
    }
   ],
   "source": [
    "%%time\n",
    "predicted_labels = nb.predict(combined_predictions)"
   ]
  },
  {
   "cell_type": "code",
   "execution_count": 31,
   "metadata": {
    "collapsed": false
   },
   "outputs": [],
   "source": [
    "overall, metrics, confusion = hc.get_metrics(test_labels, predicted_labels, class_list)"
   ]
  },
  {
   "cell_type": "code",
   "execution_count": 32,
   "metadata": {
    "collapsed": false
   },
   "outputs": [
    {
     "data": {
      "text/html": [
       "<div>\n",
       "<table border=\"1\" class=\"dataframe\">\n",
       "  <thead>\n",
       "    <tr style=\"text-align: right;\">\n",
       "      <th></th>\n",
       "      <th>Accuracy</th>\n",
       "      <th>F1</th>\n",
       "      <th>Precision</th>\n",
       "      <th>Recall</th>\n",
       "    </tr>\n",
       "  </thead>\n",
       "  <tbody>\n",
       "    <tr>\n",
       "      <th>Results</th>\n",
       "      <td>0.288</td>\n",
       "      <td>0.285</td>\n",
       "      <td>0.291</td>\n",
       "      <td>0.288</td>\n",
       "    </tr>\n",
       "  </tbody>\n",
       "</table>\n",
       "</div>"
      ],
      "text/plain": [
       "         Accuracy     F1  Precision  Recall\n",
       "Results     0.288  0.285      0.291   0.288"
      ]
     },
     "execution_count": 32,
     "metadata": {},
     "output_type": "execute_result"
    }
   ],
   "source": [
    "overall"
   ]
  },
  {
   "cell_type": "code",
   "execution_count": 33,
   "metadata": {
    "collapsed": false
   },
   "outputs": [
    {
     "data": {
      "text/html": [
       "<div>\n",
       "<table border=\"1\" class=\"dataframe\">\n",
       "  <thead>\n",
       "    <tr style=\"text-align: right;\">\n",
       "      <th></th>\n",
       "      <th>Precision</th>\n",
       "      <th>Recall</th>\n",
       "      <th>F1-Score</th>\n",
       "      <th>Support</th>\n",
       "    </tr>\n",
       "  </thead>\n",
       "  <tbody>\n",
       "    <tr>\n",
       "      <th>pork_chop</th>\n",
       "      <td>0.28</td>\n",
       "      <td>0.24</td>\n",
       "      <td>0.26</td>\n",
       "      <td>250.0</td>\n",
       "    </tr>\n",
       "    <tr>\n",
       "      <th>lasagna</th>\n",
       "      <td>0.30</td>\n",
       "      <td>0.22</td>\n",
       "      <td>0.26</td>\n",
       "      <td>250.0</td>\n",
       "    </tr>\n",
       "    <tr>\n",
       "      <th>french_toast</th>\n",
       "      <td>0.30</td>\n",
       "      <td>0.27</td>\n",
       "      <td>0.28</td>\n",
       "      <td>250.0</td>\n",
       "    </tr>\n",
       "    <tr>\n",
       "      <th>guacamole</th>\n",
       "      <td>0.24</td>\n",
       "      <td>0.22</td>\n",
       "      <td>0.23</td>\n",
       "      <td>250.0</td>\n",
       "    </tr>\n",
       "    <tr>\n",
       "      <th>apple_pie</th>\n",
       "      <td>0.22</td>\n",
       "      <td>0.30</td>\n",
       "      <td>0.25</td>\n",
       "      <td>250.0</td>\n",
       "    </tr>\n",
       "    <tr>\n",
       "      <th>cheesecake</th>\n",
       "      <td>0.34</td>\n",
       "      <td>0.34</td>\n",
       "      <td>0.34</td>\n",
       "      <td>250.0</td>\n",
       "    </tr>\n",
       "    <tr>\n",
       "      <th>hamburger</th>\n",
       "      <td>0.26</td>\n",
       "      <td>0.20</td>\n",
       "      <td>0.23</td>\n",
       "      <td>250.0</td>\n",
       "    </tr>\n",
       "    <tr>\n",
       "      <th>fried_rice</th>\n",
       "      <td>0.31</td>\n",
       "      <td>0.50</td>\n",
       "      <td>0.39</td>\n",
       "      <td>250.0</td>\n",
       "    </tr>\n",
       "    <tr>\n",
       "      <th>carrot_cake</th>\n",
       "      <td>0.26</td>\n",
       "      <td>0.29</td>\n",
       "      <td>0.28</td>\n",
       "      <td>250.0</td>\n",
       "    </tr>\n",
       "    <tr>\n",
       "      <th>chocolate_cake</th>\n",
       "      <td>0.35</td>\n",
       "      <td>0.34</td>\n",
       "      <td>0.34</td>\n",
       "      <td>250.0</td>\n",
       "    </tr>\n",
       "    <tr>\n",
       "      <th>steak</th>\n",
       "      <td>0.25</td>\n",
       "      <td>0.27</td>\n",
       "      <td>0.26</td>\n",
       "      <td>250.0</td>\n",
       "    </tr>\n",
       "    <tr>\n",
       "      <th>pizza</th>\n",
       "      <td>0.38</td>\n",
       "      <td>0.26</td>\n",
       "      <td>0.31</td>\n",
       "      <td>250.0</td>\n",
       "    </tr>\n",
       "  </tbody>\n",
       "</table>\n",
       "</div>"
      ],
      "text/plain": [
       "                Precision  Recall  F1-Score  Support\n",
       "pork_chop            0.28    0.24      0.26    250.0\n",
       "lasagna              0.30    0.22      0.26    250.0\n",
       "french_toast         0.30    0.27      0.28    250.0\n",
       "guacamole            0.24    0.22      0.23    250.0\n",
       "apple_pie            0.22    0.30      0.25    250.0\n",
       "cheesecake           0.34    0.34      0.34    250.0\n",
       "hamburger            0.26    0.20      0.23    250.0\n",
       "fried_rice           0.31    0.50      0.39    250.0\n",
       "carrot_cake          0.26    0.29      0.28    250.0\n",
       "chocolate_cake       0.35    0.34      0.34    250.0\n",
       "steak                0.25    0.27      0.26    250.0\n",
       "pizza                0.38    0.26      0.31    250.0"
      ]
     },
     "execution_count": 33,
     "metadata": {},
     "output_type": "execute_result"
    }
   ],
   "source": [
    "metrics"
   ]
  },
  {
   "cell_type": "code",
   "execution_count": 34,
   "metadata": {
    "collapsed": false
   },
   "outputs": [
    {
     "data": {
      "text/html": [
       "<div>\n",
       "<table border=\"1\" class=\"dataframe\">\n",
       "  <thead>\n",
       "    <tr style=\"text-align: right;\">\n",
       "      <th></th>\n",
       "      <th>pork_chop</th>\n",
       "      <th>lasagna</th>\n",
       "      <th>french_toast</th>\n",
       "      <th>guacamole</th>\n",
       "      <th>apple_pie</th>\n",
       "      <th>cheesecake</th>\n",
       "      <th>hamburger</th>\n",
       "      <th>fried_rice</th>\n",
       "      <th>carrot_cake</th>\n",
       "      <th>chocolate_cake</th>\n",
       "      <th>steak</th>\n",
       "      <th>pizza</th>\n",
       "    </tr>\n",
       "  </thead>\n",
       "  <tbody>\n",
       "    <tr>\n",
       "      <th>pork_chop</th>\n",
       "      <td>60</td>\n",
       "      <td>15</td>\n",
       "      <td>22</td>\n",
       "      <td>11</td>\n",
       "      <td>13</td>\n",
       "      <td>6</td>\n",
       "      <td>11</td>\n",
       "      <td>14</td>\n",
       "      <td>26</td>\n",
       "      <td>18</td>\n",
       "      <td>46</td>\n",
       "      <td>8</td>\n",
       "    </tr>\n",
       "    <tr>\n",
       "      <th>lasagna</th>\n",
       "      <td>15</td>\n",
       "      <td>56</td>\n",
       "      <td>25</td>\n",
       "      <td>17</td>\n",
       "      <td>28</td>\n",
       "      <td>11</td>\n",
       "      <td>12</td>\n",
       "      <td>32</td>\n",
       "      <td>15</td>\n",
       "      <td>7</td>\n",
       "      <td>15</td>\n",
       "      <td>17</td>\n",
       "    </tr>\n",
       "    <tr>\n",
       "      <th>french_toast</th>\n",
       "      <td>25</td>\n",
       "      <td>18</td>\n",
       "      <td>68</td>\n",
       "      <td>19</td>\n",
       "      <td>22</td>\n",
       "      <td>7</td>\n",
       "      <td>16</td>\n",
       "      <td>22</td>\n",
       "      <td>20</td>\n",
       "      <td>7</td>\n",
       "      <td>16</td>\n",
       "      <td>10</td>\n",
       "    </tr>\n",
       "    <tr>\n",
       "      <th>guacamole</th>\n",
       "      <td>7</td>\n",
       "      <td>11</td>\n",
       "      <td>11</td>\n",
       "      <td>54</td>\n",
       "      <td>20</td>\n",
       "      <td>14</td>\n",
       "      <td>31</td>\n",
       "      <td>49</td>\n",
       "      <td>13</td>\n",
       "      <td>4</td>\n",
       "      <td>15</td>\n",
       "      <td>21</td>\n",
       "    </tr>\n",
       "    <tr>\n",
       "      <th>apple_pie</th>\n",
       "      <td>8</td>\n",
       "      <td>13</td>\n",
       "      <td>14</td>\n",
       "      <td>14</td>\n",
       "      <td>74</td>\n",
       "      <td>29</td>\n",
       "      <td>19</td>\n",
       "      <td>28</td>\n",
       "      <td>22</td>\n",
       "      <td>13</td>\n",
       "      <td>7</td>\n",
       "      <td>9</td>\n",
       "    </tr>\n",
       "    <tr>\n",
       "      <th>cheesecake</th>\n",
       "      <td>2</td>\n",
       "      <td>5</td>\n",
       "      <td>11</td>\n",
       "      <td>16</td>\n",
       "      <td>46</td>\n",
       "      <td>85</td>\n",
       "      <td>11</td>\n",
       "      <td>8</td>\n",
       "      <td>24</td>\n",
       "      <td>33</td>\n",
       "      <td>8</td>\n",
       "      <td>1</td>\n",
       "    </tr>\n",
       "    <tr>\n",
       "      <th>hamburger</th>\n",
       "      <td>12</td>\n",
       "      <td>12</td>\n",
       "      <td>11</td>\n",
       "      <td>14</td>\n",
       "      <td>38</td>\n",
       "      <td>19</td>\n",
       "      <td>51</td>\n",
       "      <td>25</td>\n",
       "      <td>24</td>\n",
       "      <td>16</td>\n",
       "      <td>22</td>\n",
       "      <td>6</td>\n",
       "    </tr>\n",
       "    <tr>\n",
       "      <th>fried_rice</th>\n",
       "      <td>13</td>\n",
       "      <td>9</td>\n",
       "      <td>5</td>\n",
       "      <td>21</td>\n",
       "      <td>24</td>\n",
       "      <td>6</td>\n",
       "      <td>13</td>\n",
       "      <td>124</td>\n",
       "      <td>8</td>\n",
       "      <td>1</td>\n",
       "      <td>5</td>\n",
       "      <td>21</td>\n",
       "    </tr>\n",
       "    <tr>\n",
       "      <th>carrot_cake</th>\n",
       "      <td>13</td>\n",
       "      <td>13</td>\n",
       "      <td>7</td>\n",
       "      <td>20</td>\n",
       "      <td>35</td>\n",
       "      <td>34</td>\n",
       "      <td>8</td>\n",
       "      <td>10</td>\n",
       "      <td>72</td>\n",
       "      <td>20</td>\n",
       "      <td>14</td>\n",
       "      <td>4</td>\n",
       "    </tr>\n",
       "    <tr>\n",
       "      <th>chocolate_cake</th>\n",
       "      <td>15</td>\n",
       "      <td>6</td>\n",
       "      <td>16</td>\n",
       "      <td>10</td>\n",
       "      <td>13</td>\n",
       "      <td>21</td>\n",
       "      <td>7</td>\n",
       "      <td>2</td>\n",
       "      <td>28</td>\n",
       "      <td>85</td>\n",
       "      <td>46</td>\n",
       "      <td>1</td>\n",
       "    </tr>\n",
       "    <tr>\n",
       "      <th>steak</th>\n",
       "      <td>41</td>\n",
       "      <td>10</td>\n",
       "      <td>18</td>\n",
       "      <td>10</td>\n",
       "      <td>10</td>\n",
       "      <td>7</td>\n",
       "      <td>11</td>\n",
       "      <td>7</td>\n",
       "      <td>18</td>\n",
       "      <td>39</td>\n",
       "      <td>68</td>\n",
       "      <td>11</td>\n",
       "    </tr>\n",
       "    <tr>\n",
       "      <th>pizza</th>\n",
       "      <td>6</td>\n",
       "      <td>18</td>\n",
       "      <td>20</td>\n",
       "      <td>19</td>\n",
       "      <td>19</td>\n",
       "      <td>10</td>\n",
       "      <td>6</td>\n",
       "      <td>73</td>\n",
       "      <td>3</td>\n",
       "      <td>2</td>\n",
       "      <td>8</td>\n",
       "      <td>66</td>\n",
       "    </tr>\n",
       "  </tbody>\n",
       "</table>\n",
       "</div>"
      ],
      "text/plain": [
       "                pork_chop  lasagna  french_toast  guacamole  apple_pie  \\\n",
       "pork_chop              60       15            22         11         13   \n",
       "lasagna                15       56            25         17         28   \n",
       "french_toast           25       18            68         19         22   \n",
       "guacamole               7       11            11         54         20   \n",
       "apple_pie               8       13            14         14         74   \n",
       "cheesecake              2        5            11         16         46   \n",
       "hamburger              12       12            11         14         38   \n",
       "fried_rice             13        9             5         21         24   \n",
       "carrot_cake            13       13             7         20         35   \n",
       "chocolate_cake         15        6            16         10         13   \n",
       "steak                  41       10            18         10         10   \n",
       "pizza                   6       18            20         19         19   \n",
       "\n",
       "                cheesecake  hamburger  fried_rice  carrot_cake  \\\n",
       "pork_chop                6         11          14           26   \n",
       "lasagna                 11         12          32           15   \n",
       "french_toast             7         16          22           20   \n",
       "guacamole               14         31          49           13   \n",
       "apple_pie               29         19          28           22   \n",
       "cheesecake              85         11           8           24   \n",
       "hamburger               19         51          25           24   \n",
       "fried_rice               6         13         124            8   \n",
       "carrot_cake             34          8          10           72   \n",
       "chocolate_cake          21          7           2           28   \n",
       "steak                    7         11           7           18   \n",
       "pizza                   10          6          73            3   \n",
       "\n",
       "                chocolate_cake  steak  pizza  \n",
       "pork_chop                   18     46      8  \n",
       "lasagna                      7     15     17  \n",
       "french_toast                 7     16     10  \n",
       "guacamole                    4     15     21  \n",
       "apple_pie                   13      7      9  \n",
       "cheesecake                  33      8      1  \n",
       "hamburger                   16     22      6  \n",
       "fried_rice                   1      5     21  \n",
       "carrot_cake                 20     14      4  \n",
       "chocolate_cake              85     46      1  \n",
       "steak                       39     68     11  \n",
       "pizza                        2      8     66  "
      ]
     },
     "execution_count": 34,
     "metadata": {},
     "output_type": "execute_result"
    }
   ],
   "source": [
    "confusion"
   ]
  },
  {
   "cell_type": "markdown",
   "metadata": {
    "collapsed": true
   },
   "source": [
    "##### SVM for combining predictions"
   ]
  },
  {
   "cell_type": "code",
   "execution_count": 35,
   "metadata": {
    "collapsed": false
   },
   "outputs": [
    {
     "data": {
      "text/plain": [
       "GridSearchCV(cv=None, error_score='raise',\n",
       "       estimator=SVC(C=1.0, cache_size=200, class_weight=None, coef0=0.0,\n",
       "  decision_function_shape=None, degree=3, gamma='auto', kernel='rbf',\n",
       "  max_iter=-1, probability=False, random_state=None, shrinking=True,\n",
       "  tol=0.001, verbose=False),\n",
       "       fit_params={}, iid=True, n_jobs=1,\n",
       "       param_grid=[{'kernel': ['linear'], 'C': [0.001, 0.01, 0.1, 1, 10, 100]}, {'kernel': ['rbf'], 'C': [0.001, 0.01, 0.1, 1, 10, 100], 'gamma': [1, 0.01, 0.001, 0.0001]}],\n",
       "       pre_dispatch='2*n_jobs', refit=True, scoring=None, verbose=0)"
      ]
     },
     "execution_count": 35,
     "metadata": {},
     "output_type": "execute_result"
    }
   ],
   "source": [
    "#Setup grid-search for top parameters\n",
    "param_grid = [\n",
    "  {'C': [0.001, 0.01, 0.1, 1, 10, 100], 'kernel': ['linear']},\n",
    "  {'C': [0.001, 0.01, 0.1, 1, 10, 100], 'gamma': [1, 0.01, 0.001, 0.0001], 'kernel': ['rbf']},\n",
    "]\n",
    "model = SVC()\n",
    "grid = GridSearchCV(estimator=model, param_grid=param_grid)\n",
    "grid.fit(combined_features, train_labels)"
   ]
  },
  {
   "cell_type": "code",
   "execution_count": 36,
   "metadata": {
    "collapsed": false
   },
   "outputs": [
    {
     "name": "stdout",
     "output_type": "stream",
     "text": [
      "0.999444444444\n",
      "{'kernel': 'linear', 'C': 10}\n"
     ]
    }
   ],
   "source": [
    "print(grid.best_score_)\n",
    "print(grid.best_params_)"
   ]
  },
  {
   "cell_type": "code",
   "execution_count": 37,
   "metadata": {
    "collapsed": false
   },
   "outputs": [
    {
     "name": "stdout",
     "output_type": "stream",
     "text": [
      "CPU times: user 178 ms, sys: 856 µs, total: 179 ms\n",
      "Wall time: 178 ms\n"
     ]
    }
   ],
   "source": [
    "%%time\n",
    "sv = grid.best_estimator_\n",
    "sv.fit(combined_features, train_labels)"
   ]
  },
  {
   "cell_type": "code",
   "execution_count": 38,
   "metadata": {
    "collapsed": false
   },
   "outputs": [
    {
     "name": "stdout",
     "output_type": "stream",
     "text": [
      "CPU times: user 66.6 ms, sys: 741 µs, total: 67.4 ms\n",
      "Wall time: 66.3 ms\n"
     ]
    }
   ],
   "source": [
    "%%time\n",
    "predicted_labels = sv.predict(combined_predictions)"
   ]
  },
  {
   "cell_type": "code",
   "execution_count": 39,
   "metadata": {
    "collapsed": false
   },
   "outputs": [],
   "source": [
    "overall, metrics, confusion = hc.get_metrics(test_labels, predicted_labels, class_list)"
   ]
  },
  {
   "cell_type": "code",
   "execution_count": 40,
   "metadata": {
    "collapsed": false
   },
   "outputs": [
    {
     "data": {
      "text/html": [
       "<div>\n",
       "<table border=\"1\" class=\"dataframe\">\n",
       "  <thead>\n",
       "    <tr style=\"text-align: right;\">\n",
       "      <th></th>\n",
       "      <th>Accuracy</th>\n",
       "      <th>F1</th>\n",
       "      <th>Precision</th>\n",
       "      <th>Recall</th>\n",
       "    </tr>\n",
       "  </thead>\n",
       "  <tbody>\n",
       "    <tr>\n",
       "      <th>Results</th>\n",
       "      <td>0.282</td>\n",
       "      <td>0.258</td>\n",
       "      <td>0.295</td>\n",
       "      <td>0.282</td>\n",
       "    </tr>\n",
       "  </tbody>\n",
       "</table>\n",
       "</div>"
      ],
      "text/plain": [
       "         Accuracy     F1  Precision  Recall\n",
       "Results     0.282  0.258      0.295   0.282"
      ]
     },
     "execution_count": 40,
     "metadata": {},
     "output_type": "execute_result"
    }
   ],
   "source": [
    "overall"
   ]
  },
  {
   "cell_type": "code",
   "execution_count": 41,
   "metadata": {
    "collapsed": false
   },
   "outputs": [
    {
     "data": {
      "text/html": [
       "<div>\n",
       "<table border=\"1\" class=\"dataframe\">\n",
       "  <thead>\n",
       "    <tr style=\"text-align: right;\">\n",
       "      <th></th>\n",
       "      <th>Precision</th>\n",
       "      <th>Recall</th>\n",
       "      <th>F1-Score</th>\n",
       "      <th>Support</th>\n",
       "    </tr>\n",
       "  </thead>\n",
       "  <tbody>\n",
       "    <tr>\n",
       "      <th>pork_chop</th>\n",
       "      <td>0.31</td>\n",
       "      <td>0.22</td>\n",
       "      <td>0.25</td>\n",
       "      <td>250.0</td>\n",
       "    </tr>\n",
       "    <tr>\n",
       "      <th>lasagna</th>\n",
       "      <td>0.23</td>\n",
       "      <td>0.22</td>\n",
       "      <td>0.23</td>\n",
       "      <td>250.0</td>\n",
       "    </tr>\n",
       "    <tr>\n",
       "      <th>french_toast</th>\n",
       "      <td>0.42</td>\n",
       "      <td>0.16</td>\n",
       "      <td>0.23</td>\n",
       "      <td>250.0</td>\n",
       "    </tr>\n",
       "    <tr>\n",
       "      <th>guacamole</th>\n",
       "      <td>0.26</td>\n",
       "      <td>0.40</td>\n",
       "      <td>0.31</td>\n",
       "      <td>250.0</td>\n",
       "    </tr>\n",
       "    <tr>\n",
       "      <th>apple_pie</th>\n",
       "      <td>0.29</td>\n",
       "      <td>0.06</td>\n",
       "      <td>0.10</td>\n",
       "      <td>250.0</td>\n",
       "    </tr>\n",
       "    <tr>\n",
       "      <th>cheesecake</th>\n",
       "      <td>0.28</td>\n",
       "      <td>0.44</td>\n",
       "      <td>0.34</td>\n",
       "      <td>250.0</td>\n",
       "    </tr>\n",
       "    <tr>\n",
       "      <th>hamburger</th>\n",
       "      <td>0.24</td>\n",
       "      <td>0.09</td>\n",
       "      <td>0.13</td>\n",
       "      <td>250.0</td>\n",
       "    </tr>\n",
       "    <tr>\n",
       "      <th>fried_rice</th>\n",
       "      <td>0.26</td>\n",
       "      <td>0.45</td>\n",
       "      <td>0.33</td>\n",
       "      <td>250.0</td>\n",
       "    </tr>\n",
       "    <tr>\n",
       "      <th>carrot_cake</th>\n",
       "      <td>0.37</td>\n",
       "      <td>0.17</td>\n",
       "      <td>0.23</td>\n",
       "      <td>250.0</td>\n",
       "    </tr>\n",
       "    <tr>\n",
       "      <th>chocolate_cake</th>\n",
       "      <td>0.39</td>\n",
       "      <td>0.43</td>\n",
       "      <td>0.41</td>\n",
       "      <td>250.0</td>\n",
       "    </tr>\n",
       "    <tr>\n",
       "      <th>steak</th>\n",
       "      <td>0.24</td>\n",
       "      <td>0.14</td>\n",
       "      <td>0.17</td>\n",
       "      <td>250.0</td>\n",
       "    </tr>\n",
       "    <tr>\n",
       "      <th>pizza</th>\n",
       "      <td>0.26</td>\n",
       "      <td>0.61</td>\n",
       "      <td>0.36</td>\n",
       "      <td>250.0</td>\n",
       "    </tr>\n",
       "  </tbody>\n",
       "</table>\n",
       "</div>"
      ],
      "text/plain": [
       "                Precision  Recall  F1-Score  Support\n",
       "pork_chop            0.31    0.22      0.25    250.0\n",
       "lasagna              0.23    0.22      0.23    250.0\n",
       "french_toast         0.42    0.16      0.23    250.0\n",
       "guacamole            0.26    0.40      0.31    250.0\n",
       "apple_pie            0.29    0.06      0.10    250.0\n",
       "cheesecake           0.28    0.44      0.34    250.0\n",
       "hamburger            0.24    0.09      0.13    250.0\n",
       "fried_rice           0.26    0.45      0.33    250.0\n",
       "carrot_cake          0.37    0.17      0.23    250.0\n",
       "chocolate_cake       0.39    0.43      0.41    250.0\n",
       "steak                0.24    0.14      0.17    250.0\n",
       "pizza                0.26    0.61      0.36    250.0"
      ]
     },
     "execution_count": 41,
     "metadata": {},
     "output_type": "execute_result"
    }
   ],
   "source": [
    "metrics"
   ]
  },
  {
   "cell_type": "code",
   "execution_count": 42,
   "metadata": {
    "collapsed": false
   },
   "outputs": [
    {
     "data": {
      "text/html": [
       "<div>\n",
       "<table border=\"1\" class=\"dataframe\">\n",
       "  <thead>\n",
       "    <tr style=\"text-align: right;\">\n",
       "      <th></th>\n",
       "      <th>pork_chop</th>\n",
       "      <th>lasagna</th>\n",
       "      <th>french_toast</th>\n",
       "      <th>guacamole</th>\n",
       "      <th>apple_pie</th>\n",
       "      <th>cheesecake</th>\n",
       "      <th>hamburger</th>\n",
       "      <th>fried_rice</th>\n",
       "      <th>carrot_cake</th>\n",
       "      <th>chocolate_cake</th>\n",
       "      <th>steak</th>\n",
       "      <th>pizza</th>\n",
       "    </tr>\n",
       "  </thead>\n",
       "  <tbody>\n",
       "    <tr>\n",
       "      <th>pork_chop</th>\n",
       "      <td>54</td>\n",
       "      <td>27</td>\n",
       "      <td>2</td>\n",
       "      <td>16</td>\n",
       "      <td>3</td>\n",
       "      <td>18</td>\n",
       "      <td>2</td>\n",
       "      <td>33</td>\n",
       "      <td>9</td>\n",
       "      <td>28</td>\n",
       "      <td>19</td>\n",
       "      <td>39</td>\n",
       "    </tr>\n",
       "    <tr>\n",
       "      <th>lasagna</th>\n",
       "      <td>15</td>\n",
       "      <td>56</td>\n",
       "      <td>14</td>\n",
       "      <td>29</td>\n",
       "      <td>9</td>\n",
       "      <td>23</td>\n",
       "      <td>6</td>\n",
       "      <td>26</td>\n",
       "      <td>7</td>\n",
       "      <td>4</td>\n",
       "      <td>4</td>\n",
       "      <td>57</td>\n",
       "    </tr>\n",
       "    <tr>\n",
       "      <th>french_toast</th>\n",
       "      <td>18</td>\n",
       "      <td>20</td>\n",
       "      <td>39</td>\n",
       "      <td>22</td>\n",
       "      <td>2</td>\n",
       "      <td>18</td>\n",
       "      <td>4</td>\n",
       "      <td>29</td>\n",
       "      <td>11</td>\n",
       "      <td>9</td>\n",
       "      <td>13</td>\n",
       "      <td>65</td>\n",
       "    </tr>\n",
       "    <tr>\n",
       "      <th>guacamole</th>\n",
       "      <td>11</td>\n",
       "      <td>8</td>\n",
       "      <td>3</td>\n",
       "      <td>100</td>\n",
       "      <td>3</td>\n",
       "      <td>17</td>\n",
       "      <td>7</td>\n",
       "      <td>41</td>\n",
       "      <td>2</td>\n",
       "      <td>6</td>\n",
       "      <td>13</td>\n",
       "      <td>39</td>\n",
       "    </tr>\n",
       "    <tr>\n",
       "      <th>apple_pie</th>\n",
       "      <td>6</td>\n",
       "      <td>34</td>\n",
       "      <td>7</td>\n",
       "      <td>26</td>\n",
       "      <td>16</td>\n",
       "      <td>56</td>\n",
       "      <td>9</td>\n",
       "      <td>36</td>\n",
       "      <td>9</td>\n",
       "      <td>9</td>\n",
       "      <td>3</td>\n",
       "      <td>39</td>\n",
       "    </tr>\n",
       "    <tr>\n",
       "      <th>cheesecake</th>\n",
       "      <td>4</td>\n",
       "      <td>22</td>\n",
       "      <td>3</td>\n",
       "      <td>31</td>\n",
       "      <td>4</td>\n",
       "      <td>110</td>\n",
       "      <td>11</td>\n",
       "      <td>8</td>\n",
       "      <td>6</td>\n",
       "      <td>30</td>\n",
       "      <td>6</td>\n",
       "      <td>15</td>\n",
       "    </tr>\n",
       "    <tr>\n",
       "      <th>hamburger</th>\n",
       "      <td>10</td>\n",
       "      <td>14</td>\n",
       "      <td>5</td>\n",
       "      <td>18</td>\n",
       "      <td>7</td>\n",
       "      <td>34</td>\n",
       "      <td>22</td>\n",
       "      <td>55</td>\n",
       "      <td>9</td>\n",
       "      <td>9</td>\n",
       "      <td>11</td>\n",
       "      <td>56</td>\n",
       "    </tr>\n",
       "    <tr>\n",
       "      <th>fried_rice</th>\n",
       "      <td>4</td>\n",
       "      <td>4</td>\n",
       "      <td>2</td>\n",
       "      <td>48</td>\n",
       "      <td>4</td>\n",
       "      <td>12</td>\n",
       "      <td>3</td>\n",
       "      <td>113</td>\n",
       "      <td>3</td>\n",
       "      <td>4</td>\n",
       "      <td>4</td>\n",
       "      <td>49</td>\n",
       "    </tr>\n",
       "    <tr>\n",
       "      <th>carrot_cake</th>\n",
       "      <td>11</td>\n",
       "      <td>27</td>\n",
       "      <td>4</td>\n",
       "      <td>30</td>\n",
       "      <td>3</td>\n",
       "      <td>44</td>\n",
       "      <td>11</td>\n",
       "      <td>26</td>\n",
       "      <td>42</td>\n",
       "      <td>22</td>\n",
       "      <td>8</td>\n",
       "      <td>22</td>\n",
       "    </tr>\n",
       "    <tr>\n",
       "      <th>chocolate_cake</th>\n",
       "      <td>5</td>\n",
       "      <td>13</td>\n",
       "      <td>4</td>\n",
       "      <td>16</td>\n",
       "      <td>0</td>\n",
       "      <td>30</td>\n",
       "      <td>7</td>\n",
       "      <td>10</td>\n",
       "      <td>8</td>\n",
       "      <td>108</td>\n",
       "      <td>24</td>\n",
       "      <td>25</td>\n",
       "    </tr>\n",
       "    <tr>\n",
       "      <th>steak</th>\n",
       "      <td>37</td>\n",
       "      <td>13</td>\n",
       "      <td>6</td>\n",
       "      <td>25</td>\n",
       "      <td>1</td>\n",
       "      <td>16</td>\n",
       "      <td>6</td>\n",
       "      <td>22</td>\n",
       "      <td>6</td>\n",
       "      <td>48</td>\n",
       "      <td>34</td>\n",
       "      <td>36</td>\n",
       "    </tr>\n",
       "    <tr>\n",
       "      <th>pizza</th>\n",
       "      <td>0</td>\n",
       "      <td>5</td>\n",
       "      <td>4</td>\n",
       "      <td>26</td>\n",
       "      <td>3</td>\n",
       "      <td>18</td>\n",
       "      <td>4</td>\n",
       "      <td>29</td>\n",
       "      <td>1</td>\n",
       "      <td>3</td>\n",
       "      <td>5</td>\n",
       "      <td>152</td>\n",
       "    </tr>\n",
       "  </tbody>\n",
       "</table>\n",
       "</div>"
      ],
      "text/plain": [
       "                pork_chop  lasagna  french_toast  guacamole  apple_pie  \\\n",
       "pork_chop              54       27             2         16          3   \n",
       "lasagna                15       56            14         29          9   \n",
       "french_toast           18       20            39         22          2   \n",
       "guacamole              11        8             3        100          3   \n",
       "apple_pie               6       34             7         26         16   \n",
       "cheesecake              4       22             3         31          4   \n",
       "hamburger              10       14             5         18          7   \n",
       "fried_rice              4        4             2         48          4   \n",
       "carrot_cake            11       27             4         30          3   \n",
       "chocolate_cake          5       13             4         16          0   \n",
       "steak                  37       13             6         25          1   \n",
       "pizza                   0        5             4         26          3   \n",
       "\n",
       "                cheesecake  hamburger  fried_rice  carrot_cake  \\\n",
       "pork_chop               18          2          33            9   \n",
       "lasagna                 23          6          26            7   \n",
       "french_toast            18          4          29           11   \n",
       "guacamole               17          7          41            2   \n",
       "apple_pie               56          9          36            9   \n",
       "cheesecake             110         11           8            6   \n",
       "hamburger               34         22          55            9   \n",
       "fried_rice              12          3         113            3   \n",
       "carrot_cake             44         11          26           42   \n",
       "chocolate_cake          30          7          10            8   \n",
       "steak                   16          6          22            6   \n",
       "pizza                   18          4          29            1   \n",
       "\n",
       "                chocolate_cake  steak  pizza  \n",
       "pork_chop                   28     19     39  \n",
       "lasagna                      4      4     57  \n",
       "french_toast                 9     13     65  \n",
       "guacamole                    6     13     39  \n",
       "apple_pie                    9      3     39  \n",
       "cheesecake                  30      6     15  \n",
       "hamburger                    9     11     56  \n",
       "fried_rice                   4      4     49  \n",
       "carrot_cake                 22      8     22  \n",
       "chocolate_cake             108     24     25  \n",
       "steak                       48     34     36  \n",
       "pizza                        3      5    152  "
      ]
     },
     "execution_count": 42,
     "metadata": {},
     "output_type": "execute_result"
    }
   ],
   "source": [
    "confusion"
   ]
  },
  {
   "cell_type": "code",
   "execution_count": null,
   "metadata": {
    "collapsed": true
   },
   "outputs": [],
   "source": []
  }
 ],
 "metadata": {
  "kernelspec": {
   "display_name": "Python 3",
   "language": "python",
   "name": "python3"
  },
  "language_info": {
   "codemirror_mode": {
    "name": "ipython",
    "version": 3
   },
   "file_extension": ".py",
   "mimetype": "text/x-python",
   "name": "python",
   "nbconvert_exporter": "python",
   "pygments_lexer": "ipython3",
   "version": "3.5.1"
  }
 },
 "nbformat": 4,
 "nbformat_minor": 0
}
