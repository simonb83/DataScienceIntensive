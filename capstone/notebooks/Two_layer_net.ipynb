{
 "cells": [
  {
   "cell_type": "markdown",
   "metadata": {},
   "source": [
    "##### Implement two-layer fully connnected neural net"
   ]
  },
  {
   "cell_type": "code",
   "execution_count": 1,
   "metadata": {
    "collapsed": false
   },
   "outputs": [],
   "source": [
    "%matplotlib inline\n",
    "import matplotlib.pyplot as plt\n",
    "import numpy as np\n",
    "import pandas as pd\n",
    "import sys, os\n",
    "import skimage.io as io\n",
    "from skimage.transform import resize\n",
    "sys.path.append('../')\n",
    "import nn.neural_net as NN\n",
    "import helpers.histogram_classifier as hc\n",
    "from imp import reload\n",
    "import time\n",
    "%load_ext autoreload\n",
    "%autoreload 2"
   ]
  },
  {
   "cell_type": "code",
   "execution_count": 2,
   "metadata": {
    "collapsed": false
   },
   "outputs": [
    {
     "data": {
      "text/html": [
       "<style>body {\n",
       "    margin: 0;\n",
       "    font-family: Helvetica;\n",
       "}\n",
       "table.dataframe {\n",
       "    border-collapse: collapse;\n",
       "    border: none;\n",
       "    font-size: 12px;\n",
       "}\n",
       "table.dataframe tr {\n",
       "    border: none;\n",
       "    line-height: 14px;\n",
       "}\n",
       "table.dataframe td, table.dataframe th {\n",
       "    margin: 0;\n",
       "    border: 1px solid white;\n",
       "    padding-left: 0.7em;\n",
       "    padding-right: 0.7em;\n",
       "}\n",
       "table.dataframe th {\n",
       "    background-color: #1c9099;\n",
       "    text-align: center;\n",
       "    font-weight: normal;\n",
       "    color: white;\n",
       "}\n",
       "table.dataframe td {\n",
       "    border: 1px solid #ccf;\n",
       "    background-color: #f4f4ff;\n",
       "    text-align: center;\n",
       "}\n",
       "</style>"
      ],
      "text/plain": [
       "<IPython.core.display.HTML object>"
      ]
     },
     "execution_count": 2,
     "metadata": {},
     "output_type": "execute_result"
    }
   ],
   "source": [
    "from IPython.core.display import HTML\n",
    "css = open('styles/table-style.css').read() #+ open('style-notebook.css').read()\n",
    "HTML('<style>{}</style>'.format(css))"
   ]
  },
  {
   "cell_type": "code",
   "execution_count": 29,
   "metadata": {
    "collapsed": true
   },
   "outputs": [],
   "source": [
    "SIZE = 64"
   ]
  },
  {
   "cell_type": "code",
   "execution_count": 30,
   "metadata": {
    "collapsed": true
   },
   "outputs": [],
   "source": [
    "classes = pd.read_csv('../data/food-101/meta/top_classes.csv', index_col=0)\n",
    "class_list = list(classes['class'].unique())\n",
    "\n",
    "image_names = {}\n",
    "for c in class_list:\n",
    "    image_names[c] = np.array(classes[classes['class'] == c]['name'])"
   ]
  },
  {
   "cell_type": "code",
   "execution_count": 31,
   "metadata": {
    "collapsed": true
   },
   "outputs": [],
   "source": [
    "train, test = hc.split_data(image_names, 0.85)"
   ]
  },
  {
   "cell_type": "code",
   "execution_count": 32,
   "metadata": {
    "collapsed": false
   },
   "outputs": [],
   "source": [
    "X = []\n",
    "y = []\n",
    "X_test = []\n",
    "y_test = []\n",
    "\n",
    "for i, c in enumerate(class_list):\n",
    "    for im in train[c]:\n",
    "        img = io.imread(os.path.join(\"../data/food-101/top_classes/\", c, \"\", im))\n",
    "        img = resize(img, (SIZE, SIZE, SIZE, 3))\n",
    "        X.append(img)\n",
    "        y.append(i)\n",
    "    for im in test[c]:\n",
    "        img = io.imread(os.path.join(\"../data/food-101/top_classes/\", c, \"\", im))\n",
    "        img = resize(img, (SIZE, SIZE, SIZE, 3))\n",
    "        X_test.append(img)\n",
    "        y_test.append(i)\n",
    "\n",
    "X = np.array(X)\n",
    "y = np.array(y)\n",
    "X_test = np.array(X_test)\n",
    "y_test = np.array(y_test)"
   ]
  },
  {
   "cell_type": "code",
   "execution_count": 33,
   "metadata": {
    "collapsed": false
   },
   "outputs": [
    {
     "name": "stdout",
     "output_type": "stream",
     "text": [
      "X has shape: (10200, 64, 64, 3)\n",
      "y has shape: (10200,)\n",
      "X_test has shape: (1800, 64, 64, 3)\n",
      "y_test has shape: (1800,)\n"
     ]
    }
   ],
   "source": [
    "print(\"X has shape: {}\".format(X.shape))\n",
    "print(\"y has shape: {}\".format(y.shape))\n",
    "print(\"X_test has shape: {}\".format(X_test.shape))\n",
    "print(\"y_test has shape: {}\".format(y_test.shape))"
   ]
  },
  {
   "cell_type": "code",
   "execution_count": 34,
   "metadata": {
    "collapsed": false
   },
   "outputs": [],
   "source": [
    "# Get subset of X_train for validation\n",
    "train_per_class = int(np.floor(0.85 * 1000))\n",
    "train_subset = int(np.floor(0.85 * train_per_class))\n",
    "\n",
    "all_indices = np.arange(X.shape[0])\n",
    "train_indices = []\n",
    "test_indices = []\n",
    "\n",
    "for i, c in enumerate(class_list):\n",
    "    train_indices.append(all_indices[i * train_per_class:(i * train_per_class) + train_subset])\n",
    "    test_indices.append(all_indices[(i * train_per_class) + train_subset:(i + 1) * train_per_class])\n",
    "train_indices = np.array(train_indices)\n",
    "train_indices = train_indices.reshape((train_indices.shape[0] * train_indices.shape[1],))\n",
    "test_indices = np.array(test_indices)\n",
    "test_indices = test_indices.reshape((test_indices.shape[0] * test_indices.shape[1],))"
   ]
  },
  {
   "cell_type": "code",
   "execution_count": 35,
   "metadata": {
    "collapsed": false
   },
   "outputs": [
    {
     "name": "stdout",
     "output_type": "stream",
     "text": [
      "CPU times: user 465 ms, sys: 918 ms, total: 1.38 s\n",
      "Wall time: 1.41 s\n"
     ]
    }
   ],
   "source": [
    "%%time\n",
    "X_train = X[train_indices]\n",
    "y_train = y[train_indices]\n",
    "X_val = X[test_indices]\n",
    "y_val = y[test_indices]"
   ]
  },
  {
   "cell_type": "code",
   "execution_count": 36,
   "metadata": {
    "collapsed": false
   },
   "outputs": [
    {
     "name": "stdout",
     "output_type": "stream",
     "text": [
      "X_train has shape: (8664, 64, 64, 3)\n",
      "y_train has shape: (8664,)\n",
      "X_val has shape: (1536, 64, 64, 3)\n",
      "y_val has shape: (1536,)\n"
     ]
    }
   ],
   "source": [
    "print(\"X_train has shape: {}\".format(X_train.shape))\n",
    "print(\"y_train has shape: {}\".format(y_train.shape))\n",
    "print(\"X_val has shape: {}\".format(X_val.shape))\n",
    "print(\"y_val has shape: {}\".format(y_val.shape))"
   ]
  },
  {
   "cell_type": "code",
   "execution_count": 38,
   "metadata": {
    "collapsed": false
   },
   "outputs": [
    {
     "name": "stdout",
     "output_type": "stream",
     "text": [
      "X_train has shape: (8664, 12288)\n",
      "X_test has shape: (1800, 12288)\n",
      "X_val has shape: (1536, 12288)\n"
     ]
    }
   ],
   "source": [
    "# Reshape the X data\n",
    "X_train = np.reshape(X_train, (X_train.shape[0], -1))\n",
    "X_test = np.reshape(X_test, (X_test.shape[0], -1))\n",
    "X_val = np.reshape(X_val, (X_val.shape[0], -1))\n",
    "\n",
    "print(\"X_train has shape: {}\".format(X_train.shape))\n",
    "print(\"X_test has shape: {}\".format(X_test.shape))\n",
    "print(\"X_val has shape: {}\".format(X_val.shape))"
   ]
  },
  {
   "cell_type": "code",
   "execution_count": 39,
   "metadata": {
    "collapsed": true
   },
   "outputs": [],
   "source": [
    "# Subtract the mean image\n",
    "mean_image = np.mean(X_train, axis=0)\n",
    "X_train -= mean_image\n",
    "X_test -= mean_image\n",
    "X_val -= mean_image"
   ]
  },
  {
   "cell_type": "code",
   "execution_count": 41,
   "metadata": {
    "collapsed": false
   },
   "outputs": [
    {
     "name": "stdout",
     "output_type": "stream",
     "text": [
      "2.48490662625\n"
     ]
    }
   ],
   "source": [
    "# Double check that loss is reasonable\n",
    "model = NN.TwoLayerNet(64*64*3, 12, 110)\n",
    "loss, grad = model.loss(X_val, y_val, reg=0)\n",
    "print(loss)"
   ]
  },
  {
   "cell_type": "code",
   "execution_count": 42,
   "metadata": {
    "collapsed": false
   },
   "outputs": [
    {
     "data": {
      "text/plain": [
       "2.4849066497880004"
      ]
     },
     "execution_count": 42,
     "metadata": {},
     "output_type": "execute_result"
    }
   ],
   "source": [
    "-np.log(1/12)"
   ]
  },
  {
   "cell_type": "code",
   "execution_count": 43,
   "metadata": {
    "collapsed": false
   },
   "outputs": [
    {
     "name": "stdout",
     "output_type": "stream",
     "text": [
      "9.23618052683\n"
     ]
    }
   ],
   "source": [
    "# Increase regularization and see if loss goes up\n",
    "model = NN.TwoLayerNet(64*64*3, 12, 110)\n",
    "loss, grad = model.loss(X_val, y_val, reg=1e3)\n",
    "print(loss)"
   ]
  },
  {
   "cell_type": "code",
   "execution_count": 44,
   "metadata": {
    "collapsed": false
   },
   "outputs": [
    {
     "name": "stdout",
     "output_type": "stream",
     "text": [
      "iteration 0 / 200: loss 2.48490601\n",
      "iteration 100 / 200: loss 2.39397815\n"
     ]
    }
   ],
   "source": [
    "# Try and overfit very small portion of data\n",
    "X_tiny = X_train[:30]\n",
    "y_tiny = y_train[:30]\n",
    "model = NN.TwoLayerNet(64*64*3, 12, 110)\n",
    "stats = model.train(X_tiny, y_tiny, X_tiny, y_tiny, learning_rate=1e-3, learning_rate_decay=1,\n",
    "        reg=0.0, num_iterations=200, batch_size=200,\n",
    "        verbose=True)"
   ]
  },
  {
   "cell_type": "code",
   "execution_count": 45,
   "metadata": {
    "collapsed": false
   },
   "outputs": [
    {
     "name": "stdout",
     "output_type": "stream",
     "text": [
      "Validation accuracy: 1.0\n"
     ]
    }
   ],
   "source": [
    "print(\"Validation accuracy: {}\".format((model.predict(X_tiny) == y_tiny).mean()))"
   ]
  },
  {
   "cell_type": "code",
   "execution_count": 50,
   "metadata": {
    "collapsed": false
   },
   "outputs": [
    {
     "name": "stdout",
     "output_type": "stream",
     "text": [
      "Loss: 2.4849068606215448, Train: 0.085, Val: 0.07291666666666667\n",
      "Loss: 2.484906749350882, Train: 0.07, Val: 0.07552083333333333\n",
      "Loss: 2.484907304750608, Train: 0.065, Val: 0.080078125\n",
      "Loss: 2.484906534668498, Train: 0.11, Val: 0.08528645833333333\n",
      "Loss: 2.4849067753419494, Train: 0.065, Val: 0.08723958333333333\n",
      "Loss: 2.4849072056182653, Train: 0.085, Val: 0.083984375\n",
      "Loss: 2.48490639918384, Train: 0.085, Val: 0.078125\n",
      "Loss: 2.4849066557195605, Train: 0.075, Val: 0.08138020833333333\n",
      "Loss: 2.4849066346704083, Train: 0.08, Val: 0.08528645833333333\n",
      "Loss: 2.4849064307017192, Train: 0.09, Val: 0.08138020833333333\n"
     ]
    }
   ],
   "source": [
    "# Try training with small reg and learning rate\n",
    "model = NN.TwoLayerNet(64*64*3, 12, 110)\n",
    "stats = model.train(X_train, y_train, X_val, y_val, learning_rate=1e-5, learning_rate_decay=1,\n",
    "        reg=0.00001, num_iterations=400, batch_size=200,\n",
    "        verbose=True)"
   ]
  },
  {
   "cell_type": "code",
   "execution_count": 54,
   "metadata": {
    "collapsed": false
   },
   "outputs": [
    {
     "name": "stdout",
     "output_type": "stream",
     "text": [
      "val_acc: 0.09049479166666667, lr: 1.052639782242061e-06, reg: 742.7246290397305, lr_dec: 0.9\n",
      "val_acc: 0.08333333333333333, lr: 6.0127700922075686e-05, reg: 37.94839635941657, lr_dec: 0.9\n",
      "val_acc: 0.08333333333333333, lr: 1.6244766994909238e-05, reg: 0.03037262263598105, lr_dec: 0.9\n",
      "val_acc: 0.09049479166666667, lr: 5.971062486555303e-06, reg: 0.4954517101918068, lr_dec: 0.9\n",
      "val_acc: 0.07486979166666667, lr: 1.5452898744736483e-06, reg: 0.002968911979894837, lr_dec: 0.9\n",
      "val_acc: 0.08723958333333333, lr: 2.862355635566686e-05, reg: 4.155991423306856e-05, lr_dec: 0.9\n",
      "val_acc: 0.10026041666666667, lr: 8.984798927513066e-06, reg: 0.0002588578506827222, lr_dec: 0.9\n",
      "val_acc: 0.08333333333333333, lr: 4.438839798728978e-06, reg: 0.0024297511522021835, lr_dec: 0.9\n",
      "val_acc: 0.08138020833333333, lr: 2.7093673781731677e-06, reg: 0.0005113398220916362, lr_dec: 0.9\n",
      "val_acc: 0.072265625, lr: 1.35528558798903e-06, reg: 5.552917576070718e-05, lr_dec: 0.9\n",
      "val_acc: 0.08333333333333333, lr: 7.37509154166502e-06, reg: 4387.795564311698, lr_dec: 0.9\n",
      "val_acc: 0.08333333333333333, lr: 0.0005987658757825501, reg: 0.032508042841338146, lr_dec: 0.9\n",
      "val_acc: 0.08203125, lr: 2.340332106232463e-06, reg: 0.0015431432502956218, lr_dec: 0.9\n",
      "val_acc: 0.08333333333333333, lr: 0.0001365737926703033, reg: 35.7814126552379, lr_dec: 0.9\n",
      "val_acc: 0.08333333333333333, lr: 2.969139558835842e-05, reg: 2.095850485882391e-05, lr_dec: 0.9\n",
      "val_acc: 0.08333333333333333, lr: 1.5542860795034432e-06, reg: 46260.587573017605, lr_dec: 0.9\n",
      "val_acc: 0.08333333333333333, lr: 6.036675277145268e-06, reg: 890.6786498125123, lr_dec: 0.9\n",
      "val_acc: 0.08333333333333333, lr: 0.00016927059100685694, reg: 0.9544992922814117, lr_dec: 0.9\n",
      "val_acc: 0.08333333333333333, lr: 4.3720989901706275e-05, reg: 11403.09040249289, lr_dec: 0.9\n",
      "val_acc: 0.08138020833333333, lr: 7.11919431247313e-05, reg: 3.122517060684448e-05, lr_dec: 0.9\n",
      "val_acc: 0.08723958333333333, lr: 5.12572671083933e-06, reg: 141.33400495878428, lr_dec: 0.9\n",
      "val_acc: 0.08333333333333333, lr: 0.0003752524296710264, reg: 0.5440742845997026, lr_dec: 0.9\n",
      "val_acc: 0.08333333333333333, lr: 0.0001342084900188134, reg: 3.875722836658361, lr_dec: 0.9\n",
      "val_acc: 0.08333333333333333, lr: 0.0002414043020102552, reg: 0.677923021740851, lr_dec: 0.9\n",
      "val_acc: 0.08723958333333333, lr: 6.067759722031325e-06, reg: 0.00011284129676454568, lr_dec: 0.9\n",
      "val_acc: 0.07356770833333333, lr: 2.416540710584671e-06, reg: 967.6341037258602, lr_dec: 0.9\n",
      "val_acc: 0.08333333333333333, lr: 7.111732837531525e-05, reg: 51.36050957301571, lr_dec: 0.9\n",
      "val_acc: 0.08333333333333333, lr: 0.00011506995443758918, reg: 70369.98448204492, lr_dec: 0.9\n",
      "val_acc: 0.08333333333333333, lr: 3.0446019487875665e-05, reg: 16.266691662592237, lr_dec: 0.9\n",
      "val_acc: 0.08333333333333333, lr: 4.072723063296819e-05, reg: 42.277369035359094, lr_dec: 0.9\n",
      "val_acc: 0.08333333333333333, lr: 5.847299171702883e-06, reg: 9379.989267992665, lr_dec: 0.9\n",
      "val_acc: 0.08333333333333333, lr: 7.731434249612434e-05, reg: 0.001229167464055177, lr_dec: 0.9\n",
      "val_acc: 0.08333333333333333, lr: 0.00019934852022246723, reg: 11.871763017272034, lr_dec: 0.9\n",
      "val_acc: 0.078125, lr: 1.2280804192263276e-06, reg: 1.500057343850416e-05, lr_dec: 0.9\n",
      "val_acc: 0.07552083333333333, lr: 2.7951452267232383e-06, reg: 15.988380096214192, lr_dec: 0.9\n",
      "val_acc: 0.08333333333333333, lr: 0.0004662375583243416, reg: 0.0006982030678231108, lr_dec: 0.9\n",
      "val_acc: 0.08333333333333333, lr: 0.0003689303380232059, reg: 2.5919084477689686e-05, lr_dec: 0.9\n",
      "val_acc: 0.08333333333333333, lr: 4.7907526608748755e-05, reg: 0.2780125394986108, lr_dec: 0.9\n",
      "val_acc: 0.08333333333333333, lr: 6.541218203113266e-05, reg: 15918.027184675313, lr_dec: 0.9\n",
      "val_acc: 0.08333333333333333, lr: 0.0004598170898589483, reg: 400.7235884855656, lr_dec: 0.9\n",
      "val_acc: 0.07877604166666667, lr: 4.986861523223156e-06, reg: 1.2346755503268643e-05, lr_dec: 0.9\n",
      "val_acc: 0.08333333333333333, lr: 0.00012728124809667705, reg: 4.434196024252994, lr_dec: 0.9\n",
      "val_acc: 0.08333333333333333, lr: 0.0001969884366528753, reg: 5.609811024760461, lr_dec: 0.9\n",
      "val_acc: 0.08333333333333333, lr: 0.00014287457214116816, reg: 0.03980712631084222, lr_dec: 0.9\n",
      "val_acc: 0.08333333333333333, lr: 1.0478036336917022e-06, reg: 35469.53452143889, lr_dec: 0.9\n",
      "val_acc: 0.095703125, lr: 6.98755319663824e-06, reg: 2.120881903172345e-05, lr_dec: 0.9\n",
      "val_acc: 0.08333333333333333, lr: 0.00010403787626610475, reg: 0.24961473976483572, lr_dec: 0.9\n",
      "val_acc: 0.08333333333333333, lr: 0.00042368851160368327, reg: 0.2180331589770212, lr_dec: 0.9\n",
      "val_acc: 0.08333333333333333, lr: 0.00015598215834819725, reg: 45227.030664273654, lr_dec: 0.9\n",
      "val_acc: 0.08333333333333333, lr: 9.364289419030708e-05, reg: 1.5140042657087058, lr_dec: 0.9\n",
      "val_acc: 0.107421875, lr: 1.3185433957962784e-06, reg: 0.0015940640086333096, lr_dec: 0.9\n",
      "val_acc: 0.08528645833333333, lr: 7.978995723051926e-06, reg: 0.27852662039489734, lr_dec: 0.9\n",
      "val_acc: 0.083984375, lr: 1.2577214741107525e-06, reg: 233.3165581802713, lr_dec: 0.9\n",
      "val_acc: 0.08528645833333333, lr: 1.4089035260116912e-06, reg: 3500.889013633468, lr_dec: 0.9\n",
      "val_acc: 0.08333333333333333, lr: 0.0007584061065848745, reg: 611.7356081280957, lr_dec: 0.9\n",
      "val_acc: 0.076171875, lr: 2.3936554361723837e-06, reg: 0.07400931988099257, lr_dec: 0.9\n",
      "val_acc: 0.09309895833333333, lr: 2.5340962278894502e-06, reg: 195.27225932056805, lr_dec: 0.9\n",
      "val_acc: 0.08333333333333333, lr: 0.0003546765548810502, reg: 12.51844227299244, lr_dec: 0.9\n",
      "val_acc: 0.08333333333333333, lr: 0.00016432515891245744, reg: 32.37396177435798, lr_dec: 0.9\n",
      "val_acc: 0.076171875, lr: 2.107519182632802e-05, reg: 0.0005255101051079001, lr_dec: 0.9\n",
      "val_acc: 0.08072916666666667, lr: 3.6813991778693806e-05, reg: 0.0064964976914277245, lr_dec: 0.9\n",
      "val_acc: 0.08333333333333333, lr: 0.00042178749451096914, reg: 0.0443666250917547, lr_dec: 0.9\n",
      "val_acc: 0.08203125, lr: 6.383930903338027e-06, reg: 367.87610295961395, lr_dec: 0.9\n",
      "val_acc: 0.08333333333333333, lr: 0.000248681232367107, reg: 0.09666272851023351, lr_dec: 0.9\n",
      "val_acc: 0.08203125, lr: 3.8597828052464214e-06, reg: 5.896754731313832, lr_dec: 0.9\n",
      "val_acc: 0.08333333333333333, lr: 4.469645786430148e-06, reg: 79212.41000764717, lr_dec: 0.9\n",
      "val_acc: 0.08333333333333333, lr: 0.0004460846205641704, reg: 0.0355576407916274, lr_dec: 0.9\n",
      "val_acc: 0.08333333333333333, lr: 0.0004064104320379122, reg: 58793.65274982363, lr_dec: 0.9\n",
      "val_acc: 0.08333333333333333, lr: 0.0005537753371285891, reg: 6.123716657273657, lr_dec: 0.9\n",
      "val_acc: 0.07877604166666667, lr: 2.898010372584119e-06, reg: 3.347503403967685e-05, lr_dec: 0.9\n",
      "val_acc: 0.08333333333333333, lr: 0.000255607823026187, reg: 0.030462876882295552, lr_dec: 0.9\n",
      "val_acc: 0.08333333333333333, lr: 1.3123824626736735e-05, reg: 0.06621701556985093, lr_dec: 0.9\n",
      "val_acc: 0.08333333333333333, lr: 6.113086343433007e-06, reg: 0.010778703312473818, lr_dec: 0.9\n",
      "val_acc: 0.08333333333333333, lr: 0.00019897224210506365, reg: 0.00047338961656331544, lr_dec: 0.9\n",
      "val_acc: 0.08333333333333333, lr: 0.0007200674622490339, reg: 720.6778576344644, lr_dec: 0.9\n",
      "val_acc: 0.083984375, lr: 3.858917499982419e-06, reg: 403.16358617844696, lr_dec: 0.9\n",
      "val_acc: 0.08333333333333333, lr: 0.00021559579147003083, reg: 0.0007008852790712441, lr_dec: 0.9\n",
      "val_acc: 0.08333333333333333, lr: 0.0008774396432375856, reg: 1.1773082233456681e-05, lr_dec: 0.9\n",
      "val_acc: 0.08333333333333333, lr: 7.278066355306137e-05, reg: 2437.380419718291, lr_dec: 0.9\n",
      "val_acc: 0.08333333333333333, lr: 2.8295318271549113e-05, reg: 0.022049898557086535, lr_dec: 0.9\n",
      "val_acc: 0.08333333333333333, lr: 0.00021704395322481138, reg: 203.67760360240834, lr_dec: 0.9\n",
      "val_acc: 0.08333333333333333, lr: 0.00018172519637809674, reg: 0.013906006637129101, lr_dec: 0.9\n",
      "val_acc: 0.08854166666666667, lr: 2.2268570138922933e-06, reg: 15.365792911853902, lr_dec: 0.9\n",
      "val_acc: 0.08333333333333333, lr: 1.5832517525912091e-06, reg: 79277.39228322048, lr_dec: 0.9\n",
      "val_acc: 0.08333333333333333, lr: 0.00044798916151495114, reg: 0.0016936384674934642, lr_dec: 0.9\n",
      "val_acc: 0.08333333333333333, lr: 0.0001154564561181121, reg: 27.710381687584828, lr_dec: 0.9\n",
      "val_acc: 0.07747395833333333, lr: 2.2139242275442722e-05, reg: 6.543401315668005e-05, lr_dec: 0.9\n",
      "val_acc: 0.08333333333333333, lr: 5.576604182496005e-06, reg: 940.5936635256352, lr_dec: 0.9\n",
      "val_acc: 0.0859375, lr: 1.728972075781205e-06, reg: 0.13042396613555562, lr_dec: 0.9\n",
      "val_acc: 0.087890625, lr: 1.1006672910597162e-05, reg: 1.82360328658078e-05, lr_dec: 0.9\n",
      "val_acc: 0.08333333333333333, lr: 0.0008550480274357571, reg: 5.1005542273395665, lr_dec: 0.9\n",
      "val_acc: 0.07877604166666667, lr: 4.508655430587449e-06, reg: 5.244888992204001e-05, lr_dec: 0.9\n",
      "val_acc: 0.08268229166666667, lr: 1.807039364603415e-05, reg: 0.0011372922222174606, lr_dec: 0.9\n",
      "val_acc: 0.08333333333333333, lr: 9.672222807720281e-05, reg: 287.2414688450617, lr_dec: 0.9\n",
      "val_acc: 0.08333333333333333, lr: 7.00438443062294e-06, reg: 15942.917172828082, lr_dec: 0.9\n",
      "val_acc: 0.07421875, lr: 4.151367435145252e-06, reg: 6.636086734232769e-05, lr_dec: 0.9\n",
      "val_acc: 0.08333333333333333, lr: 0.00022613857756741446, reg: 9.109391641858748e-05, lr_dec: 0.9\n",
      "val_acc: 0.08203125, lr: 2.66620244002022e-06, reg: 0.8573072411358449, lr_dec: 0.9\n",
      "val_acc: 0.08333333333333333, lr: 0.0007767331519278937, reg: 0.015766088159970153, lr_dec: 0.9\n",
      "val_acc: 0.08333333333333333, lr: 0.00013259703478987075, reg: 0.0011685572217616914, lr_dec: 0.9\n"
     ]
    }
   ],
   "source": [
    "input_size = 64 * 64 * 3\n",
    "hidden_size = 110\n",
    "num_classes = 12\n",
    "max_count = 100\n",
    "\n",
    "best_net = None # store the best model into this\n",
    "pest_params = (0, 0, 0)\n",
    "best_acc = -1\n",
    "\n",
    "for i in range(max_count):\n",
    "    lr = 10 ** np.random.uniform(-6, -3)\n",
    "    reg = 10 ** np.random.uniform(-5, 5)\n",
    "    lr_dec = 0.90\n",
    "    model = NN.TwoLayerNet(input_size, hidden_size, num_classes)\n",
    "    stats = model.train(X_train, y_train, X_val, y_val,\n",
    "            num_iterations=300, batch_size=200,\n",
    "            learning_rate=lr, learning_rate_decay=lr_dec,\n",
    "            reg=reg, verbose=False)\n",
    "    val_acc = (model.predict(X_val) == y_val).mean()\n",
    "    if val_acc > best_acc:\n",
    "        best_net = model\n",
    "        best_params = (lr, reg, lr_dec)\n",
    "        best_acc = val_acc\n",
    "    print(\"val_acc: {}, lr: {}, reg: {}, lr_dec: {}\".format(val_acc, lr, reg, lr_dec))"
   ]
  },
  {
   "cell_type": "code",
   "execution_count": 58,
   "metadata": {
    "collapsed": false
   },
   "outputs": [
    {
     "data": {
      "text/plain": [
       "(1.3185433957962784e-06, 0.0015940640086333096, 0.9)"
      ]
     },
     "execution_count": 58,
     "metadata": {},
     "output_type": "execute_result"
    }
   ],
   "source": [
    "best_params"
   ]
  },
  {
   "cell_type": "code",
   "execution_count": 63,
   "metadata": {
    "collapsed": false
   },
   "outputs": [
    {
     "name": "stdout",
     "output_type": "stream",
     "text": [
      "val_acc: 0.07682291666666667, lr: 4.5652994358280407e-07, reg: 0.3924547611129168, lr_dec: 0.9\n",
      "val_acc: 0.08072916666666667, lr: 8.109903419838734e-07, reg: 0.005022389865903977, lr_dec: 0.9\n",
      "val_acc: 0.08333333333333333, lr: 3.683736031150013e-06, reg: 0.04908660097389165, lr_dec: 0.9\n",
      "val_acc: 0.08138020833333333, lr: 3.444935016373524e-07, reg: 0.00013524985200110649, lr_dec: 0.9\n",
      "val_acc: 0.07552083333333333, lr: 1.3982627388608971e-06, reg: 0.0006826648750741391, lr_dec: 0.9\n",
      "val_acc: 0.08203125, lr: 2.717324273224199e-06, reg: 0.03525315541841678, lr_dec: 0.9\n",
      "val_acc: 0.076171875, lr: 1.0356580373275724e-06, reg: 0.006102869138787725, lr_dec: 0.9\n",
      "val_acc: 0.078125, lr: 9.971807948369419e-06, reg: 0.0015892792428496758, lr_dec: 0.9\n",
      "val_acc: 0.080078125, lr: 1.0511191100527436e-07, reg: 0.007598230882908969, lr_dec: 0.9\n",
      "val_acc: 0.07942708333333333, lr: 2.4778532493577255e-06, reg: 0.01749489249747415, lr_dec: 0.9\n",
      "val_acc: 0.08333333333333333, lr: 2.4808722876942983e-06, reg: 0.011816777928764238, lr_dec: 0.9\n",
      "val_acc: 0.08528645833333333, lr: 6.1392307361097815e-06, reg: 0.005347238071521432, lr_dec: 0.9\n",
      "val_acc: 0.095703125, lr: 1.8009691984403481e-06, reg: 0.00021507045836855967, lr_dec: 0.9\n",
      "val_acc: 0.08138020833333333, lr: 4.578451297542168e-06, reg: 0.006384977547449494, lr_dec: 0.9\n",
      "val_acc: 0.083984375, lr: 4.087480864828019e-07, reg: 0.04845004423605795, lr_dec: 0.9\n",
      "val_acc: 0.09700520833333333, lr: 1.3993287872234667e-07, reg: 0.0001374014869073002, lr_dec: 0.9\n",
      "val_acc: 0.08072916666666667, lr: 3.6287142561632585e-06, reg: 0.09847883794890364, lr_dec: 0.9\n",
      "val_acc: 0.083984375, lr: 2.457610523280627e-06, reg: 0.001610921155073435, lr_dec: 0.9\n",
      "val_acc: 0.076171875, lr: 7.349346445326567e-07, reg: 0.0008180651666276627, lr_dec: 0.9\n",
      "val_acc: 0.06901041666666667, lr: 9.360964075067992e-07, reg: 0.0791907354421596, lr_dec: 0.9\n",
      "val_acc: 0.07682291666666667, lr: 3.579596293387674e-07, reg: 0.16579249314959774, lr_dec: 0.9\n",
      "val_acc: 0.08333333333333333, lr: 5.688519712716908e-06, reg: 0.264260332803608, lr_dec: 0.9\n",
      "val_acc: 0.09440104166666667, lr: 4.203847462855909e-07, reg: 0.00016374806081725346, lr_dec: 0.9\n",
      "val_acc: 0.07877604166666667, lr: 2.4872618666615563e-06, reg: 0.08689005570576573, lr_dec: 0.9\n",
      "val_acc: 0.07942708333333333, lr: 1.0556319317334592e-06, reg: 0.6193631613536776, lr_dec: 0.9\n",
      "val_acc: 0.08268229166666667, lr: 9.166207170157223e-07, reg: 0.00019749980183441962, lr_dec: 0.9\n",
      "val_acc: 0.08984375, lr: 5.506545126985014e-07, reg: 0.013198317474495184, lr_dec: 0.9\n",
      "val_acc: 0.07877604166666667, lr: 5.697736057806381e-06, reg: 0.00021253729866281415, lr_dec: 0.9\n",
      "val_acc: 0.08528645833333333, lr: 5.7054663534775e-06, reg: 0.0001572898825798754, lr_dec: 0.9\n",
      "val_acc: 0.08723958333333333, lr: 9.68971544520061e-07, reg: 0.0291724198873591, lr_dec: 0.9\n",
      "val_acc: 0.07682291666666667, lr: 3.213213212250586e-06, reg: 0.1316328269684512, lr_dec: 0.9\n",
      "val_acc: 0.083984375, lr: 6.106009495569326e-07, reg: 0.0020001308361670437, lr_dec: 0.9\n",
      "val_acc: 0.078125, lr: 1.4451676342679284e-06, reg: 0.00046294297087075026, lr_dec: 0.9\n",
      "val_acc: 0.09830729166666667, lr: 1.8627107624521265e-06, reg: 0.06420198870736481, lr_dec: 0.9\n",
      "val_acc: 0.09700520833333333, lr: 4.533893378237185e-07, reg: 0.2101709711012416, lr_dec: 0.9\n",
      "val_acc: 0.0859375, lr: 2.7425858171417393e-07, reg: 0.04850511587397813, lr_dec: 0.9\n",
      "val_acc: 0.08268229166666667, lr: 3.697378131053943e-06, reg: 0.090423817537789, lr_dec: 0.9\n",
      "val_acc: 0.07096354166666667, lr: 9.906121232297245e-06, reg: 0.12781864385010921, lr_dec: 0.9\n",
      "val_acc: 0.107421875, lr: 2.3107494741916856e-07, reg: 0.13708316142103177, lr_dec: 0.9\n",
      "val_acc: 0.08723958333333333, lr: 3.1263372379858027e-06, reg: 0.12643497873858592, lr_dec: 0.9\n",
      "val_acc: 0.08203125, lr: 1.712467819979846e-07, reg: 0.00015793061385046872, lr_dec: 0.9\n",
      "val_acc: 0.064453125, lr: 7.311517542025484e-07, reg: 0.02936982160619078, lr_dec: 0.9\n",
      "val_acc: 0.08463541666666667, lr: 4.995671849172291e-06, reg: 0.11744293587393682, lr_dec: 0.9\n",
      "val_acc: 0.08463541666666667, lr: 1.948968788519994e-06, reg: 0.0011952893070800177, lr_dec: 0.9\n",
      "val_acc: 0.08138020833333333, lr: 1.5373919534767118e-07, reg: 0.004197026711781575, lr_dec: 0.9\n",
      "val_acc: 0.083984375, lr: 7.567247652992114e-06, reg: 0.0001448593594272273, lr_dec: 0.9\n",
      "val_acc: 0.06315104166666667, lr: 1.1244107459851319e-07, reg: 0.0017353917116161898, lr_dec: 0.9\n",
      "val_acc: 0.07942708333333333, lr: 1.0159005101518011e-07, reg: 0.010740893425466384, lr_dec: 0.9\n",
      "val_acc: 0.08658854166666667, lr: 7.615631634721349e-07, reg: 0.06547993674317416, lr_dec: 0.9\n",
      "val_acc: 0.09765625, lr: 5.675602882845204e-07, reg: 0.005543422810528419, lr_dec: 0.9\n",
      "val_acc: 0.0859375, lr: 1.3962584892573218e-06, reg: 0.011688518997055418, lr_dec: 0.9\n",
      "val_acc: 0.08658854166666667, lr: 2.5608661563665793e-07, reg: 0.0011626351953024415, lr_dec: 0.9\n",
      "val_acc: 0.07421875, lr: 7.295197432971276e-07, reg: 0.0002355057674168246, lr_dec: 0.9\n",
      "val_acc: 0.09505208333333333, lr: 6.643442593909317e-07, reg: 0.9727028680931341, lr_dec: 0.9\n",
      "val_acc: 0.08072916666666667, lr: 4.790429197774853e-06, reg: 0.011109634851371796, lr_dec: 0.9\n",
      "val_acc: 0.083984375, lr: 2.6023166198656403e-07, reg: 0.0009001717292082311, lr_dec: 0.9\n",
      "val_acc: 0.08333333333333333, lr: 2.552259550299834e-06, reg: 0.11373251876329146, lr_dec: 0.9\n",
      "val_acc: 0.0703125, lr: 4.600515317572252e-06, reg: 0.038768249920336444, lr_dec: 0.9\n",
      "val_acc: 0.078125, lr: 2.603902029203402e-07, reg: 0.013472459656620202, lr_dec: 0.9\n",
      "val_acc: 0.09375, lr: 2.7087641550943655e-07, reg: 0.002374637919033126, lr_dec: 0.9\n",
      "val_acc: 0.08658854166666667, lr: 6.773390320816855e-06, reg: 0.010807910860284233, lr_dec: 0.9\n",
      "val_acc: 0.07877604166666667, lr: 1.7337533638291398e-07, reg: 0.07354154733164289, lr_dec: 0.9\n",
      "val_acc: 0.08203125, lr: 4.2842061658519514e-07, reg: 0.034761795085404175, lr_dec: 0.9\n",
      "val_acc: 0.08919270833333333, lr: 3.260391699438732e-06, reg: 0.06520700056679385, lr_dec: 0.9\n",
      "val_acc: 0.08138020833333333, lr: 1.6135307338999128e-07, reg: 0.004244324876054432, lr_dec: 0.9\n",
      "val_acc: 0.09114583333333333, lr: 1.6106286569784348e-07, reg: 0.0035758901236385876, lr_dec: 0.9\n",
      "val_acc: 0.08723958333333333, lr: 2.526052269309804e-07, reg: 0.00047775776296764554, lr_dec: 0.9\n",
      "val_acc: 0.08463541666666667, lr: 3.796745205764637e-07, reg: 0.026494257806607194, lr_dec: 0.9\n",
      "val_acc: 0.08072916666666667, lr: 5.131516154946807e-06, reg: 0.2512876376065363, lr_dec: 0.9\n",
      "val_acc: 0.083984375, lr: 3.524626411211324e-06, reg: 0.0296588151077502, lr_dec: 0.9\n",
      "val_acc: 0.09049479166666667, lr: 2.1119320896830098e-07, reg: 0.0003815675850943083, lr_dec: 0.9\n",
      "val_acc: 0.056640625, lr: 2.8778010815470298e-06, reg: 0.7012098139302131, lr_dec: 0.9\n",
      "val_acc: 0.078125, lr: 1.6341300103595296e-07, reg: 0.12137082116615458, lr_dec: 0.9\n",
      "val_acc: 0.08072916666666667, lr: 1.1955580024648688e-06, reg: 0.00017378542558150778, lr_dec: 0.9\n",
      "val_acc: 0.09505208333333333, lr: 1.671557380122461e-07, reg: 0.17282578630501202, lr_dec: 0.9\n",
      "val_acc: 0.08723958333333333, lr: 2.1124698600351735e-06, reg: 0.011564345954031285, lr_dec: 0.9\n",
      "val_acc: 0.0703125, lr: 3.897095852619871e-06, reg: 0.00032606184863085504, lr_dec: 0.9\n",
      "val_acc: 0.076171875, lr: 1.1509644455810292e-07, reg: 0.00012755430616757788, lr_dec: 0.9\n",
      "val_acc: 0.09375, lr: 1.5930792769951867e-06, reg: 0.00020722531054241425, lr_dec: 0.9\n",
      "val_acc: 0.076171875, lr: 4.26443406618703e-06, reg: 0.03755426148702885, lr_dec: 0.9\n",
      "val_acc: 0.083984375, lr: 4.2235476936925455e-07, reg: 0.000987563154067096, lr_dec: 0.9\n",
      "val_acc: 0.09505208333333333, lr: 9.383990797480186e-06, reg: 0.21372909336452411, lr_dec: 0.9\n",
      "val_acc: 0.0859375, lr: 4.0420050041053094e-06, reg: 0.0008624119757334974, lr_dec: 0.9\n",
      "val_acc: 0.08333333333333333, lr: 2.8285696079054607e-06, reg: 0.0003650774984375108, lr_dec: 0.9\n",
      "val_acc: 0.08984375, lr: 3.12968118428215e-07, reg: 0.0001286322717220948, lr_dec: 0.9\n",
      "val_acc: 0.0859375, lr: 3.838848260477611e-06, reg: 0.013013704198412163, lr_dec: 0.9\n",
      "val_acc: 0.09049479166666667, lr: 1.7369581885981989e-07, reg: 0.8085828718648884, lr_dec: 0.9\n",
      "val_acc: 0.08138020833333333, lr: 2.2429582423865514e-07, reg: 0.009029232473879762, lr_dec: 0.9\n",
      "val_acc: 0.078125, lr: 1.0791065873643414e-07, reg: 0.0006172427177553703, lr_dec: 0.9\n",
      "val_acc: 0.08463541666666667, lr: 7.157775286116301e-06, reg: 0.051184781924058155, lr_dec: 0.9\n",
      "val_acc: 0.087890625, lr: 1.0919072279185868e-06, reg: 0.028432868387698776, lr_dec: 0.9\n",
      "val_acc: 0.076171875, lr: 7.55143178372935e-07, reg: 0.0005873274005732909, lr_dec: 0.9\n",
      "val_acc: 0.08854166666666667, lr: 1.2845761413983351e-06, reg: 0.725944943101138, lr_dec: 0.9\n",
      "val_acc: 0.07486979166666667, lr: 2.3254704410968854e-07, reg: 0.2048533170494371, lr_dec: 0.9\n",
      "val_acc: 0.08203125, lr: 7.000018996952774e-07, reg: 0.10491578534056716, lr_dec: 0.9\n",
      "val_acc: 0.09309895833333333, lr: 5.102558104233163e-07, reg: 0.0019361328566466687, lr_dec: 0.9\n",
      "val_acc: 0.09830729166666667, lr: 1.0133835614338533e-06, reg: 0.04263903516880435, lr_dec: 0.9\n",
      "val_acc: 0.08072916666666667, lr: 7.114611074831791e-07, reg: 0.00033285293948094965, lr_dec: 0.9\n",
      "val_acc: 0.08203125, lr: 2.851030356728827e-06, reg: 0.00020270770620220096, lr_dec: 0.9\n",
      "val_acc: 0.095703125, lr: 1.4725594289137945e-06, reg: 0.008048822267356424, lr_dec: 0.9\n"
     ]
    }
   ],
   "source": [
    "input_size = 64 * 64 * 3\n",
    "hidden_size = 110\n",
    "num_classes = 12\n",
    "max_count = 100\n",
    "\n",
    "best_net = None # store the best model into this\n",
    "pest_params = (0, 0, 0)\n",
    "best_acc = -1\n",
    "\n",
    "for i in range(max_count):\n",
    "    lr = 10 ** np.random.uniform(-7, -5)\n",
    "    reg = 10 ** np.random.uniform(-4, 0)\n",
    "    lr_dec = 0.90\n",
    "    model = NN.TwoLayerNet(input_size, hidden_size, num_classes)\n",
    "    stats = model.train(X_train, y_train, X_val, y_val,\n",
    "            num_iterations=300, batch_size=200,\n",
    "            learning_rate=lr, learning_rate_decay=lr_dec,\n",
    "            reg=reg, verbose=False)\n",
    "    val_acc = (model.predict(X_val) == y_val).mean()\n",
    "    if val_acc > best_acc:\n",
    "        best_net = model\n",
    "        best_params = (lr, reg, lr_dec)\n",
    "        best_acc = val_acc\n",
    "    print(\"val_acc: {}, lr: {}, reg: {}, lr_dec: {}\".format(val_acc, lr, reg, lr_dec))"
   ]
  },
  {
   "cell_type": "code",
   "execution_count": 66,
   "metadata": {
    "collapsed": false
   },
   "outputs": [
    {
     "data": {
      "text/plain": [
       "(2.3107494741916856e-07, 0.13708316142103177, 0.9)"
      ]
     },
     "execution_count": 66,
     "metadata": {},
     "output_type": "execute_result"
    }
   ],
   "source": [
    "best_params"
   ]
  },
  {
   "cell_type": "code",
   "execution_count": 94,
   "metadata": {
    "collapsed": false
   },
   "outputs": [
    {
     "name": "stdout",
     "output_type": "stream",
     "text": [
      "Loss: 4.700582048303358, Train: 0.01, Val: 0.020833333333333332\n",
      "Loss: 4.700581303028923, Train: 0.07, Val: 0.078125\n",
      "Loss: 4.700580637329204, Train: 0.09, Val: 0.10026041666666667\n",
      "Loss: 4.700579862851477, Train: 0.085, Val: 0.10026041666666667\n",
      "Loss: 4.700579232931388, Train: 0.065, Val: 0.10026041666666667\n",
      "Loss: 4.700578572477547, Train: 0.045, Val: 0.10026041666666667\n",
      "Loss: 4.70057773297555, Train: 0.115, Val: 0.10416666666666667\n",
      "Loss: 4.700576984685404, Train: 0.1, Val: 0.10677083333333333\n",
      "Loss: 4.700576441177795, Train: 0.065, Val: 0.10416666666666667\n",
      "Loss: 4.700575781234439, Train: 0.075, Val: 0.1015625\n",
      "Loss: 4.700575017460752, Train: 0.105, Val: 0.10286458333333333\n",
      "Loss: 4.700574328857715, Train: 0.08, Val: 0.103515625\n",
      "Loss: 4.700573718638539, Train: 0.1, Val: 0.10611979166666667\n",
      "Loss: 4.700573100993856, Train: 0.085, Val: 0.10546875\n",
      "Loss: 4.700572500024417, Train: 0.08, Val: 0.10026041666666667\n",
      "Loss: 4.700571826116328, Train: 0.105, Val: 0.10221354166666667\n",
      "Loss: 4.700571205332962, Train: 0.075, Val: 0.103515625\n",
      "Loss: 4.700570679034015, Train: 0.065, Val: 0.10286458333333333\n",
      "Loss: 4.700569940137039, Train: 0.095, Val: 0.10416666666666667\n",
      "Loss: 4.700569356855021, Train: 0.1, Val: 0.10481770833333333\n",
      "Loss: 4.700568730860466, Train: 0.11, Val: 0.10416666666666667\n",
      "Loss: 4.700568100988598, Train: 0.115, Val: 0.103515625\n",
      "Loss: 4.700567481661418, Train: 0.1, Val: 0.10221354166666667\n",
      "Loss: 4.700566949539939, Train: 0.11, Val: 0.10221354166666667\n",
      "Loss: 4.70056633109487, Train: 0.105, Val: 0.09895833333333333\n",
      "Loss: 4.700565852779197, Train: 0.055, Val: 0.1015625\n",
      "Loss: 4.700565186032517, Train: 0.09, Val: 0.09895833333333333\n",
      "Loss: 4.700564682499652, Train: 0.09, Val: 0.10026041666666667\n",
      "Loss: 4.700564081741413, Train: 0.095, Val: 0.09895833333333333\n",
      "Loss: 4.700563601084953, Train: 0.1, Val: 0.099609375\n",
      "Loss: 4.700562951400681, Train: 0.115, Val: 0.09895833333333333\n",
      "Loss: 4.700562417131893, Train: 0.14, Val: 0.09895833333333333\n",
      "Loss: 4.700561918928169, Train: 0.085, Val: 0.09765625\n",
      "Loss: 4.700561432167077, Train: 0.095, Val: 0.09830729166666667\n",
      "Loss: 4.700560850434064, Train: 0.085, Val: 0.09830729166666667\n",
      "Loss: 4.7005603528526585, Train: 0.085, Val: 0.099609375\n",
      "Loss: 4.700559763573466, Train: 0.11, Val: 0.09830729166666667\n",
      "Loss: 4.700559349260818, Train: 0.07, Val: 0.09895833333333333\n",
      "Loss: 4.700558772221935, Train: 0.1, Val: 0.099609375\n",
      "Loss: 4.700558309501464, Train: 0.08, Val: 0.1015625\n",
      "Loss: 4.7005576987369695, Train: 0.07, Val: 0.10221354166666667\n",
      "Loss: 4.700557325346124, Train: 0.115, Val: 0.10416666666666667\n",
      "Loss: 4.700556773183338, Train: 0.11, Val: 0.10026041666666667\n",
      "Loss: 4.700556330449467, Train: 0.08, Val: 0.09895833333333333\n",
      "Loss: 4.700555981019905, Train: 0.12, Val: 0.10091145833333333\n",
      "Loss: 4.700555431196642, Train: 0.09, Val: 0.09895833333333333\n",
      "Loss: 4.700555046745214, Train: 0.08, Val: 0.09830729166666667\n",
      "Loss: 4.700554486973047, Train: 0.065, Val: 0.09635416666666667\n",
      "Loss: 4.70055400171912, Train: 0.085, Val: 0.09830729166666667\n",
      "Loss: 4.700553546072225, Train: 0.115, Val: 0.099609375\n",
      "Loss: 4.7005531376987095, Train: 0.075, Val: 0.099609375\n",
      "Loss: 4.7005527139867125, Train: 0.105, Val: 0.09700520833333333\n",
      "Loss: 4.700552386920053, Train: 0.06, Val: 0.095703125\n",
      "Loss: 4.700551903867999, Train: 0.08, Val: 0.09635416666666667\n",
      "Loss: 4.700551368642375, Train: 0.11, Val: 0.09635416666666667\n",
      "Loss: 4.700551108055232, Train: 0.06, Val: 0.09895833333333333\n",
      "Loss: 4.700550603218624, Train: 0.09, Val: 0.09830729166666667\n",
      "Loss: 4.700550108241896, Train: 0.095, Val: 0.09700520833333333\n",
      "Loss: 4.700549758079092, Train: 0.095, Val: 0.09635416666666667\n",
      "Loss: 4.700549287526223, Train: 0.11, Val: 0.09765625\n",
      "Loss: 4.700548953216602, Train: 0.075, Val: 0.09765625\n",
      "Loss: 4.700548625216909, Train: 0.1, Val: 0.09895833333333333\n",
      "Loss: 4.7005481637143465, Train: 0.05, Val: 0.09635416666666667\n",
      "Loss: 4.700547730786254, Train: 0.12, Val: 0.09765625\n",
      "Loss: 4.700547378304999, Train: 0.085, Val: 0.09895833333333333\n",
      "Loss: 4.700546987401019, Train: 0.1, Val: 0.09830729166666667\n",
      "Loss: 4.700546561383385, Train: 0.115, Val: 0.099609375\n",
      "Loss: 4.700546334999352, Train: 0.1, Val: 0.09895833333333333\n",
      "Loss: 4.7005459258161535, Train: 0.05, Val: 0.10091145833333333\n",
      "Loss: 4.700545488762564, Train: 0.1, Val: 0.1015625\n",
      "Loss: 4.700544997798275, Train: 0.135, Val: 0.09830729166666667\n",
      "Loss: 4.700544734774278, Train: 0.11, Val: 0.099609375\n",
      "Loss: 4.700544374977503, Train: 0.095, Val: 0.09895833333333333\n",
      "Loss: 4.700544099428176, Train: 0.1, Val: 0.09700520833333333\n",
      "Loss: 4.700543603413556, Train: 0.105, Val: 0.10091145833333333\n",
      "Loss: 4.700543249552929, Train: 0.12, Val: 0.099609375\n",
      "Loss: 4.7005430596831435, Train: 0.085, Val: 0.103515625\n",
      "Loss: 4.700542573925889, Train: 0.1, Val: 0.10091145833333333\n",
      "Loss: 4.700542278643131, Train: 0.085, Val: 0.10286458333333333\n",
      "Loss: 4.700541951726351, Train: 0.09, Val: 0.1015625\n",
      "Loss: 4.700541627920107, Train: 0.095, Val: 0.10286458333333333\n",
      "Loss: 4.700541328056402, Train: 0.1, Val: 0.10416666666666667\n",
      "Loss: 4.700541025774354, Train: 0.115, Val: 0.10611979166666667\n",
      "Loss: 4.700540744182262, Train: 0.09, Val: 0.10481770833333333\n",
      "Loss: 4.70054042656066, Train: 0.06, Val: 0.10416666666666667\n",
      "Loss: 4.7005400848047785, Train: 0.08, Val: 0.103515625\n",
      "Loss: 4.700539740201477, Train: 0.1, Val: 0.10416666666666667\n",
      "Loss: 4.700539486629555, Train: 0.08, Val: 0.10416666666666667\n",
      "Loss: 4.700539114823082, Train: 0.105, Val: 0.103515625\n",
      "Loss: 4.700538840289433, Train: 0.07, Val: 0.103515625\n",
      "Loss: 4.700538564272168, Train: 0.09, Val: 0.103515625\n",
      "Loss: 4.700538253195987, Train: 0.11, Val: 0.10286458333333333\n",
      "Loss: 4.700537983322588, Train: 0.06, Val: 0.10286458333333333\n",
      "Loss: 4.700537683750639, Train: 0.09, Val: 0.1015625\n"
     ]
    }
   ],
   "source": [
    "input_size = 64 * 64 * 3\n",
    "hidden_size = 110\n",
    "num_classes = 12\n",
    "\n",
    "lr = 2.3107494741916856e-07\n",
    "reg = 0.13708316142103177\n",
    "lr_dec = 0.99\n",
    "\n",
    "model = NN.TwoLayerNet(input_size, hidden_size, num_classes)\n",
    "stats = model.train(X_train, y_train, X_val, y_val,\n",
    "                    num_iterations=4000, batch_size=200,\n",
    "                    learning_rate=lr, learning_rate_decay=lr_dec, reg=reg, verbose=True)"
   ]
  },
  {
   "cell_type": "code",
   "execution_count": 95,
   "metadata": {
    "collapsed": false
   },
   "outputs": [
    {
     "data": {
      "text/plain": [
       "0.089444444444444438"
      ]
     },
     "execution_count": 95,
     "metadata": {},
     "output_type": "execute_result"
    }
   ],
   "source": [
    "(best_net.predict(X_test) == y_test).mean()"
   ]
  },
  {
   "cell_type": "code",
   "execution_count": 87,
   "metadata": {
    "collapsed": false
   },
   "outputs": [
    {
     "data": {
      "image/png": "[encoded data removed]",
      "text/plain": [
       "<matplotlib.figure.Figure at 0x11de9ce10>"
      ]
     },
     "metadata": {},
     "output_type": "display_data"
    }
   ],
   "source": [
    "plt.plot(stats[\"loss_history\"])\n",
    "plt.show()"
   ]
  },
  {
   "cell_type": "code",
   "execution_count": 88,
   "metadata": {
    "collapsed": false
   },
   "outputs": [
    {
     "data": {
      "image/png": "[encoded data removed]",
      "text/plain": [
       "<matplotlib.figure.Figure at 0x117713240>"
      ]
     },
     "metadata": {},
     "output_type": "display_data"
    }
   ],
   "source": [
    "plt.plot(stats[\"train_acc_history\"], color='red')\n",
    "plt.plot(stats[\"val_acc_history\"], color='blue')\n",
    "plt.show()"
   ]
  },
  {
   "cell_type": "code",
   "execution_count": null,
   "metadata": {
    "collapsed": true
   },
   "outputs": [],
   "source": []
  }
 ],
 "metadata": {
  "kernelspec": {
   "display_name": "Python 3",
   "language": "python",
   "name": "python3"
  },
  "language_info": {
   "codemirror_mode": {
    "name": "ipython",
    "version": 3
   },
   "file_extension": ".py",
   "mimetype": "text/x-python",
   "name": "python",
   "nbconvert_exporter": "python",
   "pygments_lexer": "ipython3",
   "version": "3.5.1"
  }
 },
 "nbformat": 4,
 "nbformat_minor": 0
}
