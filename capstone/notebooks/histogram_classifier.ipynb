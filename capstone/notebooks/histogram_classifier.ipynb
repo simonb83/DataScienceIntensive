{
 "cells": [
  {
   "cell_type": "code",
   "execution_count": 3,
   "metadata": {
    "collapsed": false
   },
   "outputs": [],
   "source": [
    "import skimage.io as io\n",
    "from skimage.color import rgb2gray\n",
    "import os\n",
    "import numpy as np\n",
    "import pandas as pd\n",
    "from imp import reload\n",
    "import sys\n",
    "sys.path.append('../')\n",
    "import helpers.image_processing as im\n",
    "import helpers.histogram_classifier as hc"
   ]
  },
  {
   "cell_type": "markdown",
   "metadata": {},
   "source": [
    "##### Histogram classifier\n",
    "\n",
    "- Get the data\n",
    "- Split into test vs. train 75% : 25%\n",
    "- Train the model = create histogram for each class\n",
    "- Test the model by predicting on the test data"
   ]
  },
  {
   "cell_type": "markdown",
   "metadata": {},
   "source": [
    "Get the image classes and names:"
   ]
  },
  {
   "cell_type": "code",
   "execution_count": 4,
   "metadata": {
    "collapsed": false
   },
   "outputs": [],
   "source": [
    "classes = pd.read_csv('../data/food-101/meta/top_classes.csv', index_col=0)\n",
    "class_list = list(classes['class'].unique())\n",
    "\n",
    "image_names = {}\n",
    "for c in class_list:\n",
    "    image_names[c] = np.array(classes[classes['class'] == c]['name'])"
   ]
  },
  {
   "cell_type": "code",
   "execution_count": 23,
   "metadata": {
    "collapsed": false
   },
   "outputs": [],
   "source": [
    "def run_histogram_classifier(class_list, image_names, hist_type):\n",
    "    \"\"\"\n",
    "    Initializes and runs histogram classifier model, and then tests the classification accuracy\n",
    "    :params class_list: list of relevant image classes\n",
    "    :params image_names: dictionary of image names for each class\n",
    "    :params hist_type: name of method for calculating histogram; choices are: (greyscale_histogram, \n",
    "        color_histogram, complete_histogram)\n",
    "    :return: prints out classification accuracy\n",
    "    \"\"\"    \n",
    "    # Split into test and training data\n",
    "    train = {}\n",
    "    test = {}\n",
    "    for k, v in image_names.items():\n",
    "        np.random.shuffle(v)\n",
    "        train[k] = v[:750]\n",
    "        test[k] = v[750:]\n",
    "    \n",
    "    # Create the model\n",
    "    model = {}\n",
    "    for c in class_list:\n",
    "        mean_image = im.mean_image(train[c], (512, 512, 3), os.path.join('../data/food-101/top_classes/', c, ''))\n",
    "        if hist_type == 'Greyscale':\n",
    "            mean_hist, mean_bins = hc.greyscale_histogram(mean_image)\n",
    "        elif hist_type == 'RGB':\n",
    "            mean_hist = hc.color_histogram(mean_image)\n",
    "        elif hist_type == 'Complete':\n",
    "            mean_hist = hc.complete_histogram(mean_image)\n",
    "        model[c] = mean_hist\n",
    "    \n",
    "    # Evaluate the model\n",
    "    for metric in [\"intersection\", \"l1_norm\", \"euclid\"]:\n",
    "        actual_classes = []\n",
    "        predicted_classes = []\n",
    "        for c in class_list:\n",
    "            for i in test[c]:\n",
    "                img = io.imread(os.path.join('../data/food-101/top_classes/', c, '', i))\n",
    "                if hist_type == 'Greyscale':\n",
    "                    img_hist, img_bins = hc.greyscale_histogram(img)\n",
    "                elif hist_type == 'RGB':\n",
    "                    img_hist = hc.color_histogram(img)\n",
    "                elif hist_type == 'Complete':\n",
    "                    img_hist = hc.complete_histogram(img)\n",
    "\n",
    "                prediction = hc.classify(img_hist, model, metric)\n",
    "                actual_classes.append(c)\n",
    "                predicted_classes.append(prediction)\n",
    "\n",
    "        actual = np.array(actual_classes)\n",
    "        predicted = np.array(predicted_classes)\n",
    "        classification_rate = sum(actual == predicted) / len(predicted)\n",
    "\n",
    "        print(\"Using {} histogram and {} metric, classification rate is {:.2f}%\".format(hist_type, metric, classification_rate*100))"
   ]
  },
  {
   "cell_type": "markdown",
   "metadata": {
    "collapsed": true
   },
   "source": [
    "***Version 1 - Greyscale***"
   ]
  },
  {
   "cell_type": "code",
   "execution_count": 24,
   "metadata": {
    "collapsed": false
   },
   "outputs": [
    {
     "name": "stdout",
     "output_type": "stream",
     "text": [
      "Using Greyscale histogram and intersection metric, classification rate is 10.27%\n",
      "Using Greyscale histogram and l1_norm metric, classification rate is 10.27%\n",
      "Using Greyscale histogram and euclid metric, classification rate is 9.37%\n"
     ]
    }
   ],
   "source": [
    "run_histogram_classifier(class_list, image_names, 'Greyscale')"
   ]
  },
  {
   "cell_type": "markdown",
   "metadata": {},
   "source": [
    "***Version 2 - RGB***"
   ]
  },
  {
   "cell_type": "code",
   "execution_count": 25,
   "metadata": {
    "collapsed": false
   },
   "outputs": [
    {
     "name": "stdout",
     "output_type": "stream",
     "text": [
      "Using RGB histogram and intersection metric, classification rate is 10.50%\n",
      "Using RGB histogram and l1_norm metric, classification rate is 10.50%\n",
      "Using RGB histogram and euclid metric, classification rate is 9.93%\n"
     ]
    }
   ],
   "source": [
    "run_histogram_classifier(class_list, image_names, 'RGB')"
   ]
  },
  {
   "cell_type": "markdown",
   "metadata": {},
   "source": [
    "***Version 3 - RGB + Greyscale***"
   ]
  },
  {
   "cell_type": "code",
   "execution_count": 26,
   "metadata": {
    "collapsed": false
   },
   "outputs": [
    {
     "name": "stdout",
     "output_type": "stream",
     "text": [
      "Using Complete histogram and intersection metric, classification rate is 9.90%\n",
      "Using Complete histogram and l1_norm metric, classification rate is 9.90%\n",
      "Using Complete histogram and euclid metric, classification rate is 9.13%\n"
     ]
    }
   ],
   "source": [
    "run_histogram_classifier(class_list, image_names, 'Complete')"
   ]
  },
  {
   "cell_type": "code",
   "execution_count": null,
   "metadata": {
    "collapsed": true
   },
   "outputs": [],
   "source": []
  }
 ],
 "metadata": {
  "kernelspec": {
   "display_name": "Python 3",
   "language": "python",
   "name": "python3"
  },
  "language_info": {
   "codemirror_mode": {
    "name": "ipython",
    "version": 3
   },
   "file_extension": ".py",
   "mimetype": "text/x-python",
   "name": "python",
   "nbconvert_exporter": "python",
   "pygments_lexer": "ipython3",
   "version": "3.5.1"
  }
 },
 "nbformat": 4,
 "nbformat_minor": 0
}
