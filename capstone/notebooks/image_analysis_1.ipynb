{
 "cells": [
  {
   "cell_type": "code",
   "execution_count": 1,
   "metadata": {
    "collapsed": true
   },
   "outputs": [],
   "source": [
    "%matplotlib inline\n",
    "import pandas as pd\n",
    "from pandas.io.json import json_normalize\n",
    "import matplotlib.pyplot as plt\n",
    "import seaborn as sns\n",
    "import re\n",
    "import numpy as np\n",
    "import skimage.io as io\n",
    "import skimage.exposure as exposure\n",
    "from skimage.exposure import equalize_hist\n",
    "from skimage.color import rgb2gray"
   ]
  },
  {
   "cell_type": "code",
   "execution_count": 2,
   "metadata": {
    "collapsed": false
   },
   "outputs": [],
   "source": [
    "labels = []\n",
    "with open('../data/menu_match_dataset/labels.txt') as f:\n",
    "    content = f.read()\n",
    "for l in content.splitlines():\n",
    "    split_line = l.split(';')\n",
    "    name = split_line[0]\n",
    "    lab = split_line[1:]\n",
    "    lab.remove('')\n",
    "    d = {'image_name': name}\n",
    "    for i in range(len(lab)):\n",
    "        d[\"label_\" + str(i + 1)] = lab[i]\n",
    "    d[\"num_labels\"] = len(lab)\n",
    "    labels.append(d)"
   ]
  },
  {
   "cell_type": "code",
   "execution_count": 3,
   "metadata": {
    "collapsed": false
   },
   "outputs": [],
   "source": [
    "df = json_normalize(labels)"
   ]
  },
  {
   "cell_type": "code",
   "execution_count": 4,
   "metadata": {
    "collapsed": false
   },
   "outputs": [
    {
     "data": {
      "text/plain": [
       "646"
      ]
     },
     "execution_count": 4,
     "metadata": {},
     "output_type": "execute_result"
    }
   ],
   "source": [
    "len(df)"
   ]
  },
  {
   "cell_type": "code",
   "execution_count": 5,
   "metadata": {
    "collapsed": false
   },
   "outputs": [
    {
     "name": "stdout",
     "output_type": "stream",
     "text": [
      "Max number of labels: 4\n"
     ]
    }
   ],
   "source": [
    "# Maximum number of labels\n",
    "print(\"Max number of labels: {}\".format(max(df['num_labels'])))"
   ]
  },
  {
   "cell_type": "code",
   "execution_count": 6,
   "metadata": {
    "collapsed": false
   },
   "outputs": [
    {
     "data": {
      "text/html": [
       "<div>\n",
       "<table border=\"1\" class=\"dataframe\">\n",
       "  <thead>\n",
       "    <tr style=\"text-align: right;\">\n",
       "      <th></th>\n",
       "      <th>image_name</th>\n",
       "      <th>label_1</th>\n",
       "      <th>label_2</th>\n",
       "      <th>label_3</th>\n",
       "      <th>label_4</th>\n",
       "      <th>num_labels</th>\n",
       "    </tr>\n",
       "  </thead>\n",
       "  <tbody>\n",
       "    <tr>\n",
       "      <th>0</th>\n",
       "      <td>img1.jpg</td>\n",
       "      <td>pineapple_pizza</td>\n",
       "      <td>NaN</td>\n",
       "      <td>NaN</td>\n",
       "      <td>NaN</td>\n",
       "      <td>1</td>\n",
       "    </tr>\n",
       "  </tbody>\n",
       "</table>\n",
       "</div>"
      ],
      "text/plain": [
       "  image_name           label_1 label_2 label_3 label_4  num_labels\n",
       "0   img1.jpg   pineapple_pizza     NaN     NaN     NaN           1"
      ]
     },
     "execution_count": 6,
     "metadata": {},
     "output_type": "execute_result"
    }
   ],
   "source": [
    "df.head(1)"
   ]
  },
  {
   "cell_type": "code",
   "execution_count": 7,
   "metadata": {
    "collapsed": true
   },
   "outputs": [],
   "source": [
    "unique_categories = pd.unique(df[['label_1', 'label_2', 'label_3', 'label_4']].values.ravel())"
   ]
  },
  {
   "cell_type": "code",
   "execution_count": 10,
   "metadata": {
    "collapsed": false
   },
   "outputs": [
    {
     "data": {
      "text/plain": [
       "array([' pineapple_pizza', nan, ' ginger_chicken', ' jasmine_rice',\n",
       "       ' mapo_tofu', ' brown_rice', ' panang_curry_chicken',\n",
       "       ' vegetable_spring_roll', ' orange_chicken', ' cashew_chicken',\n",
       "       ' stirfry_beef', ' spicy_string_beans',\n",
       "       ' spinach_red_curry_with_tofu', ' sweet_and_sour_vegetables',\n",
       "       ' spicy_chicken_with_basil', ' stir-fry_garlic_soba_noodles',\n",
       "       ' ciabatta', ' lobster_bisque_soup', ' potato_bread',\n",
       "       ' whole_wheat_bread', ' olivera_bread', ' corn_bread',\n",
       "       ' chicken_coconut_curry', ' classic_chili',\n",
       "       ' cream_of_chicken_soup', ' vegetarian_lentils_soup',\n",
       "       ' creamy_tomato_basil_soup', ' market_vegetables_soup',\n",
       "       ' creamy_mushroom_soup', ' brocolli_cheddar_soup',\n",
       "       ' chicken_noodle_soup', ' combo_supreme', ' cheese_pizza',\n",
       "       ' bread_sticks', ' vegetarian_pizza', ' chicken_alfredo',\n",
       "       ' pepperoni_pizza', ' meat_lasagna', ' yellow_curry_with_chicken',\n",
       "       ' side_salad', ' vegetarian_lasagna', ' meatlovers_pizza'], dtype=object)"
      ]
     },
     "execution_count": 10,
     "metadata": {},
     "output_type": "execute_result"
    }
   ],
   "source": [
    "unique_categories"
   ]
  },
  {
   "cell_type": "code",
   "execution_count": 11,
   "metadata": {
    "collapsed": false
   },
   "outputs": [
    {
     "data": {
      "image/png": "[encoded data removed]",
      "text/plain": [
       "<matplotlib.figure.Figure at 0x116fb7240>"
      ]
     },
     "metadata": {},
     "output_type": "display_data"
    }
   ],
   "source": [
    "# Histogram of labels\n",
    "sns.distplot(df['num_labels'], kde=False, bins=4);"
   ]
  },
  {
   "cell_type": "code",
   "execution_count": 12,
   "metadata": {
    "collapsed": false
   },
   "outputs": [
    {
     "data": {
      "text/plain": [
       "label_1\n",
       " brown_rice         172\n",
       " jasmine_rice       130\n",
       " cheese_pizza        43\n",
       " bread_sticks        34\n",
       " pineapple_pizza     32\n",
       "dtype: int64"
      ]
     },
     "execution_count": 12,
     "metadata": {},
     "output_type": "execute_result"
    }
   ],
   "source": [
    "df.groupby('label_1').size().sort_values(ascending=False).head(5)"
   ]
  },
  {
   "cell_type": "code",
   "execution_count": 13,
   "metadata": {
    "collapsed": false
   },
   "outputs": [
    {
     "data": {
      "text/plain": [
       "label_2\n",
       " panang_curry_chicken    114\n",
       " orange_chicken           57\n",
       " pepperoni_pizza          34\n",
       " potato_bread             32\n",
       " jasmine_rice             31\n",
       "dtype: int64"
      ]
     },
     "execution_count": 13,
     "metadata": {},
     "output_type": "execute_result"
    }
   ],
   "source": [
    "df.groupby('label_2').size().sort_values(ascending=False).head(5)"
   ]
  },
  {
   "cell_type": "code",
   "execution_count": 14,
   "metadata": {
    "collapsed": false
   },
   "outputs": [
    {
     "data": {
      "text/plain": [
       "label_3\n",
       " spicy_string_beans           41\n",
       " panang_curry_chicken         36\n",
       " yellow_curry_with_chicken    21\n",
       " stirfry_beef                 21\n",
       " vegetable_spring_roll        18\n",
       "dtype: int64"
      ]
     },
     "execution_count": 14,
     "metadata": {},
     "output_type": "execute_result"
    }
   ],
   "source": [
    "df.groupby('label_3').size().sort_values(ascending=False).head(5)"
   ]
  },
  {
   "cell_type": "code",
   "execution_count": 15,
   "metadata": {
    "collapsed": false
   },
   "outputs": [
    {
     "data": {
      "text/plain": [
       "label_4\n",
       " vegetable_spring_roll          7\n",
       " yellow_curry_with_chicken      1\n",
       " stirfry_beef                   1\n",
       " spinach_red_curry_with_tofu    1\n",
       "dtype: int64"
      ]
     },
     "execution_count": 15,
     "metadata": {},
     "output_type": "execute_result"
    }
   ],
   "source": [
    "df.groupby('label_4').size().sort_values(ascending=False).head(5)"
   ]
  },
  {
   "cell_type": "code",
   "execution_count": 16,
   "metadata": {
    "collapsed": false
   },
   "outputs": [],
   "source": [
    "all_labels = df[['image_name','label_1']].rename_axis({\"image_name\": \"image_name\", \"label_1\": \"label\"}, axis=\"columns\")\n",
    "all_labels = all_labels.append(df[['image_name','label_2']].rename_axis({\"image_name\": \"image_name\", \"label_2\": \"label\"}, axis=\"columns\"))\n",
    "all_labels = all_labels.append(df[['image_name','label_3']].rename_axis({\"image_name\": \"image_name\", \"label_3\": \"label\"}, axis=\"columns\"))\n",
    "all_labels = all_labels.append(df[['image_name','label_4']].rename_axis({\"image_name\": \"image_name\", \"label_4\": \"label\"}, axis=\"columns\"))"
   ]
  },
  {
   "cell_type": "code",
   "execution_count": 17,
   "metadata": {
    "collapsed": false
   },
   "outputs": [
    {
     "name": "stdout",
     "output_type": "stream",
     "text": [
      "In total there are 2,584 labelled items\n"
     ]
    }
   ],
   "source": [
    "print(\"In total there are {:,} labelled items\".format(len(all_labels)))"
   ]
  },
  {
   "cell_type": "code",
   "execution_count": 18,
   "metadata": {
    "collapsed": false
   },
   "outputs": [
    {
     "data": {
      "image/png": "[encoded data removed]",
      "text/plain": [
       "<matplotlib.figure.Figure at 0x1170451d0>"
      ]
     },
     "metadata": {},
     "output_type": "display_data"
    }
   ],
   "source": [
    "# Look at all labels\n",
    "all_labels.groupby('label').size().sort_values(ascending=False).plot(kind='bar', figsize=(15,5));"
   ]
  },
  {
   "cell_type": "code",
   "execution_count": 19,
   "metadata": {
    "collapsed": false
   },
   "outputs": [],
   "source": [
    "df = df.fillna('')"
   ]
  },
  {
   "cell_type": "code",
   "execution_count": 20,
   "metadata": {
    "collapsed": false
   },
   "outputs": [],
   "source": [
    "# Chicken, pizza, rice, soup, bread (including ciabatta, lasagne, salad)\n",
    "def is_type(t,l):\n",
    "    \"\"\"\n",
    "    Searches for string in list of strings\n",
    "    t: string to search for (in this case type of food)\n",
    "    l: list of strings (in this case list of different labels)\n",
    "    returns: 1 if string is present in at least one memeber of list, otherwise 0\n",
    "    \"\"\"\n",
    "    for i in (range(len(l))):\n",
    "        if re.search(t, l[i]):\n",
    "            return 1\n",
    "    return 0\n",
    "\n",
    "def is_bread(l):\n",
    "    \"\"\"\n",
    "    Confirms if a set of labels contains bread, which can be represented in different ways\n",
    "    l: list of labels\n",
    "    return: 1 if bread present, otherwise 0\n",
    "    \"\"\"\n",
    "    for i in (range(len(l))):\n",
    "        if re.search(r'bread|ciabatta', l[i]):\n",
    "            return 1\n",
    "    return 0"
   ]
  },
  {
   "cell_type": "code",
   "execution_count": 21,
   "metadata": {
    "collapsed": false
   },
   "outputs": [],
   "source": [
    "df['pizza'] = df[['label_1', 'label_2', 'label_3', 'label_4']].apply(lambda row: is_type('pizza',row), axis=1)\n",
    "df['chicken'] = df[['label_1', 'label_2', 'label_3', 'label_4']].apply(lambda row: is_type('chicken',row), axis=1)\n",
    "df['rice'] = df[['label_1', 'label_2', 'label_3', 'label_4']].apply(lambda row: is_type('rice',row), axis=1)\n",
    "df['soup'] = df[['label_1', 'label_2', 'label_3', 'label_4']].apply(lambda row: is_type('soup',row), axis=1)\n",
    "df['lasagne'] = df[['label_1', 'label_2', 'label_3', 'label_4']].apply(lambda row: is_type('lasagne',row), axis=1)\n",
    "df['salad'] = df[['label_1', 'label_2', 'label_3', 'label_4']].apply(lambda row: is_type('salad',row), axis=1)\n",
    "df['bread'] = df[['label_1', 'label_2', 'label_3', 'label_4']].apply(lambda row: is_bread(row), axis=1)"
   ]
  },
  {
   "cell_type": "code",
   "execution_count": 22,
   "metadata": {
    "collapsed": true
   },
   "outputs": [],
   "source": [
    "#Distribution of image sizes\n",
    "images = []\n",
    "for i in df['image_name']:\n",
    "    images.append([i, io.imread('../data/menu_match_dataset/foodimages/' + i)])"
   ]
  },
  {
   "cell_type": "code",
   "execution_count": 23,
   "metadata": {
    "collapsed": false
   },
   "outputs": [],
   "source": [
    "sizes = []\n",
    "for im in images:\n",
    "    sizes.append({'image_name': im[0], 'image_shape': im[1].shape, 'data_type': im[1].dtype})"
   ]
  },
  {
   "cell_type": "code",
   "execution_count": 24,
   "metadata": {
    "collapsed": false,
    "scrolled": true
   },
   "outputs": [],
   "source": [
    "df = df.merge(pd.DataFrame.from_dict(sizes))"
   ]
  },
  {
   "cell_type": "code",
   "execution_count": 25,
   "metadata": {
    "collapsed": false
   },
   "outputs": [
    {
     "data": {
      "text/html": [
       "<div>\n",
       "<table border=\"1\" class=\"dataframe\">\n",
       "  <thead>\n",
       "    <tr style=\"text-align: right;\">\n",
       "      <th></th>\n",
       "      <th>image_name</th>\n",
       "      <th>label_1</th>\n",
       "      <th>label_2</th>\n",
       "      <th>label_3</th>\n",
       "      <th>label_4</th>\n",
       "      <th>num_labels</th>\n",
       "      <th>pizza</th>\n",
       "      <th>chicken</th>\n",
       "      <th>rice</th>\n",
       "      <th>soup</th>\n",
       "      <th>lasagne</th>\n",
       "      <th>salad</th>\n",
       "      <th>bread</th>\n",
       "      <th>data_type</th>\n",
       "      <th>image_shape</th>\n",
       "    </tr>\n",
       "  </thead>\n",
       "  <tbody>\n",
       "    <tr>\n",
       "      <th>0</th>\n",
       "      <td>img1.jpg</td>\n",
       "      <td>pineapple_pizza</td>\n",
       "      <td></td>\n",
       "      <td></td>\n",
       "      <td></td>\n",
       "      <td>1</td>\n",
       "      <td>1</td>\n",
       "      <td>0</td>\n",
       "      <td>0</td>\n",
       "      <td>0</td>\n",
       "      <td>0</td>\n",
       "      <td>0</td>\n",
       "      <td>0</td>\n",
       "      <td>uint8</td>\n",
       "      <td>(1000, 1776, 3)</td>\n",
       "    </tr>\n",
       "  </tbody>\n",
       "</table>\n",
       "</div>"
      ],
      "text/plain": [
       "  image_name           label_1 label_2 label_3 label_4  num_labels  pizza  \\\n",
       "0   img1.jpg   pineapple_pizza                                   1      1   \n",
       "\n",
       "   chicken  rice  soup  lasagne  salad  bread data_type      image_shape  \n",
       "0        0     0     0        0      0      0     uint8  (1000, 1776, 3)  "
      ]
     },
     "execution_count": 25,
     "metadata": {},
     "output_type": "execute_result"
    }
   ],
   "source": [
    "df.head(1)"
   ]
  },
  {
   "cell_type": "code",
   "execution_count": 34,
   "metadata": {
    "collapsed": true
   },
   "outputs": [],
   "source": [
    "def rotate_shape(shape):\n",
    "    if shape[1] > shape[0]:\n",
    "        new_shape = (shape[1], shape[0], shape[2])\n",
    "        return new_shape\n",
    "    else:\n",
    "        return shape"
   ]
  },
  {
   "cell_type": "code",
   "execution_count": 35,
   "metadata": {
    "collapsed": false
   },
   "outputs": [],
   "source": [
    "df['rotated_shape'] = df['image_shape'].apply(rotate_shape)"
   ]
  },
  {
   "cell_type": "code",
   "execution_count": 36,
   "metadata": {
    "collapsed": false
   },
   "outputs": [
    {
     "data": {
      "text/html": [
       "<div>\n",
       "<table border=\"1\" class=\"dataframe\">\n",
       "  <thead>\n",
       "    <tr style=\"text-align: right;\">\n",
       "      <th></th>\n",
       "      <th>image_name</th>\n",
       "      <th>label_1</th>\n",
       "      <th>label_2</th>\n",
       "      <th>label_3</th>\n",
       "      <th>label_4</th>\n",
       "      <th>num_labels</th>\n",
       "      <th>pizza</th>\n",
       "      <th>chicken</th>\n",
       "      <th>rice</th>\n",
       "      <th>soup</th>\n",
       "      <th>lasagne</th>\n",
       "      <th>salad</th>\n",
       "      <th>bread</th>\n",
       "      <th>data_type</th>\n",
       "      <th>image_shape</th>\n",
       "      <th>rotated_shape</th>\n",
       "    </tr>\n",
       "  </thead>\n",
       "  <tbody>\n",
       "    <tr>\n",
       "      <th>0</th>\n",
       "      <td>img1.jpg</td>\n",
       "      <td>pineapple_pizza</td>\n",
       "      <td></td>\n",
       "      <td></td>\n",
       "      <td></td>\n",
       "      <td>1</td>\n",
       "      <td>1</td>\n",
       "      <td>0</td>\n",
       "      <td>0</td>\n",
       "      <td>0</td>\n",
       "      <td>0</td>\n",
       "      <td>0</td>\n",
       "      <td>0</td>\n",
       "      <td>uint8</td>\n",
       "      <td>(1000, 1776, 3)</td>\n",
       "      <td>(1776, 1000, 3)</td>\n",
       "    </tr>\n",
       "    <tr>\n",
       "      <th>1</th>\n",
       "      <td>img2.jpg</td>\n",
       "      <td>ginger_chicken</td>\n",
       "      <td>jasmine_rice</td>\n",
       "      <td>mapo_tofu</td>\n",
       "      <td></td>\n",
       "      <td>3</td>\n",
       "      <td>0</td>\n",
       "      <td>1</td>\n",
       "      <td>1</td>\n",
       "      <td>0</td>\n",
       "      <td>0</td>\n",
       "      <td>0</td>\n",
       "      <td>0</td>\n",
       "      <td>uint8</td>\n",
       "      <td>(1000, 1776, 3)</td>\n",
       "      <td>(1776, 1000, 3)</td>\n",
       "    </tr>\n",
       "    <tr>\n",
       "      <th>2</th>\n",
       "      <td>img3.jpg</td>\n",
       "      <td>brown_rice</td>\n",
       "      <td>panang_curry_chicken</td>\n",
       "      <td>vegetable_spring_roll</td>\n",
       "      <td></td>\n",
       "      <td>3</td>\n",
       "      <td>0</td>\n",
       "      <td>1</td>\n",
       "      <td>1</td>\n",
       "      <td>0</td>\n",
       "      <td>0</td>\n",
       "      <td>0</td>\n",
       "      <td>0</td>\n",
       "      <td>uint8</td>\n",
       "      <td>(1632, 1224, 3)</td>\n",
       "      <td>(1632, 1224, 3)</td>\n",
       "    </tr>\n",
       "    <tr>\n",
       "      <th>3</th>\n",
       "      <td>img4.jpg</td>\n",
       "      <td>jasmine_rice</td>\n",
       "      <td>orange_chicken</td>\n",
       "      <td></td>\n",
       "      <td></td>\n",
       "      <td>2</td>\n",
       "      <td>0</td>\n",
       "      <td>1</td>\n",
       "      <td>1</td>\n",
       "      <td>0</td>\n",
       "      <td>0</td>\n",
       "      <td>0</td>\n",
       "      <td>0</td>\n",
       "      <td>uint8</td>\n",
       "      <td>(1632, 1224, 3)</td>\n",
       "      <td>(1632, 1224, 3)</td>\n",
       "    </tr>\n",
       "    <tr>\n",
       "      <th>4</th>\n",
       "      <td>img5.jpg</td>\n",
       "      <td>jasmine_rice</td>\n",
       "      <td>orange_chicken</td>\n",
       "      <td>panang_curry_chicken</td>\n",
       "      <td></td>\n",
       "      <td>3</td>\n",
       "      <td>0</td>\n",
       "      <td>1</td>\n",
       "      <td>1</td>\n",
       "      <td>0</td>\n",
       "      <td>0</td>\n",
       "      <td>0</td>\n",
       "      <td>0</td>\n",
       "      <td>uint8</td>\n",
       "      <td>(1632, 1224, 3)</td>\n",
       "      <td>(1632, 1224, 3)</td>\n",
       "    </tr>\n",
       "    <tr>\n",
       "      <th>5</th>\n",
       "      <td>img6.jpg</td>\n",
       "      <td>jasmine_rice</td>\n",
       "      <td>mapo_tofu</td>\n",
       "      <td>panang_curry_chicken</td>\n",
       "      <td></td>\n",
       "      <td>3</td>\n",
       "      <td>0</td>\n",
       "      <td>1</td>\n",
       "      <td>1</td>\n",
       "      <td>0</td>\n",
       "      <td>0</td>\n",
       "      <td>0</td>\n",
       "      <td>0</td>\n",
       "      <td>uint8</td>\n",
       "      <td>(1632, 1224, 3)</td>\n",
       "      <td>(1632, 1224, 3)</td>\n",
       "    </tr>\n",
       "    <tr>\n",
       "      <th>6</th>\n",
       "      <td>img7.jpg</td>\n",
       "      <td>cashew_chicken</td>\n",
       "      <td>jasmine_rice</td>\n",
       "      <td>orange_chicken</td>\n",
       "      <td></td>\n",
       "      <td>3</td>\n",
       "      <td>0</td>\n",
       "      <td>1</td>\n",
       "      <td>1</td>\n",
       "      <td>0</td>\n",
       "      <td>0</td>\n",
       "      <td>0</td>\n",
       "      <td>0</td>\n",
       "      <td>uint8</td>\n",
       "      <td>(1632, 1224, 3)</td>\n",
       "      <td>(1632, 1224, 3)</td>\n",
       "    </tr>\n",
       "    <tr>\n",
       "      <th>7</th>\n",
       "      <td>img8.jpg</td>\n",
       "      <td>cashew_chicken</td>\n",
       "      <td>jasmine_rice</td>\n",
       "      <td>panang_curry_chicken</td>\n",
       "      <td></td>\n",
       "      <td>3</td>\n",
       "      <td>0</td>\n",
       "      <td>1</td>\n",
       "      <td>1</td>\n",
       "      <td>0</td>\n",
       "      <td>0</td>\n",
       "      <td>0</td>\n",
       "      <td>0</td>\n",
       "      <td>uint8</td>\n",
       "      <td>(1632, 1224, 3)</td>\n",
       "      <td>(1632, 1224, 3)</td>\n",
       "    </tr>\n",
       "    <tr>\n",
       "      <th>8</th>\n",
       "      <td>img9.jpg</td>\n",
       "      <td>brown_rice</td>\n",
       "      <td>panang_curry_chicken</td>\n",
       "      <td>stirfry_beef</td>\n",
       "      <td></td>\n",
       "      <td>3</td>\n",
       "      <td>0</td>\n",
       "      <td>1</td>\n",
       "      <td>1</td>\n",
       "      <td>0</td>\n",
       "      <td>0</td>\n",
       "      <td>0</td>\n",
       "      <td>0</td>\n",
       "      <td>uint8</td>\n",
       "      <td>(1632, 1224, 3)</td>\n",
       "      <td>(1632, 1224, 3)</td>\n",
       "    </tr>\n",
       "    <tr>\n",
       "      <th>9</th>\n",
       "      <td>img10.jpg</td>\n",
       "      <td>brown_rice</td>\n",
       "      <td>orange_chicken</td>\n",
       "      <td>stirfry_beef</td>\n",
       "      <td></td>\n",
       "      <td>3</td>\n",
       "      <td>0</td>\n",
       "      <td>1</td>\n",
       "      <td>1</td>\n",
       "      <td>0</td>\n",
       "      <td>0</td>\n",
       "      <td>0</td>\n",
       "      <td>0</td>\n",
       "      <td>uint8</td>\n",
       "      <td>(1632, 1224, 3)</td>\n",
       "      <td>(1632, 1224, 3)</td>\n",
       "    </tr>\n",
       "  </tbody>\n",
       "</table>\n",
       "</div>"
      ],
      "text/plain": [
       "  image_name           label_1                label_2                 label_3  \\\n",
       "0   img1.jpg   pineapple_pizza                                                  \n",
       "1   img2.jpg    ginger_chicken           jasmine_rice               mapo_tofu   \n",
       "2   img3.jpg        brown_rice   panang_curry_chicken   vegetable_spring_roll   \n",
       "3   img4.jpg      jasmine_rice         orange_chicken                           \n",
       "4   img5.jpg      jasmine_rice         orange_chicken    panang_curry_chicken   \n",
       "5   img6.jpg      jasmine_rice              mapo_tofu    panang_curry_chicken   \n",
       "6   img7.jpg    cashew_chicken           jasmine_rice          orange_chicken   \n",
       "7   img8.jpg    cashew_chicken           jasmine_rice    panang_curry_chicken   \n",
       "8   img9.jpg        brown_rice   panang_curry_chicken            stirfry_beef   \n",
       "9  img10.jpg        brown_rice         orange_chicken            stirfry_beef   \n",
       "\n",
       "  label_4  num_labels  pizza  chicken  rice  soup  lasagne  salad  bread  \\\n",
       "0                   1      1        0     0     0        0      0      0   \n",
       "1                   3      0        1     1     0        0      0      0   \n",
       "2                   3      0        1     1     0        0      0      0   \n",
       "3                   2      0        1     1     0        0      0      0   \n",
       "4                   3      0        1     1     0        0      0      0   \n",
       "5                   3      0        1     1     0        0      0      0   \n",
       "6                   3      0        1     1     0        0      0      0   \n",
       "7                   3      0        1     1     0        0      0      0   \n",
       "8                   3      0        1     1     0        0      0      0   \n",
       "9                   3      0        1     1     0        0      0      0   \n",
       "\n",
       "  data_type      image_shape    rotated_shape  \n",
       "0     uint8  (1000, 1776, 3)  (1776, 1000, 3)  \n",
       "1     uint8  (1000, 1776, 3)  (1776, 1000, 3)  \n",
       "2     uint8  (1632, 1224, 3)  (1632, 1224, 3)  \n",
       "3     uint8  (1632, 1224, 3)  (1632, 1224, 3)  \n",
       "4     uint8  (1632, 1224, 3)  (1632, 1224, 3)  \n",
       "5     uint8  (1632, 1224, 3)  (1632, 1224, 3)  \n",
       "6     uint8  (1632, 1224, 3)  (1632, 1224, 3)  \n",
       "7     uint8  (1632, 1224, 3)  (1632, 1224, 3)  \n",
       "8     uint8  (1632, 1224, 3)  (1632, 1224, 3)  \n",
       "9     uint8  (1632, 1224, 3)  (1632, 1224, 3)  "
      ]
     },
     "execution_count": 36,
     "metadata": {},
     "output_type": "execute_result"
    }
   ],
   "source": [
    "df.head(10)"
   ]
  },
  {
   "cell_type": "code",
   "execution_count": 38,
   "metadata": {
    "collapsed": false
   },
   "outputs": [
    {
     "data": {
      "text/plain": [
       "44"
      ]
     },
     "execution_count": 38,
     "metadata": {},
     "output_type": "execute_result"
    }
   ],
   "source": [
    "sizes = df['rotated_shape'].unique()\n",
    "len(sizes)"
   ]
  },
  {
   "cell_type": "code",
   "execution_count": 39,
   "metadata": {
    "collapsed": false
   },
   "outputs": [
    {
     "data": {
      "text/plain": [
       "image_shape\n",
       "(1000, 1776, 3)    145\n",
       "(1632, 1224, 3)    121\n",
       "(1500, 2000, 3)    115\n",
       "(1224, 1632, 3)     67\n",
       "(1776, 1000, 3)     48\n",
       "(864, 1536, 3)      31\n",
       "(1632, 920, 3)      27\n",
       "(1296, 968, 3)      18\n",
       "(1536, 864, 3)      12\n",
       "(920, 1632, 3)      12\n",
       "(968, 1296, 3)      11\n",
       "(600, 991, 3)        2\n",
       "(683, 998, 3)        1\n",
       "(678, 994, 3)        1\n",
       "(721, 994, 3)        1\n",
       "(696, 996, 3)        1\n",
       "(640, 987, 3)        1\n",
       "(721, 996, 3)        1\n",
       "(674, 991, 3)        1\n",
       "(629, 978, 3)        1\n",
       "(638, 998, 3)        1\n",
       "(638, 971, 3)        1\n",
       "(633, 996, 3)        1\n",
       "(766, 987, 3)        1\n",
       "(625, 985, 3)        1\n",
       "(620, 978, 3)        1\n",
       "(613, 985, 3)        1\n",
       "(586, 994, 3)        1\n",
       "(753, 989, 3)        1\n",
       "(831, 980, 3)        1\n",
       "(768, 976, 3)        1\n",
       "(928, 991, 3)        1\n",
       "(1186, 996, 3)       1\n",
       "(1029, 976, 3)       1\n",
       "(1011, 978, 3)       1\n",
       "(992, 825, 3)        1\n",
       "(955, 985, 3)        1\n",
       "(950, 973, 3)        1\n",
       "(940, 973, 3)        1\n",
       "(917, 996, 3)        1\n",
       "(786, 985, 3)        1\n",
       "(914, 991, 3)        1\n",
       "(905, 976, 3)        1\n",
       "(842, 969, 3)        1\n",
       "(838, 980, 3)        1\n",
       "(818, 982, 3)        1\n",
       "(804, 987, 3)        1\n",
       "(793, 1000, 3)       1\n",
       "(517, 994, 3)        1\n",
       "dtype: int64"
      ]
     },
     "execution_count": 39,
     "metadata": {},
     "output_type": "execute_result"
    }
   ],
   "source": [
    "df.groupby('image_shape').size().sort_values(ascending=False)"
   ]
  },
  {
   "cell_type": "code",
   "execution_count": 40,
   "metadata": {
    "collapsed": false
   },
   "outputs": [],
   "source": [
    "df['X'] = df['image_shape'].apply(lambda x: x[0])\n",
    "df['Y'] = df['image_shape'].apply(lambda x: x[1])"
   ]
  },
  {
   "cell_type": "code",
   "execution_count": 41,
   "metadata": {
    "collapsed": false
   },
   "outputs": [
    {
     "data": {
      "image/png": "[encoded data removed]",
      "text/plain": [
       "<matplotlib.figure.Figure at 0x117910160>"
      ]
     },
     "metadata": {},
     "output_type": "display_data"
    },
    {
     "data": {
      "image/png": "[encoded data removed]",
      "text/plain": [
       "<matplotlib.figure.Figure at 0x1179c0048>"
      ]
     },
     "metadata": {},
     "output_type": "display_data"
    }
   ],
   "source": [
    "#X Values\n",
    "ax = sns.distplot(df['X'], kde=False)\n",
    "ax.set_title(\"Histogram of X Values in Shape\", weight=\"bold\")\n",
    "plt.show()\n",
    "\n",
    "#Y Values\n",
    "ax = sns.distplot(df['Y'], kde=False)\n",
    "ax.set_title(\"Histogram of Y Values in Shape\", weight=\"bold\")\n",
    "plt.show()"
   ]
  },
  {
   "cell_type": "code",
   "execution_count": 42,
   "metadata": {
    "collapsed": false
   },
   "outputs": [
    {
     "data": {
      "text/plain": [
       "data_type\n",
       "uint8    646\n",
       "dtype: int64"
      ]
     },
     "execution_count": 42,
     "metadata": {},
     "output_type": "execute_result"
    }
   ],
   "source": [
    "df.groupby('data_type').size()"
   ]
  },
  {
   "cell_type": "code",
   "execution_count": 43,
   "metadata": {
    "collapsed": true
   },
   "outputs": [],
   "source": [
    "single_class = df[df['num_labels'] == 1]"
   ]
  },
  {
   "cell_type": "code",
   "execution_count": 44,
   "metadata": {
    "collapsed": false
   },
   "outputs": [
    {
     "name": "stdout",
     "output_type": "stream",
     "text": [
      "There are 106 images with just one label\n"
     ]
    }
   ],
   "source": [
    "print(\"There are {} images with just one label\".format(len(single_class)))"
   ]
  },
  {
   "cell_type": "code",
   "execution_count": 45,
   "metadata": {
    "collapsed": false
   },
   "outputs": [
    {
     "data": {
      "text/plain": [
       "label_1\n",
       " pepperoni_pizza       29\n",
       " cheese_pizza          26\n",
       " pineapple_pizza       16\n",
       " meatlovers_pizza      11\n",
       " chicken_alfredo        6\n",
       " vegetarian_pizza       5\n",
       " combo_supreme          5\n",
       " vegetarian_lasagna     3\n",
       " whole_wheat_bread      1\n",
       " stirfry_beef           1\n",
       " side_salad             1\n",
       " meat_lasagna           1\n",
       " brown_rice             1\n",
       "dtype: int64"
      ]
     },
     "execution_count": 45,
     "metadata": {},
     "output_type": "execute_result"
    }
   ],
   "source": [
    "single_class.groupby('label_1').size().sort_values(ascending=False)"
   ]
  },
  {
   "cell_type": "code",
   "execution_count": 665,
   "metadata": {
    "collapsed": true
   },
   "outputs": [],
   "source": [
    "df.to_csv('../data/menu_match_dataset/basic_info.csv', index=False)"
   ]
  }
 ],
 "metadata": {
  "kernelspec": {
   "display_name": "Python 3",
   "language": "python",
   "name": "python3"
  },
  "language_info": {
   "codemirror_mode": {
    "name": "ipython",
    "version": 3
   },
   "file_extension": ".py",
   "mimetype": "text/x-python",
   "name": "python",
   "nbconvert_exporter": "python",
   "pygments_lexer": "ipython3",
   "version": "3.5.1"
  }
 },
 "nbformat": 4,
 "nbformat_minor": 0
}
