{
 "cells": [
  {
   "cell_type": "markdown",
   "metadata": {},
   "source": [
    "\n",
    "### Examining racial discrimination in the US job market\n",
    "\n",
    "#### Background\n",
    "Racial discrimination continues to be pervasive in cultures throughout the world. Researchers examined the level of racial discrimination in the United States labor market by randomly assigning identical résumés black-sounding or white-sounding names and observing the impact on requests for interviews from employers.\n",
    "\n",
    "#### Data\n",
    "In the dataset provided, each row represents a resume. The 'race' column has two values, 'b' and 'w', indicating black-sounding and white-sounding. The column 'call' has two values, 1 and 0, indicating whether the resume received a call from employers or not.\n",
    "\n",
    "Note that the 'b' and 'w' values in race are assigned randomly to the resumes.\n",
    "\n",
    "#### Exercise\n",
    "You will perform a statistical analysis to establish whether race has a significant impact on the rate of callbacks for resumes.\n",
    "\n",
    "Answer the following questions **in this notebook below and submit to your Github account**. \n",
    "\n",
    "   1. What test is appropriate for this problem? Does CLT apply?\n",
    "   2. What are the null and alternate hypotheses?\n",
    "   3. Compute margin of error, confidence interval, and p-value.\n",
    "   4. Discuss statistical significance.\n",
    "\n",
    "You can include written notes in notebook cells using Markdown: \n",
    "   - In the control panel at the top, choose Cell > Cell Type > Markdown\n",
    "   - Markdown syntax: http://nestacms.com/docs/creating-content/markdown-cheat-sheet\n",
    "\n",
    "\n",
    "#### Resources\n",
    "+ Experiment information and data source: http://www.povertyactionlab.org/evaluation/discrimination-job-market-united-states\n",
    "+ Scipy statistical methods: http://docs.scipy.org/doc/scipy/reference/stats.html \n",
    "+ Markdown syntax: http://nestacms.com/docs/creating-content/markdown-cheat-sheet\n",
    "\n",
    "****"
   ]
  },
  {
   "cell_type": "code",
   "execution_count": 1,
   "metadata": {
    "collapsed": true
   },
   "outputs": [],
   "source": [
    "%matplotlib inline\n",
    "import matplotlib.pyplot as plt\n",
    "import pandas as pd\n",
    "import numpy as np\n",
    "from scipy import stats"
   ]
  },
  {
   "cell_type": "code",
   "execution_count": 2,
   "metadata": {
    "collapsed": false
   },
   "outputs": [],
   "source": [
    "data = pd.io.stata.read_stata('data/us_job_market_discrimination.dta')"
   ]
  },
  {
   "cell_type": "code",
   "execution_count": 3,
   "metadata": {
    "collapsed": false
   },
   "outputs": [
    {
     "data": {
      "text/plain": [
       "157.0"
      ]
     },
     "execution_count": 3,
     "metadata": {},
     "output_type": "execute_result"
    }
   ],
   "source": [
    "# number of callbacks for balck-sounding names\n",
    "sum(data[data.race=='b'].call)"
   ]
  },
  {
   "cell_type": "markdown",
   "metadata": {},
   "source": [
    "***1. What test is appropriate for this problem? Does CLT apply?***"
   ]
  },
  {
   "cell_type": "markdown",
   "metadata": {},
   "source": [
    "In reality there are a variety of ways we could approach this problem, using both parametric and non-parametric tests.\n",
    "A traditional approach would be to test the difference in sample proportions using a z-test, for which we need the following assumptions:\n",
    "    \n",
    "1. Simple random sampling\n",
    "2. Independent samples\n",
    "3. np and n(1-p) > 10\n",
    "4. Populations 20x greater than samples"
   ]
  },
  {
   "cell_type": "code",
   "execution_count": 4,
   "metadata": {
    "collapsed": false
   },
   "outputs": [
    {
     "name": "stdout",
     "output_type": "stream",
     "text": [
      "np is 392 and n(1-p) is 4,478\n"
     ]
    }
   ],
   "source": [
    "# Proportion of callbacks in whole population\n",
    "n = len(data)\n",
    "p = sum(data.call)/len(data)\n",
    "print(\"np is {:,.0f} and n(1-p) is {:,.0f}\".format(n*p, n*(1-p)))"
   ]
  },
  {
   "cell_type": "markdown",
   "metadata": {},
   "source": [
    "Looking at the required assumptions:\n",
    "    \n",
    "1. The researchers state that they randomly assigned names to curriculums\n",
    "2. The methodology also seems to cover independence criteria\n",
    "3. Using the estimated population proportion, we can see that both np and n(1-p) > 10\n",
    "4. The real jobseeker population is clearly far larger than either of the samples"
   ]
  },
  {
   "cell_type": "markdown",
   "metadata": {},
   "source": [
    "***2. What are the null and alternate hypotheses?***"
   ]
  },
  {
   "cell_type": "markdown",
   "metadata": {},
   "source": [
    "- H0: Equal callback rate between white/black (p-white = p-black)\n",
    "- H1: Callback rate not equal between white/black (p-white != p-black)\n",
    "\n",
    "[Note: the alternative hypothesis could also be white callback rate > black callback rate, depending on how the research question is phrased. In this case, the stated aim seems to be to determine 'the impact' of race on requests for interviews and so I feel the right approach is to use a 2-tailed test]"
   ]
  },
  {
   "cell_type": "markdown",
   "metadata": {},
   "source": [
    "***3. Compute margin of error, confidence interval, and p-value.***"
   ]
  },
  {
   "cell_type": "code",
   "execution_count": 5,
   "metadata": {
    "collapsed": false
   },
   "outputs": [
    {
     "name": "stdout",
     "output_type": "stream",
     "text": [
      "Margin of Error is 0.0239368133185817\n"
     ]
    }
   ],
   "source": [
    "# Calculate margin of error \n",
    "n_white = len(data[data.race == 'w'])\n",
    "n_black = len(data[data.race == 'b'])\n",
    "\n",
    "p_white = sum(data[data.race == 'w'].call) / n_white\n",
    "p_black = sum(data[data.race == 'b'].call) / n_black\n",
    "\n",
    "se = np.sqrt(((p_white + (1 - p_white))/n_white) + ((p_black + (1 - p_black))/n_black))\n",
    "\n",
    "critical_prob = (1 - 0.05/2)\n",
    "critical_val = stats.norm.cdf(critical_prob)\n",
    "\n",
    "margin_of_error = critical_val * se\n",
    "\n",
    "print(\"Margin of Error is {}\".format(margin_of_error))"
   ]
  },
  {
   "cell_type": "code",
   "execution_count": 6,
   "metadata": {
    "collapsed": false
   },
   "outputs": [
    {
     "name": "stdout",
     "output_type": "stream",
     "text": [
      "95% confidence interval for difference of callback rates is [0.00810, 0.05597]\n"
     ]
    }
   ],
   "source": [
    "# 95% confidence interval\n",
    "lower = (p_white - p_black) - margin_of_error\n",
    "upper = (p_white - p_black) + margin_of_error\n",
    "print(\"95% confidence interval for difference of callback rates is [{:.5f}, {:.5f}]\".format(lower, upper))"
   ]
  },
  {
   "cell_type": "code",
   "execution_count": 7,
   "metadata": {
    "collapsed": false
   },
   "outputs": [
    {
     "name": "stdout",
     "output_type": "stream",
     "text": [
      "z statistic = 4.108, p value = 3.983886837585077e-05\n"
     ]
    }
   ],
   "source": [
    "# Hypothesis test\n",
    "# Calculate the Z statistic\n",
    "se = np.sqrt(p*(1 - p)*(1/n_white + 1/n_black))\n",
    "\n",
    "z = (p_white - p_black) / se\n",
    "\n",
    "# Calculate the p-value\n",
    "p = 2 * stats.norm.cdf(-1*z)\n",
    "\n",
    "print(\"z statistic = {:.3f}, p value = {}\".format(z, p))"
   ]
  },
  {
   "cell_type": "code",
   "execution_count": 8,
   "metadata": {
    "collapsed": false
   },
   "outputs": [
    {
     "data": {
      "text/plain": [
       "-1.9599639845400545"
      ]
     },
     "execution_count": 8,
     "metadata": {},
     "output_type": "execute_result"
    }
   ],
   "source": [
    "# We can look at this another way by looking at the critical values for 0.05\n",
    "stats.norm.ppf(0.025)"
   ]
  },
  {
   "cell_type": "markdown",
   "metadata": {},
   "source": [
    "That is there is a 95% chance that a randomly chosen z-statistic falls between [-1.96, +1.96], and so clearly our z-statistic of 4.108 falls far outside this range"
   ]
  },
  {
   "cell_type": "markdown",
   "metadata": {},
   "source": [
    "##### Additional work"
   ]
  },
  {
   "cell_type": "markdown",
   "metadata": {},
   "source": [
    "One thing (and perhaps the most important thing) we have not looked at so far is the actual effect size. One way to look at this is using the odds ratio:"
   ]
  },
  {
   "cell_type": "code",
   "execution_count": 9,
   "metadata": {
    "collapsed": false
   },
   "outputs": [
    {
     "name": "stdout",
     "output_type": "stream",
     "text": [
      "Odds ratio is 1.446\n"
     ]
    }
   ],
   "source": [
    "odds = (p_white*(1-p_white))/(p_black*(1-p_black))\n",
    "print(\"Odds ratio is {:.3f}\".format(odds))"
   ]
  },
  {
   "cell_type": "markdown",
   "metadata": {},
   "source": [
    "What this means is that for a resume with a white-sounding name, the odds of being invited for interview are 1.4 times the odds for a resume with a black-sounding name."
   ]
  },
  {
   "cell_type": "markdown",
   "metadata": {
    "collapsed": true
   },
   "source": [
    "Additionally, we can easily approach this problem using non-parametric methods such as resampling. These have the benefit of requiring far fewer underlying assumptions than parametric tests, for example typically only requiring the samples to be random and representative.\n",
    "\n",
    "For example, we can use bootstrapping to create a confidence interval:"
   ]
  },
  {
   "cell_type": "code",
   "execution_count": 10,
   "metadata": {
    "collapsed": true
   },
   "outputs": [],
   "source": [
    "def resample(gp1, gp2):\n",
    "    \"\"\"\n",
    "    Resamples with replacement from two lists or arrays\n",
    "    \n",
    "    :params gp1, gp2: lists or arrays of values\n",
    "    :return: new arrays of equal length to inputs\n",
    "    \"\"\"\n",
    "    group1 = np.random.choice(gp1, len(gp1), replace=True)\n",
    "    group2 = np.random.choice(gp2, len(gp2), replace=True)\n",
    "    return group1, group2\n",
    "\n",
    "def calculate_difference(groups):\n",
    "    \"\"\"\n",
    "    Calculate the test statistic in question: the difference in proportions between two groups.\n",
    "    \n",
    "    :params groups: tuple of lists or arrays\n",
    "    :return: float\n",
    "    \"\"\"\n",
    "    prop_1 = sum(groups[0])/len(groups[0])\n",
    "    prop_2 = sum(groups[1])/len(groups[1])\n",
    "    return prop_1 - prop_2\n",
    "\n",
    "def calculate_statistics(gp1, gp2, iters=1000):\n",
    "    \"\"\"\n",
    "    Runs the bootstrapping procedure a specified number of times and calculates the difference in\n",
    "    proportions for each iteration.\n",
    "    \n",
    "    :params gp1, gp2: lists or arrays of values\n",
    "    :params iters: number of iterations to run\n",
    "    :return: array of test statistics of length iters\n",
    "    \"\"\"\n",
    "    stats = [calculate_difference(resample(gp1, gp2)) for i in range(iters)]\n",
    "    return np.array(stats)"
   ]
  },
  {
   "cell_type": "code",
   "execution_count": 11,
   "metadata": {
    "collapsed": false
   },
   "outputs": [
    {
     "data": {
      "image/png": "[encoded data removed]",
      "text/plain": [
       "<matplotlib.figure.Figure at 0x1036e05c0>"
      ]
     },
     "metadata": {},
     "output_type": "display_data"
    },
    {
     "name": "stdout",
     "output_type": "stream",
     "text": [
      "SE 0.00801693197824\n",
      "95% Confidence Interval [ 0.0164271   0.04723819]\n"
     ]
    }
   ],
   "source": [
    "white = np.array(data[data['race'] == 'w']['call'])\n",
    "black = np.array(data[data['race'] == 'b']['call'])\n",
    "\n",
    "sample_stats = calculate_statistics(white, black)\n",
    "plt.style.use('fivethirtyeight')\n",
    "plt.hist(sample_stats, bins=10)\n",
    "plt.title('Distribution of difference between callback proportions', size=12, weight='bold')\n",
    "plt.show()\n",
    "print('SE', sample_stats.std())\n",
    "print('95% Confidence Interval', np.percentile(sample_stats, [2.5, 97.5]))"
   ]
  },
  {
   "cell_type": "markdown",
   "metadata": {},
   "source": [
    "Similarly we can use permutations for hypothesis testing:"
   ]
  },
  {
   "cell_type": "code",
   "execution_count": 12,
   "metadata": {
    "collapsed": true
   },
   "outputs": [],
   "source": [
    "def permute(pool,n):\n",
    "    \"\"\"\n",
    "    Permutes a list or array and returns the suffled list split into two sub-lists of size n and len(pool) - n\n",
    "    \n",
    "    :params pool: list or array\n",
    "    :params n: length of first required subset\n",
    "    :return: tuple of lists or arrays\n",
    "    \"\"\"\n",
    "    np.random.shuffle(pool)\n",
    "    data = pool[:n], pool[n:]\n",
    "    return data\n",
    "\n",
    "def calculate_test_statistic(pool, n, iters=1000):\n",
    "    \"\"\"\n",
    "    Runs the bpermutation procedure a specified number of times and calculates the difference in\n",
    "    proportions for each iteration.\n",
    "    \n",
    "    :params pool: list or array of values\n",
    "    :params n: length of first sample to simulate\n",
    "    :params iters: number of iterations to run\n",
    "    :return: array of test statistics of length iters\n",
    "    \"\"\"\n",
    "    stats = [calculate_difference(permute(pool, n)) for i in range(iters)]\n",
    "    return np.array(stats)"
   ]
  },
  {
   "cell_type": "code",
   "execution_count": 13,
   "metadata": {
    "collapsed": false
   },
   "outputs": [
    {
     "data": {
      "image/png": "[encoded data removed]",
      "text/plain": [
       "<matplotlib.figure.Figure at 0x113cf02b0>"
      ]
     },
     "metadata": {},
     "output_type": "display_data"
    }
   ],
   "source": [
    "observed_diff = p_white - p_black\n",
    "sample_size = len(data[data['race'] == 'w'])\n",
    "pool = list(data[data['race'] == 'w']['call']) + list(data[data['race'] == 'b']['call'])\n",
    "test_stats = calculate_test_statistic(pool, sample_size)\n",
    "\n",
    "plt.hist(test_stats)\n",
    "plt.title('Distribution of difference in proportions under null hypothesis', size=12, weight='bold')\n",
    "plt.vlines(observed_diff, 0, 300, linewidth=3, color='0.8')\n",
    "plt.show()"
   ]
  },
  {
   "cell_type": "markdown",
   "metadata": {},
   "source": [
    "One nice thing about this method is that it gives us a complete distribution for the statistic under the Null hypothesis. Here for example we can see that the actual observed difference (line in grey) falls far outside of what we would expect under the null hypothesis"
   ]
  },
  {
   "cell_type": "code",
   "execution_count": 14,
   "metadata": {
    "collapsed": false
   },
   "outputs": [
    {
     "name": "stdout",
     "output_type": "stream",
     "text": [
      "p-value is 0.0\n"
     ]
    }
   ],
   "source": [
    "pvalue = sum(test_stats >= observed_diff) / len(test_stats)\n",
    "print(\"p-value is {}\".format(pvalue))"
   ]
  },
  {
   "cell_type": "markdown",
   "metadata": {},
   "source": [
    "***4. Discuss statistical significance and conclusions. ***"
   ]
  },
  {
   "cell_type": "markdown",
   "metadata": {},
   "source": [
    "However you look at it, all of our tests are in close agreement with each other.\n",
    "\n",
    "Our two methdologies give us a 95% confidence interval of [0.00810, 0.05597] and [0.01683778  0.04681725] respectively, i.e. the proportion of callbacks for white-sounding names is always positive.\n",
    "\n",
    "Furthermore, for our hypothesis test for a null hypothesis of equal proportions, we get a p-value of not just less than 0.05, but in fact less than 0.0001.\n",
    "While one must be wary of p-values, in this case at least based on order of magnitude, I think we can be quite confident of rejecting the null hypothesis.\n"
   ]
  }
 ],
 "metadata": {
  "kernelspec": {
   "display_name": "Python 3",
   "language": "python",
   "name": "python3"
  },
  "language_info": {
   "codemirror_mode": {
    "name": "ipython",
    "version": 3
   },
   "file_extension": ".py",
   "mimetype": "text/x-python",
   "name": "python",
   "nbconvert_exporter": "python",
   "pygments_lexer": "ipython3",
   "version": "3.5.1"
  }
 },
 "nbformat": 4,
 "nbformat_minor": 0
}
